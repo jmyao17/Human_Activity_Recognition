{
 "cells": [
  {
   "cell_type": "markdown",
   "metadata": {},
   "source": [
    "\n",
    "\n",
    "Author: Jiangming Yao (NSCL/FRIB, MSU)   \n",
    "Date: 04/01/2019\n",
    "\n",
    "# Introduction to the project\n",
    "\n",
    "\n",
    "## Problem/Object \n",
    "\n",
    "Details:\n",
    "Ultimately this is a time-series classification project where you are trying to classify the following classes (codified by numbers): \n",
    "\n",
    "    1: Working at Computer\n",
    "    2: Standing Up, Walking and Going Up/Downstairs\n",
    "    3: Standing\n",
    "    4: Walking\n",
    "    5: Going Up/Down Stairs\n",
    "    6: Walking and Talking with Someone\n",
    "    7: Talking while Standing\n",
    "\n",
    "Though a full analysis is not required, a discussion of how the windowing of the data will affect the analysis is expected. The ideal classification model will be able to use minimal quantities/time windows of the data to predict each class (i.e. not the entire time-series per user per class).\n",
    "\n",
    "Data Set Information:\n",
    "\n",
    "    --- The dataset collects data from a wearable accelerometer mounted on the chest\n",
    "    --- Sampling frequency of the accelerometer: 52 Hz\n",
    "    --- Accelerometer data are uncalibrated\n",
    "    --- Number of participants: 15\n",
    "    --- Number of activities: 7\n",
    "    --- Data format: CSV\n",
    "\n",
    "Attribute Information:\n",
    "\n",
    "    --- Data are separated by the participant\n",
    "    --- Each file contains the following information:\n",
    "    --- Sequential number, x acceleration, y acceleration, z acceleration, label\n",
    "    --- Labels are codified by numbers\n",
    "\n",
    "Context: Uncalibrated Accelerometer Data are collected from 15 participants performing 7 activities. The dataset provides challenges for identification and authentication of people using motion patterns.\n",
    "\n",
    "Please provide preferably a Jupyter Notebook, or otherwise an R Markdown file, with your analysis.\n",
    "\n",
    "Evaluation Criteria:\n",
    "The mini-project will be evaluated on the following criteria:\n",
    "\n",
    "    1) Code and visualization quality (especially in exploring the data)\n",
    "    2) Feature generation/model creation/analysis flow/methodology.\n",
    "    3) Validation method(s)/metrics/statistics/plots\n",
    "    4) Conclusions/recommendations - Are we data limited, noise limited, overfitting/underfitting? How would you improve the model? i.e. I don't particularly care if the model is optimally tuned so long as you know where it can be improved and how much a bump you might expect.\n",
    "\n",
    "Caveat for Using Open-source Libraries/Packages:\n",
    "You are welcome to use any open-source libraries/packages/resources but keep in mind that you will be quizzed on details of what is going on under-the-hood. In particular, I would very much prefer if you didn't just use pre-trained algorithms/models. This goes especially for pre-trained models. In other words, we are not looking for a black-box solution that gets us X% even if it's better than what you are getting from engineering your own features.\n",
    "\n",
    "Sklearn/XGBoost and similar generic stuff are fair game - but you will be asked about tuning, limitations and/or improvements in the next stage if you don't already discuss them in your notebook. "
   ]
  },
  {
   "cell_type": "markdown",
   "metadata": {},
   "source": [
    "## Basic ideas and plans\n",
    "\n",
    "\n",
    "This project is about Human Activity Recognition (HAR) based on wearable sensor data. The available data (.csv files) is called ***raw data***, which has to be preprocessed in order to be better feeded into machine learning models. The raw data is time-series type, and contains essentially three features (x acceleration, y acceleration, z acceleration), in additional to the sequential number and the labels for all the 7 activities. \n",
    "\n",
    "\n",
    "This is a challenge project as there are only three features as functions of time. Moreover, as we will see later, this is an imbalanced data. The time duration for the longest activity (i.e. Working at Computer) is more than one order of magnitude longer than that for the shorted activity (i.e., Walking and Talking with Someone).\n",
    "\n",
    "Given the data like this, we have to handle at least these two issues.  In this notebook, I am going to proceed in the following two ways:\n",
    "\n",
    "- Introduce sliding windows, also called temporal windows, to split the raw data into segments, which form a set of samples for both training and validating our models. For each sample, we extract some new features from each sample, including the mean, variance and mean absolute deviation of the three features (x acceleration, y acceleration, z acceleration), and using these new features to characterize the sample. To remedy the imbalance \n",
    "in the data, we introduce different size for the sliding window for different class in such a way that the sample size for each class is similar. Since the numbers of features and sample size are limited, it is good idea to use the conventional machine-learning algorithms for this case. In this notebok, I will try to use logistic regression, decision strees, and ensembles (random forest and voting).  We call these methods as \"Methods based on Handcrafted Features\". \n",
    "\n",
    "\n",
    "- Besides, I will try to use simple convolutional neural networks (CNN) in this notebook and make a comparison between this deep learning model with the conventional machine learning models. Instead of extracting some new features from segments, we take each segment/sample as an \"image\" and feed all the training samples into the CNN.\n",
    "The dimension of each sample is (3, window_size).\n",
    "     \n",
    "\n",
    "## Metrics\n",
    "\n",
    "Considering the data is unbalanced and this is a multi-label classification, I will monitor not only the accuracy, but also the precision/recall and F1 score of all classes. In particular, I will print out both\n",
    "the \"macro\" and \"weighted\" f1 scores. \n",
    "\n",
    "- The macro F1 score will be calculated using the \"macro precision\" and \"macro recall\", which are defined as the \n",
    "average precision and recall over all the classes (with equal weight). \n",
    "\n",
    "- The weighted F1 score will be calculated by computing the metrics for each label, and finding their average, weighted by the number of true instances for each label. This alters \"macro\" f1 score to account for label imbalance. It can result in an F-score that is not between precision and recall."
   ]
  },
  {
   "cell_type": "markdown",
   "metadata": {},
   "source": [
    "# Include packages and define help functions"
   ]
  },
  {
   "cell_type": "code",
   "execution_count": 1,
   "metadata": {},
   "outputs": [
    {
     "name": "stderr",
     "output_type": "stream",
     "text": [
      "Using TensorFlow backend.\n",
      "/anaconda3/lib/python3.6/site-packages/ggplot/utils.py:81: FutureWarning: pandas.tslib is deprecated and will be removed in a future version.\n",
      "You can access Timestamp as pandas.Timestamp\n",
      "  pd.tslib.Timestamp,\n"
     ]
    }
   ],
   "source": [
    "# all the packages and newly-defined functions are in utils.py \n",
    "from utils import *"
   ]
  },
  {
   "cell_type": "markdown",
   "metadata": {},
   "source": [
    "# Load data"
   ]
  },
  {
   "cell_type": "code",
   "execution_count": 2,
   "metadata": {},
   "outputs": [
    {
     "name": "stdout",
     "output_type": "stream",
     "text": [
      "Time Duration for the participant 1 is 3125.0 seconds\n",
      "Time Duration for the participant 2 is 2654.0 seconds\n",
      "Time Duration for the participant 3 is 1969.0 seconds\n",
      "Time Duration for the participant 4 is 2350.0 seconds\n",
      "Time Duration for the participant 5 is 3077.0 seconds\n",
      "Time Duration for the participant 6 is 2710.0 seconds\n",
      "Time Duration for the participant 7 is 3135.0 seconds\n",
      "Time Duration for the participant 8 is 2654.0 seconds\n",
      "Time Duration for the participant 9 is 3207.0 seconds\n",
      "Time Duration for the participant 10 is 2439.0 seconds\n",
      "Time Duration for the participant 11 is 2009.0 seconds\n",
      "Time Duration for the participant 12 is 2206.0 seconds\n",
      "Time Duration for the participant 13 is 1301.0 seconds\n",
      "Time Duration for the participant 14 is 2233.0 seconds\n",
      "Time Duration for the participant 15 is 1991.0 seconds\n"
     ]
    }
   ],
   "source": [
    "features = ['Sequential_number', 'x_acceleration', 'y_acceleration', 'z_acceleration', 'label']\n",
    "dfs      = load_data(features)"
   ]
  },
  {
   "cell_type": "markdown",
   "metadata": {},
   "source": [
    "# Visualize the data\n",
    "\n",
    "\n",
    "\n",
    "Here we take the data of the **first participant*** as an example to visualize the data, trying to find some features that are relevant for classification."
   ]
  },
  {
   "cell_type": "markdown",
   "metadata": {},
   "source": [
    "** plot the data for each class**"
   ]
  },
  {
   "cell_type": "code",
   "execution_count": 3,
   "metadata": {},
   "outputs": [],
   "source": [
    "plot_data = True #False"
   ]
  },
  {
   "cell_type": "code",
   "execution_count": 4,
   "metadata": {},
   "outputs": [
    {
     "data": {
      "image/png": "[encoded data removed]",
      "text/plain": [
       "<Figure size 720x432 with 1 Axes>"
      ]
     },
     "metadata": {},
     "output_type": "display_data"
    },
    {
     "data": {
      "image/png": "[encoded data removed]",
      "text/plain": [
       "<Figure size 1008x864 with 9 Axes>"
      ]
     },
     "metadata": {},
     "output_type": "display_data"
    }
   ],
   "source": [
    "if plot_data:\n",
    "    plot_data_p1(dfs[0],features)\n",
    "    plot_data4EachClass(dfs[0],features)"
   ]
  },
  {
   "cell_type": "markdown",
   "metadata": {},
   "source": [
    "# Methods based on Handcrafted Features\n",
    "\n",
    "\n",
    "## Sample generation process\n",
    "\n",
    "\n",
    "Generate new features from the **raw** data using sliding temporal windows."
   ]
  },
  {
   "cell_type": "code",
   "execution_count": 4,
   "metadata": {},
   "outputs": [],
   "source": [
    "# set hyperparameters for the window size (constant for all classes)\n",
    "window_size = 260   # 5 seconds\n",
    "step_size   = 260   # 5 seonds\n",
    "segments    = []\n",
    "label       = []"
   ]
  },
  {
   "cell_type": "code",
   "execution_count": 5,
   "metadata": {},
   "outputs": [],
   "source": [
    "segments_array = np.array(get_features(dfs, window_size, step_size))"
   ]
  },
  {
   "cell_type": "code",
   "execution_count": 6,
   "metadata": {},
   "outputs": [],
   "source": [
    "segments_df = pd.DataFrame(segments_array)\n",
    "segments_df.columns =['x_mean', 'y_mean', 'z_mean', \n",
    "                 'x_var', 'y_var', 'z_var', \n",
    "                 'x_max', 'y_max', 'z_max', \n",
    "                 'x_min', 'y_min', 'z_min', \n",
    "                 'x_mad', 'y_mad', 'z_mad', \n",
    "                 'label']\n",
    "\n",
    "segments_df['label'] = segments_df['label'].map(int) "
   ]
  },
  {
   "cell_type": "code",
   "execution_count": 7,
   "metadata": {},
   "outputs": [
    {
     "data": {
      "image/png": "[encoded data removed]",
      "text/plain": [
       "<Figure size 864x288 with 1 Axes>"
      ]
     },
     "metadata": {},
     "output_type": "display_data"
    }
   ],
   "source": [
    "(segments_df.label.value_counts(sort=True)/segments_df.shape[0]*100).plot(kind='bar',fontsize=24,figsize=(12,4));\n",
    " \n",
    "plt.ylim(0,100) \n",
    "plt.xlabel('Class label',fontsize=24)\n",
    "plt.ylabel('Percentage (%)',fontsize=24)\n",
    "plt.tick_params(which='major',direction='in',length=5,labelsize=20) "
   ]
  },
  {
   "cell_type": "markdown",
   "metadata": {},
   "source": [
    "**Figure: The percentage of each class in the generated data samples.** "
   ]
  },
  {
   "cell_type": "markdown",
   "metadata": {},
   "source": [
    "- The above figure shows clearly that this dataset is imbalanced as the largest class is about 13 times  than that the smallest class.\n",
    "\n",
    "- To make the model perform similarly for each class, we may need to use similar number of samples for each class."
   ]
  },
  {
   "cell_type": "code",
   "execution_count": 8,
   "metadata": {},
   "outputs": [
    {
     "name": "stdout",
     "output_type": "stream",
     "text": [
      "The ratios of each class to the smalles class: [12, 1, 4, 7, 1, 1, 12]\n"
     ]
    }
   ],
   "source": [
    "ratios =[]\n",
    "for i in range(1,8):\n",
    "    ratios.append(np.int(segments_df[segments_df.label == i]['label'].value_counts()/segments_df.label.value_counts().min()))\n",
    "    \n",
    "print(\"The ratios of each class to the smalles class: {}\".format(ratios))"
   ]
  },
  {
   "cell_type": "markdown",
   "metadata": {},
   "source": [
    "In other words, the time duration for the class 1 (Working at Computer), class 7 (Talking while Standing), and class 4 (Walking) are several times longer than that for the  class 3 (Standing), especially for the class 5 (Going Up/Down Stairs), class 2 (Standing Up, Walking and Going Up/Downstairs), and class 6 (Walking and Talking with Someone)."
   ]
  },
  {
   "cell_type": "markdown",
   "metadata": {},
   "source": [
    "** Redefine the window size based on the ratios in order to get similar sample sizes for for all the classes**"
   ]
  },
  {
   "cell_type": "code",
   "execution_count": 9,
   "metadata": {},
   "outputs": [],
   "source": [
    "# set hyperparameters for the window\n",
    "window_size_array    =  np.multiply(ratios, 26)   # times of 0.5 second\n",
    "step_size_array      =  window_size_array         # same as window_size and thus no overlaping between samples\n",
    "segments_balanced    = []\n",
    "label_balanced       = []"
   ]
  },
  {
   "cell_type": "code",
   "execution_count": 10,
   "metadata": {},
   "outputs": [
    {
     "name": "stdout",
     "output_type": "stream",
     "text": [
      "class: 1, window_size: 312, step_size: 312, sample_size: 1950\n",
      "class: 2, window_size: 26, step_size: 26, sample_size: 1841\n",
      "class: 3, window_size: 104, step_size: 104, sample_size: 2084\n",
      "class: 4, window_size: 182, step_size: 182, sample_size: 1961\n",
      "class: 5, window_size: 26, step_size: 26, sample_size: 1980\n",
      "class: 6, window_size: 26, step_size: 26, sample_size: 1837\n",
      "class: 7, window_size: 312, step_size: 312, sample_size: 1902\n"
     ]
    }
   ],
   "source": [
    "segments_array_balanced = np.array(get_features_balanced(dfs, window_size_array, step_size_array))"
   ]
  },
  {
   "cell_type": "code",
   "execution_count": 11,
   "metadata": {},
   "outputs": [
    {
     "data": {
      "text/html": [
       "<div>\n",
       "<style scoped>\n",
       "    .dataframe tbody tr th:only-of-type {\n",
       "        vertical-align: middle;\n",
       "    }\n",
       "\n",
       "    .dataframe tbody tr th {\n",
       "        vertical-align: top;\n",
       "    }\n",
       "\n",
       "    .dataframe thead th {\n",
       "        text-align: right;\n",
       "    }\n",
       "</style>\n",
       "<table border=\"1\" class=\"dataframe\">\n",
       "  <thead>\n",
       "    <tr style=\"text-align: right;\">\n",
       "      <th></th>\n",
       "      <th>x_mean</th>\n",
       "      <th>y_mean</th>\n",
       "      <th>z_mean</th>\n",
       "      <th>x_var</th>\n",
       "      <th>y_var</th>\n",
       "      <th>z_var</th>\n",
       "      <th>x_max</th>\n",
       "      <th>y_max</th>\n",
       "      <th>z_max</th>\n",
       "      <th>x_min</th>\n",
       "      <th>y_min</th>\n",
       "      <th>z_min</th>\n",
       "      <th>x_mad</th>\n",
       "      <th>y_mad</th>\n",
       "      <th>z_mad</th>\n",
       "      <th>label</th>\n",
       "    </tr>\n",
       "  </thead>\n",
       "  <tbody>\n",
       "    <tr>\n",
       "      <th>0</th>\n",
       "      <td>1857.576923</td>\n",
       "      <td>2234.730769</td>\n",
       "      <td>2038.778846</td>\n",
       "      <td>43962.660750</td>\n",
       "      <td>25405.151874</td>\n",
       "      <td>23328.390194</td>\n",
       "      <td>2356.0</td>\n",
       "      <td>2552.0</td>\n",
       "      <td>2739.0</td>\n",
       "      <td>1455.0</td>\n",
       "      <td>1697.0</td>\n",
       "      <td>1644.0</td>\n",
       "      <td>186.642258</td>\n",
       "      <td>133.347633</td>\n",
       "      <td>117.927022</td>\n",
       "      <td>1</td>\n",
       "    </tr>\n",
       "    <tr>\n",
       "      <th>1</th>\n",
       "      <td>1958.730769</td>\n",
       "      <td>2378.487179</td>\n",
       "      <td>2108.839744</td>\n",
       "      <td>301.472387</td>\n",
       "      <td>263.461374</td>\n",
       "      <td>1241.474318</td>\n",
       "      <td>2034.0</td>\n",
       "      <td>2474.0</td>\n",
       "      <td>2171.0</td>\n",
       "      <td>1859.0</td>\n",
       "      <td>2302.0</td>\n",
       "      <td>2018.0</td>\n",
       "      <td>11.504684</td>\n",
       "      <td>9.913215</td>\n",
       "      <td>27.817020</td>\n",
       "      <td>1</td>\n",
       "    </tr>\n",
       "    <tr>\n",
       "      <th>2</th>\n",
       "      <td>1954.923077</td>\n",
       "      <td>2379.605769</td>\n",
       "      <td>2106.346154</td>\n",
       "      <td>154.378698</td>\n",
       "      <td>79.136249</td>\n",
       "      <td>322.412229</td>\n",
       "      <td>1999.0</td>\n",
       "      <td>2409.0</td>\n",
       "      <td>2168.0</td>\n",
       "      <td>1919.0</td>\n",
       "      <td>2340.0</td>\n",
       "      <td>2062.0</td>\n",
       "      <td>9.739645</td>\n",
       "      <td>6.423755</td>\n",
       "      <td>13.706361</td>\n",
       "      <td>1</td>\n",
       "    </tr>\n",
       "    <tr>\n",
       "      <th>3</th>\n",
       "      <td>1962.445513</td>\n",
       "      <td>2379.278846</td>\n",
       "      <td>2110.224359</td>\n",
       "      <td>55.304723</td>\n",
       "      <td>20.335706</td>\n",
       "      <td>81.020176</td>\n",
       "      <td>1980.0</td>\n",
       "      <td>2394.0</td>\n",
       "      <td>2138.0</td>\n",
       "      <td>1938.0</td>\n",
       "      <td>2368.0</td>\n",
       "      <td>2086.0</td>\n",
       "      <td>5.934788</td>\n",
       "      <td>3.532236</td>\n",
       "      <td>7.067390</td>\n",
       "      <td>1</td>\n",
       "    </tr>\n",
       "    <tr>\n",
       "      <th>4</th>\n",
       "      <td>1961.551282</td>\n",
       "      <td>2378.365385</td>\n",
       "      <td>2112.121795</td>\n",
       "      <td>28.689678</td>\n",
       "      <td>8.783161</td>\n",
       "      <td>25.183884</td>\n",
       "      <td>1978.0</td>\n",
       "      <td>2388.0</td>\n",
       "      <td>2127.0</td>\n",
       "      <td>1948.0</td>\n",
       "      <td>2369.0</td>\n",
       "      <td>2099.0</td>\n",
       "      <td>4.222387</td>\n",
       "      <td>2.310651</td>\n",
       "      <td>3.985454</td>\n",
       "      <td>1</td>\n",
       "    </tr>\n",
       "  </tbody>\n",
       "</table>\n",
       "</div>"
      ],
      "text/plain": [
       "        x_mean       y_mean       z_mean         x_var         y_var  \\\n",
       "0  1857.576923  2234.730769  2038.778846  43962.660750  25405.151874   \n",
       "1  1958.730769  2378.487179  2108.839744    301.472387    263.461374   \n",
       "2  1954.923077  2379.605769  2106.346154    154.378698     79.136249   \n",
       "3  1962.445513  2379.278846  2110.224359     55.304723     20.335706   \n",
       "4  1961.551282  2378.365385  2112.121795     28.689678      8.783161   \n",
       "\n",
       "          z_var   x_max   y_max   z_max   x_min   y_min   z_min       x_mad  \\\n",
       "0  23328.390194  2356.0  2552.0  2739.0  1455.0  1697.0  1644.0  186.642258   \n",
       "1   1241.474318  2034.0  2474.0  2171.0  1859.0  2302.0  2018.0   11.504684   \n",
       "2    322.412229  1999.0  2409.0  2168.0  1919.0  2340.0  2062.0    9.739645   \n",
       "3     81.020176  1980.0  2394.0  2138.0  1938.0  2368.0  2086.0    5.934788   \n",
       "4     25.183884  1978.0  2388.0  2127.0  1948.0  2369.0  2099.0    4.222387   \n",
       "\n",
       "        y_mad       z_mad  label  \n",
       "0  133.347633  117.927022      1  \n",
       "1    9.913215   27.817020      1  \n",
       "2    6.423755   13.706361      1  \n",
       "3    3.532236    7.067390      1  \n",
       "4    2.310651    3.985454      1  "
      ]
     },
     "execution_count": 11,
     "metadata": {},
     "output_type": "execute_result"
    }
   ],
   "source": [
    "segments_balanced_df = pd.DataFrame(segments_array_balanced)\n",
    "segments_balanced_df.columns =['x_mean', 'y_mean', 'z_mean', \n",
    "                 'x_var', 'y_var', 'z_var', \n",
    "                 'x_max', 'y_max', 'z_max', \n",
    "                 'x_min', 'y_min', 'z_min', \n",
    "                 'x_mad', 'y_mad', 'z_mad', \n",
    "                 'label']\n",
    "\n",
    "segments_balanced_df['label'] = segments_balanced_df['label'].map(int)\n",
    "segments_balanced_df.head()"
   ]
  },
  {
   "cell_type": "code",
   "execution_count": 12,
   "metadata": {},
   "outputs": [
    {
     "data": {
      "text/plain": [
       "(13555, 16)"
      ]
     },
     "execution_count": 12,
     "metadata": {},
     "output_type": "execute_result"
    }
   ],
   "source": [
    "segments_balanced_df.shape"
   ]
  },
  {
   "cell_type": "code",
   "execution_count": 13,
   "metadata": {},
   "outputs": [
    {
     "data": {
      "image/png": "[encoded data removed]",
      "text/plain": [
       "<Figure size 864x288 with 1 Axes>"
      ]
     },
     "metadata": {},
     "output_type": "display_data"
    }
   ],
   "source": [
    "(segments_balanced_df.label.value_counts(sort=True)/segments_balanced_df.shape[0]*100).plot(kind='bar',fontsize=24,figsize=(12,4));\n",
    " \n",
    "plt.ylim(0,100) \n",
    "plt.xlabel('Class label',fontsize=24)\n",
    "plt.ylabel('Percentage (%)',fontsize=24)\n",
    "plt.tick_params(which='major',direction='in',length=5,labelsize=20) "
   ]
  },
  {
   "cell_type": "markdown",
   "metadata": {},
   "source": [
    "**Figure: The percentage of each class in the generated data samples.** "
   ]
  },
  {
   "cell_type": "markdown",
   "metadata": {},
   "source": [
    "- The above figure shows that the new dataset of the generated samples is balanced.  "
   ]
  },
  {
   "cell_type": "markdown",
   "metadata": {},
   "source": [
    "# Conventional Machine Learning Algorithms\n",
    "\n",
    "## Prepare the data for training models"
   ]
  },
  {
   "cell_type": "code",
   "execution_count": 14,
   "metadata": {},
   "outputs": [],
   "source": [
    "X = segments_balanced_df.iloc[:,:-1].values\n",
    "y = segments_balanced_df['label'].iloc[:].values\n"
   ]
  },
  {
   "cell_type": "markdown",
   "metadata": {},
   "source": [
    "Scale the X (features) using ***RobustScaler()*** that are robust to outliers."
   ]
  },
  {
   "cell_type": "code",
   "execution_count": 15,
   "metadata": {},
   "outputs": [],
   "source": [
    "scaler_pipeline = Pipeline([\n",
    "                    ('robust_scaler',RobustScaler())  \n",
    "                    ])\n",
    "segments_scaled = [] \n",
    "segments_scaled.append(scaler_pipeline.fit_transform(X))\n",
    "\n",
    "X_scaled = np.array(segments_scaled).squeeze() "
   ]
  },
  {
   "cell_type": "code",
   "execution_count": 16,
   "metadata": {},
   "outputs": [],
   "source": [
    "# random state is choosen as 10% of each sample size\n",
    "\n",
    "random_state = int(segments_balanced_df.shape[0]/70)\n",
    "X_train, X_test, y_train, y_test = train_test_split(X_scaled, y, test_size = 0.2, \n",
    "                                                    random_state = random_state )"
   ]
  },
  {
   "cell_type": "code",
   "execution_count": 17,
   "metadata": {},
   "outputs": [
    {
     "name": "stdout",
     "output_type": "stream",
     "text": [
      "number of training segments/samples = 10844\n",
      "number of test segments/samples = 2711\n",
      "X_train shape: (10844, 15)\n",
      "Y_train shape: (10844,)\n",
      "X_test shape: (2711, 15)\n",
      "Y_test shape: (2711,)\n"
     ]
    }
   ],
   "source": [
    "print (\"number of training segments/samples = \" + str(X_train.shape[0]))\n",
    "print (\"number of test segments/samples = \" + str(X_test.shape[0]))\n",
    "print (\"X_train shape: \" + str(X_train.shape))\n",
    "print (\"Y_train shape: \" + str(y_train.shape))\n",
    "print (\"X_test shape: \" + str(X_test.shape))\n",
    "print (\"Y_test shape: \" + str(y_test.shape))"
   ]
  },
  {
   "cell_type": "markdown",
   "metadata": {},
   "source": [
    "** Check if the training and test data are balanced**"
   ]
  },
  {
   "cell_type": "code",
   "execution_count": 18,
   "metadata": {},
   "outputs": [],
   "source": [
    "import collections\n",
    "\n",
    "counter_train = collections.Counter(y_train)\n",
    "counter_test  = collections.Counter(y_test)\n",
    "\n",
    "counter_train_dic = dict(counter_train)\n",
    "counter_test_dic  = dict(counter_test)"
   ]
  },
  {
   "cell_type": "code",
   "execution_count": 19,
   "metadata": {},
   "outputs": [
    {
     "data": {
      "image/png": "[encoded data removed]",
      "text/plain": [
       "<Figure size 432x288 with 1 Axes>"
      ]
     },
     "metadata": {},
     "output_type": "display_data"
    }
   ],
   "source": [
    "plt.bar(counter_train_dic.keys(), counter_train_dic.values(), color='b')\n",
    "plt.xlabel('Class label',fontsize=24)\n",
    "plt.ylabel('Percentage (%)',fontsize=24)\n",
    "plt.tick_params(which='major',direction='in',length=5,labelsize=20) \n",
    "plt.xticks([1,2,3,4,5,6,7])\n",
    "plt.title('Training data', fontsize = 24)\n",
    "plt.show()"
   ]
  },
  {
   "cell_type": "code",
   "execution_count": 20,
   "metadata": {},
   "outputs": [
    {
     "data": {
      "image/png": "[encoded data removed]",
      "text/plain": [
       "<Figure size 432x288 with 1 Axes>"
      ]
     },
     "metadata": {},
     "output_type": "display_data"
    }
   ],
   "source": [
    "plt.bar(counter_test_dic.keys(), counter_test_dic.values(), color='b')\n",
    "plt.xlabel('Class label',fontsize=24)\n",
    "plt.ylabel('Percentage (%)',fontsize=24)\n",
    "plt.tick_params(which='major',direction='in',length=5,labelsize=20) \n",
    "plt.xticks([1,2,3,4,5,6,7])\n",
    "plt.title('Test data', fontsize = 24)\n",
    "plt.show()"
   ]
  },
  {
   "cell_type": "markdown",
   "metadata": {},
   "source": [
    "- The above two figures verify that both training and test datasets  are balanced. "
   ]
  },
  {
   "cell_type": "markdown",
   "metadata": {},
   "source": [
    "## Logistic regression"
   ]
  },
  {
   "cell_type": "code",
   "execution_count": 21,
   "metadata": {},
   "outputs": [],
   "source": [
    "from sklearn.linear_model import LogisticRegressionCV"
   ]
  },
  {
   "cell_type": "code",
   "execution_count": 22,
   "metadata": {},
   "outputs": [
    {
     "name": "stdout",
     "output_type": "stream",
     "text": [
      "[[247  27   9   1   1  13  72]\n",
      " [ 21 199  28   6  50  70   9]\n",
      " [141  64  36  72   5  72  46]\n",
      " [ 11   6   2 359   3   4   7]\n",
      " [  2  85  10   6 190 107   0]\n",
      " [  2  84   7   2  69 200   4]\n",
      " [149   2  17  13   2   3 176]]\n"
     ]
    }
   ],
   "source": [
    "# Here we noticed that the use of \"make_pipeline\" can increase the accuracy. The reason is to be investigated. \n",
    "\n",
    "lr_reg_cv = make_pipeline(RobustScaler(),\n",
    "                   LogisticRegressionCV(multi_class='multinomial')).fit(X=X_train, y=y_train)\n",
    "\n",
    "y_pred       = lr_reg_cv.predict(X_test)        \n",
    "lr_reg_cv_cm = metrics.confusion_matrix(y_test,y_pred)\n",
    "\n",
    "print(lr_reg_cv_cm)"
   ]
  },
  {
   "cell_type": "code",
   "execution_count": 23,
   "metadata": {},
   "outputs": [
    {
     "name": "stdout",
     "output_type": "stream",
     "text": [
      "accuracy: 0.519\n",
      "precision:  0.507\n",
      "recall:  0.527\n",
      "F1 score (macro):  0.517\n",
      "F1 score (weighted): 0.493\n"
     ]
    }
   ],
   "source": [
    "print_scores(lr_reg_cv_cm, y_test, y_pred)"
   ]
  },
  {
   "cell_type": "markdown",
   "metadata": {},
   "source": [
    "** Simple Fine Tuning the parameters with GridSearch**"
   ]
  },
  {
   "cell_type": "code",
   "execution_count": 24,
   "metadata": {},
   "outputs": [],
   "source": [
    "from sklearn.model_selection import GridSearchCV\n",
    "from sklearn.linear_model import LogisticRegression"
   ]
  },
  {
   "cell_type": "code",
   "execution_count": 25,
   "metadata": {},
   "outputs": [
    {
     "name": "stdout",
     "output_type": "stream",
     "text": [
      "[[209  53   1   5   1  15  86]\n",
      " [110 105  16   9  43  71  29]\n",
      " [138  60  13  92   1  82  50]\n",
      " [ 11   3   0 367   1   4   6]\n",
      " [ 24  45   8  17 184 113   9]\n",
      " [ 30  58   6  17  49 197  11]\n",
      " [120   5   9  19   2   5 202]]\n"
     ]
    }
   ],
   "source": [
    "# regularization: smaller C specify stronger regularization\n",
    "param_grid = {'C': [0.001, 0.01, 0.1, 1, 10, 100, 1000], 'penalty': ['l2'] }\n",
    "\n",
    "lr_grid_reg = GridSearchCV(LogisticRegression(),param_grid, cv=5)  \n",
    "lr_grid_reg.fit(X_train, y_train)\n",
    "\n",
    "# save the best estimator\n",
    "lr_reg_best = lr_grid_reg.best_estimator_\n",
    "\n",
    "y_pred         = lr_reg_best.predict(X_test)  \n",
    "lr_reg_best_cm = metrics.confusion_matrix(y_test,y_pred)\n",
    "\n",
    "print(lr_reg_best_cm)"
   ]
  },
  {
   "cell_type": "code",
   "execution_count": 26,
   "metadata": {},
   "outputs": [
    {
     "name": "stdout",
     "output_type": "stream",
     "text": [
      "accuracy: 0.471\n",
      "precision:  0.452\n",
      "recall:  0.480\n",
      "F1 score (macro):  0.465\n",
      "F1 score (weighted): 0.436\n"
     ]
    }
   ],
   "source": [
    "print_scores(lr_reg_best_cm,y_test,y_pred)"
   ]
  },
  {
   "cell_type": "markdown",
   "metadata": {},
   "source": [
    "**GridSearch + LogisticRegression** does not improve the performance of the **LogisticRegressionCV** model using the current parameter grid. It might be due to the reason that the latter also contains cross-validation (CV) part which improves the performance. Therefore, we take the **LogistricRegressionCV** as the best Logistic Regression model."
   ]
  },
  {
   "cell_type": "code",
   "execution_count": 27,
   "metadata": {},
   "outputs": [],
   "source": [
    "# save the best estimator for the LogistricRegression models\n",
    "lr_reg_best    = lr_reg_cv\n",
    "lr_reg_best_cm = lr_reg_cv_cm"
   ]
  },
  {
   "cell_type": "code",
   "execution_count": 28,
   "metadata": {},
   "outputs": [
    {
     "data": {
      "text/plain": [
       "Text(0.5,1,' Logistic Regression with CV=5')"
      ]
     },
     "execution_count": 28,
     "metadata": {},
     "output_type": "execute_result"
    },
    {
     "data": {
      "image/png": "[encoded data removed]",
      "text/plain": [
       "<Figure size 720x432 with 1 Axes>"
      ]
     },
     "metadata": {},
     "output_type": "display_data"
    }
   ],
   "source": [
    "plot_score4each(lr_reg_best_cm)\n",
    "plt.title(\" Logistic Regression with CV=5\", fontsize=20)"
   ]
  },
  {
   "cell_type": "markdown",
   "metadata": {},
   "source": [
    "**Figure: the precision and recall of the Logistic Regression with CV=5 for each class in the test data. The error bar indicates the interval with 95% C.L.**\n",
    "\n",
    "It is shown above that the overall performance is not satisfied with the score around 0.5. The recall for the class 3 is even smaller than 0.1."
   ]
  },
  {
   "cell_type": "markdown",
   "metadata": {},
   "source": [
    "## Decision trees"
   ]
  },
  {
   "cell_type": "code",
   "execution_count": 31,
   "metadata": {},
   "outputs": [],
   "source": [
    "from sklearn.tree import DecisionTreeClassifier"
   ]
  },
  {
   "cell_type": "code",
   "execution_count": 32,
   "metadata": {},
   "outputs": [
    {
     "name": "stdout",
     "output_type": "stream",
     "text": [
      "[[292  26  16   4   2   3  27]\n",
      " [ 28 247  36   8  28  26  10]\n",
      " [  8  32 257  42  35  19  43]\n",
      " [  3   4  31 329  11   9   5]\n",
      " [  6  20  40   9 268  51   6]\n",
      " [  4  18  24   5  58 246  13]\n",
      " [ 25   9  28   7   8  11 274]]\n"
     ]
    }
   ],
   "source": [
    "tree_clf = make_pipeline(RobustScaler(),\n",
    "                   DecisionTreeClassifier()).fit(X=X_train, y=y_train)\n",
    "\n",
    "y_pred      = tree_clf.predict(X_test) \n",
    "tree_clf_cm = metrics.confusion_matrix(y_test,y_pred)\n",
    "\n",
    "print(tree_clf_cm)"
   ]
  },
  {
   "cell_type": "code",
   "execution_count": 33,
   "metadata": {},
   "outputs": [
    {
     "name": "stdout",
     "output_type": "stream",
     "text": [
      "accuracy: 0.706\n",
      "precision:  0.708\n",
      "recall:  0.708\n",
      "F1 score (macro):  0.708\n",
      "F1 score (weighted): 0.705\n"
     ]
    }
   ],
   "source": [
    "print_scores(tree_clf_cm,y_test,y_pred)"
   ]
  },
  {
   "cell_type": "markdown",
   "metadata": {},
   "source": [
    "** Grid Searching the hyperparameters for the Decision Tree Algorithm**"
   ]
  },
  {
   "cell_type": "code",
   "execution_count": 55,
   "metadata": {},
   "outputs": [],
   "source": [
    "criterions = [\"gini\", \"entropy\"]\n",
    "max_depths = range(2,26,4)\n",
    "min_samples_leaves = range(2,10,2)  # The minimum number of samples required to be at a leaf node. "
   ]
  },
  {
   "cell_type": "code",
   "execution_count": 56,
   "metadata": {},
   "outputs": [
    {
     "name": "stdout",
     "output_type": "stream",
     "text": [
      "criterion: gini, max_depth: 2, min_samples_leaf: 2, F1_temp: 0.2514008675178226, accuracy_tmp: 0.34562891921800076\n",
      "criterion: gini, max_depth: 6, min_samples_leaf: 2, F1_temp: 0.49875386185405596, accuracy_tmp: 0.5223164883806714\n",
      "criterion: gini, max_depth: 6, min_samples_leaf: 6, F1_temp: 0.499524671542245, accuracy_tmp: 0.5230542235337514\n",
      "criterion: gini, max_depth: 6, min_samples_leaf: 8, F1_temp: 0.5002177396315521, accuracy_tmp: 0.5241608262633715\n",
      "criterion: gini, max_depth: 10, min_samples_leaf: 2, F1_temp: 0.6588133195055421, accuracy_tmp: 0.6602729620066397\n",
      "criterion: gini, max_depth: 14, min_samples_leaf: 2, F1_temp: 0.7062852183188267, accuracy_tmp: 0.7085946145333825\n",
      "criterion: gini, max_depth: 18, min_samples_leaf: 4, F1_temp: 0.7135484341727043, accuracy_tmp: 0.7144964957580229\n",
      "criterion: entropy, max_depth: 14, min_samples_leaf: 4, F1_temp: 0.7145446953366013, accuracy_tmp: 0.715971966064183\n",
      "criterion: entropy, max_depth: 14, min_samples_leaf: 6, F1_temp: 0.7209038371399291, accuracy_tmp: 0.7226115824419034\n",
      "criterion: entropy, max_depth: 18, min_samples_leaf: 6, F1_temp: 0.7232176480931434, accuracy_tmp: 0.7237181851715234\n"
     ]
    }
   ],
   "source": [
    "tree_clf_results, tree_clf_best, tree_clf_best_cm, tree_clf_best_parameter = decision_trees_gridsearch(X_train,y_train,   \\\n",
    "                                                                         X_test,y_test,       \\\n",
    "                                                                         criterions,max_depths,  \\\n",
    "                                                                         min_samples_leaves)\n"
   ]
  },
  {
   "cell_type": "code",
   "execution_count": 57,
   "metadata": {},
   "outputs": [],
   "source": [
    "tree_results_df = pd.DataFrame(np.array(tree_clf_results).reshape(len(tree_clf_results),5), \\\n",
    "                          columns=['criterion', 'max_depth', 'min_samples_leaf', 'F1', 'accuracy'])"
   ]
  },
  {
   "cell_type": "code",
   "execution_count": 58,
   "metadata": {},
   "outputs": [
    {
     "name": "stdout",
     "output_type": "stream",
     "text": [
      "[[297  22  17   4   4   7  19]\n",
      " [ 30 257  23   6  35  25   7]\n",
      " [  9  25 263  32  38  25  44]\n",
      " [  3   5  31 333  12   6   2]\n",
      " [  8  16  31  13 292  36   4]\n",
      " [  4  16  20   8  54 256  10]\n",
      " [ 23   9  26   6   6  28 264]]\n"
     ]
    }
   ],
   "source": [
    "\n",
    "y_pred = tree_clf_best.predict(X_test)  \n",
    "print(tree_clf_best_cm) "
   ]
  },
  {
   "cell_type": "code",
   "execution_count": 59,
   "metadata": {},
   "outputs": [
    {
     "name": "stdout",
     "output_type": "stream",
     "text": [
      "accuracy: 0.724\n",
      "precision:  0.726\n",
      "recall:  0.726\n",
      "F1 score (macro):  0.726\n",
      "F1 score (weighted): 0.723\n"
     ]
    }
   ],
   "source": [
    "print_scores(tree_clf_best_cm,y_test,y_pred)"
   ]
  },
  {
   "cell_type": "markdown",
   "metadata": {},
   "source": [
    "**The GridSearch found a better Decision Tree model.**"
   ]
  },
  {
   "cell_type": "code",
   "execution_count": 61,
   "metadata": {},
   "outputs": [
    {
     "data": {
      "text/plain": [
       "Text(0.5,1,\" Decision Tree with ['entropy', 18, 6]\")"
      ]
     },
     "execution_count": 61,
     "metadata": {},
     "output_type": "execute_result"
    },
    {
     "data": {
      "image/png": "[encoded data removed]",
      "text/plain": [
       "<Figure size 720x432 with 1 Axes>"
      ]
     },
     "metadata": {},
     "output_type": "display_data"
    }
   ],
   "source": [
    "plot_score4each(tree_clf_best_cm)\n",
    "plt.title(\" Decision Tree with {}\".format(tree_clf_best_parameter), fontsize=20)"
   ]
  },
  {
   "cell_type": "markdown",
   "metadata": {},
   "source": [
    "**Figure: the precision and recall of the Decision Tree with the hyperparameters (criterion: entropy, max_depth: 18, min_samples_leaves=6) for each class in the test data. The error bar indicates the interval with 95% C.L.**\n",
    "\n",
    "It is shown above that the overall performance of Decision Tree for all the classes is in between 0.6 and 0.8, much better than the LogisticRegression with CV=5.\n",
    "\n",
    "Below let's have a quick look at the F1 score as a function of the hyperparameters."
   ]
  },
  {
   "cell_type": "code",
   "execution_count": 62,
   "metadata": {},
   "outputs": [],
   "source": [
    "features = ['max_depth', 'min_samples_leaf', 'F1', 'accuracy'] \n",
    "\n",
    "tree_results_df[features] = tree_results_df[features].astype(float)\n",
    "\n",
    "gini_results_df      = tree_results_df[tree_results_df['criterion'] == 'gini']\n",
    "entropy_results_df   = tree_results_df[tree_results_df['criterion'] == 'entropy']"
   ]
  },
  {
   "cell_type": "code",
   "execution_count": 66,
   "metadata": {},
   "outputs": [
    {
     "data": {
      "text/plain": [
       "Text(0.5,1,'criterion (entropy)')"
      ]
     },
     "execution_count": 66,
     "metadata": {},
     "output_type": "execute_result"
    },
    {
     "data": {
      "image/png": "[encoded data removed]",
      "text/plain": [
       "<Figure size 576x432 with 2 Axes>"
      ]
     },
     "metadata": {},
     "output_type": "display_data"
    }
   ],
   "source": [
    "plot_contour(entropy_results_df['max_depth'],entropy_results_df['min_samples_leaf'],entropy_results_df['F1'], \\\n",
    "             [2,22],[2,8],[0,1],'max_depth','min_samples_leaf','F1 (weighted)','YlOrBr')\n",
    "plt.title('criterion (entropy)')"
   ]
  },
  {
   "cell_type": "code",
   "execution_count": 65,
   "metadata": {},
   "outputs": [
    {
     "data": {
      "text/plain": [
       "Text(0.5,1,'criterion (gini)')"
      ]
     },
     "execution_count": 65,
     "metadata": {},
     "output_type": "execute_result"
    },
    {
     "data": {
      "image/png": "[encoded data removed]",
      "text/plain": [
       "<Figure size 576x432 with 2 Axes>"
      ]
     },
     "metadata": {},
     "output_type": "display_data"
    }
   ],
   "source": [
    "\n",
    "plot_contour(gini_results_df['max_depth'],gini_results_df['min_samples_leaf'],gini_results_df['F1'], \\\n",
    "             [2,22],[2,8],[0,1],'max_depth','min_samples_leaf','F1 (weighted)','YlOrBr')\n",
    "plt.title('criterion (gini)')"
   ]
  },
  {
   "cell_type": "markdown",
   "metadata": {},
   "source": [
    "It is shown above that the F1 score is almost constant with the increase of the \"min_samples_leaf\", but increases smoothly with \"max_depth\". However, one cannot choose a too large value for the \"max_depth\", which tends to overfit the data."
   ]
  },
  {
   "cell_type": "markdown",
   "metadata": {},
   "source": [
    "## KNeighborsClassifier (KNN) \n",
    "\n",
    "\n",
    "In this section, I will try to use  a non parametric and instance-based learning algorithm: the KNN classifier, the pros of which is as follows: \n",
    "\n",
    "- Non-parametric:  no explicit assumptions about the functional form, avoiding the dangers of mismodeling the underlying distribution of the data. \n",
    "- Instance-based learning:  algorithm doesn’t explicitly learn a model. It memorizes the training instances which are subsequently used as “knowledge” for the prediction phase. "
   ]
  },
  {
   "cell_type": "code",
   "execution_count": 67,
   "metadata": {},
   "outputs": [
    {
     "name": "stdout",
     "output_type": "stream",
     "text": [
      "accuracy: 0.797\n",
      "precision:  0.799\n",
      "recall:  0.799\n",
      "F1 score (macro):  0.799\n",
      "F1 score (weighted): 0.795\n"
     ]
    }
   ],
   "source": [
    "# from sklearn.neighbors import KNeighborsClassifier\n",
    "\n",
    "knn = make_pipeline(RobustScaler(),\n",
    "                   KNeighborsClassifier()).fit(X=X_train, y=y_train)\n",
    "\n",
    "y_pred = knn.predict(X_test)      \n",
    "\n",
    "knn_cm = metrics.confusion_matrix(y_test,y_pred)\n",
    "\n",
    "print_scores(knn_cm,y_test,y_pred)"
   ]
  },
  {
   "cell_type": "markdown",
   "metadata": {},
   "source": [
    "**GridSearch the $k$ value in the KNN (fast)**"
   ]
  },
  {
   "cell_type": "code",
   "execution_count": 71,
   "metadata": {},
   "outputs": [
    {
     "name": "stdout",
     "output_type": "stream",
     "text": [
      "k: 1, F1_score: 0.7914947363691944, accuracy: 0.7926964219845075\n",
      "k: 3, F1_score: 0.8027044772017373, accuracy: 0.8041313168572483\n"
     ]
    }
   ],
   "source": [
    "n_neighbors_range = range(1,10,1)\n",
    "\n",
    "knn_clf_results, knn_clf_best, knn_clf_best_cm, knn_clf_best_parameter = knn_gridsearch(X_train,y_train,X_test,y_test,n_neighbors_range)"
   ]
  },
  {
   "cell_type": "code",
   "execution_count": 72,
   "metadata": {},
   "outputs": [
    {
     "name": "stdout",
     "output_type": "stream",
     "text": [
      "accuracy: 0.804\n",
      "precision:  0.805\n",
      "recall:  0.807\n",
      "F1 score (macro):  0.806\n",
      "F1 score (weighted): 0.795\n"
     ]
    }
   ],
   "source": [
    "print_scores(knn_clf_best_cm,y_test,y_pred)"
   ]
  },
  {
   "cell_type": "markdown",
   "metadata": {},
   "source": [
    "The GridSearch found a slightly better model."
   ]
  },
  {
   "cell_type": "code",
   "execution_count": 74,
   "metadata": {},
   "outputs": [
    {
     "data": {
      "text/plain": [
       "Text(0.5,1,'Average Performance of KNN on the Test Data')"
      ]
     },
     "execution_count": 74,
     "metadata": {},
     "output_type": "execute_result"
    },
    {
     "data": {
      "image/png": "[encoded data removed]",
      "text/plain": [
       "<Figure size 432x288 with 1 Axes>"
      ]
     },
     "metadata": {},
     "output_type": "display_data"
    }
   ],
   "source": [
    "features = ['k', 'F1', 'accuracy']\n",
    "knn_results_df = pd.DataFrame(np.array(knn_clf_results).reshape(len(knn_clf_results),3),columns=features) \n",
    "plt.plot(knn_results_df['k'], knn_results_df['F1'],'-o',c='r',label='F1 score')\n",
    "plt.plot(knn_results_df['k'], knn_results_df['accuracy'],'-s',c='b',label='accuracy')\n",
    "set_figstyle(0,10,0.5,1.0,'k','Metrics', True)\n",
    "plt.legend(fontsize=16)\n",
    "plt.title('Average Performance of KNN on the Test Data')"
   ]
  },
  {
   "cell_type": "code",
   "execution_count": 76,
   "metadata": {},
   "outputs": [
    {
     "data": {
      "text/plain": [
       "Text(0.5,1,' KNN with k=3')"
      ]
     },
     "execution_count": 76,
     "metadata": {},
     "output_type": "execute_result"
    },
    {
     "data": {
      "image/png": "[encoded data removed]",
      "text/plain": [
       "<Figure size 720x432 with 1 Axes>"
      ]
     },
     "metadata": {},
     "output_type": "display_data"
    }
   ],
   "source": [
    "plot_score4each(knn_clf_best_cm)\n",
    "plt.title(\" KNN with k={}\".format(knn_clf_best_parameter), fontsize=20)"
   ]
  },
  {
   "cell_type": "markdown",
   "metadata": {},
   "source": [
    "**Figure: the precision and recall of the KNN with the hyperparameters (k=3) for each class in the test data. The error bar indicates the interval with 95% C.L.**\n",
    "\n",
    "It is shown above that the overall performance of the KNN (k=3) is even better than the Decision Tree."
   ]
  },
  {
   "cell_type": "markdown",
   "metadata": {},
   "source": [
    "**Note: Use the PCA to reduce the dimension prior to appplying KNN which may help make the distance metric more meaningful. **"
   ]
  },
  {
   "cell_type": "markdown",
   "metadata": {},
   "source": [
    "## Random Forest\n",
    "\n",
    "\n",
    "Hyperparameters:\n",
    "\n",
    "- n_estimators = number of trees in the foreset\n",
    "- max_features = max number of features considered for splitting a node\n",
    "- max_depth = max number of levels in each decision tree\n",
    "- min_samples_split = min number of data points placed in a node before the node is split\n",
    "- min_samples_leaf = min number of data points allowed in a leaf node\n",
    "- bootstrap = method for sampling data points (with or without replacement)"
   ]
  },
  {
   "cell_type": "code",
   "execution_count": 77,
   "metadata": {},
   "outputs": [
    {
     "name": "stdout",
     "output_type": "stream",
     "text": [
      "[[335  11   7   1   1   1  14]\n",
      " [ 26 274  25   5  28  15  10]\n",
      " [  8  16 282  42  28  15  45]\n",
      " [  3   2  17 363   4   1   2]\n",
      " [  3  20  32   4 315  22   4]\n",
      " [  2  18  15   5  60 263   5]\n",
      " [ 10   6  28  12   3  19 284]]\n"
     ]
    }
   ],
   "source": [
    "from sklearn.ensemble import RandomForestClassifier\n",
    "\n",
    "rf_clf = make_pipeline(RobustScaler(),\n",
    "                    RandomForestClassifier()).fit(X=X_train, y=y_train)\n",
    "\n",
    "y_pred   = rf_clf.predict(X_test)        \n",
    "rf_clf_cm = metrics.confusion_matrix(y_test,y_pred)\n",
    "\n",
    "print(rf_clf_cm)"
   ]
  },
  {
   "cell_type": "code",
   "execution_count": 79,
   "metadata": {},
   "outputs": [
    {
     "name": "stdout",
     "output_type": "stream",
     "text": [
      "accuracy: 0.781\n",
      "precision:  0.782\n",
      "recall:  0.783\n",
      "F1 score (macro):  0.782\n",
      "F1 score (weighted): 0.779\n"
     ]
    }
   ],
   "source": [
    "print_scores(rf_clf_cm,y_test,y_pred)"
   ]
  },
  {
   "cell_type": "markdown",
   "metadata": {},
   "source": [
    " **GridSearch the hyperparameters for the Random Forest (time consuming)**"
   ]
  },
  {
   "cell_type": "code",
   "execution_count": 80,
   "metadata": {},
   "outputs": [],
   "source": [
    "from sklearn.model_selection import GridSearchCV\n",
    "\n",
    "# Create the parameter grid based on the results of random search \n",
    "param_grid = {\n",
    "    'bootstrap': [True],\n",
    "    'max_depth': [80, 90],\n",
    "    'max_features': [2, 3, 4],\n",
    "    'min_samples_leaf': [2, 3, 4],\n",
    "    'min_samples_split': [7, 8, 10],\n",
    "    'n_estimators': [100, 200, 300]\n",
    "}\n",
    "\n",
    "\n",
    "rf = RandomForestClassifier()\n",
    "\n",
    "# Instantiate the grid search model\n",
    "grid_search = GridSearchCV(estimator = rf, param_grid = param_grid,  cv = 3, n_jobs = -1, verbose = 2)"
   ]
  },
  {
   "cell_type": "code",
   "execution_count": 81,
   "metadata": {},
   "outputs": [
    {
     "name": "stdout",
     "output_type": "stream",
     "text": [
      "Fitting 3 folds for each of 162 candidates, totalling 486 fits\n"
     ]
    },
    {
     "name": "stderr",
     "output_type": "stream",
     "text": [
      "[Parallel(n_jobs=-1)]: Using backend LokyBackend with 8 concurrent workers.\n",
      "[Parallel(n_jobs=-1)]: Done  25 tasks      | elapsed:   14.9s\n",
      "[Parallel(n_jobs=-1)]: Done 146 tasks      | elapsed:  1.4min\n",
      "[Parallel(n_jobs=-1)]: Done 349 tasks      | elapsed:  3.6min\n",
      "[Parallel(n_jobs=-1)]: Done 486 out of 486 | elapsed:  5.5min finished\n"
     ]
    },
    {
     "data": {
      "text/plain": [
       "GridSearchCV(cv=3, error_score='raise-deprecating',\n",
       "       estimator=RandomForestClassifier(bootstrap=True, class_weight=None, criterion='gini',\n",
       "            max_depth=None, max_features='auto', max_leaf_nodes=None,\n",
       "            min_impurity_decrease=0.0, min_impurity_split=None,\n",
       "            min_samples_leaf=1, min_samples_split=2,\n",
       "            min_weight_fraction_leaf=0.0, n_estimators='warn', n_jobs=None,\n",
       "            oob_score=False, random_state=None, verbose=0,\n",
       "            warm_start=False),\n",
       "       fit_params=None, iid='warn', n_jobs=-1,\n",
       "       param_grid={'bootstrap': [True], 'max_depth': [80, 90], 'max_features': [2, 3, 4], 'min_samples_leaf': [2, 3, 4], 'min_samples_split': [7, 8, 10], 'n_estimators': [100, 200, 300]},\n",
       "       pre_dispatch='2*n_jobs', refit=True, return_train_score='warn',\n",
       "       scoring=None, verbose=2)"
      ]
     },
     "execution_count": 81,
     "metadata": {},
     "output_type": "execute_result"
    }
   ],
   "source": [
    "# Fit the grid search to the data\n",
    "grid_search.fit(X_train, y_train) "
   ]
  },
  {
   "cell_type": "code",
   "execution_count": 85,
   "metadata": {},
   "outputs": [
    {
     "name": "stdout",
     "output_type": "stream",
     "text": [
      "[[331  16   5   0   1   0  17]\n",
      " [ 23 290  13   3  29  16   9]\n",
      " [  4  15 277  47  32  18  43]\n",
      " [  1   1  11 367   7   2   3]\n",
      " [  3  10  18   1 340  24   4]\n",
      " [  0  16  13   6  50 278   5]\n",
      " [ 10   3  13   9   1  15 311]]\n"
     ]
    }
   ],
   "source": [
    "# the best case\n",
    "rf_clf_best = grid_search.best_estimator_\n",
    "\n",
    "# prediction\n",
    "y_pred     = rf_clf_best.predict(X_test) \n",
    "rf_clf_cm  = metrics.confusion_matrix(y_test,y_pred)\n",
    "\n",
    "print(rf_clf_cm)"
   ]
  },
  {
   "cell_type": "code",
   "execution_count": 86,
   "metadata": {},
   "outputs": [
    {
     "name": "stdout",
     "output_type": "stream",
     "text": [
      "accuracy: 0.809\n",
      "precision:  0.811\n",
      "recall:  0.813\n",
      "F1 score (macro):  0.812\n",
      "F1 score (weighted): 0.807\n"
     ]
    }
   ],
   "source": [
    " print_scores(rf_clf_cm, y_test, y_pred)"
   ]
  },
  {
   "cell_type": "code",
   "execution_count": 88,
   "metadata": {},
   "outputs": [
    {
     "data": {
      "text/plain": [
       "{'bootstrap': True,\n",
       " 'max_depth': 90,\n",
       " 'max_features': 4,\n",
       " 'min_samples_leaf': 2,\n",
       " 'min_samples_split': 7,\n",
       " 'n_estimators': 200}"
      ]
     },
     "execution_count": 88,
     "metadata": {},
     "output_type": "execute_result"
    }
   ],
   "source": [
    "grid_search.best_params_"
   ]
  },
  {
   "cell_type": "code",
   "execution_count": 89,
   "metadata": {},
   "outputs": [
    {
     "data": {
      "text/plain": [
       "Text(0.5,1,' Random Forest with parameters (90, 4, 2, 7 ,200)')"
      ]
     },
     "execution_count": 89,
     "metadata": {},
     "output_type": "execute_result"
    },
    {
     "data": {
      "image/png": "[encoded data removed]",
      "text/plain": [
       "<Figure size 720x432 with 1 Axes>"
      ]
     },
     "metadata": {},
     "output_type": "display_data"
    }
   ],
   "source": [
    "plot_score4each(rf_clf_cm)\n",
    "plt.title(\" Random Forest with parameters (90, 4, 2, 7 ,200)\", fontsize=20)"
   ]
  },
  {
   "cell_type": "markdown",
   "metadata": {},
   "source": [
    "** Model evaluation/comparison with statistic test**"
   ]
  },
  {
   "cell_type": "code",
   "execution_count": 92,
   "metadata": {},
   "outputs": [],
   "source": [
    "# the LogisticRegression is obviously worse than other models.\n",
    "\n",
    "tree_best_f1score_w = 0.723\n",
    "knn_best_f1score_w = 0.795\n",
    "rf_best_f1score_w = 0.807"
   ]
  },
  {
   "cell_type": "code",
   "execution_count": 94,
   "metadata": {},
   "outputs": [
    {
     "name": "stdout",
     "output_type": "stream",
     "text": [
      "Decision Tree versus KNN: \n",
      "Reject H0: The performance of the two models is different at the confidence level of 95.0%\n",
      "stats=6.198018213945057, p value=5.717852532958544e-10\n"
     ]
    }
   ],
   "source": [
    "print(\"Decision Tree versus KNN: \")\n",
    "stats, p_value = statistic_compare_two_models(tree_best_f1score_w,knn_best_f1score_w,len(X_test),len(X_test),0.05,2)\n",
    "print(\"stats={}, p value={}\".format(stats,p_value))"
   ]
  },
  {
   "cell_type": "code",
   "execution_count": 95,
   "metadata": {},
   "outputs": [
    {
     "name": "stdout",
     "output_type": "stream",
     "text": [
      "Random Forest versus KNN: \n",
      "Fail to reject H0: Cannot distinguish the performance of the two models at the confidence level of 95.0%\n",
      "stats=1.1065937442740534, p value=0.26846961318986107\n"
     ]
    }
   ],
   "source": [
    "print(\"Random Forest versus KNN: \")\n",
    "stats, p_value = statistic_compare_two_models(rf_best_f1score_w,knn_best_f1score_w,len(X_test),len(X_test),0.05,2)\n",
    "print(\"stats={}, p value={}\".format(stats,p_value))"
   ]
  },
  {
   "cell_type": "markdown",
   "metadata": {},
   "source": [
    "The above statistic analysis shows that the KNN and Random Forest are similar, better than the Decision Tree, and of course also than the Logistic Regression."
   ]
  },
  {
   "cell_type": "markdown",
   "metadata": {},
   "source": [
    "## Ensemble Learning"
   ]
  },
  {
   "cell_type": "markdown",
   "metadata": {},
   "source": [
    "### Voting\n",
    "\n",
    "- Train a few classfiers (based on different algorithms) trainand aggregate the predictions of each classifier and predict the class that gets the most votes.\n",
    "\n",
    "- The ensemble can do much better than each classifer, provided that the classifiers are independent."
   ]
  },
  {
   "cell_type": "code",
   "execution_count": 96,
   "metadata": {},
   "outputs": [],
   "source": [
    "from sklearn.ensemble import VotingClassifier\n",
    "\n",
    "# Take all the best cases for several different algorithms\n",
    "log_clf   = lr_reg_best \n",
    "tree_clf  = tree_clf_best\n",
    "neigh_clf = knn_clf_best\n",
    "rnd_clf   = rf_clf_best\n",
    "\n",
    "voting_clf = make_pipeline(RobustScaler(), \n",
    "            VotingClassifier(estimators=[('lr',log_clf),\n",
    "                                         ('tree',tree_clf),\n",
    "                                         ('rf',rnd_clf),\n",
    "                                         ('neigh',neigh_clf)],\n",
    "                             voting='hard')).fit(X_train,y_train)\n",
    "\n",
    "predVot = voting_clf.predict(X_test)       \n"
   ]
  },
  {
   "cell_type": "code",
   "execution_count": 97,
   "metadata": {},
   "outputs": [
    {
     "name": "stdout",
     "output_type": "stream",
     "text": [
      "Test set Accuracy:  0.8151973441534489\n",
      "[[344   9   5   0   0   0  12]\n",
      " [ 23 295  15   3  31  12   4]\n",
      " [ 13  17 296  39  26  11  34]\n",
      " [  2   1  10 375   1   0   3]\n",
      " [  4  15  19   4 333  22   3]\n",
      " [  1  26  11   7  57 263   3]\n",
      " [ 16   1  18   8   2  13 304]]\n"
     ]
    }
   ],
   "source": [
    "print(\"Test set Accuracy: \", metrics.accuracy_score(y_test, predVot))     \n",
    "\n",
    "voting_clf_cm = metrics.confusion_matrix(y_test,predVot)\n",
    "print(voting_clf_cm)"
   ]
  },
  {
   "cell_type": "code",
   "execution_count": 99,
   "metadata": {},
   "outputs": [
    {
     "name": "stdout",
     "output_type": "stream",
     "text": [
      "accuracy: 0.815\n",
      "precision:  0.816\n",
      "recall:  0.817\n",
      "F1 score (macro):  0.817\n",
      "F1 score (weighted): 0.813\n"
     ]
    }
   ],
   "source": [
    "print_scores(voting_clf_cm,y_test,predVot)"
   ]
  },
  {
   "cell_type": "code",
   "execution_count": 102,
   "metadata": {},
   "outputs": [
    {
     "data": {
      "text/plain": [
       "Text(0.5,1,' Voting (logistic_reg, tree, knn, random_forest) ')"
      ]
     },
     "execution_count": 102,
     "metadata": {},
     "output_type": "execute_result"
    },
    {
     "data": {
      "image/png": "[encoded data removed]",
      "text/plain": [
       "<Figure size 720x432 with 1 Axes>"
      ]
     },
     "metadata": {},
     "output_type": "display_data"
    }
   ],
   "source": [
    "plot_score4each(voting_clf_cm)\n",
    "plt.title(\" Voting (logistic_reg, tree, knn, random_forest) \", fontsize=20)"
   ]
  },
  {
   "cell_type": "markdown",
   "metadata": {},
   "source": [
    "The above results indeed show that the voting does better than each model overall."
   ]
  },
  {
   "cell_type": "markdown",
   "metadata": {},
   "source": [
    "### Gradient Boosting (not completed yet)"
   ]
  },
  {
   "cell_type": "markdown",
   "metadata": {},
   "source": [
    "## Visualzation using PCA for compression\n",
    "\n"
   ]
  },
  {
   "cell_type": "markdown",
   "metadata": {},
   "source": [
    "Check the compressibility of the data"
   ]
  },
  {
   "cell_type": "code",
   "execution_count": 103,
   "metadata": {},
   "outputs": [],
   "source": [
    "pca = PCA()\n",
    "pca.fit(X_train)\n",
    "cumsum = np.cumsum(pca.explained_variance_ratio_)\n",
    "d = np.argmax(cumsum >=0.95)\n",
    "X_reduced = pca.fit_transform(X_train)"
   ]
  },
  {
   "cell_type": "code",
   "execution_count": 107,
   "metadata": {},
   "outputs": [
    {
     "data": {
      "text/plain": [
       "<matplotlib.lines.Line2D at 0x14b26f780>"
      ]
     },
     "execution_count": 107,
     "metadata": {},
     "output_type": "execute_result"
    },
    {
     "data": {
      "image/png": "[encoded data removed]",
      "text/plain": [
       "<Figure size 432x288 with 1 Axes>"
      ]
     },
     "metadata": {},
     "output_type": "display_data"
    }
   ],
   "source": [
    "plt.plot(cumsum,c='r')\n",
    "set_figstyle(0,12,0.5,1,'Dimensions','Explained Variance',True)\n",
    "plt.xticks([0,2,4,6,8,10,12])\n",
    "plt.axhline(0.95,linestyle=':',c='k')"
   ]
  },
  {
   "cell_type": "markdown",
   "metadata": {},
   "source": [
    "The aboce figure indicates that one can only use 6 dimension to capture 95\\% the features of the data. It will be very interesting to perform training using the compressed data in the near future."
   ]
  },
  {
   "cell_type": "code",
   "execution_count": 108,
   "metadata": {},
   "outputs": [
    {
     "name": "stdout",
     "output_type": "stream",
     "text": [
      "Explained variation per principal component: [0.61299772 0.16543696 0.07969849]\n"
     ]
    }
   ],
   "source": [
    "df4pca = CompressedData_PCA(X_train, y_train)"
   ]
  },
  {
   "cell_type": "code",
   "execution_count": 109,
   "metadata": {},
   "outputs": [
    {
     "data": {
      "image/png": "[encoded data removed]",
      "text/plain": [
       "<Figure size 792x576 with 1 Axes>"
      ]
     },
     "metadata": {},
     "output_type": "display_data"
    },
    {
     "data": {
      "text/plain": [
       "<ggplot: (333553917)>"
      ]
     },
     "execution_count": 109,
     "metadata": {},
     "output_type": "execute_result"
    }
   ],
   "source": [
    "chart = plot_ggplot4classification(df4pca,'pca-one','pca-two','label')\n",
    "chart"
   ]
  },
  {
   "cell_type": "code",
   "execution_count": 110,
   "metadata": {},
   "outputs": [
    {
     "data": {
      "image/png": "[encoded data removed]",
      "text/plain": [
       "<Figure size 792x576 with 1 Axes>"
      ]
     },
     "metadata": {},
     "output_type": "display_data"
    },
    {
     "data": {
      "text/plain": [
       "<ggplot: (-9223372036524296069)>"
      ]
     },
     "execution_count": 110,
     "metadata": {},
     "output_type": "execute_result"
    }
   ],
   "source": [
    "chart = plot_ggplot4classification(df4pca,'pca-two','pca-three','label') \n",
    "chart"
   ]
  },
  {
   "cell_type": "markdown",
   "metadata": {},
   "source": [
    "The above figures demonstrate the large overlap between different classes."
   ]
  },
  {
   "cell_type": "markdown",
   "metadata": {},
   "source": [
    "# Deep Learning: Convolutional Neural Network\n",
    "\n",
    "\n",
    "## Regenerate samples for the CNN\n",
    "\n",
    "\n",
    "Here we use the ***Full-None-Overlaping-Window*** with the same size."
   ]
  },
  {
   "cell_type": "code",
   "execution_count": 111,
   "metadata": {},
   "outputs": [],
   "source": [
    "# set hyperparameters for the window\n",
    "num_feature = 3\n",
    "window_size = 260   # 5 senconds\n",
    "step_size   = 260   # 5 seconds\n",
    "segments    = []\n",
    "label       = []"
   ]
  },
  {
   "cell_type": "code",
   "execution_count": 112,
   "metadata": {},
   "outputs": [
    {
     "name": "stdout",
     "output_type": "stream",
     "text": [
      "Processing the data of class: 1\n",
      "\n",
      "Processing the data of class: 2\n",
      "\n",
      "Processing the data of class: 3\n",
      "\n",
      "Processing the data of class: 4\n",
      "\n",
      "Processing the data of class: 5\n",
      "\n",
      "Processing the data of class: 6\n",
      "\n",
      "Processing the data of class: 7\n",
      "\n"
     ]
    }
   ],
   "source": [
    "labels, segments4all_array = preprocess_data(dfs, window_size, step_size, num_feature)"
   ]
  },
  {
   "cell_type": "code",
   "execution_count": 114,
   "metadata": {},
   "outputs": [
    {
     "name": "stdout",
     "output_type": "stream",
     "text": [
      "number of segments/samples: 7393\n",
      "segements shape: (7393, 3, 260)\n",
      "labels for segments:[1, 2, 3, 4, 5, 6, 7]\n"
     ]
    }
   ],
   "source": [
    "print (\"number of segments/samples: \" + str(len(labels))) \n",
    "print (\"segements shape: \" + str(segments4all_array.shape)) \n",
    "print (\"labels for segments:\" + str(list(set(labels)))) "
   ]
  },
  {
   "cell_type": "markdown",
   "metadata": {},
   "source": [
    "- There are **7393** segments/samples. Each segement contains *260** sequential numbers (5 seconds). At each sequential number, there are **3** features (x_acceration, y_acceration, z_acceration).\n",
    "\n",
    "- Each segement has one label with the value ranging from 1 to 7."
   ]
  },
  {
   "cell_type": "markdown",
   "metadata": {},
   "source": [
    "** Transform the class label into one-hot code **"
   ]
  },
  {
   "cell_type": "code",
   "execution_count": 115,
   "metadata": {},
   "outputs": [
    {
     "name": "stdout",
     "output_type": "stream",
     "text": [
      "labels shape: (7393, 7)\n"
     ]
    }
   ],
   "source": [
    "labels_OneHot = pd.get_dummies(labels)\n",
    "print (\"labels shape: \" + str(labels_OneHot.shape))"
   ]
  },
  {
   "cell_type": "markdown",
   "metadata": {},
   "source": [
    "** Scaling the data for each segment (time consuming) **\n",
    "\n",
    "No evident difference is found in the accuracy between the choices of StandardScaler() and RobustScaler().\n",
    "However, the RobustScaler() takes much longer time."
   ]
  },
  {
   "cell_type": "code",
   "execution_count": 116,
   "metadata": {},
   "outputs": [
    {
     "name": "stdout",
     "output_type": "stream",
     "text": [
      "segements (scaled) shape: (7393, 3, 260)\n"
     ]
    }
   ],
   "source": [
    "scaler_pipeline = Pipeline([\n",
    "                    ('robust_scaler',RobustScaler())  \n",
    "                    ])\n",
    "\n",
    "segments_scaled=[]\n",
    "for m in range(0, segments4all_array.shape[0]):\n",
    "    segments_scaled.append(scaler_pipeline.fit_transform(segments4all_array[m]))\n",
    "    \n",
    "segments_array_scaled = np.array(segments_scaled) \n",
    "print (\"segements (scaled) shape: \" + str(segments_array_scaled.shape))"
   ]
  },
  {
   "cell_type": "markdown",
   "metadata": {},
   "source": [
    "** Split the data into train and test sets**"
   ]
  },
  {
   "cell_type": "code",
   "execution_count": 119,
   "metadata": {},
   "outputs": [],
   "source": [
    "random_state = int(segments_array_scaled.shape[0]/70)\n",
    "\n",
    "X_train, X_test, y_train, y_test = train_test_split(segments_array_scaled,\n",
    "                                                    labels_OneHot, \n",
    "                                                    test_size=0.2, \n",
    "                                                    random_state=random_state)\n"
   ]
  },
  {
   "cell_type": "code",
   "execution_count": 120,
   "metadata": {},
   "outputs": [],
   "source": [
    "# make the dimension right for the CNN\n",
    "\n",
    "X_train = np.expand_dims(X_train, axis=3)\n",
    "X_test  = np.expand_dims(X_test, axis=3)  "
   ]
  },
  {
   "cell_type": "code",
   "execution_count": 122,
   "metadata": {},
   "outputs": [
    {
     "name": "stdout",
     "output_type": "stream",
     "text": [
      "number of training segments = 5914\n",
      "number of test segments = 1479\n",
      "X_train shape: (5914, 3, 260, 1)\n",
      "Y_train shape: (5914, 7)\n",
      "X_test shape: (1479, 3, 260, 1)\n",
      "Y_test shape: (1479, 7)\n"
     ]
    }
   ],
   "source": [
    "print (\"number of training segments = \" + str(X_train.shape[0]))\n",
    "print (\"number of test segments = \" + str(X_test.shape[0]))\n",
    "print (\"X_train shape: \" + str(X_train.shape))\n",
    "print (\"Y_train shape: \" + str(y_train.shape))\n",
    "print (\"X_test shape: \" + str(X_test.shape))\n",
    "print (\"Y_test shape: \" + str(y_test.shape))"
   ]
  },
  {
   "cell_type": "markdown",
   "metadata": {},
   "source": [
    "## Building the CNN model\n",
    "\n",
    "\n",
    "Here, we adopt convolution neural network (CNN) to train the data.\n",
    "\n",
    "- The pros of using the CNN here is this model has achived a great success in the computer vision. In this project, we divide the whole time-series data into lots of segments. Each segement has dimension (3, window_size), which can be regarded as an image. Therefore, it is natural to think of this model.\n",
    "\n",
    "- The cons of this model is that this model belongs to ***black box*** models, which is not easy to interpret. \n",
    "\n",
    "- Both accuracy and f1 measure are adopted as metrics"
   ]
  },
  {
   "cell_type": "markdown",
   "metadata": {},
   "source": [
    "** Apply the model settings proposed by Chen and Xue**\n",
    "\n",
    "Y. Chen, Y. Xue, \"A Deep Learning Approach to Human Activity Recognition Based on Single Accelerometer\", in IEEE International Conference on Systems, Man, and Cybernetics, 2015, pp. 1488\n",
    "\n",
    "Note: the dataset here might be different from that used in the above paper."
   ]
  },
  {
   "cell_type": "code",
   "execution_count": 123,
   "metadata": {},
   "outputs": [],
   "source": [
    "cnn_model_CX = model_CX(num_feature, window_size)\n",
    "# both accuracy and f1 measure are adopted as metrics\n",
    "cnn_model_CX.compile(optimizer='adam', loss='categorical_crossentropy', metrics=['accuracy',f1])"
   ]
  },
  {
   "cell_type": "code",
   "execution_count": 124,
   "metadata": {},
   "outputs": [
    {
     "name": "stdout",
     "output_type": "stream",
     "text": [
      "Train on 5914 samples, validate on 1479 samples\n",
      "Epoch 1/10\n",
      "5914/5914 [==============================] - 3s 549us/step - loss: 1.6554 - acc: 0.3204 - f1: 0.0000e+00 - val_loss: 1.5822 - val_acc: 0.3124 - val_f1: 0.0000e+00\n",
      "Epoch 2/10\n",
      "5914/5914 [==============================] - 3s 466us/step - loss: 1.5320 - acc: 0.3683 - f1: 0.0037 - val_loss: 1.5129 - val_acc: 0.3834 - val_f1: 0.0040\n",
      "Epoch 3/10\n",
      "5914/5914 [==============================] - 3s 487us/step - loss: 1.4559 - acc: 0.4149 - f1: 0.1295 - val_loss: 1.4162 - val_acc: 0.4314 - val_f1: 0.1862\n",
      "Epoch 4/10\n",
      "5914/5914 [==============================] - 3s 574us/step - loss: 1.3518 - acc: 0.4789 - f1: 0.2343 - val_loss: 1.3010 - val_acc: 0.5429 - val_f1: 0.2613\n",
      "Epoch 5/10\n",
      "5914/5914 [==============================] - 3s 541us/step - loss: 1.3096 - acc: 0.5086 - f1: 0.3051 - val_loss: 1.2795 - val_acc: 0.5078 - val_f1: 0.3193\n",
      "Epoch 6/10\n",
      "5914/5914 [==============================] - 3s 543us/step - loss: 1.2781 - acc: 0.5200 - f1: 0.3372 - val_loss: 1.2504 - val_acc: 0.5409 - val_f1: 0.3049\n",
      "Epoch 7/10\n",
      "5914/5914 [==============================] - 3s 471us/step - loss: 1.2473 - acc: 0.5517 - f1: 0.3651 - val_loss: 1.2358 - val_acc: 0.5362 - val_f1: 0.4122\n",
      "Epoch 8/10\n",
      "5914/5914 [==============================] - 3s 472us/step - loss: 1.2278 - acc: 0.5526 - f1: 0.3564 - val_loss: 1.2121 - val_acc: 0.5382 - val_f1: 0.4117\n",
      "Epoch 9/10\n",
      "5914/5914 [==============================] - 3s 469us/step - loss: 1.2135 - acc: 0.5524 - f1: 0.4293 - val_loss: 1.2045 - val_acc: 0.5368 - val_f1: 0.3898\n",
      "Epoch 10/10\n",
      "5914/5914 [==============================] - 3s 474us/step - loss: 1.1916 - acc: 0.5798 - f1: 0.3997 - val_loss: 1.1883 - val_acc: 0.5450 - val_f1: 0.4904\n"
     ]
    },
    {
     "data": {
      "text/plain": [
       "<keras.callbacks.History at 0x13b9e2a90>"
      ]
     },
     "execution_count": 124,
     "metadata": {},
     "output_type": "execute_result"
    }
   ],
   "source": [
    "#train the model\n",
    "cnn_model_CX.fit(X_train, y_train, batch_size=500, validation_data=(X_test, y_test), epochs=10)"
   ]
  },
  {
   "cell_type": "code",
   "execution_count": 130,
   "metadata": {},
   "outputs": [
    {
     "name": "stdout",
     "output_type": "stream",
     "text": [
      "1479/1479 [==============================] - 0s 177us/step\n",
      "Loss = 1.1882962081140567\n",
      "Test Accuracy = 0.5449628127415169\n",
      "F1 score (macro) = 0.4877929700295453\n"
     ]
    }
   ],
   "source": [
    "preds = cnn_model_CX.evaluate(X_test, y_test)\n",
    "print (\"Loss = \" + str(preds[0]))  \n",
    "print (\"Test Accuracy = \" + str(preds[1]))\n",
    "print (\"F1 score (macro) = \" + str(preds[2]))"
   ]
  },
  {
   "cell_type": "code",
   "execution_count": 126,
   "metadata": {},
   "outputs": [
    {
     "name": "stdout",
     "output_type": "stream",
     "text": [
      "[[252   0   0   4   0   0 211]\n",
      " [ 18   0   0   4   0   0  21]\n",
      " [ 43   0   0  40   0   0  84]\n",
      " [ 13   0   0 218   0   0  36]\n",
      " [ 10   0   0  21   0   0  15]\n",
      " [  9   0   0   5   0   0  20]\n",
      " [102   0   0  17   0   0 336]]\n"
     ]
    }
   ],
   "source": [
    "y_pred = cnn_model_CX.predict(X_test)\n",
    "y_pred_classes = np.argmax(y_pred, axis=1) \n",
    "y_test_classes = np.argmax(np.array(y_test).reshape(y_test.shape[0],7), axis=1) \n",
    "cnn_cm = confusion_matrix(y_test_classes,y_pred_classes)\n",
    "print(cnn_cm)"
   ]
  },
  {
   "cell_type": "markdown",
   "metadata": {},
   "source": [
    "<font color='red'> WARNING: The above confusion matrix is a typical outcome of using imbalanced data in the training and test, namely cannot recognize the classes (class 2, 3, 5, and 6) with very small sample size. To improve the CNN model, one needs to use similar sample sizes for all the classes, like what we did in the conventional machine learning models. </font>"
   ]
  },
  {
   "cell_type": "code",
   "execution_count": 127,
   "metadata": {},
   "outputs": [
    {
     "name": "stdout",
     "output_type": "stream",
     "text": [
      "accuracy: 0.815\n",
      "precision:  0.816\n",
      "recall:  0.817\n",
      "F1 score (macro):  0.817\n",
      "F1 score (weighted): 0.486\n"
     ]
    }
   ],
   "source": [
    "print_scores(voting_clf_cm,y_test_classes,y_pred_classes)"
   ]
  },
  {
   "cell_type": "code",
   "execution_count": 128,
   "metadata": {},
   "outputs": [
    {
     "data": {
      "text/plain": [
       "Text(0.5,1,' CNN ')"
      ]
     },
     "execution_count": 128,
     "metadata": {},
     "output_type": "execute_result"
    },
    {
     "data": {
      "image/png": "[encoded data removed]",
      "text/plain": [
       "<Figure size 720x432 with 1 Axes>"
      ]
     },
     "metadata": {},
     "output_type": "display_data"
    }
   ],
   "source": [
    "plot_score4each(cnn_cm)\n",
    "plt.title(\" CNN(3)\", fontsize=20)"
   ]
  },
  {
   "cell_type": "code",
   "execution_count": 131,
   "metadata": {},
   "outputs": [
    {
     "name": "stdout",
     "output_type": "stream",
     "text": [
      "_________________________________________________________________\n",
      "Layer (type)                 Output Shape              Param #   \n",
      "=================================================================\n",
      "conv2d_1 (Conv2D)            (None, 3, 260, 18)        450       \n",
      "_________________________________________________________________\n",
      "max_pooling2d_1 (MaxPooling2 (None, 3, 130, 18)        0         \n",
      "_________________________________________________________________\n",
      "leaky_re_lu_1 (LeakyReLU)    (None, 3, 130, 18)        0         \n",
      "_________________________________________________________________\n",
      "conv2d_2 (Conv2D)            (None, 2, 65, 36)         7812      \n",
      "_________________________________________________________________\n",
      "max_pooling2d_2 (MaxPooling2 (None, 2, 32, 36)         0         \n",
      "_________________________________________________________________\n",
      "leaky_re_lu_2 (LeakyReLU)    (None, 2, 32, 36)         0         \n",
      "_________________________________________________________________\n",
      "conv2d_3 (Conv2D)            (None, 2, 32, 24)         10392     \n",
      "_________________________________________________________________\n",
      "max_pooling2d_3 (MaxPooling2 (None, 2, 16, 24)         0         \n",
      "_________________________________________________________________\n",
      "flatten_1 (Flatten)          (None, 768)               0         \n",
      "_________________________________________________________________\n",
      "dense_1 (Dense)              (None, 7)                 5383      \n",
      "=================================================================\n",
      "Total params: 24,037\n",
      "Trainable params: 24,037\n",
      "Non-trainable params: 0\n",
      "_________________________________________________________________\n"
     ]
    }
   ],
   "source": [
    "cnn_model_CX.summary()"
   ]
  },
  {
   "cell_type": "markdown",
   "metadata": {},
   "source": [
    "As a comparison, let's try a simple **two-layer CNN model**, followed by a full-connected layer with an activation function, ***softmax*** for multi-class classification. No pooling layer.\n",
    "\n",
    "Of course, one can make the model more complicate by changing the hyperparametrs: filter size, number of filters, number of hidden layers and introduce batch normalization. "
   ]
  },
  {
   "cell_type": "code",
   "execution_count": 132,
   "metadata": {},
   "outputs": [],
   "source": [
    "cnn_model_simple = model_simple(num_feature, window_size)\n",
    "cnn_model_simple.compile(optimizer='adam', loss='categorical_crossentropy', metrics=['accuracy',f1])"
   ]
  },
  {
   "cell_type": "code",
   "execution_count": 134,
   "metadata": {},
   "outputs": [
    {
     "name": "stdout",
     "output_type": "stream",
     "text": [
      "Train on 5914 samples, validate on 1479 samples\n",
      "Epoch 1/10\n",
      "5914/5914 [==============================] - 6s 1ms/step - loss: 1.6699 - acc: 0.3835 - f1: 0.1522 - val_loss: 1.3843 - val_acc: 0.5274 - val_f1: 0.2526\n",
      "Epoch 2/10\n",
      "5914/5914 [==============================] - 6s 983us/step - loss: 1.2919 - acc: 0.5336 - f1: 0.3569 - val_loss: 1.2702 - val_acc: 0.5166 - val_f1: 0.2782\n",
      "Epoch 3/10\n",
      "5914/5914 [==============================] - 6s 1ms/step - loss: 1.1881 - acc: 0.5443 - f1: 0.3747 - val_loss: 1.2278 - val_acc: 0.5078 - val_f1: 0.3430\n",
      "Epoch 4/10\n",
      "5914/5914 [==============================] - 6s 972us/step - loss: 1.1416 - acc: 0.5546 - f1: 0.3898 - val_loss: 1.2069 - val_acc: 0.5335 - val_f1: 0.4715\n",
      "Epoch 5/10\n",
      "5914/5914 [==============================] - 6s 1ms/step - loss: 1.1054 - acc: 0.5715 - f1: 0.4578 - val_loss: 1.1673 - val_acc: 0.5734 - val_f1: 0.3807\n",
      "Epoch 6/10\n",
      "5914/5914 [==============================] - 6s 1ms/step - loss: 1.0803 - acc: 0.5852 - f1: 0.4525 - val_loss: 1.1935 - val_acc: 0.5565 - val_f1: 0.4511\n",
      "Epoch 7/10\n",
      "5914/5914 [==============================] - 6s 954us/step - loss: 1.0499 - acc: 0.6008 - f1: 0.4630 - val_loss: 1.1774 - val_acc: 0.5761 - val_f1: 0.3963\n",
      "Epoch 8/10\n",
      "5914/5914 [==============================] - 6s 1ms/step - loss: 1.0132 - acc: 0.6150 - f1: 0.5013 - val_loss: 1.1963 - val_acc: 0.5680 - val_f1: 0.3757\n",
      "Epoch 9/10\n",
      "5914/5914 [==============================] - 6s 975us/step - loss: 0.9882 - acc: 0.6228 - f1: 0.5066 - val_loss: 1.2120 - val_acc: 0.5686 - val_f1: 0.4176\n",
      "Epoch 10/10\n",
      "5914/5914 [==============================] - 6s 961us/step - loss: 0.9660 - acc: 0.6407 - f1: 0.5427 - val_loss: 1.2010 - val_acc: 0.5524 - val_f1: 0.4558\n"
     ]
    },
    {
     "data": {
      "text/plain": [
       "<keras.callbacks.History at 0x14a618eb8>"
      ]
     },
     "execution_count": 134,
     "metadata": {},
     "output_type": "execute_result"
    }
   ],
   "source": [
    "#train the model\n",
    "cnn_model_simple.fit(X_train, y_train, batch_size=500, validation_data=(X_test, y_test), epochs=10)"
   ]
  },
  {
   "cell_type": "code",
   "execution_count": 135,
   "metadata": {},
   "outputs": [
    {
     "name": "stdout",
     "output_type": "stream",
     "text": [
      "1479/1479 [==============================] - 0s 214us/step\n",
      "Loss = 1.2010255487002257\n",
      "Test Accuracy = 0.5524002704832343\n",
      "F1 score = 0.45355230540621516\n"
     ]
    }
   ],
   "source": [
    "preds = cnn_model_simple.evaluate(X_test, y_test)\n",
    "print (\"Loss = \" + str(preds[0]))  \n",
    "print (\"Test Accuracy = \" + str(preds[1]))\n",
    "print (\"F1 score = \" + str(preds[2]))"
   ]
  },
  {
   "cell_type": "code",
   "execution_count": 136,
   "metadata": {},
   "outputs": [
    {
     "name": "stdout",
     "output_type": "stream",
     "text": [
      "[[376   1   2   4   0   0  84]\n",
      " [ 23   0   1   7   0   0  12]\n",
      " [ 59   0   7  37   1   0  63]\n",
      " [ 13   2  20 208   0   0  24]\n",
      " [ 10   0   8  16   0   0  12]\n",
      " [ 12   0   1   6   0   0  15]\n",
      " [198   0  12  19   0   0 226]]\n"
     ]
    }
   ],
   "source": [
    "y_pred = cnn_model_simple.predict(X_test)\n",
    "\n",
    "y_pred_classes = np.argmax(y_pred, axis=1) \n",
    "y_test_classes = np.argmax(np.array(y_test).reshape(y_test.shape[0],7), axis=1) \n",
    "cnn_cov2_cm = confusion_matrix(y_test_classes,y_pred_classes)\n",
    "print(cnn_cov2_cm)"
   ]
  },
  {
   "cell_type": "code",
   "execution_count": 137,
   "metadata": {},
   "outputs": [
    {
     "data": {
      "text/plain": [
       "Text(0.5,1,' CNN(2)')"
      ]
     },
     "execution_count": 137,
     "metadata": {},
     "output_type": "execute_result"
    },
    {
     "data": {
      "image/png": "[encoded data removed]",
      "text/plain": [
       "<Figure size 720x432 with 1 Axes>"
      ]
     },
     "metadata": {},
     "output_type": "display_data"
    }
   ],
   "source": [
    "plot_score4each(cnn_cov2_cm)\n",
    "plt.title(\" CNN(2)\", fontsize=20)"
   ]
  },
  {
   "cell_type": "code",
   "execution_count": 138,
   "metadata": {},
   "outputs": [
    {
     "name": "stdout",
     "output_type": "stream",
     "text": [
      "_________________________________________________________________\n",
      "Layer (type)                 Output Shape              Param #   \n",
      "=================================================================\n",
      "conv2d_4 (Conv2D)            (None, 2, 259, 64)        320       \n",
      "_________________________________________________________________\n",
      "batch_normalization_1 (Batch (None, 2, 259, 64)        256       \n",
      "_________________________________________________________________\n",
      "conv2d_5 (Conv2D)            (None, 1, 258, 36)        9252      \n",
      "_________________________________________________________________\n",
      "flatten_2 (Flatten)          (None, 9288)              0         \n",
      "_________________________________________________________________\n",
      "dense_2 (Dense)              (None, 7)                 65023     \n",
      "=================================================================\n",
      "Total params: 74,851\n",
      "Trainable params: 74,723\n",
      "Non-trainable params: 128\n",
      "_________________________________________________________________\n"
     ]
    }
   ],
   "source": [
    "cnn_model_simple.summary()"
   ]
  },
  {
   "cell_type": "markdown",
   "metadata": {},
   "source": [
    "- The above two convolutional neural networks provide similar accuracy and f1 score for the training, validation and test data.\n",
    "\n",
    "- In the cnn_model_CX, the use of max pooling reduces the number of parameters significantly, reducing the possibility of overfitting to some extent."
   ]
  },
  {
   "cell_type": "markdown",
   "metadata": {},
   "source": [
    "## Window size effect in the CNN (time consuming)"
   ]
  },
  {
   "cell_type": "code",
   "execution_count": 110,
   "metadata": {},
   "outputs": [],
   "source": [
    "# set hyperparameters for the segmentation \n",
    "num_feature = 3 \n",
    "step_size   = 260        # frequency is 52 Hz.  \n",
    "segments    = []\n",
    "label       = []"
   ]
  },
  {
   "cell_type": "code",
   "execution_count": 128,
   "metadata": {},
   "outputs": [],
   "source": [
    "scaler_pipeline = Pipeline([\n",
    "                    ('std_scaler',StandardScaler())\n",
    "                    ])\n",
    "    \n",
    "def HAR_API(dfs,window_size):\n",
    "    \n",
    "    # Sample generation process\n",
    "    labels, segments4all_array = preprocess_data(dfs, window_size, step_size, num_feature)\n",
    "    \n",
    "    # encoding the label into one-hot\n",
    "    labels_OneHot = pd.get_dummies(labels)\n",
    "    \n",
    "\n",
    "    # scaling the data\n",
    "    segments_scaled = []\n",
    "    for m in range(0, segments4all_array.shape[0]):\n",
    "        segments_scaled.append(scaler_pipeline.fit_transform(segments4all_array[m]))\n",
    "\n",
    "    segments_array_scaled = np.array(segments_scaled) \n",
    "    \n",
    "    X_train, X_test, y_train, y_test = train_test_split(segments_array_scaled,labels_OneHot, \n",
    "                                                        test_size=0.2, random_state=None)\n",
    "    \n",
    "    X_train = np.expand_dims(X_train, axis=3)\n",
    "    X_test  = np.expand_dims(X_test, axis=3) \n",
    "    \n",
    "    \n",
    "    cnn_model_CX = model_CX(num_feature, window_size) # input parameters determine input X dimension\n",
    "    cnn_model_CX.compile(optimizer='adam', loss='categorical_crossentropy', metrics=['accuracy',f1])\n",
    "    #train the model\n",
    "    cnn_model_CX.fit(X_train, y_train, batch_size=500, validation_data=(X_test, y_test), epochs=10)\n",
    "    \n",
    "    y_pred = cnn_model_CX.predict(X_test)\n",
    "    \n",
    "    preds = cnn_model_CX.evaluate(X_test, y_test)\n",
    "    print (\"Loss = \" + str(preds[0]))  \n",
    "    print (\"Test Accuracy = \" + str(preds[1]))\n",
    "    print (\"F1 score = \" + str(preds[2]))\n",
    "    return preds"
   ]
  },
  {
   "cell_type": "code",
   "execution_count": 129,
   "metadata": {
    "scrolled": true
   },
   "outputs": [
    {
     "name": "stdout",
     "output_type": "stream",
     "text": [
      " Window Size: 260\n",
      "\n",
      "Processing the data of class: 1\n",
      "\n"
     ]
    },
    {
     "data": {
      "application/vnd.jupyter.widget-view+json": {
       "model_id": "d2a01a53cd9c413eb5e7356dec58f4c6",
       "version_major": 2,
       "version_minor": 0
      },
      "text/plain": [
       "IntProgress(value=0, max=608652)"
      ]
     },
     "metadata": {},
     "output_type": "display_data"
    },
    {
     "name": "stdout",
     "output_type": "stream",
     "text": [
      "Processing the data of class: 2\n",
      "\n"
     ]
    },
    {
     "data": {
      "application/vnd.jupyter.widget-view+json": {
       "model_id": "52fd3583600344d2877656e7abef54e5",
       "version_major": 2,
       "version_minor": 0
      },
      "text/plain": [
       "IntProgress(value=0, max=47878)"
      ]
     },
     "metadata": {},
     "output_type": "display_data"
    },
    {
     "name": "stdout",
     "output_type": "stream",
     "text": [
      "Processing the data of class: 3\n",
      "\n"
     ]
    },
    {
     "data": {
      "application/vnd.jupyter.widget-view+json": {
       "model_id": "79f7acb7152c45c09e40a97779352f7f",
       "version_major": 2,
       "version_minor": 0
      },
      "text/plain": [
       "IntProgress(value=0, max=216737)"
      ]
     },
     "metadata": {},
     "output_type": "display_data"
    },
    {
     "name": "stdout",
     "output_type": "stream",
     "text": [
      "Processing the data of class: 4\n",
      "\n"
     ]
    },
    {
     "data": {
      "application/vnd.jupyter.widget-view+json": {
       "model_id": "bddb874ebd5f4dd08107d2fd3338becc",
       "version_major": 2,
       "version_minor": 0
      },
      "text/plain": [
       "IntProgress(value=0, max=357064)"
      ]
     },
     "metadata": {},
     "output_type": "display_data"
    },
    {
     "name": "stdout",
     "output_type": "stream",
     "text": [
      "Processing the data of class: 5\n",
      "\n"
     ]
    },
    {
     "data": {
      "application/vnd.jupyter.widget-view+json": {
       "model_id": "3a4414870f554a0f9f2c76abdb663851",
       "version_major": 2,
       "version_minor": 0
      },
      "text/plain": [
       "IntProgress(value=0, max=51498)"
      ]
     },
     "metadata": {},
     "output_type": "display_data"
    },
    {
     "name": "stdout",
     "output_type": "stream",
     "text": [
      "Processing the data of class: 6\n",
      "\n"
     ]
    },
    {
     "data": {
      "application/vnd.jupyter.widget-view+json": {
       "model_id": "7dbb34d7b3b34c70b2c15644607bae6c",
       "version_major": 2,
       "version_minor": 0
      },
      "text/plain": [
       "IntProgress(value=0, max=47770)"
      ]
     },
     "metadata": {},
     "output_type": "display_data"
    },
    {
     "name": "stdout",
     "output_type": "stream",
     "text": [
      "Processing the data of class: 7\n",
      "\n"
     ]
    },
    {
     "data": {
      "application/vnd.jupyter.widget-view+json": {
       "model_id": "ec888263c9cf48f5b5623c2b582e9504",
       "version_major": 2,
       "version_minor": 0
      },
      "text/plain": [
       "IntProgress(value=0, max=593563)"
      ]
     },
     "metadata": {},
     "output_type": "display_data"
    },
    {
     "name": "stdout",
     "output_type": "stream",
     "text": [
      "Train on 5914 samples, validate on 1479 samples\n",
      "Epoch 1/10\n",
      "5914/5914 [==============================] - 3s 549us/step - loss: 1.7137 - acc: 0.2883 - f1: 0.0000e+00 - val_loss: 1.5471 - val_acc: 0.3489 - val_f1: 0.0000e+00\n",
      "Epoch 2/10\n",
      "5914/5914 [==============================] - 3s 487us/step - loss: 1.5574 - acc: 0.3478 - f1: 6.7311e-04 - val_loss: 1.5094 - val_acc: 0.3732 - val_f1: 0.0027\n",
      "Epoch 3/10\n",
      "5914/5914 [==============================] - 3s 469us/step - loss: 1.5102 - acc: 0.3823 - f1: 0.0342 - val_loss: 1.4576 - val_acc: 0.4057 - val_f1: 0.0496\n",
      "Epoch 4/10\n",
      "5914/5914 [==============================] - 3s 479us/step - loss: 1.4465 - acc: 0.4344 - f1: 0.1132 - val_loss: 1.4067 - val_acc: 0.4111 - val_f1: 0.1757\n",
      "Epoch 5/10\n",
      "5914/5914 [==============================] - 3s 480us/step - loss: 1.3648 - acc: 0.4682 - f1: 0.2181 - val_loss: 1.2984 - val_acc: 0.5037 - val_f1: 0.2865\n",
      "Epoch 6/10\n",
      "5914/5914 [==============================] - 3s 481us/step - loss: 1.2836 - acc: 0.5074 - f1: 0.3160 - val_loss: 1.2523 - val_acc: 0.4990 - val_f1: 0.4027\n",
      "Epoch 7/10\n",
      "5914/5914 [==============================] - 3s 476us/step - loss: 1.2522 - acc: 0.5181 - f1: 0.3660 - val_loss: 1.2309 - val_acc: 0.5335 - val_f1: 0.4191\n",
      "Epoch 8/10\n",
      "5914/5914 [==============================] - 3s 477us/step - loss: 1.2273 - acc: 0.5216 - f1: 0.3901 - val_loss: 1.2128 - val_acc: 0.5172 - val_f1: 0.3873\n",
      "Epoch 9/10\n",
      "5914/5914 [==============================] - 3s 522us/step - loss: 1.2233 - acc: 0.5252 - f1: 0.3582 - val_loss: 1.2159 - val_acc: 0.5172 - val_f1: 0.3283\n",
      "Epoch 10/10\n",
      "5914/5914 [==============================] - 4s 655us/step - loss: 1.2014 - acc: 0.5247 - f1: 0.3642 - val_loss: 1.1990 - val_acc: 0.5402 - val_f1: 0.3475\n",
      "1479/1479 [==============================] - 0s 193us/step\n",
      "Loss = 1.1989877716442312\n",
      "Test Accuracy = 0.5402298851783732\n",
      "F1 score = 0.34487851151467336\n",
      " Window Size: 520\n",
      "\n",
      "Processing the data of class: 1\n",
      "\n"
     ]
    },
    {
     "data": {
      "application/vnd.jupyter.widget-view+json": {
       "model_id": "525abd33320a4b12b7bc4ab4016211db",
       "version_major": 2,
       "version_minor": 0
      },
      "text/plain": [
       "IntProgress(value=0, max=608652)"
      ]
     },
     "metadata": {},
     "output_type": "display_data"
    },
    {
     "name": "stdout",
     "output_type": "stream",
     "text": [
      "Processing the data of class: 2\n",
      "\n"
     ]
    },
    {
     "data": {
      "application/vnd.jupyter.widget-view+json": {
       "model_id": "cb9914e1e2de4ad8803c510291a81f3e",
       "version_major": 2,
       "version_minor": 0
      },
      "text/plain": [
       "IntProgress(value=0, max=47878)"
      ]
     },
     "metadata": {},
     "output_type": "display_data"
    },
    {
     "name": "stdout",
     "output_type": "stream",
     "text": [
      "Processing the data of class: 3\n",
      "\n"
     ]
    },
    {
     "data": {
      "application/vnd.jupyter.widget-view+json": {
       "model_id": "dd512c49c84f4580bcdad3cc8ead03f1",
       "version_major": 2,
       "version_minor": 0
      },
      "text/plain": [
       "IntProgress(value=0, max=216737)"
      ]
     },
     "metadata": {},
     "output_type": "display_data"
    },
    {
     "name": "stdout",
     "output_type": "stream",
     "text": [
      "Processing the data of class: 4\n",
      "\n"
     ]
    },
    {
     "data": {
      "application/vnd.jupyter.widget-view+json": {
       "model_id": "19a3441632344e63ae950924ee38adec",
       "version_major": 2,
       "version_minor": 0
      },
      "text/plain": [
       "IntProgress(value=0, max=357064)"
      ]
     },
     "metadata": {},
     "output_type": "display_data"
    },
    {
     "name": "stdout",
     "output_type": "stream",
     "text": [
      "Processing the data of class: 5\n",
      "\n"
     ]
    },
    {
     "data": {
      "application/vnd.jupyter.widget-view+json": {
       "model_id": "483d14b1c150475292e6cb87ea0929b9",
       "version_major": 2,
       "version_minor": 0
      },
      "text/plain": [
       "IntProgress(value=0, max=51498)"
      ]
     },
     "metadata": {},
     "output_type": "display_data"
    },
    {
     "name": "stdout",
     "output_type": "stream",
     "text": [
      "Processing the data of class: 6\n",
      "\n"
     ]
    },
    {
     "data": {
      "application/vnd.jupyter.widget-view+json": {
       "model_id": "6c8c6ad2a30b4e2dbaaf7dc5862dd6e6",
       "version_major": 2,
       "version_minor": 0
      },
      "text/plain": [
       "IntProgress(value=0, max=47770)"
      ]
     },
     "metadata": {},
     "output_type": "display_data"
    },
    {
     "name": "stdout",
     "output_type": "stream",
     "text": [
      "Processing the data of class: 7\n",
      "\n"
     ]
    },
    {
     "data": {
      "application/vnd.jupyter.widget-view+json": {
       "model_id": "bb91513983da4de6900e662019f35604",
       "version_major": 2,
       "version_minor": 0
      },
      "text/plain": [
       "IntProgress(value=0, max=593563)"
      ]
     },
     "metadata": {},
     "output_type": "display_data"
    },
    {
     "name": "stdout",
     "output_type": "stream",
     "text": [
      "Train on 5908 samples, validate on 1478 samples\n",
      "Epoch 1/10\n",
      "5908/5908 [==============================] - 6s 1ms/step - loss: 1.6760 - acc: 0.3016 - f1: 0.0000e+00 - val_loss: 1.5975 - val_acc: 0.3214 - val_f1: 0.0000e+00\n",
      "Epoch 2/10\n",
      "5908/5908 [==============================] - 6s 972us/step - loss: 1.5366 - acc: 0.3685 - f1: 0.0110 - val_loss: 1.5356 - val_acc: 0.3586 - val_f1: 0.0474\n",
      "Epoch 3/10\n",
      "5908/5908 [==============================] - 6s 954us/step - loss: 1.4669 - acc: 0.3966 - f1: 0.1066 - val_loss: 1.4541 - val_acc: 0.3775 - val_f1: 0.0711\n",
      "Epoch 4/10\n",
      "5908/5908 [==============================] - 6s 948us/step - loss: 1.3583 - acc: 0.4687 - f1: 0.2092 - val_loss: 1.3034 - val_acc: 0.5257 - val_f1: 0.2359\n",
      "Epoch 5/10\n",
      "5908/5908 [==============================] - 6s 961us/step - loss: 1.2572 - acc: 0.5174 - f1: 0.3461 - val_loss: 1.2523 - val_acc: 0.5217 - val_f1: 0.3094\n",
      "Epoch 6/10\n",
      "5908/5908 [==============================] - 6s 962us/step - loss: 1.2037 - acc: 0.5383 - f1: 0.3933 - val_loss: 1.2025 - val_acc: 0.5196 - val_f1: 0.3304\n",
      "Epoch 7/10\n",
      "5908/5908 [==============================] - 6s 934us/step - loss: 1.1712 - acc: 0.5399 - f1: 0.4105 - val_loss: 1.1916 - val_acc: 0.5149 - val_f1: 0.4345\n",
      "Epoch 8/10\n",
      "5908/5908 [==============================] - 6s 950us/step - loss: 1.1638 - acc: 0.5432 - f1: 0.4171 - val_loss: 1.2057 - val_acc: 0.5183 - val_f1: 0.3929\n",
      "Epoch 9/10\n",
      "5908/5908 [==============================] - 6s 958us/step - loss: 1.1575 - acc: 0.5538 - f1: 0.4254 - val_loss: 1.1682 - val_acc: 0.5724 - val_f1: 0.3623\n",
      "Epoch 10/10\n",
      "5908/5908 [==============================] - 6s 982us/step - loss: 1.1408 - acc: 0.5579 - f1: 0.4183 - val_loss: 1.1435 - val_acc: 0.5426 - val_f1: 0.4072\n",
      "1478/1478 [==============================] - 0s 308us/step\n",
      "Loss = 1.1435353367189915\n",
      "Test Accuracy = 0.5426251691676606\n",
      "F1 score = 0.40372104025338756\n",
      " Window Size: 780\n",
      "\n",
      "Processing the data of class: 1\n",
      "\n"
     ]
    },
    {
     "data": {
      "application/vnd.jupyter.widget-view+json": {
       "model_id": "e75a0763992b4a9d9062a710f84d3999",
       "version_major": 2,
       "version_minor": 0
      },
      "text/plain": [
       "IntProgress(value=0, max=608652)"
      ]
     },
     "metadata": {},
     "output_type": "display_data"
    },
    {
     "name": "stdout",
     "output_type": "stream",
     "text": [
      "Processing the data of class: 2\n",
      "\n"
     ]
    },
    {
     "data": {
      "application/vnd.jupyter.widget-view+json": {
       "model_id": "1a58f5d5456c4729b11e27ddd00e0b34",
       "version_major": 2,
       "version_minor": 0
      },
      "text/plain": [
       "IntProgress(value=0, max=47878)"
      ]
     },
     "metadata": {},
     "output_type": "display_data"
    },
    {
     "name": "stdout",
     "output_type": "stream",
     "text": [
      "Processing the data of class: 3\n",
      "\n"
     ]
    },
    {
     "data": {
      "application/vnd.jupyter.widget-view+json": {
       "model_id": "36c7095d165340e985c37942fc0c7a16",
       "version_major": 2,
       "version_minor": 0
      },
      "text/plain": [
       "IntProgress(value=0, max=216737)"
      ]
     },
     "metadata": {},
     "output_type": "display_data"
    },
    {
     "name": "stdout",
     "output_type": "stream",
     "text": [
      "Processing the data of class: 4\n",
      "\n"
     ]
    },
    {
     "data": {
      "application/vnd.jupyter.widget-view+json": {
       "model_id": "5eadf28365c24d3a99a4d4d3bea11d12",
       "version_major": 2,
       "version_minor": 0
      },
      "text/plain": [
       "IntProgress(value=0, max=357064)"
      ]
     },
     "metadata": {},
     "output_type": "display_data"
    },
    {
     "name": "stdout",
     "output_type": "stream",
     "text": [
      "Processing the data of class: 5\n",
      "\n"
     ]
    },
    {
     "data": {
      "application/vnd.jupyter.widget-view+json": {
       "model_id": "beee9b18e5754c6fae10a86de187087f",
       "version_major": 2,
       "version_minor": 0
      },
      "text/plain": [
       "IntProgress(value=0, max=51498)"
      ]
     },
     "metadata": {},
     "output_type": "display_data"
    },
    {
     "name": "stdout",
     "output_type": "stream",
     "text": [
      "Processing the data of class: 6\n",
      "\n"
     ]
    },
    {
     "data": {
      "application/vnd.jupyter.widget-view+json": {
       "model_id": "47841a79c8d8442ab48ebfc0f2c0f99f",
       "version_major": 2,
       "version_minor": 0
      },
      "text/plain": [
       "IntProgress(value=0, max=47770)"
      ]
     },
     "metadata": {},
     "output_type": "display_data"
    },
    {
     "name": "stdout",
     "output_type": "stream",
     "text": [
      "Processing the data of class: 7\n",
      "\n"
     ]
    },
    {
     "data": {
      "application/vnd.jupyter.widget-view+json": {
       "model_id": "803819727091497c865e3bf4bd764c4b",
       "version_major": 2,
       "version_minor": 0
      },
      "text/plain": [
       "IntProgress(value=0, max=593563)"
      ]
     },
     "metadata": {},
     "output_type": "display_data"
    },
    {
     "name": "stdout",
     "output_type": "stream",
     "text": [
      "Train on 5903 samples, validate on 1476 samples\n",
      "Epoch 1/10\n",
      "5903/5903 [==============================] - 9s 2ms/step - loss: 1.6600 - acc: 0.3227 - f1: 0.0000e+00 - val_loss: 1.5758 - val_acc: 0.3747 - val_f1: 0.0161\n",
      "Epoch 2/10\n",
      "5903/5903 [==============================] - 9s 1ms/step - loss: 1.5152 - acc: 0.3798 - f1: 0.0446 - val_loss: 1.4788 - val_acc: 0.3943 - val_f1: 0.0486\n",
      "Epoch 3/10\n",
      "5903/5903 [==============================] - 9s 1ms/step - loss: 1.3878 - acc: 0.4650 - f1: 0.1353 - val_loss: 1.3239 - val_acc: 0.5163 - val_f1: 0.2236\n",
      "Epoch 4/10\n",
      "5903/5903 [==============================] - 8s 1ms/step - loss: 1.2365 - acc: 0.5360 - f1: 0.3221 - val_loss: 1.2357 - val_acc: 0.5054 - val_f1: 0.3954\n",
      "Epoch 5/10\n",
      "5903/5903 [==============================] - 8s 1ms/step - loss: 1.1997 - acc: 0.5329 - f1: 0.3930 - val_loss: 1.2043 - val_acc: 0.5264 - val_f1: 0.4113\n",
      "Epoch 6/10\n",
      "5903/5903 [==============================] - 8s 1ms/step - loss: 1.1840 - acc: 0.5372 - f1: 0.3924 - val_loss: 1.1751 - val_acc: 0.5508 - val_f1: 0.4095\n",
      "Epoch 7/10\n",
      "5903/5903 [==============================] - 8s 1ms/step - loss: 1.1681 - acc: 0.5431 - f1: 0.4181 - val_loss: 1.1657 - val_acc: 0.5454 - val_f1: 0.4010\n",
      "Epoch 8/10\n",
      "5903/5903 [==============================] - 8s 1ms/step - loss: 1.1566 - acc: 0.5429 - f1: 0.4076 - val_loss: 1.1632 - val_acc: 0.5271 - val_f1: 0.4675\n",
      "Epoch 9/10\n",
      "5903/5903 [==============================] - 8s 1ms/step - loss: 1.1437 - acc: 0.5497 - f1: 0.4302 - val_loss: 1.1443 - val_acc: 0.5373 - val_f1: 0.3528\n",
      "Epoch 10/10\n",
      "5903/5903 [==============================] - 8s 1ms/step - loss: 1.1531 - acc: 0.5531 - f1: 0.4449 - val_loss: 1.1593 - val_acc: 0.5407 - val_f1: 0.3700\n",
      "1476/1476 [==============================] - 1s 433us/step\n",
      "Loss = 1.1592581776099475\n",
      "Test Accuracy = 0.540650406504065\n",
      "F1 score = 0.3667979712085672\n",
      " Window Size: 1040\n",
      "\n",
      "Processing the data of class: 1\n",
      "\n"
     ]
    },
    {
     "data": {
      "application/vnd.jupyter.widget-view+json": {
       "model_id": "2d1b11a4a1c947c6b79fd25d7f44ca17",
       "version_major": 2,
       "version_minor": 0
      },
      "text/plain": [
       "IntProgress(value=0, max=608652)"
      ]
     },
     "metadata": {},
     "output_type": "display_data"
    },
    {
     "name": "stdout",
     "output_type": "stream",
     "text": [
      "Processing the data of class: 2\n",
      "\n"
     ]
    },
    {
     "data": {
      "application/vnd.jupyter.widget-view+json": {
       "model_id": "f707c7b2371c44ffa66b2bee6769aa45",
       "version_major": 2,
       "version_minor": 0
      },
      "text/plain": [
       "IntProgress(value=0, max=47878)"
      ]
     },
     "metadata": {},
     "output_type": "display_data"
    },
    {
     "name": "stdout",
     "output_type": "stream",
     "text": [
      "Processing the data of class: 3\n",
      "\n"
     ]
    },
    {
     "data": {
      "application/vnd.jupyter.widget-view+json": {
       "model_id": "f89ed64d135f40299cb3f46e545f0f46",
       "version_major": 2,
       "version_minor": 0
      },
      "text/plain": [
       "IntProgress(value=0, max=216737)"
      ]
     },
     "metadata": {},
     "output_type": "display_data"
    },
    {
     "name": "stdout",
     "output_type": "stream",
     "text": [
      "Processing the data of class: 4\n",
      "\n"
     ]
    },
    {
     "data": {
      "application/vnd.jupyter.widget-view+json": {
       "model_id": "0f4149f1daec4fabb7dc8d35951f09fa",
       "version_major": 2,
       "version_minor": 0
      },
      "text/plain": [
       "IntProgress(value=0, max=357064)"
      ]
     },
     "metadata": {},
     "output_type": "display_data"
    },
    {
     "name": "stdout",
     "output_type": "stream",
     "text": [
      "Processing the data of class: 5\n",
      "\n"
     ]
    },
    {
     "data": {
      "application/vnd.jupyter.widget-view+json": {
       "model_id": "fa029f62bdcc416a9dd4cf34c03f0437",
       "version_major": 2,
       "version_minor": 0
      },
      "text/plain": [
       "IntProgress(value=0, max=51498)"
      ]
     },
     "metadata": {},
     "output_type": "display_data"
    },
    {
     "name": "stdout",
     "output_type": "stream",
     "text": [
      "Processing the data of class: 6\n",
      "\n"
     ]
    },
    {
     "data": {
      "application/vnd.jupyter.widget-view+json": {
       "model_id": "46143589108e46849ddf8be95166cb43",
       "version_major": 2,
       "version_minor": 0
      },
      "text/plain": [
       "IntProgress(value=0, max=47770)"
      ]
     },
     "metadata": {},
     "output_type": "display_data"
    },
    {
     "name": "stdout",
     "output_type": "stream",
     "text": [
      "Processing the data of class: 7\n",
      "\n"
     ]
    },
    {
     "data": {
      "application/vnd.jupyter.widget-view+json": {
       "model_id": "66abd8c4d97c4b05bfb313d0c8ec2aec",
       "version_major": 2,
       "version_minor": 0
      },
      "text/plain": [
       "IntProgress(value=0, max=593563)"
      ]
     },
     "metadata": {},
     "output_type": "display_data"
    },
    {
     "name": "stdout",
     "output_type": "stream",
     "text": [
      "Train on 5897 samples, validate on 1475 samples\n",
      "Epoch 1/10\n",
      "5897/5897 [==============================] - 12s 2ms/step - loss: 1.6634 - acc: 0.3198 - f1: 0.0000e+00 - val_loss: 1.5548 - val_acc: 0.3729 - val_f1: 0.0000e+00\n",
      "Epoch 2/10\n",
      "5897/5897 [==============================] - 12s 2ms/step - loss: 1.4948 - acc: 0.3871 - f1: 0.0641 - val_loss: 1.4632 - val_acc: 0.3844 - val_f1: 0.1593\n",
      "Epoch 3/10\n",
      "5897/5897 [==============================] - 11s 2ms/step - loss: 1.3732 - acc: 0.4621 - f1: 0.1946 - val_loss: 1.2658 - val_acc: 0.5397 - val_f1: 0.3173\n",
      "Epoch 4/10\n",
      "5897/5897 [==============================] - 11s 2ms/step - loss: 1.2414 - acc: 0.5174 - f1: 0.3429 - val_loss: 1.1810 - val_acc: 0.5831 - val_f1: 0.4525\n",
      "Epoch 5/10\n",
      "5897/5897 [==============================] - 11s 2ms/step - loss: 1.1853 - acc: 0.5282 - f1: 0.4178 - val_loss: 1.1514 - val_acc: 0.5519 - val_f1: 0.4084\n",
      "Epoch 6/10\n",
      "5897/5897 [==============================] - 11s 2ms/step - loss: 1.1872 - acc: 0.5284 - f1: 0.4148 - val_loss: 1.1364 - val_acc: 0.5661 - val_f1: 0.4244\n",
      "Epoch 7/10\n",
      "5897/5897 [==============================] - 11s 2ms/step - loss: 1.1542 - acc: 0.5362 - f1: 0.4271 - val_loss: 1.1275 - val_acc: 0.5831 - val_f1: 0.4332\n",
      "Epoch 8/10\n",
      "5897/5897 [==============================] - 11s 2ms/step - loss: 1.1291 - acc: 0.5403 - f1: 0.4300 - val_loss: 1.1001 - val_acc: 0.5559 - val_f1: 0.4668\n",
      "Epoch 9/10\n",
      "5897/5897 [==============================] - 11s 2ms/step - loss: 1.1126 - acc: 0.5465 - f1: 0.4430 - val_loss: 1.0864 - val_acc: 0.6136 - val_f1: 0.4746\n",
      "Epoch 10/10\n",
      "5897/5897 [==============================] - 11s 2ms/step - loss: 1.0888 - acc: 0.5644 - f1: 0.4307 - val_loss: 1.0669 - val_acc: 0.6027 - val_f1: 0.5458\n",
      "1475/1475 [==============================] - 1s 586us/step\n",
      "Loss = 1.0668649571426845\n",
      "Test Accuracy = 0.6027118644067797\n",
      "F1 score = 0.5436670594296213\n",
      " Window Size: 1300\n",
      "\n",
      "Processing the data of class: 1\n",
      "\n"
     ]
    },
    {
     "data": {
      "application/vnd.jupyter.widget-view+json": {
       "model_id": "2da9145d90cf4dad98b281c259c9471d",
       "version_major": 2,
       "version_minor": 0
      },
      "text/plain": [
       "IntProgress(value=0, max=608652)"
      ]
     },
     "metadata": {},
     "output_type": "display_data"
    },
    {
     "name": "stdout",
     "output_type": "stream",
     "text": [
      "Processing the data of class: 2\n",
      "\n"
     ]
    },
    {
     "data": {
      "application/vnd.jupyter.widget-view+json": {
       "model_id": "d42e9f46efdb4d0489567cc1e07316ac",
       "version_major": 2,
       "version_minor": 0
      },
      "text/plain": [
       "IntProgress(value=0, max=47878)"
      ]
     },
     "metadata": {},
     "output_type": "display_data"
    },
    {
     "name": "stdout",
     "output_type": "stream",
     "text": [
      "Processing the data of class: 3\n",
      "\n"
     ]
    },
    {
     "data": {
      "application/vnd.jupyter.widget-view+json": {
       "model_id": "d91f196467434593b61b67f3a9a3bb7d",
       "version_major": 2,
       "version_minor": 0
      },
      "text/plain": [
       "IntProgress(value=0, max=216737)"
      ]
     },
     "metadata": {},
     "output_type": "display_data"
    },
    {
     "name": "stdout",
     "output_type": "stream",
     "text": [
      "Processing the data of class: 4\n",
      "\n"
     ]
    },
    {
     "data": {
      "application/vnd.jupyter.widget-view+json": {
       "model_id": "49e8f41204c14f279cfb8871827a405b",
       "version_major": 2,
       "version_minor": 0
      },
      "text/plain": [
       "IntProgress(value=0, max=357064)"
      ]
     },
     "metadata": {},
     "output_type": "display_data"
    },
    {
     "name": "stdout",
     "output_type": "stream",
     "text": [
      "Processing the data of class: 5\n",
      "\n"
     ]
    },
    {
     "data": {
      "application/vnd.jupyter.widget-view+json": {
       "model_id": "c5db60f8edd14acabc30a3295960e8fd",
       "version_major": 2,
       "version_minor": 0
      },
      "text/plain": [
       "IntProgress(value=0, max=51498)"
      ]
     },
     "metadata": {},
     "output_type": "display_data"
    },
    {
     "name": "stdout",
     "output_type": "stream",
     "text": [
      "Processing the data of class: 6\n",
      "\n"
     ]
    },
    {
     "data": {
      "application/vnd.jupyter.widget-view+json": {
       "model_id": "b5eb8f3863cd49009a2257ad12c22abf",
       "version_major": 2,
       "version_minor": 0
      },
      "text/plain": [
       "IntProgress(value=0, max=47770)"
      ]
     },
     "metadata": {},
     "output_type": "display_data"
    },
    {
     "name": "stdout",
     "output_type": "stream",
     "text": [
      "Processing the data of class: 7\n",
      "\n"
     ]
    },
    {
     "data": {
      "application/vnd.jupyter.widget-view+json": {
       "model_id": "6939b955fd09435d8c34f96909d7bdc7",
       "version_major": 2,
       "version_minor": 0
      },
      "text/plain": [
       "IntProgress(value=0, max=593563)"
      ]
     },
     "metadata": {},
     "output_type": "display_data"
    },
    {
     "name": "stdout",
     "output_type": "stream",
     "text": [
      "Train on 5892 samples, validate on 1473 samples\n",
      "Epoch 1/10\n",
      "5892/5892 [==============================] - 807s 137ms/step - loss: 1.6206 - acc: 0.3364 - f1: 0.0000e+00 - val_loss: 1.5097 - val_acc: 0.3734 - val_f1: 0.0000e+00\n",
      "Epoch 2/10\n",
      "5892/5892 [==============================] - 32s 5ms/step - loss: 1.4187 - acc: 0.4728 - f1: 0.0932 - val_loss: 1.2761 - val_acc: 0.4983 - val_f1: 0.3488\n",
      "Epoch 3/10\n",
      "5892/5892 [==============================] - 166s 28ms/step - loss: 1.2313 - acc: 0.5226 - f1: 0.3829 - val_loss: 1.1939 - val_acc: 0.5492 - val_f1: 0.3760\n",
      "Epoch 4/10\n",
      "5892/5892 [==============================] - 37s 6ms/step - loss: 1.1823 - acc: 0.5266 - f1: 0.4006 - val_loss: 1.1447 - val_acc: 0.5438 - val_f1: 0.3723\n",
      "Epoch 5/10\n",
      "5892/5892 [==============================] - 35s 6ms/step - loss: 1.1565 - acc: 0.5317 - f1: 0.4037 - val_loss: 1.1077 - val_acc: 0.5411 - val_f1: 0.4139\n",
      "Epoch 6/10\n",
      "5892/5892 [==============================] - 29s 5ms/step - loss: 1.1261 - acc: 0.5485 - f1: 0.4359 - val_loss: 1.1031 - val_acc: 0.5472 - val_f1: 0.4048\n",
      "Epoch 7/10\n",
      "5892/5892 [==============================] - 30s 5ms/step - loss: 1.1074 - acc: 0.5604 - f1: 0.4467 - val_loss: 1.0872 - val_acc: 0.5777 - val_f1: 0.3990\n",
      "Epoch 8/10\n",
      "5892/5892 [==============================] - 31s 5ms/step - loss: 1.1003 - acc: 0.5684 - f1: 0.4426 - val_loss: 1.0924 - val_acc: 0.5777 - val_f1: 0.4087\n",
      "Epoch 9/10\n",
      "5892/5892 [==============================] - 29s 5ms/step - loss: 1.0937 - acc: 0.5636 - f1: 0.4608 - val_loss: 1.0590 - val_acc: 0.5689 - val_f1: 0.4931\n",
      "Epoch 10/10\n",
      "5892/5892 [==============================] - 30s 5ms/step - loss: 1.0632 - acc: 0.5730 - f1: 0.4720 - val_loss: 1.0596 - val_acc: 0.5703 - val_f1: 0.4636\n",
      "1473/1473 [==============================] - 2s 2ms/step\n",
      "Loss = 1.0595670661712615\n",
      "Test Accuracy = 0.570264765784114\n",
      "F1 score = 0.4609481765555429\n",
      " Window Size: 1560\n",
      "\n",
      "Processing the data of class: 1\n",
      "\n"
     ]
    },
    {
     "data": {
      "application/vnd.jupyter.widget-view+json": {
       "model_id": "496372347bf44eb5bc66a143e764f900",
       "version_major": 2,
       "version_minor": 0
      },
      "text/plain": [
       "IntProgress(value=0, max=608652)"
      ]
     },
     "metadata": {},
     "output_type": "display_data"
    },
    {
     "name": "stdout",
     "output_type": "stream",
     "text": [
      "Processing the data of class: 2\n",
      "\n"
     ]
    },
    {
     "data": {
      "application/vnd.jupyter.widget-view+json": {
       "model_id": "7415103d357b44b5bdd9cbb0c744d224",
       "version_major": 2,
       "version_minor": 0
      },
      "text/plain": [
       "IntProgress(value=0, max=47878)"
      ]
     },
     "metadata": {},
     "output_type": "display_data"
    },
    {
     "name": "stdout",
     "output_type": "stream",
     "text": [
      "Processing the data of class: 3\n",
      "\n"
     ]
    },
    {
     "data": {
      "application/vnd.jupyter.widget-view+json": {
       "model_id": "ad675d8b0d1b41d1b2e062c4144cc1cf",
       "version_major": 2,
       "version_minor": 0
      },
      "text/plain": [
       "IntProgress(value=0, max=216737)"
      ]
     },
     "metadata": {},
     "output_type": "display_data"
    },
    {
     "name": "stdout",
     "output_type": "stream",
     "text": [
      "Processing the data of class: 4\n",
      "\n"
     ]
    },
    {
     "data": {
      "application/vnd.jupyter.widget-view+json": {
       "model_id": "7048f64640ed497683afc0d6de552972",
       "version_major": 2,
       "version_minor": 0
      },
      "text/plain": [
       "IntProgress(value=0, max=357064)"
      ]
     },
     "metadata": {},
     "output_type": "display_data"
    },
    {
     "name": "stdout",
     "output_type": "stream",
     "text": [
      "Processing the data of class: 5\n",
      "\n"
     ]
    },
    {
     "data": {
      "application/vnd.jupyter.widget-view+json": {
       "model_id": "94b792e8e6904b5ca0c0241d3133e590",
       "version_major": 2,
       "version_minor": 0
      },
      "text/plain": [
       "IntProgress(value=0, max=51498)"
      ]
     },
     "metadata": {},
     "output_type": "display_data"
    },
    {
     "name": "stdout",
     "output_type": "stream",
     "text": [
      "Processing the data of class: 6\n",
      "\n"
     ]
    },
    {
     "data": {
      "application/vnd.jupyter.widget-view+json": {
       "model_id": "ea7ac5976fef4e4690fd86ed9856b5b1",
       "version_major": 2,
       "version_minor": 0
      },
      "text/plain": [
       "IntProgress(value=0, max=47770)"
      ]
     },
     "metadata": {},
     "output_type": "display_data"
    },
    {
     "name": "stdout",
     "output_type": "stream",
     "text": [
      "Processing the data of class: 7\n",
      "\n"
     ]
    },
    {
     "data": {
      "application/vnd.jupyter.widget-view+json": {
       "model_id": "fa685b46d1ce4fe18459ae8c9e6a1f9c",
       "version_major": 2,
       "version_minor": 0
      },
      "text/plain": [
       "IntProgress(value=0, max=593563)"
      ]
     },
     "metadata": {},
     "output_type": "display_data"
    },
    {
     "name": "stdout",
     "output_type": "stream",
     "text": [
      "Train on 5886 samples, validate on 1472 samples\n",
      "Epoch 1/10\n",
      "5886/5886 [==============================] - 34s 6ms/step - loss: 1.6233 - acc: 0.3136 - f1: 0.0000e+00 - val_loss: 1.4613 - val_acc: 0.3899 - val_f1: 0.0000e+00\n",
      "Epoch 2/10\n",
      "5886/5886 [==============================] - 36s 6ms/step - loss: 1.4398 - acc: 0.4648 - f1: 0.0657 - val_loss: 1.2535 - val_acc: 0.5577 - val_f1: 0.3253\n",
      "Epoch 3/10\n",
      "5886/5886 [==============================] - 37s 6ms/step - loss: 1.2479 - acc: 0.5194 - f1: 0.3709 - val_loss: 1.1306 - val_acc: 0.5251 - val_f1: 0.4328\n",
      "Epoch 4/10\n",
      "5886/5886 [==============================] - 36s 6ms/step - loss: 1.1805 - acc: 0.5282 - f1: 0.4246 - val_loss: 1.1061 - val_acc: 0.5571 - val_f1: 0.4654\n",
      "Epoch 5/10\n",
      "5886/5886 [==============================] - 37s 6ms/step - loss: 1.1366 - acc: 0.5408 - f1: 0.4496 - val_loss: 1.0734 - val_acc: 0.5380 - val_f1: 0.4730\n",
      "Epoch 6/10\n",
      "5886/5886 [==============================] - 37s 6ms/step - loss: 1.1125 - acc: 0.5481 - f1: 0.4591 - val_loss: 1.0613 - val_acc: 0.5842 - val_f1: 0.4612\n",
      "Epoch 7/10\n",
      "5886/5886 [==============================] - 37s 6ms/step - loss: 1.0995 - acc: 0.5608 - f1: 0.4439 - val_loss: 1.0655 - val_acc: 0.5469 - val_f1: 0.4862\n",
      "Epoch 8/10\n",
      "5886/5886 [==============================] - 37s 6ms/step - loss: 1.0769 - acc: 0.5651 - f1: 0.4809 - val_loss: 1.0475 - val_acc: 0.5720 - val_f1: 0.4907\n",
      "Epoch 9/10\n",
      "5886/5886 [==============================] - 37s 6ms/step - loss: 1.0691 - acc: 0.5790 - f1: 0.4863 - val_loss: 1.0369 - val_acc: 0.5897 - val_f1: 0.4839\n",
      "Epoch 10/10\n",
      "5886/5886 [==============================] - 37s 6ms/step - loss: 1.0532 - acc: 0.5804 - f1: 0.4994 - val_loss: 1.0252 - val_acc: 0.5924 - val_f1: 0.4835\n",
      "1472/1472 [==============================] - 3s 2ms/step\n",
      "Loss = 1.0252240118773088\n",
      "Test Accuracy = 0.592391304347826\n",
      "F1 score = 0.48035246522530267\n",
      " Window Size: 1820\n",
      "\n",
      "Processing the data of class: 1\n",
      "\n"
     ]
    },
    {
     "data": {
      "application/vnd.jupyter.widget-view+json": {
       "model_id": "30b3fac0d7384a8aaa7443ea7388391e",
       "version_major": 2,
       "version_minor": 0
      },
      "text/plain": [
       "IntProgress(value=0, max=608652)"
      ]
     },
     "metadata": {},
     "output_type": "display_data"
    },
    {
     "name": "stdout",
     "output_type": "stream",
     "text": [
      "Processing the data of class: 2\n",
      "\n"
     ]
    },
    {
     "data": {
      "application/vnd.jupyter.widget-view+json": {
       "model_id": "e35125307aa346bfb03bb741a44fd6c1",
       "version_major": 2,
       "version_minor": 0
      },
      "text/plain": [
       "IntProgress(value=0, max=47878)"
      ]
     },
     "metadata": {},
     "output_type": "display_data"
    },
    {
     "name": "stdout",
     "output_type": "stream",
     "text": [
      "Processing the data of class: 3\n",
      "\n"
     ]
    },
    {
     "data": {
      "application/vnd.jupyter.widget-view+json": {
       "model_id": "bb5cc6b497a444218d198f138bb93e94",
       "version_major": 2,
       "version_minor": 0
      },
      "text/plain": [
       "IntProgress(value=0, max=216737)"
      ]
     },
     "metadata": {},
     "output_type": "display_data"
    },
    {
     "name": "stdout",
     "output_type": "stream",
     "text": [
      "Processing the data of class: 4\n",
      "\n"
     ]
    },
    {
     "data": {
      "application/vnd.jupyter.widget-view+json": {
       "model_id": "e25ee21da6654699ab553c4063b5af9f",
       "version_major": 2,
       "version_minor": 0
      },
      "text/plain": [
       "IntProgress(value=0, max=357064)"
      ]
     },
     "metadata": {},
     "output_type": "display_data"
    },
    {
     "name": "stdout",
     "output_type": "stream",
     "text": [
      "Processing the data of class: 5\n",
      "\n"
     ]
    },
    {
     "data": {
      "application/vnd.jupyter.widget-view+json": {
       "model_id": "c6158808561544fc9a0d580c93c61ddd",
       "version_major": 2,
       "version_minor": 0
      },
      "text/plain": [
       "IntProgress(value=0, max=51498)"
      ]
     },
     "metadata": {},
     "output_type": "display_data"
    },
    {
     "name": "stdout",
     "output_type": "stream",
     "text": [
      "Processing the data of class: 6\n",
      "\n"
     ]
    },
    {
     "data": {
      "application/vnd.jupyter.widget-view+json": {
       "model_id": "1d32557ad25c4ea197ab44519dcefb94",
       "version_major": 2,
       "version_minor": 0
      },
      "text/plain": [
       "IntProgress(value=0, max=47770)"
      ]
     },
     "metadata": {},
     "output_type": "display_data"
    },
    {
     "name": "stdout",
     "output_type": "stream",
     "text": [
      "Processing the data of class: 7\n",
      "\n"
     ]
    },
    {
     "data": {
      "application/vnd.jupyter.widget-view+json": {
       "model_id": "12dc177750f149f18f0af5d6a4fdaef0",
       "version_major": 2,
       "version_minor": 0
      },
      "text/plain": [
       "IntProgress(value=0, max=593563)"
      ]
     },
     "metadata": {},
     "output_type": "display_data"
    },
    {
     "name": "stdout",
     "output_type": "stream",
     "text": [
      "Train on 5880 samples, validate on 1471 samples\n",
      "Epoch 1/10\n",
      "5880/5880 [==============================] - 40s 7ms/step - loss: 1.6231 - acc: 0.3143 - f1: 0.0044 - val_loss: 1.5209 - val_acc: 0.3249 - val_f1: 0.0425\n",
      "Epoch 2/10\n",
      "5880/5880 [==============================] - 43s 7ms/step - loss: 1.4271 - acc: 0.4670 - f1: 0.0813 - val_loss: 1.3287 - val_acc: 0.5044 - val_f1: 0.1371\n",
      "Epoch 3/10\n",
      "5880/5880 [==============================] - 43s 7ms/step - loss: 1.2378 - acc: 0.5298 - f1: 0.3281 - val_loss: 1.1860 - val_acc: 0.5167 - val_f1: 0.4091\n",
      "Epoch 4/10\n",
      "5880/5880 [==============================] - 43s 7ms/step - loss: 1.1537 - acc: 0.5293 - f1: 0.4356 - val_loss: 1.1518 - val_acc: 0.5330 - val_f1: 0.4586\n",
      "Epoch 5/10\n",
      "5880/5880 [==============================] - 43s 7ms/step - loss: 1.1104 - acc: 0.5381 - f1: 0.4663 - val_loss: 1.1125 - val_acc: 0.5248 - val_f1: 0.5034\n",
      "Epoch 6/10\n",
      "5880/5880 [==============================] - 43s 7ms/step - loss: 1.0878 - acc: 0.5570 - f1: 0.4676 - val_loss: 1.0865 - val_acc: 0.5846 - val_f1: 0.4803\n",
      "Epoch 7/10\n",
      "5880/5880 [==============================] - 43s 7ms/step - loss: 1.0710 - acc: 0.5694 - f1: 0.4747 - val_loss: 1.0997 - val_acc: 0.5615 - val_f1: 0.4708\n",
      "Epoch 8/10\n",
      "5880/5880 [==============================] - 43s 7ms/step - loss: 1.0653 - acc: 0.5645 - f1: 0.4847 - val_loss: 1.0723 - val_acc: 0.5738 - val_f1: 0.4605\n",
      "Epoch 9/10\n",
      "5880/5880 [==============================] - 42s 7ms/step - loss: 1.0685 - acc: 0.5577 - f1: 0.4768 - val_loss: 1.0921 - val_acc: 0.5568 - val_f1: 0.4866\n",
      "Epoch 10/10\n",
      "5880/5880 [==============================] - 43s 7ms/step - loss: 1.0543 - acc: 0.5631 - f1: 0.4866 - val_loss: 1.0516 - val_acc: 0.5622 - val_f1: 0.5243\n",
      "1471/1471 [==============================] - 3s 2ms/step\n",
      "Loss = 1.0516272151170338\n",
      "Test Accuracy = 0.5622025835603213\n",
      "F1 score = 0.5215131883147944\n",
      " Window Size: 2080\n",
      "\n",
      "Processing the data of class: 1\n",
      "\n"
     ]
    },
    {
     "data": {
      "application/vnd.jupyter.widget-view+json": {
       "model_id": "0fd34fa2543c42de947f883f1003edfb",
       "version_major": 2,
       "version_minor": 0
      },
      "text/plain": [
       "IntProgress(value=0, max=608652)"
      ]
     },
     "metadata": {},
     "output_type": "display_data"
    },
    {
     "name": "stdout",
     "output_type": "stream",
     "text": [
      "Processing the data of class: 2\n",
      "\n"
     ]
    },
    {
     "data": {
      "application/vnd.jupyter.widget-view+json": {
       "model_id": "5f2012f549e1404e97904d1e564deb28",
       "version_major": 2,
       "version_minor": 0
      },
      "text/plain": [
       "IntProgress(value=0, max=47878)"
      ]
     },
     "metadata": {},
     "output_type": "display_data"
    },
    {
     "name": "stdout",
     "output_type": "stream",
     "text": [
      "Processing the data of class: 3\n",
      "\n"
     ]
    },
    {
     "data": {
      "application/vnd.jupyter.widget-view+json": {
       "model_id": "d8b9f3c203884a72837032f827c25295",
       "version_major": 2,
       "version_minor": 0
      },
      "text/plain": [
       "IntProgress(value=0, max=216737)"
      ]
     },
     "metadata": {},
     "output_type": "display_data"
    },
    {
     "name": "stdout",
     "output_type": "stream",
     "text": [
      "Processing the data of class: 4\n",
      "\n"
     ]
    },
    {
     "data": {
      "application/vnd.jupyter.widget-view+json": {
       "model_id": "365e173900044ecc99cc0a035cdf18bf",
       "version_major": 2,
       "version_minor": 0
      },
      "text/plain": [
       "IntProgress(value=0, max=357064)"
      ]
     },
     "metadata": {},
     "output_type": "display_data"
    },
    {
     "name": "stdout",
     "output_type": "stream",
     "text": [
      "Processing the data of class: 5\n",
      "\n"
     ]
    },
    {
     "data": {
      "application/vnd.jupyter.widget-view+json": {
       "model_id": "b508571fe9fc45f8bfb706daf3539723",
       "version_major": 2,
       "version_minor": 0
      },
      "text/plain": [
       "IntProgress(value=0, max=51498)"
      ]
     },
     "metadata": {},
     "output_type": "display_data"
    },
    {
     "name": "stdout",
     "output_type": "stream",
     "text": [
      "Processing the data of class: 6\n",
      "\n"
     ]
    },
    {
     "data": {
      "application/vnd.jupyter.widget-view+json": {
       "model_id": "3ad0facb94e249ae8e9a5628c542a233",
       "version_major": 2,
       "version_minor": 0
      },
      "text/plain": [
       "IntProgress(value=0, max=47770)"
      ]
     },
     "metadata": {},
     "output_type": "display_data"
    },
    {
     "name": "stdout",
     "output_type": "stream",
     "text": [
      "Processing the data of class: 7\n",
      "\n"
     ]
    },
    {
     "data": {
      "application/vnd.jupyter.widget-view+json": {
       "model_id": "f8de2abe084b4a68ab7479b9ef568e2c",
       "version_major": 2,
       "version_minor": 0
      },
      "text/plain": [
       "IntProgress(value=0, max=593563)"
      ]
     },
     "metadata": {},
     "output_type": "display_data"
    },
    {
     "name": "stdout",
     "output_type": "stream",
     "text": [
      "Train on 5875 samples, validate on 1469 samples\n",
      "Epoch 1/10\n",
      "5875/5875 [==============================] - 47s 8ms/step - loss: 1.6040 - acc: 0.3100 - f1: 0.0034 - val_loss: 1.5155 - val_acc: 0.4411 - val_f1: 0.0281\n",
      "Epoch 2/10\n",
      "5875/5875 [==============================] - 50s 8ms/step - loss: 1.3482 - acc: 0.4911 - f1: 0.1612 - val_loss: 1.2550 - val_acc: 0.5378 - val_f1: 0.3436\n",
      "Epoch 3/10\n",
      "5875/5875 [==============================] - 49s 8ms/step - loss: 1.1698 - acc: 0.5266 - f1: 0.4234 - val_loss: 1.1394 - val_acc: 0.5439 - val_f1: 0.4891\n",
      "Epoch 4/10\n",
      "5875/5875 [==============================] - 50s 8ms/step - loss: 1.1136 - acc: 0.5431 - f1: 0.4449 - val_loss: 1.0904 - val_acc: 0.5589 - val_f1: 0.4076\n",
      "Epoch 5/10\n",
      "5875/5875 [==============================] - 49s 8ms/step - loss: 1.0771 - acc: 0.5501 - f1: 0.4419 - val_loss: 1.0550 - val_acc: 0.5705 - val_f1: 0.4890\n",
      "Epoch 6/10\n",
      "5875/5875 [==============================] - 50s 9ms/step - loss: 1.0563 - acc: 0.5571 - f1: 0.4687 - val_loss: 1.0588 - val_acc: 0.5500 - val_f1: 0.4869\n",
      "Epoch 7/10\n",
      "5875/5875 [==============================] - 50s 8ms/step - loss: 1.0526 - acc: 0.5734 - f1: 0.4737 - val_loss: 1.0644 - val_acc: 0.5521 - val_f1: 0.5202\n",
      "Epoch 8/10\n",
      "5875/5875 [==============================] - 41s 7ms/step - loss: 1.0695 - acc: 0.5493 - f1: 0.5191 - val_loss: 1.0351 - val_acc: 0.5943 - val_f1: 0.4857\n",
      "Epoch 9/10\n",
      "5875/5875 [==============================] - 26s 4ms/step - loss: 1.0402 - acc: 0.5695 - f1: 0.4706 - val_loss: 1.0476 - val_acc: 0.5739 - val_f1: 0.4881\n",
      "Epoch 10/10\n",
      "5875/5875 [==============================] - 24s 4ms/step - loss: 1.0271 - acc: 0.5734 - f1: 0.4869 - val_loss: 1.0331 - val_acc: 0.5848 - val_f1: 0.4972\n",
      "1469/1469 [==============================] - 2s 1ms/step\n",
      "Loss = 1.0330848533170738\n",
      "Test Accuracy = 0.5847515311672867\n",
      "F1 score = 0.4948432994099845\n",
      " Window Size: 2340\n",
      "\n",
      "Processing the data of class: 1\n",
      "\n"
     ]
    },
    {
     "data": {
      "application/vnd.jupyter.widget-view+json": {
       "model_id": "0742f793fd784385b2c34f09e732b51e",
       "version_major": 2,
       "version_minor": 0
      },
      "text/plain": [
       "IntProgress(value=0, max=608652)"
      ]
     },
     "metadata": {},
     "output_type": "display_data"
    },
    {
     "name": "stdout",
     "output_type": "stream",
     "text": [
      "Processing the data of class: 2\n",
      "\n"
     ]
    },
    {
     "data": {
      "application/vnd.jupyter.widget-view+json": {
       "model_id": "15be10e8ffc340428f690afbad8d2378",
       "version_major": 2,
       "version_minor": 0
      },
      "text/plain": [
       "IntProgress(value=0, max=47878)"
      ]
     },
     "metadata": {},
     "output_type": "display_data"
    },
    {
     "name": "stdout",
     "output_type": "stream",
     "text": [
      "Processing the data of class: 3\n",
      "\n"
     ]
    },
    {
     "data": {
      "application/vnd.jupyter.widget-view+json": {
       "model_id": "7b18499b3eda437ab6e2ac8681ab2800",
       "version_major": 2,
       "version_minor": 0
      },
      "text/plain": [
       "IntProgress(value=0, max=216737)"
      ]
     },
     "metadata": {},
     "output_type": "display_data"
    },
    {
     "name": "stdout",
     "output_type": "stream",
     "text": [
      "Processing the data of class: 4\n",
      "\n"
     ]
    },
    {
     "data": {
      "application/vnd.jupyter.widget-view+json": {
       "model_id": "398523a96f374d36bbede2c0c0640c0a",
       "version_major": 2,
       "version_minor": 0
      },
      "text/plain": [
       "IntProgress(value=0, max=357064)"
      ]
     },
     "metadata": {},
     "output_type": "display_data"
    },
    {
     "name": "stdout",
     "output_type": "stream",
     "text": [
      "Processing the data of class: 5\n",
      "\n"
     ]
    },
    {
     "data": {
      "application/vnd.jupyter.widget-view+json": {
       "model_id": "a2aee56fbf6b4c1ab8362fee2806c3e5",
       "version_major": 2,
       "version_minor": 0
      },
      "text/plain": [
       "IntProgress(value=0, max=51498)"
      ]
     },
     "metadata": {},
     "output_type": "display_data"
    },
    {
     "name": "stdout",
     "output_type": "stream",
     "text": [
      "Processing the data of class: 6\n",
      "\n"
     ]
    },
    {
     "data": {
      "application/vnd.jupyter.widget-view+json": {
       "model_id": "4a456484db864a6b8005c6fb1fa650b7",
       "version_major": 2,
       "version_minor": 0
      },
      "text/plain": [
       "IntProgress(value=0, max=47770)"
      ]
     },
     "metadata": {},
     "output_type": "display_data"
    },
    {
     "name": "stdout",
     "output_type": "stream",
     "text": [
      "Processing the data of class: 7\n",
      "\n"
     ]
    },
    {
     "data": {
      "application/vnd.jupyter.widget-view+json": {
       "model_id": "d2fe644053444c60be82c917d5e28c44",
       "version_major": 2,
       "version_minor": 0
      },
      "text/plain": [
       "IntProgress(value=0, max=593563)"
      ]
     },
     "metadata": {},
     "output_type": "display_data"
    },
    {
     "name": "stdout",
     "output_type": "stream",
     "text": [
      "Train on 5869 samples, validate on 1468 samples\n",
      "Epoch 1/10\n",
      "5869/5869 [==============================] - 26s 4ms/step - loss: 1.6211 - acc: 0.3377 - f1: 0.0060 - val_loss: 1.4978 - val_acc: 0.3801 - val_f1: 0.0401\n",
      "Epoch 2/10\n",
      "5869/5869 [==============================] - 26s 4ms/step - loss: 1.4515 - acc: 0.4280 - f1: 0.0773 - val_loss: 1.3224 - val_acc: 0.4789 - val_f1: 0.2045\n",
      "Epoch 3/10\n",
      "5869/5869 [==============================] - 28s 5ms/step - loss: 1.3002 - acc: 0.4962 - f1: 0.3144 - val_loss: 1.2186 - val_acc: 0.5470 - val_f1: 0.3184\n",
      "Epoch 4/10\n",
      "5869/5869 [==============================] - 25s 4ms/step - loss: 1.1757 - acc: 0.5384 - f1: 0.4003 - val_loss: 1.1354 - val_acc: 0.5375 - val_f1: 0.4124\n",
      "Epoch 5/10\n",
      "5869/5869 [==============================] - 25s 4ms/step - loss: 1.1120 - acc: 0.5411 - f1: 0.4559 - val_loss: 1.0745 - val_acc: 0.5695 - val_f1: 0.4207\n",
      "Epoch 6/10\n",
      "5869/5869 [==============================] - 25s 4ms/step - loss: 1.0790 - acc: 0.5635 - f1: 0.4891 - val_loss: 1.0666 - val_acc: 0.5409 - val_f1: 0.5225\n",
      "Epoch 7/10\n",
      "5869/5869 [==============================] - 25s 4ms/step - loss: 1.0489 - acc: 0.5732 - f1: 0.4930 - val_loss: 1.0195 - val_acc: 0.5892 - val_f1: 0.5212\n",
      "Epoch 8/10\n",
      "5869/5869 [==============================] - 26s 4ms/step - loss: 1.0242 - acc: 0.5778 - f1: 0.5147 - val_loss: 1.0044 - val_acc: 0.5743 - val_f1: 0.5236\n",
      "Epoch 9/10\n",
      "5869/5869 [==============================] - 28s 5ms/step - loss: 1.0134 - acc: 0.5820 - f1: 0.5283 - val_loss: 1.0378 - val_acc: 0.5817 - val_f1: 0.4558\n",
      "Epoch 10/10\n",
      "5869/5869 [==============================] - 24s 4ms/step - loss: 1.0112 - acc: 0.5754 - f1: 0.5233 - val_loss: 0.9998 - val_acc: 0.5708 - val_f1: 0.5378\n",
      "1468/1468 [==============================] - 2s 1ms/step\n",
      "Loss = 0.9997759735876598\n",
      "Test Accuracy = 0.5708446866485014\n",
      "F1 score = 0.5363006612910237\n"
     ]
    }
   ],
   "source": [
    "\n",
    "scores =[] \n",
    "\n",
    "for window_size in range(260,2600,260):  # 2s - 20 s\n",
    "    \n",
    "    print(\" Window Size: {}\\n\".format(window_size))\n",
    "    \n",
    "    scores.append([window_size, HAR_API(dfs,window_size)]) \n",
    "    \n"
   ]
  },
  {
   "cell_type": "code",
   "execution_count": 130,
   "metadata": {},
   "outputs": [
    {
     "data": {
      "text/plain": [
       "[[260, [1.1989877716442312, 0.5402298851783732, 0.34487851151467336]],\n",
       " [520, [1.1435353367189915, 0.5426251691676606, 0.40372104025338756]],\n",
       " [780, [1.1592581776099475, 0.540650406504065, 0.3667979712085672]],\n",
       " [1040, [1.0668649571426845, 0.6027118644067797, 0.5436670594296213]],\n",
       " [1300, [1.0595670661712615, 0.570264765784114, 0.4609481765555429]],\n",
       " [1560, [1.0252240118773088, 0.592391304347826, 0.48035246522530267]],\n",
       " [1820, [1.0516272151170338, 0.5622025835603213, 0.5215131883147944]],\n",
       " [2080, [1.0330848533170738, 0.5847515311672867, 0.4948432994099845]],\n",
       " [2340, [0.9997759735876598, 0.5708446866485014, 0.5363006612910237]]]"
      ]
     },
     "execution_count": 130,
     "metadata": {},
     "output_type": "execute_result"
    }
   ],
   "source": [
    "scores"
   ]
  },
  {
   "cell_type": "code",
   "execution_count": 165,
   "metadata": {},
   "outputs": [],
   "source": [
    "scores_array = []\n",
    "window_szie_array = []\n",
    "for i in range(0,9):\n",
    "    scores_array.append(scores[i][1])\n",
    "    window_szie_array.append(scores[i][0])"
   ]
  },
  {
   "cell_type": "code",
   "execution_count": 186,
   "metadata": {},
   "outputs": [
    {
     "data": {
      "text/plain": [
       "<matplotlib.legend.Legend at 0x14b2faa58>"
      ]
     },
     "execution_count": 186,
     "metadata": {},
     "output_type": "execute_result"
    },
    {
     "data": {
      "image/png": "[encoded data removed]",
      "text/plain": [
       "<Figure size 432x288 with 1 Axes>"
      ]
     },
     "metadata": {},
     "output_type": "display_data"
    }
   ],
   "source": [
    "scores_array = np.array(scores_array)\n",
    "plt.plot(window_szie_array, scores_array[:,1], '-o', c='r',label='accuracy')\n",
    "plt.plot(window_szie_array, scores_array[:,2], '-s', c='b',label='f1 score')\n",
    "set_figstyle(200,2600,0,1,'Window Size','Metrics',True) \n",
    "plt.title('Performance on Test Data', fontsize=16)\n",
    "plt.legend(fontsize=16)"
   ]
  },
  {
   "cell_type": "markdown",
   "metadata": {},
   "source": [
    "The above figure shows a negligible effect from window size in the CNN model."
   ]
  },
  {
   "cell_type": "markdown",
   "metadata": {},
   "source": [
    "# Summary and outlook\n",
    "\n",
    "\n",
    "In this notebook, I have presented a comprehensive study on the Human Activity Recognition based on the [wearable sensor data](https://drive.google.com/file/d/17qNfTHO3Uqsd7XWlDzjTjvuyEgJqEM6Y/view?usp=drive_web) using both conventional machine learning algorithms and the convolutional neural networks (CNN).\n",
    "\n",
    "\n",
    "**The main findings**\n",
    "\n",
    "- The importance of using balanced data in the training and test. The use of imbalanced training and test data\n",
    "in the CNN simply cannot recognize the classes with small sample sizes. In contrast, the use of balanced data in the conventional machine learning models give roughly similar scores for all the classes.\n",
    "\n",
    "- The best model performace among we used in this notebook is given by using voting which gives more than 80% score for the precision and recall in the test.\n",
    "\n",
    "\n",
    "** Overfitting problems**\n",
    "\n",
    "- The overfitting problem in the conventional machine learning models is not obvious, especially after using cross validation and ensemble method.  \n",
    "\n",
    "- In the CNN model, we found that with the increase of epoch, the accuracy is smoothly increasing, while that of the validation data is almost constant (around 0.5). The accuracy of the test data is similar to that of the validation dataset. It implies that there is  **overfitting** problem in the CNN model.\n",
    "\n",
    "- The number of total parameters is more than one order of magnitude larger than the sample size (number of segments). The obvervation of overfitting is within expectation.\n",
    "\n",
    "- To reduce the overfitting, one may need more data, including longer data and more features. \n",
    " \n",
    "** Outlook **\n",
    "\n",
    "- It is interesting to do more detailed fine tunings on the hyperparameters of these models with broden ranges. Besides, other ensemble methods, such as Bagging and Boosting, and more complex deep-learning models, such as recurrent neural networl (RNN) and Long-Short-Term Memory (LSTM), can also be applied for this purpose. \n",
    "\n",
    "- The influence of window size on the prediction has been done in the CNN model, but not yet for the conventional machine learning models (\"Methods based on Handcrafted Features\"). It is highly recommended to perform such analysis and find an optimal window_size and minimal quantities of the data to predict each class at a desired precision/recalll.\n",
    "\n",
    "- There might be some room to improve further the performace of the models used in this notebook. However, a significant improvement is not expected for this dataset due to the data limited and the quality limited.   From the visulization of the data using the PCA (decomposed into the first three principal components), there are large overlaps among the 7 classes. Even though in higher dimensional space it is relativiely easier to seprate them from each other, the information contained in the original three features in the raw data is somewhat insufficient to well separate each eactivity. \n",
    "\n",
    "\n",
    "- There might be some ways to decompose the data into \"signals\" and \"noise\". If the behavior of the noise is known in a systematical way, one can subtract the noise and use the \"signals\" in training the model.  Besides, one may also try to use Fourier transform to transform the signal in each segment/sample as a function of frequency. In these ways, one may be able to improve evidently the performace of the model (hopefully above 85% overall). \n",
    "\n",
    "\n",
    "- From the data point of view, there are at least two ways to improve the precision of recognition. One way is collecting some information other than the accelaration along x,y,z direction, such as angles. Another way is collecting the data in longer time. These two ways can extend the data both in width and in length. In this way, the sample size will be significantly increased, and in this case, the deep learning models will do much better."
   ]
  },
  {
   "cell_type": "code",
   "execution_count": null,
   "metadata": {},
   "outputs": [],
   "source": []
  }
 ],
 "metadata": {
  "kernelspec": {
   "display_name": "Python 3",
   "language": "python",
   "name": "python3"
  },
  "language_info": {
   "codemirror_mode": {
    "name": "ipython",
    "version": 3
   },
   "file_extension": ".py",
   "mimetype": "text/x-python",
   "name": "python",
   "nbconvert_exporter": "python",
   "pygments_lexer": "ipython3",
   "version": "3.6.5"
  },
  "toc": {
   "base_numbering": 1,
   "nav_menu": {},
   "number_sections": true,
   "sideBar": true,
   "skip_h1_title": false,
   "title_cell": "Table of Contents",
   "title_sidebar": "Contents",
   "toc_cell": false,
   "toc_position": {},
   "toc_section_display": true,
   "toc_window_display": true
  },
  "varInspector": {
   "cols": {
    "lenName": 16,
    "lenType": 16,
    "lenVar": 40
   },
   "kernels_config": {
    "python": {
     "delete_cmd_postfix": "",
     "delete_cmd_prefix": "del ",
     "library": "var_list.py",
     "varRefreshCmd": "print(var_dic_list())"
    },
    "r": {
     "delete_cmd_postfix": ") ",
     "delete_cmd_prefix": "rm(",
     "library": "var_list.r",
     "varRefreshCmd": "cat(var_dic_list()) "
    }
   },
   "types_to_exclude": [
    "module",
    "function",
    "builtin_function_or_method",
    "instance",
    "_Feature"
   ],
   "window_display": false
  }
 },
 "nbformat": 4,
 "nbformat_minor": 2
}
