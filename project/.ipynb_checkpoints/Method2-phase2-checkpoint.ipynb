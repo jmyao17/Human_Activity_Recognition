{
 "cells": [
  {
   "cell_type": "markdown",
   "metadata": {},
   "source": [
    "# Introduction to the project\n",
    "\n",
    "Details:\n",
    "Ultimately this is a time-series classification project where you are trying to classify the following classes (codified by numbers): \n",
    "\n",
    "    1: Working at Computer\n",
    "    2: Standing Up, Walking and Going Up/Downstairs\n",
    "    3: Standing\n",
    "    4: Walking\n",
    "    5: Going Up/Down Stairs\n",
    "    6: Walking and Talking with Someone\n",
    "    7: Talking while Standing\n",
    "\n",
    "Though a full analysis is not required, a discussion of how the windowing of the data will affect the analysis is expected. The ideal classification model will be able to use minimal quantities/time windows of the data to predict each class (i.e. not the entire time-series per user per class).\n",
    "\n",
    "Data Set Information:\n",
    "\n",
    "    --- The dataset collects data from a wearable accelerometer mounted on the chest\n",
    "    --- Sampling frequency of the accelerometer: 52 Hz\n",
    "    --- Accelerometer data are uncalibrated\n",
    "    --- Number of participants: 15\n",
    "    --- Number of activities: 7\n",
    "    --- Data format: CSV\n",
    "\n",
    "Attribute Information:\n",
    "\n",
    "    --- Data are separated by the participant\n",
    "    --- Each file contains the following information:\n",
    "    --- Sequential number, x acceleration, y acceleration, z acceleration, label\n",
    "    --- Labels are codified by numbers\n",
    "\n",
    "Context: Uncalibrated Accelerometer Data are collected from 15 participants performing 7 activities. The dataset provides challenges for identification and authentication of people using motion patterns.\n",
    "\n",
    "Please provide preferably a Jupyter Notebook, or otherwise an R Markdown file, with your analysis.\n",
    "\n",
    "Evaluation Criteria:\n",
    "The mini-project will be evaluated on the following criteria:\n",
    "\n",
    "    1) Code and visualization quality (especially in exploring the data)\n",
    "    2) Feature generation/model creation/analysis flow/methodology.\n",
    "    3) Validation method(s)/metrics/statistics/plots\n",
    "    4) Conclusions/recommendations - Are we data limited, noise limited, overfitting/underfitting? How would you improve the model? i.e. I don't particularly care if the model is optimally tuned so long as you know where it can be improved and how much a bump you might expect.\n",
    "\n",
    "Caveat for Using Open-source Libraries/Packages:\n",
    "You are welcome to use any open-source libraries/packages/resources but keep in mind that you will be quizzed on details of what is going on under-the-hood. In particular, I would very much prefer if you didn't just use pre-trained algorithms/models. This goes especially for pre-trained models. In other words, we are not looking for a black-box solution that gets us X% even if it's better than what you are getting from engineering your own features.\n",
    "\n",
    "Sklearn/XGBoost and similar generic stuff are fair game - but you will be asked about tuning, limitations and/or improvements in the next stage if you don't already discuss them in your notebook. "
   ]
  },
  {
   "cell_type": "markdown",
   "metadata": {},
   "source": [
    "** Code **"
   ]
  },
  {
   "cell_type": "code",
   "execution_count": 40,
   "metadata": {},
   "outputs": [],
   "source": [
    "import pandas as pd\n",
    "import numpy as np\n",
    "\n",
    "import seaborn as sn\n",
    "import matplotlib.pyplot as plt \n",
    "\n",
    "from matplotlib.ticker import MultipleLocator, FormatStrFormatter\n",
    "from matplotlib.ticker import AutoMinorLocator\n",
    "import matplotlib.ticker as ticker\n",
    "\n",
    "from sklearn.pipeline import Pipeline\n",
    "from sklearn.preprocessing import StandardScaler, RobustScaler\n",
    "\n",
    "from sklearn.model_selection import train_test_split\n",
    "\n",
    "from ipywidgets import IntProgress\n",
    "from IPython.display import display\n",
    "import time\n",
    " \n",
    "import keras\n",
    "from keras import layers\n",
    "from keras.layers import Input, Dense, Activation, ZeroPadding2D, BatchNormalization, Flatten, Conv2D, LeakyReLU\n",
    "from keras.layers import AveragePooling2D, MaxPooling2D, Dropout, GlobalMaxPooling2D, GlobalAveragePooling2D\n",
    "from keras.models import Model, load_model\n",
    "from keras.models import Sequential    \n",
    "\n",
    "from keras import backend as K\n",
    "\n",
    "from sklearn.metrics import confusion_matrix\n",
    "import keras_metrics as km\n",
    "\n",
    "#minorLocator = AutoMinorLocator()\n",
    "import warnings\n",
    "warnings.filterwarnings('ignore')"
   ]
  },
  {
   "cell_type": "code",
   "execution_count": 2,
   "metadata": {},
   "outputs": [],
   "source": [
    "def load_data(features):\n",
    "    dfs = [] \n",
    "    for i in range(1,16):\n",
    "    \n",
    "        filename = 'Activity Recognition from Single Chest-Mounted Accelerometer/'+str(i)+'.csv'\n",
    "    \n",
    "        df_temp = pd.read_csv(filename)\n",
    "        df_temp.columns = [features]\n",
    "        dfs.append(df_temp)\n",
    "\n",
    "        print(\"Time Duration for the {}-th participant is {} seconds\".format(i,np.ceil(df_temp.shape[0]/52)))\n",
    "    return dfs"
   ]
  },
  {
   "cell_type": "code",
   "execution_count": 3,
   "metadata": {},
   "outputs": [],
   "source": [
    "def set_figstyle(xmin,xmax,ymin,ymax,xlabel,ylabel,how):\n",
    "    \"\"\"\n",
    "        how --  True: label both sides of y;\n",
    "                False: only label the left side\n",
    "    \"\"\"\n",
    "    plt.xlabel(xlabel,fontsize=24)\n",
    "    plt.ylabel(ylabel, fontsize=24)\n",
    "    plt.ylim(ymin,ymax)\n",
    "    plt.xlim(xmin,xmax)\n",
    "    plt.tick_params(which='major',direction='in',length=10,labelsize=20)\n",
    "    plt.tick_params(which='minor',direction='in',length=5,labelsize=20)\n",
    "    plt.tick_params(labelbottom=True, labeltop=False, labelleft=True, labelright=how,\n",
    "                    bottom=True, top=False, left=True, right=True)"
   ]
  },
  {
   "cell_type": "code",
   "execution_count": 4,
   "metadata": {},
   "outputs": [],
   "source": [
    "def plot_data4AllClass(df,features):\n",
    "\n",
    "    x1 = features[0]\n",
    "    ys = features[1:]\n",
    "\n",
    "    plt.figure(figsize=(10,6))\n",
    "    for y in ys[:-1]: \n",
    "        plt.scatter(dfs[0][x1],dfs[0][y],c=dfs[0][ys[-1]],label=y)\n",
    "\n",
    "    set_figstyle(0,dfs[0].shape[0],1300,3000,'sequential_number (k)','acceleration',True)\n",
    "    plt.gca().set_xticklabels([int(x/1000) for x in plt.gca().get_xticks()]) "
   ]
  },
  {
   "cell_type": "code",
   "execution_count": 5,
   "metadata": {},
   "outputs": [],
   "source": [
    "def plot_data4EachClass(df, features):\n",
    "    \n",
    "    \"\"\"\n",
    "    parameters:\n",
    "    ===========\n",
    "    df: DataFrame for each participant\n",
    "    features: column name in the DataFrame\n",
    "    \n",
    "    Output:\n",
    "    =======\n",
    "    divide the data based on class and plot each figure for each class\n",
    "    \"\"\"\n",
    "    \n",
    "    x1 = features[0]\n",
    "    ys = features[1:]\n",
    "\n",
    "    fig, axs = plt.subplots(3, 3, figsize=(14,12)) \n",
    "    plt.tight_layout()   \n",
    "    \n",
    "\n",
    "    for i in range(1,8):\n",
    "        class_label = i  \n",
    "        \n",
    "        df_class = df[df['label'].values == i]\n",
    "\n",
    "        if i>7:\n",
    "            break\n",
    "\n",
    "\n",
    "\n",
    "        plt.subplot(3,3,i)\n",
    "\n",
    "        plt.subplots_adjust(hspace = 0.3, wspace=0.3)\n",
    "\n",
    "        for y in ys[:-1]:\n",
    "            plt.scatter(df_class[x1].values,df_class[y].values,label=y)\n",
    "\n",
    "\n",
    "        plt.gca().set_xticklabels([int(x/1000) for x in plt.gca().get_xticks()]) \n",
    "        plt.title('class'+  str(class_label))\n",
    "        plt.xlabel('sequential_number (k)')\n",
    "        plt.ylabel('acceleration')\n",
    "        plt.legend()  "
   ]
  },
  {
   "cell_type": "code",
   "execution_count": 6,
   "metadata": {},
   "outputs": [],
   "source": [
    "# for 15 participants\n",
    "\n",
    "def get_segments4All(dfs, window_size, step_size): \n",
    "    \n",
    "    segments = []\n",
    "    labels = []\n",
    "    \n",
    "    \n",
    "    df = pd.concat(dfs[p] for p in range(0,len(dfs)))\n",
    "    \n",
    "        # loop over class [1,2,..,7]\n",
    "         \n",
    "    \n",
    "    for class_label in range(1,8):\n",
    "        \n",
    "        print(\"Processing the data of class: {}\\n\".format(class_label))\n",
    "         \n",
    "        df_class = df[df['label'].values == class_label]\n",
    "        assert len(df_class) > window_size\n",
    "\n",
    "\n",
    "            # for each  given class, slide the window\n",
    "            #for i in range(0,len(df_class)- window_size, step_size): \n",
    "            \n",
    "        # progress bar\n",
    "        f = IntProgress(min=0, max=len(df_class)) # instantiate the bar\n",
    "        display(f) # display the bar \n",
    "    \n",
    "        for i in range(0,len(df_class) - window_size, step_size):\n",
    "            start = i\n",
    "            end   = i + window_size\n",
    "            xseg = df_class['x_acceleration'].values[start: end]\n",
    "            yseg = df_class['y_acceleration'].values[start: end]\n",
    "            zseg = df_class['z_acceleration'].values[start: end]\n",
    "            segments.append([xseg, yseg, zseg]) \n",
    "            labels.append(class_label)\n",
    "            \n",
    "            f.value += step_size # signal to increment the progress bar\n",
    "            #time.sleep(.1)\n",
    "\n",
    "            \n",
    "    return labels,segments"
   ]
  },
  {
   "cell_type": "code",
   "execution_count": 7,
   "metadata": {},
   "outputs": [],
   "source": [
    "def preprocess_data(dfs, window_size, step_size, num_feature):\n",
    "    \n",
    "    labels4all,segments4all = get_segments4All(dfs, window_size, step_size)\n",
    "    segments4all_array      = np.array(segments4all, dtype=np.float64).reshape(-1,num_feature, window_size)\n",
    "    \n",
    "    return labels4all, segments4all_array"
   ]
  },
  {
   "cell_type": "code",
   "execution_count": 47,
   "metadata": {},
   "outputs": [],
   "source": [
    "def model_simple(num_feature,window_size):\n",
    "    #create model\n",
    "    model = Sequential()\n",
    "    #add model layers\n",
    "    model.add(Conv2D(64, (2,2), activation='relu', input_shape=(num_feature,window_size,1))) # 64 nodes, 3x3 filter matrix\n",
    "    \n",
    "    model.add(BatchNormalization())\n",
    "    \n",
    "    model.add(Conv2D(36, (2,2), activation='relu'))\n",
    "    model.add(Flatten())\n",
    "    model.add(Dense(7, activation='softmax'))\n",
    "    return model\n",
    "\n",
    "\n",
    "\n",
    "def model_CX(num_feature,window_size):\n",
    "    \"\"\"\n",
    "    \n",
    "    \"\"\"\n",
    "    \n",
    "    model = Sequential()  \n",
    "    model.add(Conv2D(18, (2, 12), padding='same', input_shape=(num_feature,window_size,1)))\n",
    "    model.add(MaxPooling2D(pool_size=(1, 2)))\n",
    "    #model.add(BatchNormalization())\n",
    "    model.add(LeakyReLU())\n",
    "    \n",
    "    model.add(Conv2D(36, (1, 12), strides=2, padding='same'))\n",
    "    model.add(MaxPooling2D(pool_size=(1, 2)))\n",
    "    #model.add(BatchNormalization())\n",
    "    model.add(LeakyReLU())\n",
    "    \n",
    "    model.add(Conv2D(24, (1, 12), padding='same', activation='relu'))\n",
    "    model.add(MaxPooling2D(pool_size=(1, 2)))\n",
    "    \n",
    "    model.add(Flatten())\n",
    "    model.add(Dense(7, activation='softmax'))\n",
    "    \n",
    "    return model "
   ]
  },
  {
   "cell_type": "code",
   "execution_count": 9,
   "metadata": {},
   "outputs": [],
   "source": [
    "def f1(y_true, y_pred):\n",
    "    \n",
    "    def recall(y_true, y_pred):\n",
    "        \n",
    "        \"\"\"Recall metric.\n",
    "        Only computes a batch-wise average of recall.\n",
    "\n",
    "        Computes the recall, a metric for multi-label classification of\n",
    "        how many relevant items are selected.\n",
    "        \"\"\"\n",
    "        true_positives = K.sum(K.round(K.clip(y_true * y_pred, 0, 1)))\n",
    "        possible_positives = K.sum(K.round(K.clip(y_true, 0, 1)))\n",
    "        recall = true_positives / (possible_positives + K.epsilon())\n",
    "        return recall\n",
    "\n",
    "    def precision(y_true, y_pred):\n",
    "        \"\"\"Precision metric.\n",
    "\n",
    "        Only computes a batch-wise average of precision.\n",
    "\n",
    "        Computes the precision, a metric for multi-label classification of\n",
    "        how many selected items are relevant.\n",
    "        \"\"\"\n",
    "        true_positives = K.sum(K.round(K.clip(y_true * y_pred, 0, 1)))\n",
    "        predicted_positives = K.sum(K.round(K.clip(y_pred, 0, 1)))\n",
    "        precision = true_positives / (predicted_positives + K.epsilon())\n",
    "        return precision\n",
    "    \n",
    "    precision = precision(y_true, y_pred)\n",
    "    recall    = recall(y_true, y_pred)\n",
    "    \n",
    "    return 2*((precision*recall)/(precision+recall+K.epsilon()))"
   ]
  },
  {
   "cell_type": "markdown",
   "metadata": {},
   "source": [
    "# Load data"
   ]
  },
  {
   "cell_type": "code",
   "execution_count": 10,
   "metadata": {},
   "outputs": [
    {
     "name": "stdout",
     "output_type": "stream",
     "text": [
      "Time Duration for the 1-th participant is 3125.0 seconds\n",
      "Time Duration for the 2-th participant is 2654.0 seconds\n",
      "Time Duration for the 3-th participant is 1969.0 seconds\n",
      "Time Duration for the 4-th participant is 2350.0 seconds\n",
      "Time Duration for the 5-th participant is 3077.0 seconds\n",
      "Time Duration for the 6-th participant is 2710.0 seconds\n",
      "Time Duration for the 7-th participant is 3135.0 seconds\n",
      "Time Duration for the 8-th participant is 2654.0 seconds\n",
      "Time Duration for the 9-th participant is 3207.0 seconds\n",
      "Time Duration for the 10-th participant is 2439.0 seconds\n",
      "Time Duration for the 11-th participant is 2009.0 seconds\n",
      "Time Duration for the 12-th participant is 2206.0 seconds\n",
      "Time Duration for the 13-th participant is 1301.0 seconds\n",
      "Time Duration for the 14-th participant is 2233.0 seconds\n",
      "Time Duration for the 15-th participant is 1991.0 seconds\n"
     ]
    }
   ],
   "source": [
    "features = ['Sequential_number', 'x_acceleration', 'y_acceleration', 'z_acceleration', 'label']\n",
    "dfs = load_data(features)"
   ]
  },
  {
   "cell_type": "markdown",
   "metadata": {},
   "source": [
    "# visualize data\n",
    "\n",
    "\n",
    "\n",
    "Here we take the data of the **first participant*** as an example to visualize the data, trying to find some features that are relevant for classification."
   ]
  },
  {
   "cell_type": "markdown",
   "metadata": {},
   "source": [
    "** plot the data for each class**"
   ]
  },
  {
   "cell_type": "code",
   "execution_count": 42,
   "metadata": {},
   "outputs": [],
   "source": [
    "plot_data = False\n",
    "if plot_data:\n",
    "    plot_data4AllClass(dfs[0],features)\n",
    "    plot_data4EachClass(dfs[0],features)"
   ]
  },
  {
   "cell_type": "markdown",
   "metadata": {},
   "source": [
    "# Feature generation\n",
    "\n",
    "\n",
    "Here we use so-called ***Full-None-Overlaping-Window***"
   ]
  },
  {
   "cell_type": "code",
   "execution_count": 12,
   "metadata": {},
   "outputs": [],
   "source": [
    "# set hyperparameters for the window\n",
    "num_feature = 3\n",
    "window_size = 520   # 10 senconds\n",
    "step_size   = 520   # 10 seconds\n",
    "segments    = []\n",
    "label       = []"
   ]
  },
  {
   "cell_type": "code",
   "execution_count": 13,
   "metadata": {},
   "outputs": [
    {
     "name": "stdout",
     "output_type": "stream",
     "text": [
      "Processing the data of class: 1\n",
      "\n"
     ]
    },
    {
     "data": {
      "application/vnd.jupyter.widget-view+json": {
       "model_id": "bdfab949e76a4dd7a585d8a7f41e2523",
       "version_major": 2,
       "version_minor": 0
      },
      "text/plain": [
       "IntProgress(value=0, max=608652)"
      ]
     },
     "metadata": {},
     "output_type": "display_data"
    },
    {
     "name": "stdout",
     "output_type": "stream",
     "text": [
      "Processing the data of class: 2\n",
      "\n"
     ]
    },
    {
     "data": {
      "application/vnd.jupyter.widget-view+json": {
       "model_id": "9a0586c6c06945a6badab9f57cae6f92",
       "version_major": 2,
       "version_minor": 0
      },
      "text/plain": [
       "IntProgress(value=0, max=47878)"
      ]
     },
     "metadata": {},
     "output_type": "display_data"
    },
    {
     "name": "stdout",
     "output_type": "stream",
     "text": [
      "Processing the data of class: 3\n",
      "\n"
     ]
    },
    {
     "data": {
      "application/vnd.jupyter.widget-view+json": {
       "model_id": "328d9287641d467084ecfb4fa8156604",
       "version_major": 2,
       "version_minor": 0
      },
      "text/plain": [
       "IntProgress(value=0, max=216737)"
      ]
     },
     "metadata": {},
     "output_type": "display_data"
    },
    {
     "name": "stdout",
     "output_type": "stream",
     "text": [
      "Processing the data of class: 4\n",
      "\n"
     ]
    },
    {
     "data": {
      "application/vnd.jupyter.widget-view+json": {
       "model_id": "ed9fde4c3497490386128b40cb918465",
       "version_major": 2,
       "version_minor": 0
      },
      "text/plain": [
       "IntProgress(value=0, max=357064)"
      ]
     },
     "metadata": {},
     "output_type": "display_data"
    },
    {
     "name": "stdout",
     "output_type": "stream",
     "text": [
      "Processing the data of class: 5\n",
      "\n"
     ]
    },
    {
     "data": {
      "application/vnd.jupyter.widget-view+json": {
       "model_id": "d13ada643e544a5dbae1a401f3009532",
       "version_major": 2,
       "version_minor": 0
      },
      "text/plain": [
       "IntProgress(value=0, max=51498)"
      ]
     },
     "metadata": {},
     "output_type": "display_data"
    },
    {
     "name": "stdout",
     "output_type": "stream",
     "text": [
      "Processing the data of class: 6\n",
      "\n"
     ]
    },
    {
     "data": {
      "application/vnd.jupyter.widget-view+json": {
       "model_id": "7a76dd4221684220a232b705c1b13e6a",
       "version_major": 2,
       "version_minor": 0
      },
      "text/plain": [
       "IntProgress(value=0, max=47770)"
      ]
     },
     "metadata": {},
     "output_type": "display_data"
    },
    {
     "name": "stdout",
     "output_type": "stream",
     "text": [
      "Processing the data of class: 7\n",
      "\n"
     ]
    },
    {
     "data": {
      "application/vnd.jupyter.widget-view+json": {
       "model_id": "1d259e5023fb458eb70b200e85892f9d",
       "version_major": 2,
       "version_minor": 0
      },
      "text/plain": [
       "IntProgress(value=0, max=593563)"
      ]
     },
     "metadata": {},
     "output_type": "display_data"
    }
   ],
   "source": [
    "labels, segments4all_array = preprocess_data(dfs, window_size, step_size, num_feature)"
   ]
  },
  {
   "cell_type": "code",
   "execution_count": 14,
   "metadata": {},
   "outputs": [
    {
     "name": "stdout",
     "output_type": "stream",
     "text": [
      "number of segments: 3695\n",
      "segements shape: (3695, 3, 520)\n",
      "labels for segments:[1, 2, 3, 4, 5, 6, 7]\n"
     ]
    }
   ],
   "source": [
    "print (\"number of segments: \" + str(len(labels))) \n",
    "print (\"segements shape: \" + str(segments4all_array.shape)) \n",
    "print (\"labels for segments:\" + str(list(set(labels)))) "
   ]
  },
  {
   "cell_type": "markdown",
   "metadata": {},
   "source": [
    "- There are **3695** segments/samples. Each segement contains **520** sequential numbers. At each sequential number, there are **3** features (x_acceration, y_acceration, z_acceration).\n",
    "\n",
    "- Each segement has one label with the value ranging from 1 to 7."
   ]
  },
  {
   "cell_type": "markdown",
   "metadata": {},
   "source": [
    "** Transform the class label into one-hot code **"
   ]
  },
  {
   "cell_type": "code",
   "execution_count": 15,
   "metadata": {},
   "outputs": [
    {
     "name": "stdout",
     "output_type": "stream",
     "text": [
      "labels shape: (3695, 7)\n"
     ]
    }
   ],
   "source": [
    "labels_OneHot = pd.get_dummies(labels)\n",
    "print (\"labels shape: \" + str(labels_OneHot.shape))"
   ]
  },
  {
   "cell_type": "markdown",
   "metadata": {},
   "source": [
    "** Normalization for each segment **\n",
    "\n",
    "No evident difference is found in the accuracy between the choices of StandardScaler() and RobustScaler().\n",
    "However, the RobustScaler() takes much longer time."
   ]
  },
  {
   "cell_type": "code",
   "execution_count": 16,
   "metadata": {},
   "outputs": [
    {
     "name": "stdout",
     "output_type": "stream",
     "text": [
      "segements (scaled) shape: (3695, 3, 520)\n"
     ]
    }
   ],
   "source": [
    "scaler_pipeline = Pipeline([\n",
    "                    ('std_scaler',StandardScaler())    # Standardize features by removing the mean and scaling to unit variance\n",
    "                    #('robust_scaler',RobustScaler())  # Scale features using statistics that are robust to outliers.\n",
    "                    ])\n",
    "\n",
    "segments_scaled=[]\n",
    "for m in range(0, segments4all_array.shape[0]):\n",
    "    segments_scaled.append(scaler_pipeline.fit_transform(segments4all_array[m]))\n",
    "    \n",
    "segments_array_scaled = np.array(segments_scaled) \n",
    "print (\"segements (scaled) shape: \" + str(segments_array_scaled.shape))"
   ]
  },
  {
   "cell_type": "markdown",
   "metadata": {},
   "source": [
    "** Split the data into train and test sets**"
   ]
  },
  {
   "cell_type": "code",
   "execution_count": 18,
   "metadata": {},
   "outputs": [],
   "source": [
    "X_train, X_test, y_train, y_test = train_test_split(segments_array_scaled,\n",
    "                                                    labels_OneHot, \n",
    "                                                    test_size=0.2, \n",
    "                                                    random_state=None)\n"
   ]
  },
  {
   "cell_type": "code",
   "execution_count": 19,
   "metadata": {},
   "outputs": [],
   "source": [
    "X_train = np.expand_dims(X_train, axis=3)\n",
    "X_test  = np.expand_dims(X_test, axis=3)  "
   ]
  },
  {
   "cell_type": "code",
   "execution_count": 20,
   "metadata": {},
   "outputs": [
    {
     "name": "stdout",
     "output_type": "stream",
     "text": [
      "number of training segments = 2956\n",
      "number of test segments = 739\n",
      "X_train shape: (2956, 3, 520, 1)\n",
      "Y_train shape: (2956, 7)\n",
      "X_test shape: (739, 3, 520, 1)\n",
      "Y_test shape: (739, 7)\n"
     ]
    }
   ],
   "source": [
    "print (\"number of training segments = \" + str(X_train.shape[0]))\n",
    "print (\"number of test segments = \" + str(X_test.shape[0]))\n",
    "print (\"X_train shape: \" + str(X_train.shape))\n",
    "print (\"Y_train shape: \" + str(y_train.shape))\n",
    "print (\"X_test shape: \" + str(X_test.shape))\n",
    "print (\"Y_test shape: \" + str(y_test.shape))"
   ]
  },
  {
   "cell_type": "markdown",
   "metadata": {},
   "source": [
    "# Building the model\n",
    "\n",
    "\n",
    "Here, we adopt convolution neural network (CNN) to train the data.\n",
    "\n",
    "- The pros of using the CNN here is this model has achived a great success in the computer vision. In this project, we divide the whole time-series data into lots of segments. Each segement has dimension (3, window_size), which can be regarded as an image. Therefore, it is natural to think of this model.\n",
    "\n",
    "- The cons of this model is that this model belongs to ***black box*** models, which is not easy to interpret. \n",
    "\n",
    "- Both accuracy and f1 measure are adopted as metrics"
   ]
  },
  {
   "cell_type": "markdown",
   "metadata": {},
   "source": [
    "** Apply the model settings proposed by Chen and Xue**\n",
    "\n",
    "Y. Chen, Y. Xue, \"A Deep Learning Approach to Human Activity Recognition Based on Single Accelerometer\", in IEEE International Conference on Systems, Man, and Cybernetics, 2015, pp. 1488\n",
    "\n",
    "Note: the dataset here might be different from that used in the above paper."
   ]
  },
  {
   "cell_type": "code",
   "execution_count": 45,
   "metadata": {},
   "outputs": [],
   "source": [
    "cnn_model_CX = model_CX(num_feature, window_size)\n",
    "# both accuracy and f1 measure are adopted as metrics\n",
    "cnn_model_CX.compile(optimizer='adam', loss='categorical_crossentropy', metrics=['accuracy',f1])"
   ]
  },
  {
   "cell_type": "code",
   "execution_count": 46,
   "metadata": {},
   "outputs": [
    {
     "name": "stdout",
     "output_type": "stream",
     "text": [
      "Train on 2956 samples, validate on 739 samples\n",
      "Epoch 1/10\n",
      "2956/2956 [==============================] - 3s 1ms/step - loss: 1.8092 - acc: 0.2865 - f1: 0.0000e+00 - val_loss: 1.6333 - val_acc: 0.3342 - val_f1: 0.0000e+00\n",
      "Epoch 2/10\n",
      "2956/2956 [==============================] - 3s 944us/step - loss: 1.5810 - acc: 0.3738 - f1: 0.0000e+00 - val_loss: 1.5526 - val_acc: 0.3992 - val_f1: 0.0000e+00\n",
      "Epoch 3/10\n",
      "2956/2956 [==============================] - 3s 929us/step - loss: 1.5290 - acc: 0.3708 - f1: 0.0000e+00 - val_loss: 1.5196 - val_acc: 0.3424 - val_f1: 0.0081\n",
      "Epoch 4/10\n",
      "2956/2956 [==============================] - 3s 927us/step - loss: 1.4660 - acc: 0.3840 - f1: 0.0556 - val_loss: 1.4537 - val_acc: 0.4506 - val_f1: 0.1432\n",
      "Epoch 5/10\n",
      "2956/2956 [==============================] - 3s 937us/step - loss: 1.4044 - acc: 0.4371 - f1: 0.2115 - val_loss: 1.3929 - val_acc: 0.4736 - val_f1: 0.2378\n",
      "Epoch 6/10\n",
      "2956/2956 [==============================] - 3s 972us/step - loss: 1.3205 - acc: 0.5010 - f1: 0.2482 - val_loss: 1.3307 - val_acc: 0.5034 - val_f1: 0.2766\n",
      "Epoch 7/10\n",
      "2956/2956 [==============================] - 3s 984us/step - loss: 1.2600 - acc: 0.5169 - f1: 0.3486 - val_loss: 1.3038 - val_acc: 0.5359 - val_f1: 0.4045\n",
      "Epoch 8/10\n",
      "2956/2956 [==============================] - 3s 983us/step - loss: 1.2167 - acc: 0.5426 - f1: 0.3691 - val_loss: 1.2793 - val_acc: 0.5535 - val_f1: 0.3295\n",
      "Epoch 9/10\n",
      "2956/2956 [==============================] - 3s 976us/step - loss: 1.1848 - acc: 0.5653 - f1: 0.4080 - val_loss: 1.2651 - val_acc: 0.5575 - val_f1: 0.4000\n",
      "Epoch 10/10\n",
      "2956/2956 [==============================] - 3s 994us/step - loss: 1.1610 - acc: 0.5802 - f1: 0.3932 - val_loss: 1.2501 - val_acc: 0.5562 - val_f1: 0.4341\n"
     ]
    },
    {
     "data": {
      "text/plain": [
       "<keras.callbacks.History at 0x13f47edd8>"
      ]
     },
     "execution_count": 46,
     "metadata": {},
     "output_type": "execute_result"
    }
   ],
   "source": [
    "#train the model\n",
    "cnn_model_CX.fit(X_train, y_train, batch_size=500, validation_data=(X_test, y_test), epochs=10)"
   ]
  },
  {
   "cell_type": "code",
   "execution_count": 51,
   "metadata": {},
   "outputs": [
    {
     "name": "stdout",
     "output_type": "stream",
     "text": [
      "739/739 [==============================] - 0s 410us/step\n",
      "Loss = 1.2501320830862641\n",
      "Test Accuracy = 0.5561569689171886\n",
      "F1 score = 0.4296363300173789\n"
     ]
    }
   ],
   "source": [
    "preds = cnn_model_CX.evaluate(X_test, y_test)\n",
    "print (\"Loss = \" + str(preds[0]))  \n",
    "print (\"Test Accuracy = \" + str(preds[1]))\n",
    "print (\"F1 score = \" + str(preds[2]))"
   ]
  },
  {
   "cell_type": "code",
   "execution_count": 61,
   "metadata": {},
   "outputs": [
    {
     "name": "stdout",
     "output_type": "stream",
     "text": [
      "[[107   0   0   4   0   0 114]\n",
      " [  5   0   0   3   0   0  11]\n",
      " [ 22   0   0  26   0   0  43]\n",
      " [  8   0   2 126   0   0  12]\n",
      " [  8   0   1  10   0   0   5]\n",
      " [  1   0   0   3   0   0  10]\n",
      " [ 25   0   1  14   0   0 178]]\n"
     ]
    }
   ],
   "source": [
    "y_pred = cnn_model_CX.predict(X_test)\n",
    "y_pred_classes = np.argmax(y_pred, axis=1) \n",
    "y_test_classes = np.argmax(np.array(y_test).reshape(y_test.shape[0],7), axis=1) \n",
    "cm = confusion_matrix(y_test_classes,y_pred_classes)\n",
    "print(cm)"
   ]
  },
  {
   "cell_type": "code",
   "execution_count": 63,
   "metadata": {},
   "outputs": [
    {
     "name": "stdout",
     "output_type": "stream",
     "text": [
      "_________________________________________________________________\n",
      "Layer (type)                 Output Shape              Param #   \n",
      "=================================================================\n",
      "conv2d_11 (Conv2D)           (None, 3, 520, 18)        450       \n",
      "_________________________________________________________________\n",
      "max_pooling2d_1 (MaxPooling2 (None, 3, 260, 18)        0         \n",
      "_________________________________________________________________\n",
      "leaky_re_lu_3 (LeakyReLU)    (None, 3, 260, 18)        0         \n",
      "_________________________________________________________________\n",
      "conv2d_12 (Conv2D)           (None, 2, 130, 36)        7812      \n",
      "_________________________________________________________________\n",
      "max_pooling2d_2 (MaxPooling2 (None, 2, 65, 36)         0         \n",
      "_________________________________________________________________\n",
      "leaky_re_lu_4 (LeakyReLU)    (None, 2, 65, 36)         0         \n",
      "_________________________________________________________________\n",
      "conv2d_13 (Conv2D)           (None, 2, 65, 24)         10392     \n",
      "_________________________________________________________________\n",
      "max_pooling2d_3 (MaxPooling2 (None, 2, 32, 24)         0         \n",
      "_________________________________________________________________\n",
      "flatten_5 (Flatten)          (None, 1536)              0         \n",
      "_________________________________________________________________\n",
      "dense_5 (Dense)              (None, 7)                 10759     \n",
      "=================================================================\n",
      "Total params: 29,413\n",
      "Trainable params: 29,413\n",
      "Non-trainable params: 0\n",
      "_________________________________________________________________\n"
     ]
    }
   ],
   "source": [
    "cnn_model_CX.summary()"
   ]
  },
  {
   "cell_type": "markdown",
   "metadata": {},
   "source": [
    "As a comparison, let's try a simple **two-layer CNN model**, followed by a full-connected layer with an activation function, ***softmax*** for multi-class classification. No pooling layer.\n",
    "\n",
    "Of course, one can make the model more complicate by changing the hyperparametrs: filter size, number of filters, number of hidden layers and introduce batch normalization. "
   ]
  },
  {
   "cell_type": "code",
   "execution_count": 49,
   "metadata": {},
   "outputs": [],
   "source": [
    "cnn_model_simple = model_simple(num_feature, window_size)\n",
    "cnn_model_simple.compile(optimizer='adam', loss='categorical_crossentropy', metrics=['accuracy',f1])"
   ]
  },
  {
   "cell_type": "code",
   "execution_count": 50,
   "metadata": {},
   "outputs": [
    {
     "name": "stdout",
     "output_type": "stream",
     "text": [
      "Train on 2956 samples, validate on 739 samples\n",
      "Epoch 1/10\n",
      "2956/2956 [==============================] - 7s 2ms/step - loss: 2.4697 - acc: 0.2818 - f1: 0.2089 - val_loss: 1.7345 - val_acc: 0.3667 - val_f1: 0.3090\n",
      "Epoch 2/10\n",
      "2956/2956 [==============================] - 6s 2ms/step - loss: 1.5719 - acc: 0.3901 - f1: 0.2646 - val_loss: 1.6070 - val_acc: 0.3654 - val_f1: 0.1350\n",
      "Epoch 3/10\n",
      "2956/2956 [==============================] - 6s 2ms/step - loss: 1.4508 - acc: 0.4283 - f1: 0.2275 - val_loss: 1.4744 - val_acc: 0.4168 - val_f1: 0.2049\n",
      "Epoch 4/10\n",
      "2956/2956 [==============================] - 7s 2ms/step - loss: 1.3043 - acc: 0.5041 - f1: 0.2951 - val_loss: 1.3244 - val_acc: 0.5183 - val_f1: 0.2939\n",
      "Epoch 5/10\n",
      "2956/2956 [==============================] - 7s 2ms/step - loss: 1.1762 - acc: 0.5518 - f1: 0.3797 - val_loss: 1.2679 - val_acc: 0.5372 - val_f1: 0.3395\n",
      "Epoch 6/10\n",
      "2956/2956 [==============================] - 8s 3ms/step - loss: 1.0980 - acc: 0.5707 - f1: 0.4331 - val_loss: 1.2512 - val_acc: 0.5237 - val_f1: 0.3253\n",
      "Epoch 7/10\n",
      "2956/2956 [==============================] - 7s 2ms/step - loss: 1.0448 - acc: 0.5880 - f1: 0.4124 - val_loss: 1.2861 - val_acc: 0.4696 - val_f1: 0.3324\n",
      "Epoch 8/10\n",
      "2956/2956 [==============================] - 6s 2ms/step - loss: 1.0041 - acc: 0.5995 - f1: 0.4591 - val_loss: 1.2782 - val_acc: 0.5183 - val_f1: 0.4231\n",
      "Epoch 9/10\n",
      "2956/2956 [==============================] - 7s 2ms/step - loss: 0.9618 - acc: 0.6012 - f1: 0.4931 - val_loss: 1.3129 - val_acc: 0.4899 - val_f1: 0.3568\n",
      "Epoch 10/10\n",
      "2956/2956 [==============================] - 7s 2ms/step - loss: 0.9372 - acc: 0.6289 - f1: 0.4817 - val_loss: 1.3016 - val_acc: 0.5223 - val_f1: 0.3872\n"
     ]
    },
    {
     "data": {
      "text/plain": [
       "<keras.callbacks.History at 0x13dcc6be0>"
      ]
     },
     "execution_count": 50,
     "metadata": {},
     "output_type": "execute_result"
    }
   ],
   "source": [
    "#train the model\n",
    "cnn_model_simple.fit(X_train, y_train, batch_size=500, validation_data=(X_test, y_test), epochs=10)"
   ]
  },
  {
   "cell_type": "code",
   "execution_count": 53,
   "metadata": {},
   "outputs": [
    {
     "name": "stdout",
     "output_type": "stream",
     "text": [
      "739/739 [==============================] - 0s 433us/step\n",
      "Loss = 1.3015789310567596\n",
      "Test Accuracy = 0.5223274695534507\n",
      "F1 score = 0.38492080032906123\n"
     ]
    }
   ],
   "source": [
    "preds = cnn_model_simple.evaluate(X_test, y_test)\n",
    "print (\"Loss = \" + str(preds[0]))  \n",
    "print (\"Test Accuracy = \" + str(preds[1]))\n",
    "print (\"F1 score = \" + str(preds[2]))"
   ]
  },
  {
   "cell_type": "code",
   "execution_count": 60,
   "metadata": {},
   "outputs": [
    {
     "name": "stdout",
     "output_type": "stream",
     "text": [
      "[[140   0   0   2   1   0  82]\n",
      " [  8   0   0   1   0   0  10]\n",
      " [ 15   0   0  18   1   0  57]\n",
      " [  8   0   3  99   1   0  37]\n",
      " [  2   0   2   4   2   0  14]\n",
      " [  1   0   0   1   0   0  12]\n",
      " [ 67   0   1   5   0   0 145]]\n"
     ]
    }
   ],
   "source": [
    "y_pred = cnn_model_simple.predict(X_test)\n",
    "y_pred_classes = np.argmax(y_pred, axis=1) \n",
    "y_test_classes = np.argmax(np.array(y_test).reshape(y_test.shape[0],7), axis=1) \n",
    "cm = confusion_matrix(y_test_classes,y_pred_classes)\n",
    "print(cm)"
   ]
  },
  {
   "cell_type": "code",
   "execution_count": 64,
   "metadata": {},
   "outputs": [
    {
     "name": "stdout",
     "output_type": "stream",
     "text": [
      "_________________________________________________________________\n",
      "Layer (type)                 Output Shape              Param #   \n",
      "=================================================================\n",
      "conv2d_16 (Conv2D)           (None, 2, 519, 64)        320       \n",
      "_________________________________________________________________\n",
      "batch_normalization_8 (Batch (None, 2, 519, 64)        256       \n",
      "_________________________________________________________________\n",
      "conv2d_17 (Conv2D)           (None, 1, 518, 36)        9252      \n",
      "_________________________________________________________________\n",
      "flatten_7 (Flatten)          (None, 18648)             0         \n",
      "_________________________________________________________________\n",
      "dense_7 (Dense)              (None, 7)                 130543    \n",
      "=================================================================\n",
      "Total params: 140,371\n",
      "Trainable params: 140,243\n",
      "Non-trainable params: 128\n",
      "_________________________________________________________________\n"
     ]
    }
   ],
   "source": [
    "cnn_model_simple.summary()"
   ]
  },
  {
   "cell_type": "markdown",
   "metadata": {},
   "source": [
    "- The above two convolutional neural networks provide similar accuracy and f1 score for the training, validation and test data.\n",
    "\n",
    "- In the cnn_model_CX, the use of max pooling reduces the number of parameters significantly, reducing the possibility of overfitting to some extent."
   ]
  },
  {
   "cell_type": "markdown",
   "metadata": {},
   "source": [
    "# Window size effect"
   ]
  },
  {
   "cell_type": "code",
   "execution_count": 68,
   "metadata": {},
   "outputs": [],
   "source": [
    "# set hyperparameters for the segmentation \n",
    "num_feature = 3 \n",
    "step_size   = 260        # frequency is 52 Hz.  \n",
    "segments    = []\n",
    "label       = []"
   ]
  },
  {
   "cell_type": "code",
   "execution_count": 71,
   "metadata": {},
   "outputs": [],
   "source": [
    "scaler_pipeline = Pipeline([\n",
    "                    ('std_scaler',StandardScaler())\n",
    "                    ])\n",
    "    \n",
    "def HAR_API(dfs,window_size):\n",
    "    \n",
    "    # Sample generation process\n",
    "    labels, segments4all_array = preprocess_data(dfs, window_size, step_size, num_feature)\n",
    "    \n",
    "    # encoding the label into one-hot\n",
    "    labels_OneHot = pd.get_dummies(labels)\n",
    "    \n",
    "\n",
    "    # scaling the data\n",
    "    segments_scaled = []\n",
    "    for m in range(0, segments4all_array.shape[0]):\n",
    "        segments_scaled.append(scaler_pipeline.fit_transform(segments4all_array[m]))\n",
    "\n",
    "    segments_array_scaled = np.array(segments_scaled) \n",
    "    \n",
    "    X_train, X_test, y_train, y_test = train_test_split(segments_array_scaled,labels_OneHot, \n",
    "                                                        test_size=0.2, random_state=None)\n",
    "    \n",
    "    X_train = np.expand_dims(X_train, axis=3)\n",
    "    X_test  = np.expand_dims(X_test, axis=3) \n",
    "    \n",
    "    \n",
    "    cnn_model = cnn_model_CX(num_feature, window_size) # input parameters determine input X dimension\n",
    "    cnn_model.compile(optimizer='adam', loss='categorical_crossentropy', metrics=['accuracy'])\n",
    "    #train the model\n",
    "    cnn_model.fit(X_train, y_train, validation_data=(X_test, y_test), epochs=10)\n",
    "    \n",
    "    y_pred = cnn_model.predict(X_test)\n",
    "    \n",
    "    preds = cnn_model.evaluate(X_test, y_test)\n",
    "    print (\"Loss = \" + str(preds[0]))  \n",
    "    print (\"Test Accuracy = \" + str(preds[1]))\n",
    "    return preds[1]"
   ]
  },
  {
   "cell_type": "code",
   "execution_count": 70,
   "metadata": {},
   "outputs": [
    {
     "name": "stdout",
     "output_type": "stream",
     "text": [
      " Window Size: 260\n",
      "\n",
      "Processing the data of class: 1\n",
      "\n"
     ]
    },
    {
     "data": {
      "application/vnd.jupyter.widget-view+json": {
       "model_id": "929ded29882b443191a0aaccc49db02c",
       "version_major": 2,
       "version_minor": 0
      },
      "text/plain": [
       "IntProgress(value=0, max=608652)"
      ]
     },
     "metadata": {},
     "output_type": "display_data"
    },
    {
     "name": "stdout",
     "output_type": "stream",
     "text": [
      "Processing the data of class: 2\n",
      "\n"
     ]
    },
    {
     "data": {
      "application/vnd.jupyter.widget-view+json": {
       "model_id": "6ec22cc9f93740a3922d8a6daba4497e",
       "version_major": 2,
       "version_minor": 0
      },
      "text/plain": [
       "IntProgress(value=0, max=47878)"
      ]
     },
     "metadata": {},
     "output_type": "display_data"
    },
    {
     "name": "stdout",
     "output_type": "stream",
     "text": [
      "Processing the data of class: 3\n",
      "\n"
     ]
    },
    {
     "data": {
      "application/vnd.jupyter.widget-view+json": {
       "model_id": "6c6c301ab98e4ee3b9c7676dc2300780",
       "version_major": 2,
       "version_minor": 0
      },
      "text/plain": [
       "IntProgress(value=0, max=216737)"
      ]
     },
     "metadata": {},
     "output_type": "display_data"
    },
    {
     "name": "stdout",
     "output_type": "stream",
     "text": [
      "Processing the data of class: 4\n",
      "\n"
     ]
    },
    {
     "data": {
      "application/vnd.jupyter.widget-view+json": {
       "model_id": "8e94c5c773154ba3b46f71a1392a2cec",
       "version_major": 2,
       "version_minor": 0
      },
      "text/plain": [
       "IntProgress(value=0, max=357064)"
      ]
     },
     "metadata": {},
     "output_type": "display_data"
    },
    {
     "name": "stdout",
     "output_type": "stream",
     "text": [
      "Processing the data of class: 5\n",
      "\n"
     ]
    },
    {
     "data": {
      "application/vnd.jupyter.widget-view+json": {
       "model_id": "79b2804a520e4b11af120a9b60086b43",
       "version_major": 2,
       "version_minor": 0
      },
      "text/plain": [
       "IntProgress(value=0, max=51498)"
      ]
     },
     "metadata": {},
     "output_type": "display_data"
    },
    {
     "name": "stdout",
     "output_type": "stream",
     "text": [
      "Processing the data of class: 6\n",
      "\n"
     ]
    },
    {
     "data": {
      "application/vnd.jupyter.widget-view+json": {
       "model_id": "39805d155836463e92c21d62be353ae0",
       "version_major": 2,
       "version_minor": 0
      },
      "text/plain": [
       "IntProgress(value=0, max=47770)"
      ]
     },
     "metadata": {},
     "output_type": "display_data"
    },
    {
     "name": "stdout",
     "output_type": "stream",
     "text": [
      "Processing the data of class: 7\n",
      "\n"
     ]
    },
    {
     "data": {
      "application/vnd.jupyter.widget-view+json": {
       "model_id": "181ad249b43c477a96f9c2cc65a3bdd2",
       "version_major": 2,
       "version_minor": 0
      },
      "text/plain": [
       "IntProgress(value=0, max=593563)"
      ]
     },
     "metadata": {},
     "output_type": "display_data"
    },
    {
     "ename": "TypeError",
     "evalue": "__call__() missing 1 required positional argument: 'inputs'",
     "output_type": "error",
     "traceback": [
      "\u001b[0;31m---------------------------------------------------------------------------\u001b[0m",
      "\u001b[0;31mTypeError\u001b[0m                                 Traceback (most recent call last)",
      "\u001b[0;32m<ipython-input-70-2462ee2c7211>\u001b[0m in \u001b[0;36m<module>\u001b[0;34m()\u001b[0m\n\u001b[1;32m      6\u001b[0m     \u001b[0mprint\u001b[0m\u001b[0;34m(\u001b[0m\u001b[0;34m\" Window Size: {}\\n\"\u001b[0m\u001b[0;34m.\u001b[0m\u001b[0mformat\u001b[0m\u001b[0;34m(\u001b[0m\u001b[0mwindow_size\u001b[0m\u001b[0;34m)\u001b[0m\u001b[0;34m)\u001b[0m\u001b[0;34m\u001b[0m\u001b[0m\n\u001b[1;32m      7\u001b[0m \u001b[0;34m\u001b[0m\u001b[0m\n\u001b[0;32m----> 8\u001b[0;31m     \u001b[0mtest_accuracy\u001b[0m\u001b[0;34m.\u001b[0m\u001b[0mappend\u001b[0m\u001b[0;34m(\u001b[0m\u001b[0;34m[\u001b[0m\u001b[0mwindow_size\u001b[0m\u001b[0;34m,\u001b[0m \u001b[0mHAR_API\u001b[0m\u001b[0;34m(\u001b[0m\u001b[0mdfs\u001b[0m\u001b[0;34m,\u001b[0m\u001b[0mwindow_size\u001b[0m\u001b[0;34m)\u001b[0m\u001b[0;34m]\u001b[0m\u001b[0;34m)\u001b[0m\u001b[0;34m\u001b[0m\u001b[0m\n\u001b[0m\u001b[1;32m      9\u001b[0m \u001b[0;34m\u001b[0m\u001b[0m\n",
      "\u001b[0;32m<ipython-input-69-28e5fd071eb3>\u001b[0m in \u001b[0;36mHAR_API\u001b[0;34m(dfs, window_size)\u001b[0m\n\u001b[1;32m     26\u001b[0m \u001b[0;34m\u001b[0m\u001b[0m\n\u001b[1;32m     27\u001b[0m \u001b[0;34m\u001b[0m\u001b[0m\n\u001b[0;32m---> 28\u001b[0;31m     \u001b[0mcnn_model\u001b[0m \u001b[0;34m=\u001b[0m \u001b[0mcnn_model_CX\u001b[0m\u001b[0;34m(\u001b[0m\u001b[0;34m)\u001b[0m\u001b[0;34m\u001b[0m\u001b[0m\n\u001b[0m\u001b[1;32m     29\u001b[0m     \u001b[0mcnn_model\u001b[0m\u001b[0;34m.\u001b[0m\u001b[0mcompile\u001b[0m\u001b[0;34m(\u001b[0m\u001b[0moptimizer\u001b[0m\u001b[0;34m=\u001b[0m\u001b[0;34m'adam'\u001b[0m\u001b[0;34m,\u001b[0m \u001b[0mloss\u001b[0m\u001b[0;34m=\u001b[0m\u001b[0;34m'categorical_crossentropy'\u001b[0m\u001b[0;34m,\u001b[0m \u001b[0mmetrics\u001b[0m\u001b[0;34m=\u001b[0m\u001b[0;34m[\u001b[0m\u001b[0;34m'accuracy'\u001b[0m\u001b[0;34m]\u001b[0m\u001b[0;34m)\u001b[0m\u001b[0;34m\u001b[0m\u001b[0m\n\u001b[1;32m     30\u001b[0m     \u001b[0;31m#train the model\u001b[0m\u001b[0;34m\u001b[0m\u001b[0;34m\u001b[0m\u001b[0m\n",
      "\u001b[0;31mTypeError\u001b[0m: __call__() missing 1 required positional argument: 'inputs'"
     ]
    }
   ],
   "source": [
    "\n",
    "test_accuracy =[]\n",
    "\n",
    "for window_size in range(260,2600,260):  # 2s - 20 s\n",
    "    \n",
    "    print(\" Window Size: {}\\n\".format(window_size))\n",
    "    \n",
    "    test_accuracy.append([window_size, HAR_API(dfs,window_size)])\n",
    "    \n"
   ]
  },
  {
   "cell_type": "code",
   "execution_count": 16,
   "metadata": {},
   "outputs": [
    {
     "data": {
      "text/plain": [
       "[[520, 0.5182679297152972],\n",
       " [1040, 0.5284552845528455],\n",
       " [1560, 0.4993215739484396],\n",
       " [2080, 0.5619047612965512],\n",
       " [2600, 0.47411444190412516],\n",
       " [3120, 0.45081967164258485],\n",
       " [3640, 0.5485636110834156],\n",
       " [4160, 0.33013698654632045],\n",
       " [4680, 0.2815934065934066]]"
      ]
     },
     "execution_count": 16,
     "metadata": {},
     "output_type": "execute_result"
    }
   ],
   "source": [
    "test_accuracy"
   ]
  },
  {
   "cell_type": "code",
   "execution_count": 17,
   "metadata": {},
   "outputs": [
    {
     "data": {
      "text/plain": [
       "[520, 0.5182679297152972]"
      ]
     },
     "execution_count": 17,
     "metadata": {},
     "output_type": "execute_result"
    }
   ],
   "source": [
    "test_accuracy[0]"
   ]
  },
  {
   "cell_type": "code",
   "execution_count": 29,
   "metadata": {},
   "outputs": [],
   "source": [
    "test_accuracy_df = pd.DataFrame(test_accuracy)\n",
    "test_accuracy_df.columns=['window_size', 'test_accuracy']"
   ]
  },
  {
   "cell_type": "code",
   "execution_count": 30,
   "metadata": {},
   "outputs": [
    {
     "data": {
      "text/html": [
       "<div>\n",
       "<style scoped>\n",
       "    .dataframe tbody tr th:only-of-type {\n",
       "        vertical-align: middle;\n",
       "    }\n",
       "\n",
       "    .dataframe tbody tr th {\n",
       "        vertical-align: top;\n",
       "    }\n",
       "\n",
       "    .dataframe thead th {\n",
       "        text-align: right;\n",
       "    }\n",
       "</style>\n",
       "<table border=\"1\" class=\"dataframe\">\n",
       "  <thead>\n",
       "    <tr style=\"text-align: right;\">\n",
       "      <th></th>\n",
       "      <th>window_size</th>\n",
       "      <th>test_accuracy</th>\n",
       "    </tr>\n",
       "  </thead>\n",
       "  <tbody>\n",
       "    <tr>\n",
       "      <th>0</th>\n",
       "      <td>520</td>\n",
       "      <td>0.518268</td>\n",
       "    </tr>\n",
       "    <tr>\n",
       "      <th>1</th>\n",
       "      <td>1040</td>\n",
       "      <td>0.528455</td>\n",
       "    </tr>\n",
       "    <tr>\n",
       "      <th>2</th>\n",
       "      <td>1560</td>\n",
       "      <td>0.499322</td>\n",
       "    </tr>\n",
       "    <tr>\n",
       "      <th>3</th>\n",
       "      <td>2080</td>\n",
       "      <td>0.561905</td>\n",
       "    </tr>\n",
       "    <tr>\n",
       "      <th>4</th>\n",
       "      <td>2600</td>\n",
       "      <td>0.474114</td>\n",
       "    </tr>\n",
       "    <tr>\n",
       "      <th>5</th>\n",
       "      <td>3120</td>\n",
       "      <td>0.450820</td>\n",
       "    </tr>\n",
       "    <tr>\n",
       "      <th>6</th>\n",
       "      <td>3640</td>\n",
       "      <td>0.548564</td>\n",
       "    </tr>\n",
       "    <tr>\n",
       "      <th>7</th>\n",
       "      <td>4160</td>\n",
       "      <td>0.330137</td>\n",
       "    </tr>\n",
       "    <tr>\n",
       "      <th>8</th>\n",
       "      <td>4680</td>\n",
       "      <td>0.281593</td>\n",
       "    </tr>\n",
       "  </tbody>\n",
       "</table>\n",
       "</div>"
      ],
      "text/plain": [
       "   window_size  test_accuracy\n",
       "0          520       0.518268\n",
       "1         1040       0.528455\n",
       "2         1560       0.499322\n",
       "3         2080       0.561905\n",
       "4         2600       0.474114\n",
       "5         3120       0.450820\n",
       "6         3640       0.548564\n",
       "7         4160       0.330137\n",
       "8         4680       0.281593"
      ]
     },
     "execution_count": 30,
     "metadata": {},
     "output_type": "execute_result"
    }
   ],
   "source": [
    "test_accuracy_df"
   ]
  },
  {
   "cell_type": "code",
   "execution_count": 34,
   "metadata": {},
   "outputs": [
    {
     "data": {
      "text/plain": [
       "<matplotlib.legend.Legend at 0x13e283a58>"
      ]
     },
     "execution_count": 34,
     "metadata": {},
     "output_type": "execute_result"
    },
    {
     "data": {
      "image/png": "[encoded data removed]",
      "text/plain": [
       "<Figure size 432x288 with 1 Axes>"
      ]
     },
     "metadata": {},
     "output_type": "display_data"
    }
   ],
   "source": [
    "plt.plot(test_accuracy_df['window_size'].values, test_accuracy_df['test_accuracy'].values, c='r',label='ConvNet (epoch=10)')\n",
    "set_figstyle(520,5200,0,1,'Window Size','Test Accuracy',True) \n",
    "plt.legend(fontsize=16)"
   ]
  },
  {
   "cell_type": "markdown",
   "metadata": {},
   "source": [
    "# Conclusion\n",
    "\n",
    "\n",
    "** Overfitting problem**\n",
    "\n",
    "- With the increase of epoch, the accuracy is smoothly increasing, while that of the validation data is almost constant (around 0.5).\n",
    "\n",
    "- The accuracy of the test data is similar to that of the validation dataset. It implies that there is  **overfitting** in the CNN model.\n",
    "\n",
    "- The number of total parameters is 124,839 which is more than one order of magnitude larger than the sample size (number of segments). The obvervation of overfitting is within expectation.\n",
    "\n",
    "- To reduce the overfitting, one may need more segments/samples. \n",
    "\n"
   ]
  },
  {
   "cell_type": "code",
   "execution_count": null,
   "metadata": {},
   "outputs": [],
   "source": []
  }
 ],
 "metadata": {
  "kernelspec": {
   "display_name": "Python 3",
   "language": "python",
   "name": "python3"
  },
  "language_info": {
   "codemirror_mode": {
    "name": "ipython",
    "version": 3
   },
   "file_extension": ".py",
   "mimetype": "text/x-python",
   "name": "python",
   "nbconvert_exporter": "python",
   "pygments_lexer": "ipython3",
   "version": "3.6.5"
  },
  "toc": {
   "base_numbering": 1,
   "nav_menu": {},
   "number_sections": true,
   "sideBar": true,
   "skip_h1_title": false,
   "title_cell": "Table of Contents",
   "title_sidebar": "Contents",
   "toc_cell": false,
   "toc_position": {},
   "toc_section_display": true,
   "toc_window_display": true
  },
  "varInspector": {
   "cols": {
    "lenName": 16,
    "lenType": 16,
    "lenVar": 40
   },
   "kernels_config": {
    "python": {
     "delete_cmd_postfix": "",
     "delete_cmd_prefix": "del ",
     "library": "var_list.py",
     "varRefreshCmd": "print(var_dic_list())"
    },
    "r": {
     "delete_cmd_postfix": ") ",
     "delete_cmd_prefix": "rm(",
     "library": "var_list.r",
     "varRefreshCmd": "cat(var_dic_list()) "
    }
   },
   "types_to_exclude": [
    "module",
    "function",
    "builtin_function_or_method",
    "instance",
    "_Feature"
   ],
   "window_display": false
  }
 },
 "nbformat": 4,
 "nbformat_minor": 2
}
