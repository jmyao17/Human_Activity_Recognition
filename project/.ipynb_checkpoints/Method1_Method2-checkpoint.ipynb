{
 "cells": [
  {
   "cell_type": "markdown",
   "metadata": {},
   "source": [
    "# Introduction to the project\n",
    "\n",
    "\n",
    "## Problem/Object \n",
    "\n",
    "Details:\n",
    "Ultimately this is a time-series classification project where you are trying to classify the following classes (codified by numbers): \n",
    "\n",
    "    1: Working at Computer\n",
    "    2: Standing Up, Walking and Going Up/Downstairs\n",
    "    3: Standing\n",
    "    4: Walking\n",
    "    5: Going Up/Down Stairs\n",
    "    6: Walking and Talking with Someone\n",
    "    7: Talking while Standing\n",
    "\n",
    "Though a full analysis is not required, a discussion of how the windowing of the data will affect the analysis is expected. The ideal classification model will be able to use minimal quantities/time windows of the data to predict each class (i.e. not the entire time-series per user per class).\n",
    "\n",
    "Data Set Information:\n",
    "\n",
    "    --- The dataset collects data from a wearable accelerometer mounted on the chest\n",
    "    --- Sampling frequency of the accelerometer: 52 Hz\n",
    "    --- Accelerometer data are uncalibrated\n",
    "    --- Number of participants: 15\n",
    "    --- Number of activities: 7\n",
    "    --- Data format: CSV\n",
    "\n",
    "Attribute Information:\n",
    "\n",
    "    --- Data are separated by the participant\n",
    "    --- Each file contains the following information:\n",
    "    --- Sequential number, x acceleration, y acceleration, z acceleration, label\n",
    "    --- Labels are codified by numbers\n",
    "\n",
    "Context: Uncalibrated Accelerometer Data are collected from 15 participants performing 7 activities. The dataset provides challenges for identification and authentication of people using motion patterns.\n",
    "\n",
    "Please provide preferably a Jupyter Notebook, or otherwise an R Markdown file, with your analysis.\n",
    "\n",
    "Evaluation Criteria:\n",
    "The mini-project will be evaluated on the following criteria:\n",
    "\n",
    "    1) Code and visualization quality (especially in exploring the data)\n",
    "    2) Feature generation/model creation/analysis flow/methodology.\n",
    "    3) Validation method(s)/metrics/statistics/plots\n",
    "    4) Conclusions/recommendations - Are we data limited, noise limited, overfitting/underfitting? How would you improve the model? i.e. I don't particularly care if the model is optimally tuned so long as you know where it can be improved and how much a bump you might expect.\n",
    "\n",
    "Caveat for Using Open-source Libraries/Packages:\n",
    "You are welcome to use any open-source libraries/packages/resources but keep in mind that you will be quizzed on details of what is going on under-the-hood. In particular, I would very much prefer if you didn't just use pre-trained algorithms/models. This goes especially for pre-trained models. In other words, we are not looking for a black-box solution that gets us X% even if it's better than what you are getting from engineering your own features.\n",
    "\n",
    "Sklearn/XGBoost and similar generic stuff are fair game - but you will be asked about tuning, limitations and/or improvements in the next stage if you don't already discuss them in your notebook. "
   ]
  },
  {
   "cell_type": "markdown",
   "metadata": {},
   "source": [
    "## Basic ideas and plans\n",
    "\n",
    "\n",
    "This project is about Human Activity Recognition (HAR) based on wearable sensor data. The available data is called \"raw data\", which has to be preprocessed in order to be better feeded into machine learning models. The raw data is time-series type, and contains essentially three features (x acceleration, y acceleration, z acceleration), in additional to the sequential number and label of activities. \n",
    "\n",
    "In this notebook, I try to use different machine-learning algorithms to train the models.\n",
    "The procedure is as follows:\n",
    "\n",
    "1) load all the data for all the participants and visualize the data to get some ideas on the properties of the data.\n",
    "\n",
    "2) Since the data on activities is a function of time, it is natural to introduce a sliding window, also called temporal window, to split the raw data into setiments of same size (determined by window size), which forms the set of samples for training model.\n",
    "\n",
    "3) With these samples, one can proceed at least in two different ways:\n",
    "\n",
    "    I. extracting some new features from each sample, such as mean, variance and mean absolute deviation of the three features (x acceleration, y acceleration, z acceleration), and using these new features to characterize each sample. This methods are refered to \"Methods based on Handcrafted Features\".\n",
    "    \n",
    "    II. taking each sample as an image of dimension (3, window size)\n",
    "    \n",
    "4) For the case I, I try several different traditional machine leanring algotrithms, such as logistic regression, decision strees, and ensembles (voting, or boosting).\n",
    "\n",
    "5) For the case II, I take one of the deep learning algorithms, convolution network. Of course one can also try recurrent neural network, LSTM, etc.\n",
    "\n",
    "\n",
    "In this notebook, I will try two ways and make comparison between them. Because of the time limitation, fine tuning of the parameters will not be performed. \n",
    "\n"
   ]
  },
  {
   "cell_type": "markdown",
   "metadata": {},
   "source": [
    "# Include packages and define help functions"
   ]
  },
  {
   "cell_type": "code",
   "execution_count": 154,
   "metadata": {},
   "outputs": [],
   "source": [
    "import pandas as pd\n",
    "import numpy as np\n",
    "\n",
    "import seaborn as sn\n",
    "import matplotlib.pyplot as plt \n",
    "\n",
    "from matplotlib.ticker import MultipleLocator, FormatStrFormatter\n",
    "from matplotlib.ticker import AutoMinorLocator\n",
    "import matplotlib.ticker as ticker\n",
    "\n",
    "from sklearn.pipeline import Pipeline\n",
    "from sklearn.pipeline import make_pipeline\n",
    "\n",
    "from sklearn.preprocessing import StandardScaler, RobustScaler\n",
    "\n",
    "from sklearn.model_selection import train_test_split\n",
    "from sklearn import metrics\n",
    "\n",
    "from ipywidgets import IntProgress\n",
    "from IPython.display import display\n",
    "import time\n",
    " \n",
    "import keras\n",
    "from keras import layers\n",
    "from keras.layers import Input, Dense, Activation, ZeroPadding2D, BatchNormalization, Flatten, Conv2D, LeakyReLU\n",
    "from keras.layers import AveragePooling2D, MaxPooling2D, Dropout, GlobalMaxPooling2D, GlobalAveragePooling2D\n",
    "from keras.models import Model, load_model\n",
    "from keras.models import Sequential    \n",
    "\n",
    "from keras import backend as K\n",
    "\n",
    "from sklearn.metrics import confusion_matrix, f1_score\n",
    "\n",
    "from sklearn.model_selection import cross_val_score\n",
    "\n",
    "import keras_metrics as km\n",
    "\n",
    "from matplotlib.mlab import griddata  \n",
    "from matplotlib.ticker import (MultipleLocator, FormatStrFormatter,\n",
    "                               AutoMinorLocator) \n",
    "\n",
    "\n",
    "from sklearn.decomposition import PCA\n",
    "import ggplot \n",
    "from ggplot import *\n",
    "\n",
    "\n",
    "import warnings\n",
    "warnings.filterwarnings('ignore')"
   ]
  },
  {
   "cell_type": "code",
   "execution_count": 2,
   "metadata": {},
   "outputs": [],
   "source": [
    "def load_data(features):\n",
    "    dfs = [] \n",
    "    for i in range(1,16):\n",
    "    \n",
    "        filename = 'Activity Recognition from Single Chest-Mounted Accelerometer/'+str(i)+'.csv'\n",
    "    \n",
    "        df_temp = pd.read_csv(filename)\n",
    "        df_temp.columns = [features]\n",
    "        dfs.append(df_temp)\n",
    "\n",
    "        print(\"Time Duration for the {}-th participant is {} seconds\".format(i,np.ceil(df_temp.shape[0]/52)))\n",
    "    return dfs"
   ]
  },
  {
   "cell_type": "code",
   "execution_count": 3,
   "metadata": {},
   "outputs": [],
   "source": [
    "def set_figstyle(xmin,xmax,ymin,ymax,xlabel,ylabel,how):\n",
    "    \"\"\"\n",
    "        how --  True: label both sides of y;\n",
    "                False: only label the left side\n",
    "    \"\"\"\n",
    "    plt.xlabel(xlabel,fontsize=24)\n",
    "    plt.ylabel(ylabel, fontsize=24)\n",
    "    plt.ylim(ymin,ymax)\n",
    "    plt.xlim(xmin,xmax)\n",
    "    plt.tick_params(which='major',direction='in',length=10,labelsize=20)\n",
    "    plt.tick_params(which='minor',direction='in',length=5,labelsize=20)\n",
    "    plt.tick_params(labelbottom=True, labeltop=False, labelleft=True, labelright=how,\n",
    "                    bottom=True, top=False, left=True, right=True)"
   ]
  },
  {
   "cell_type": "code",
   "execution_count": 4,
   "metadata": {},
   "outputs": [],
   "source": [
    "def plot_data4AllClass(df,features):\n",
    "\n",
    "    x1 = features[0]\n",
    "    ys = features[1:]\n",
    "\n",
    "    plt.figure(figsize=(10,6))\n",
    "    for y in ys[:-1]: \n",
    "        plt.scatter(dfs[0][x1],dfs[0][y],c=dfs[0][ys[-1]],label=y)\n",
    "\n",
    "    set_figstyle(0,dfs[0].shape[0],1300,3000,'sequential_number (k)','acceleration',True)\n",
    "    plt.gca().set_xticklabels([int(x/1000) for x in plt.gca().get_xticks()]) "
   ]
  },
  {
   "cell_type": "code",
   "execution_count": 5,
   "metadata": {},
   "outputs": [],
   "source": [
    "def plot_data4EachClass(df, features):\n",
    "    \n",
    "    \"\"\"\n",
    "    parameters:\n",
    "    ===========\n",
    "    df: DataFrame for each participant\n",
    "    features: column name in the DataFrame\n",
    "    \n",
    "    Output:\n",
    "    =======\n",
    "    divide the data based on class and plot each figure for each class\n",
    "    \"\"\"\n",
    "    \n",
    "    x1 = features[0]\n",
    "    ys = features[1:]\n",
    "\n",
    "    fig, axs = plt.subplots(3, 3, figsize=(14,12)) \n",
    "    plt.tight_layout()   \n",
    "    \n",
    "\n",
    "    for i in range(1,8):\n",
    "        class_label = i  \n",
    "        \n",
    "        df_class = df[df['label'].values == i]\n",
    "\n",
    "        if i>7:\n",
    "            break\n",
    "\n",
    "\n",
    "\n",
    "        plt.subplot(3,3,i)\n",
    "\n",
    "        plt.subplots_adjust(hspace = 0.3, wspace=0.3)\n",
    "\n",
    "        for y in ys[:-1]:\n",
    "            plt.scatter(df_class[x1].values,df_class[y].values,label=y)\n",
    "\n",
    "\n",
    "        plt.gca().set_xticklabels([int(x/1000) for x in plt.gca().get_xticks()]) \n",
    "        plt.title('class'+  str(class_label))\n",
    "        plt.xlabel('sequential_number (k)')\n",
    "        plt.ylabel('acceleration')\n",
    "        plt.legend()  "
   ]
  },
  {
   "cell_type": "code",
   "execution_count": 310,
   "metadata": {},
   "outputs": [],
   "source": [
    "def get_features(dfs, window_size, step_size):\n",
    "    \n",
    "    # concat the data for all the 15 participants\n",
    "    df = pd.concat(dfs[i] for i in range(0,len(dfs))) \n",
    "    \n",
    "    segments = []\n",
    "    \n",
    "    for class_label in range(1,8): \n",
    "\n",
    "        df_class = df[df['label'].values == class_label]\n",
    "        \n",
    "        assert len(df_class) > window_size\n",
    "\n",
    "        for i in range(0, len(df_class) - window_size, step_size):\n",
    "\n",
    "            start = i\n",
    "            end   = i + window_size\n",
    "\n",
    "            x_seg = df_class['x_acceleration'].values[start: end]\n",
    "            y_seg = df_class['y_acceleration'].values[start: end]        \n",
    "            z_seg = df_class['z_acceleration'].values[start: end]\n",
    "\n",
    "            segments.append([x_seg.mean(), y_seg.mean(), z_seg.mean(), \n",
    "                             x_seg.var(), y_seg.var(), z_seg.var(),\n",
    "                             x_seg.max(), y_seg.max(), z_seg.max(),\n",
    "                             x_seg.min(), y_seg.min(), z_seg.min(),\n",
    "                             pd.DataFrame(x_seg).mad(), pd.DataFrame(y_seg).mad(), \n",
    "                             pd.DataFrame(z_seg).mad(),\n",
    "                             class_label]) \n",
    "            \n",
    "    return segments\n",
    "\n",
    "\n",
    "def get_features_balanced(dfs, window_size_array, step_size_array):\n",
    "     \n",
    "    \n",
    "    # concat the data for all the 15 participants\n",
    "    df = pd.concat(dfs[i] for i in range(0,len(dfs))) \n",
    "    \n",
    "    segments = []\n",
    "    \n",
    "    for class_label in range(1,8): \n",
    "\n",
    "        df_class = df[df['label'].values == class_label]\n",
    "        \n",
    "        window_size = window_size_array[class_label-1]\n",
    "        step_size   = step_size_array[class_label-1]\n",
    "        \n",
    "        assert len(df_class) > window_size\n",
    "        \n",
    "        sample_size = 0\n",
    "        for i in range(0, len(df_class) - window_size, step_size):\n",
    "            \n",
    "            sample_size +=1\n",
    "\n",
    "            start = i\n",
    "            end   = i + window_size\n",
    "\n",
    "            x_seg = df_class['x_acceleration'].values[start: end]\n",
    "            y_seg = df_class['y_acceleration'].values[start: end]        \n",
    "            z_seg = df_class['z_acceleration'].values[start: end]\n",
    "\n",
    "            segments.append([x_seg.mean(), y_seg.mean(), z_seg.mean(), \n",
    "                             x_seg.var(), y_seg.var(), z_seg.var(),\n",
    "                             x_seg.max(), y_seg.max(), z_seg.max(),\n",
    "                             x_seg.min(), y_seg.min(), z_seg.min(),\n",
    "                             pd.DataFrame(x_seg).mad(), pd.DataFrame(y_seg).mad(), \n",
    "                             pd.DataFrame(z_seg).mad(),\n",
    "                             class_label]) \n",
    "        \n",
    "        print(\"class: {}, window_size: {}, step_size: {}, sample_size: {}\".format(class_label, \n",
    "                                                                                  window_size, \n",
    "                                                                                  step_size,\n",
    "                                                                                 sample_size))\n",
    "    return segments"
   ]
  },
  {
   "cell_type": "code",
   "execution_count": 7,
   "metadata": {},
   "outputs": [],
   "source": [
    "# for 15 participants\n",
    "\n",
    "def get_segments4All(dfs, window_size, step_size, progress_bar): \n",
    "    \n",
    "    segments = []\n",
    "    labels = []\n",
    "    \n",
    "    \n",
    "    df = pd.concat(dfs[p] for p in range(0,len(dfs)))\n",
    "    \n",
    "        # loop over class [1,2,..,7]\n",
    "         \n",
    "    \n",
    "    for class_label in range(1,8):\n",
    "        \n",
    "        print(\"Processing the data of class: {}\\n\".format(class_label))\n",
    "         \n",
    "        df_class = df[df['label'].values == class_label]\n",
    "        assert len(df_class) > window_size\n",
    "\n",
    "\n",
    "            # for each  given class, slide the window\n",
    "            #for i in range(0,len(df_class)- window_size, step_size): \n",
    "            \n",
    "        # progress bar\n",
    "        if  progress_bar:\n",
    "            f = IntProgress(min=0, max=len(df_class)) # instantiate the bar\n",
    "            display(f) # display the bar \n",
    "    \n",
    "        for i in range(0,len(df_class) - window_size, step_size):\n",
    "            start = i\n",
    "            end   = i + window_size\n",
    "            xseg = df_class['x_acceleration'].values[start: end]\n",
    "            yseg = df_class['y_acceleration'].values[start: end]\n",
    "            zseg = df_class['z_acceleration'].values[start: end]\n",
    "            segments.append([xseg, yseg, zseg]) \n",
    "            labels.append(class_label)\n",
    "            \n",
    "            if  progress_bar:\n",
    "                f.value += step_size # signal to increment the progress bar\n",
    "\n",
    "\n",
    "            \n",
    "    return labels,segments"
   ]
  },
  {
   "cell_type": "code",
   "execution_count": 8,
   "metadata": {},
   "outputs": [],
   "source": [
    "def preprocess_data(dfs, window_size, step_size, num_feature):\n",
    "    \n",
    "    labels4all,segments4all = get_segments4All(dfs, window_size, step_size, False)\n",
    "    segments4all_array      = np.array(segments4all, dtype=np.float64).reshape(-1,num_feature, window_size)\n",
    "    \n",
    "    return labels4all, segments4all_array"
   ]
  },
  {
   "cell_type": "code",
   "execution_count": 208,
   "metadata": {},
   "outputs": [],
   "source": [
    "def decision_trees_gridsearch(X_train,y_train,X_test,y_test,criterions,max_depths,min_samples_leaves):\n",
    "    \n",
    "    F1_weighted = 0.0\n",
    "    best_accuracy = 0.0\n",
    "\n",
    "    results = []\n",
    "\n",
    "    for  criterion in criterions:\n",
    "        for max_depth in max_depths:\n",
    "            for min_samples_leaf in min_samples_leaves:\n",
    "\n",
    "                tree_clf = make_pipeline(RobustScaler(),\n",
    "                                        DecisionTreeClassifier(   \\\n",
    "                                                  criterion=criterion, \n",
    "                                                  max_depth=max_depth, \n",
    "                                                  min_samples_leaf=min_samples_leaf)).fit(X=X_train, y=y_train)\n",
    "\n",
    "                y_pred = tree_clf.predict(X_test)\n",
    "\n",
    "                F1_temp = f1_score(y_test,y_pred,average='weighted')\n",
    "                accuracy_tmp = metrics.accuracy_score(y_test, y_pred)\n",
    "                \n",
    "                results.append([criterion,max_depth,min_samples_leaf,F1_temp,accuracy_tmp])\n",
    "\n",
    "\n",
    "                # save the best case based on F1 weighted score\n",
    "                #if F1_temp*accuracy_tmp/(F1_temp+accuracy_tmp) > F1_weighted*best_accuracy/(F1_weighted*best_accuracy+0.00001):\n",
    "                if F1_temp > F1_weighted:\n",
    "                    \n",
    "                    F1_weighted = F1_temp\n",
    "                    tree_clf_best  = tree_clf\n",
    "                    best_parameter = [criterion,max_depth,min_samples_leaf]\n",
    "                    cm_best = metrics.confusion_matrix(y_test,y_pred)\n",
    "                    print('criterion: {}, max_depth: {}, min_samples_leaf: {}, F1_temp: {}, accuracy_tmp: {}'.format(criterion,max_depth,min_samples_leaf,F1_temp,accuracy_tmp))\n",
    "\n",
    "                 \n",
    "    return results,tree_clf_best,cm_best,best_parameter\n",
    "\n",
    "\n",
    "def knn_gridsearch(X_train,y_train,X_test,y_test,n_neighbors_range):\n",
    "    \n",
    "    \n",
    "    \n",
    "    # empty list that will hold cv scores\n",
    "    F1_weighted   = 0.0\n",
    "    best_accuracy = 0.0 \n",
    "    scores        = []\n",
    "\n",
    "    for  k  in n_neighbors_range:  \n",
    "        \n",
    "        knn_clf = make_pipeline(RobustScaler(),\n",
    "                            KNeighborsClassifier(n_neighbors=k)).fit(X=X_train, y=y_train) \n",
    "                \n",
    "        y_pred       = knn_clf.predict(X_test)  \n",
    "        F1_temp      = f1_score(y_test,y_pred,average='weighted')\n",
    "        accuracy_tmp = metrics.accuracy_score(y_test, y_pred)\n",
    "        \n",
    "        scores.append([k,F1_temp,accuracy_tmp])\n",
    "        \n",
    "        if F1_temp > F1_weighted:\n",
    "            \n",
    "            F1_weighted    = F1_temp\n",
    "            knn_clf_best   = knn_clf\n",
    "            best_parameter = k\n",
    "            cm_best        = metrics.confusion_matrix(y_test,y_pred)\n",
    "            \n",
    "            print('k: {}, F1_score: {}, accuracy: {}'.format(k,F1_weighted,accuracy_tmp))\n",
    "\n",
    "                 \n",
    "    return scores,knn_clf_best,cm_best,best_parameter"
   ]
  },
  {
   "cell_type": "code",
   "execution_count": 10,
   "metadata": {},
   "outputs": [],
   "source": [
    "def model_simple(num_feature,window_size):\n",
    "    #create model\n",
    "    model = Sequential()\n",
    "    #add model layers\n",
    "    model.add(Conv2D(64, (2,2), activation='relu', input_shape=(num_feature,window_size,1))) # 64 nodes, 3x3 filter matrix\n",
    "    \n",
    "    model.add(BatchNormalization())\n",
    "    \n",
    "    model.add(Conv2D(36, (2,2), activation='relu'))\n",
    "    model.add(Flatten())\n",
    "    model.add(Dense(7, activation='softmax'))\n",
    "    return model\n",
    "\n",
    "\n",
    "\n",
    "def model_CX(num_feature,window_size):\n",
    "    \"\"\"\n",
    "    \n",
    "    \"\"\"\n",
    "    \n",
    "    model = Sequential()  \n",
    "    model.add(Conv2D(18, (2, 12), padding='same', input_shape=(num_feature,window_size,1)))\n",
    "    model.add(MaxPooling2D(pool_size=(1, 2)))\n",
    "    #model.add(BatchNormalization())\n",
    "    model.add(LeakyReLU())\n",
    "    \n",
    "    model.add(Conv2D(36, (1, 12), strides=2, padding='same'))\n",
    "    model.add(MaxPooling2D(pool_size=(1, 2)))\n",
    "    #model.add(BatchNormalization())\n",
    "    model.add(LeakyReLU())\n",
    "    \n",
    "    model.add(Conv2D(24, (1, 12), padding='same', activation='relu'))\n",
    "    model.add(MaxPooling2D(pool_size=(1, 2)))\n",
    "    \n",
    "    model.add(Flatten())\n",
    "    model.add(Dense(7, activation='softmax'))\n",
    "    \n",
    "    return model "
   ]
  },
  {
   "cell_type": "code",
   "execution_count": 11,
   "metadata": {},
   "outputs": [],
   "source": [
    "# precision is the fraction of events where we correctly declared 𝑖 \n",
    "# out of all instances where the algorithm declared 𝑖.\n",
    "# Conversely, recall is the fraction of events where we correctly declared 𝑖\n",
    "# out of all of the cases where the true of state of the world is 𝑖\n",
    "\n",
    "\n",
    "\n",
    "def precision(label, confusion_matrix):\n",
    "    \n",
    "    # precision for each class\n",
    "    col = confusion_matrix[:, label]\n",
    "     \n",
    "    if float(col.sum()) < 0.001:\n",
    "        return 0\n",
    "    \n",
    "    return confusion_matrix[label, label] / col.sum()\n",
    "    \n",
    "def recall(label, confusion_matrix):\n",
    "    \n",
    "    # recall for each class\n",
    "    row = confusion_matrix[label, :]\n",
    "    return confusion_matrix[label, label] / row.sum()\n",
    "\n",
    "\n",
    "def accuracy_macro_average(confusion_matrix):\n",
    "    correct = 0\n",
    "    total  = 0\n",
    "    \n",
    "    for i in range(0, confusion_matrix.shape[0]):\n",
    "        correct += confusion_matrix[i,i]\n",
    "        \n",
    "        for j in range(0, confusion_matrix.shape[0]):\n",
    "            total += confusion_matrix[j,i]\n",
    "            \n",
    "    return correct / total\n",
    "\n",
    "\n",
    "def precision_macro_average(confusion_matrix):\n",
    "    \n",
    "    # mean precision for all classes\n",
    "    rows, columns = confusion_matrix.shape \n",
    "    sum_of_precisions = 0\n",
    "    for label in range(rows):\n",
    "        sum_of_precisions += precision(label, confusion_matrix)\n",
    "    return sum_of_precisions / rows\n",
    "\n",
    "def recall_macro_average(confusion_matrix):\n",
    "    \n",
    "    # mean recall for all classes\n",
    "    rows, columns = confusion_matrix.shape\n",
    "    \n",
    "    sum_of_recalls = 0\n",
    "    for label in range(columns):\n",
    "        sum_of_recalls += recall(label, confusion_matrix)\n",
    "    return sum_of_recalls / columns\n",
    "\n",
    "def f1_score_macro_average(confusion_matrix):\n",
    "\n",
    "    precision = precision_macro_average(confusion_matrix)\n",
    "    recall    = recall_macro_average(confusion_matrix)\n",
    "    \n",
    "    return 2*((precision*recall)/(precision+recall+K.epsilon()))"
   ]
  },
  {
   "cell_type": "code",
   "execution_count": 12,
   "metadata": {},
   "outputs": [],
   "source": [
    "\n",
    "\n",
    "def plot_contour(x,y,z,xrange,yrange,zrange,xlabel,ylabel,zlabel,cmap):\n",
    "    \n",
    "    fs = 18\n",
    "    fig = plt.figure(figsize=(8,6)) \n",
    "    minorLocator = MultipleLocator(1) \n",
    "    \n",
    "    # grid/mesh\n",
    "    xi2 = np.linspace(x.min(), x.max(), 1000)\n",
    "    yi2 = np.linspace(y.min(), y.max(), 1000)\n",
    "    zi2 = griddata(x, y, z, xi2, yi2, interp='linear')\n",
    "    \n",
    "    \n",
    "    levels2 = [0.0,0.2,0.4,0.6,0.8,1.0] #np.arange(zrange[0],zrange[1],zrange[2]) \n",
    "    \n",
    "    ax0 = plt.gca()\n",
    "    NormNul = ax0.contourf(xi2, yi2, zi2, levels2, cmap=cmap)\n",
    "    ax0.set(xlim=xrange,ylim=yrange) \n",
    "\n",
    "    ax0.set_xlabel(xlabel,size=20)\n",
    "    ax0.set_ylabel(ylabel,size=20)\n",
    "    cbar0 = fig.colorbar(NormNul,shrink=0.8,aspect=10)\n",
    "    cbar0.set_label(zlabel, size=fs) \n",
    "    cbar0.ax.tick_params(labelsize=fs) \n",
    "\n",
    "    plt.gca().yaxis.set_major_locator(ticker.MultipleLocator(2))\n",
    "    plt.gca().yaxis.set_minor_locator(ticker.MultipleLocator(1)) \n",
    "\n",
    "\n",
    "    plt.gca().xaxis.set_major_locator(ticker.MultipleLocator(2))\n",
    "    plt.gca().xaxis.set_minor_locator(ticker.MultipleLocator(1))\n",
    "\n",
    "    plt.tick_params(which='major',direction='in',length=10,labelsize=20)\n",
    "    plt.tick_params(which='minor',direction='in',length=5,labelsize=20) "
   ]
  },
  {
   "cell_type": "code",
   "execution_count": 13,
   "metadata": {},
   "outputs": [],
   "source": [
    "def f1(y_true, y_pred):\n",
    "\n",
    "    def recall(y_true, y_pred):\n",
    "        \n",
    "        \"\"\"Recall metric.\n",
    "        Only computes a batch-wise average of recall.\n",
    "\n",
    "        Computes the recall, a metric for multi-label classification of\n",
    "        how many relevant items are selected.\n",
    "        \"\"\"\n",
    "        true_positives = K.sum(K.round(K.clip(y_true * y_pred, 0, 1)))\n",
    "        possible_positives = K.sum(K.round(K.clip(y_true, 0, 1)))\n",
    "        recall = true_positives / (possible_positives + K.epsilon())\n",
    "        return recall\n",
    "\n",
    "    def precision(y_true, y_pred):\n",
    "        \"\"\"Precision metric.\n",
    "\n",
    "        Only computes a batch-wise average of precision.\n",
    "\n",
    "        Computes the precision, a metric for multi-label classification of\n",
    "        how many selected items are relevant.\n",
    "        \"\"\"\n",
    "        true_positives = K.sum(K.round(K.clip(y_true * y_pred, 0, 1)))\n",
    "        predicted_positives = K.sum(K.round(K.clip(y_pred, 0, 1)))\n",
    "        precision = true_positives / (predicted_positives + K.epsilon())\n",
    "        return precision\n",
    "    \n",
    "    precision = precision(y_true, y_pred)\n",
    "    recall    = recall(y_true, y_pred)\n",
    "    \n",
    "    return 2*((precision*recall)/(precision+recall+K.epsilon()))"
   ]
  },
  {
   "cell_type": "code",
   "execution_count": 140,
   "metadata": {},
   "outputs": [],
   "source": [
    "def CompressedData_PCA(X, y):\n",
    "    \n",
    "    feat_cols = [ 'pixel'+str(i) for i in range(X.shape[1]) ]\n",
    "\n",
    "    df4pca = pd.DataFrame(X,columns=feat_cols)\n",
    "    df4pca['label'] = y\n",
    "    df4pca['label'] = df4pca['label'].apply(lambda i: str(i))\n",
    "\n",
    "    pca = PCA(n_components=3)\n",
    "    pca_result = pca.fit_transform(X)\n",
    "\n",
    "    df4pca['pca-one'] = pca_result[:,0]\n",
    "    df4pca['pca-two'] = pca_result[:,1] \n",
    "    df4pca['pca-three'] = pca_result[:,2]\n",
    "\n",
    "    print('Explained variation per principal component: {}'.format(pca.explained_variance_ratio_))\n",
    "    \n",
    "    return df4pca\n",
    "\n",
    "def plot_ggplot4classification(df,xaxis,yaxis,zaxis):\n",
    "    \n",
    "    chart = ggplot(df, aes(x=xaxis, y=yaxis, color=zaxis) ) \\\n",
    "        + geom_point(size=75,alpha=0.8) \\\n",
    "        + ggtitle(\"First and Second Principal Components colored by digit\")\n",
    "    \n",
    "    return chart"
   ]
  },
  {
   "cell_type": "code",
   "execution_count": 14,
   "metadata": {},
   "outputs": [],
   "source": [
    "def print_scores(cm,y_test,y_pred):\n",
    "    print(\"accuracy: {:.3f}\".format(accuracy_macro_average(cm)))\n",
    "    print(\"precision:  {:.3f}\".format(precision_macro_average(cm)))\n",
    "    print(\"recall:  {:.3f}\".format(recall_macro_average(cm)))\n",
    "    print(\"F1 score (macro):  {:.3f}\".format(f1_score_macro_average(cm)))\n",
    "    print(\"F1 score (weighted): {:.3f}\".format(f1_score(y_test,y_pred,average='weighted')))"
   ]
  },
  {
   "cell_type": "code",
   "execution_count": 15,
   "metadata": {},
   "outputs": [],
   "source": [
    "from scipy.stats import norm\n",
    "\n",
    "def confidence_interval4proportion(p, sample_size, alpha):\n",
    "    \n",
    "    \n",
    "    \n",
    "    assert sample_size >0\n",
    "    \n",
    "    mean     = p\n",
    "    variance = p*(1-p)\n",
    "    \n",
    "    statistic = mean/(variance/sqrt(sample_size))\n",
    "    \n",
    "    \n",
    "    interval = norm.ppf(statistic) \n",
    "    \n",
    "    return [mean - interval, mean + inverval]\n",
    "\n",
    "\n",
    "def statistic_compare_two_models(p1,p2,n1,n2,alpha,sides):\n",
    "     \n",
    "    \n",
    "    \"\"\"\n",
    "    propotional test for the same sample size.\n",
    "    \n",
    "    p1 -- average score for model1\n",
    "    p2 -- average score for model2\n",
    "    alpha -- confidence level\n",
    "    sides -- 1 for one-tail; 2 for two-tail test\n",
    "    \"\"\"         \n",
    "        \n",
    "    # avoid singularity problem\n",
    "    \n",
    "    assert n1 > 0.1  and n2 > 0.1\n",
    "    \n",
    "    # mean proportion\n",
    "    prob = (p1*n1 + p2*n2)/ (n1 + n2) #  or mean = B_conv_rate\n",
    "    \n",
    "    # standard error\n",
    "    SE = np.sqrt(prob*(1-prob)*(1/n1 + 1/n2))\n",
    "    \n",
    "    stats = abs(p1-p2)/SE\n",
    "     \n",
    "    p_value = norm.sf(abs(stats))*sides # sf(x, loc=0, scale=1) returns the p value \n",
    "    \n",
    "    if p_value > alpha:\n",
    "        print('Fail to reject H0: Cannot distinguish the performance of the two models at the confidence level of {}%'.format(100*(1-alpha)))\n",
    "    else:\n",
    "        print('Reject H0: The performance of the two models is different at the confidence level of {}%'.format(100*(1-alpha)))\n",
    "    \n",
    "    return stats,p_value  "
   ]
  },
  {
   "cell_type": "markdown",
   "metadata": {},
   "source": [
    "# Load data"
   ]
  },
  {
   "cell_type": "code",
   "execution_count": 16,
   "metadata": {},
   "outputs": [
    {
     "name": "stdout",
     "output_type": "stream",
     "text": [
      "Time Duration for the 1-th participant is 3125.0 seconds\n",
      "Time Duration for the 2-th participant is 2654.0 seconds\n",
      "Time Duration for the 3-th participant is 1969.0 seconds\n",
      "Time Duration for the 4-th participant is 2350.0 seconds\n",
      "Time Duration for the 5-th participant is 3077.0 seconds\n",
      "Time Duration for the 6-th participant is 2710.0 seconds\n",
      "Time Duration for the 7-th participant is 3135.0 seconds\n",
      "Time Duration for the 8-th participant is 2654.0 seconds\n",
      "Time Duration for the 9-th participant is 3207.0 seconds\n",
      "Time Duration for the 10-th participant is 2439.0 seconds\n",
      "Time Duration for the 11-th participant is 2009.0 seconds\n",
      "Time Duration for the 12-th participant is 2206.0 seconds\n",
      "Time Duration for the 13-th participant is 1301.0 seconds\n",
      "Time Duration for the 14-th participant is 2233.0 seconds\n",
      "Time Duration for the 15-th participant is 1991.0 seconds\n"
     ]
    }
   ],
   "source": [
    "features = ['Sequential_number', 'x_acceleration', 'y_acceleration', 'z_acceleration', 'label']\n",
    "dfs = load_data(features)"
   ]
  },
  {
   "cell_type": "markdown",
   "metadata": {},
   "source": [
    "# visualize data\n",
    "\n",
    "\n",
    "\n",
    "Here we take the data of the **first participant*** as an example to visualize the data, trying to find some features that are relevant for classification."
   ]
  },
  {
   "cell_type": "markdown",
   "metadata": {},
   "source": [
    "** plot the data for each class**"
   ]
  },
  {
   "cell_type": "code",
   "execution_count": 13,
   "metadata": {},
   "outputs": [
    {
     "data": {
      "image/png": "[encoded data removed]",
      "text/plain": [
       "<Figure size 720x432 with 1 Axes>"
      ]
     },
     "metadata": {},
     "output_type": "display_data"
    },
    {
     "data": {
      "image/png": "[encoded data removed]",
      "text/plain": [
       "<Figure size 1008x864 with 9 Axes>"
      ]
     },
     "metadata": {},
     "output_type": "display_data"
    }
   ],
   "source": [
    "plot_data = True #False\n",
    "if plot_data:\n",
    "    plot_data4AllClass(dfs[0],features)\n",
    "    plot_data4EachClass(dfs[0],features)"
   ]
  },
  {
   "cell_type": "markdown",
   "metadata": {},
   "source": [
    "# Methods based on Handcrafted Features\n",
    "\n",
    "In these methods, one has to generate new features from the **raw** data.\n",
    "To this end, I define a sliding temporal window.\n",
    "\n",
    "## Sample generation process"
   ]
  },
  {
   "cell_type": "code",
   "execution_count": 17,
   "metadata": {},
   "outputs": [],
   "source": [
    "# set hyperparameters for the window\n",
    "window_size = 520   # 10 senconds\n",
    "step_size   = 52*5   # 10 seconds\n",
    "segments    = []\n",
    "label       = []"
   ]
  },
  {
   "cell_type": "code",
   "execution_count": 18,
   "metadata": {},
   "outputs": [],
   "source": [
    "segments_array = np.array(get_features(dfs, window_size, step_size))"
   ]
  },
  {
   "cell_type": "code",
   "execution_count": 19,
   "metadata": {},
   "outputs": [
    {
     "data": {
      "text/html": [
       "<div>\n",
       "<style scoped>\n",
       "    .dataframe tbody tr th:only-of-type {\n",
       "        vertical-align: middle;\n",
       "    }\n",
       "\n",
       "    .dataframe tbody tr th {\n",
       "        vertical-align: top;\n",
       "    }\n",
       "\n",
       "    .dataframe thead th {\n",
       "        text-align: right;\n",
       "    }\n",
       "</style>\n",
       "<table border=\"1\" class=\"dataframe\">\n",
       "  <thead>\n",
       "    <tr style=\"text-align: right;\">\n",
       "      <th></th>\n",
       "      <th>x_mean</th>\n",
       "      <th>y_mean</th>\n",
       "      <th>z_mean</th>\n",
       "      <th>x_var</th>\n",
       "      <th>y_var</th>\n",
       "      <th>z_var</th>\n",
       "      <th>x_max</th>\n",
       "      <th>y_max</th>\n",
       "      <th>z_max</th>\n",
       "      <th>x_min</th>\n",
       "      <th>y_min</th>\n",
       "      <th>z_min</th>\n",
       "      <th>x_mad</th>\n",
       "      <th>y_mad</th>\n",
       "      <th>z_mad</th>\n",
       "      <th>label</th>\n",
       "    </tr>\n",
       "  </thead>\n",
       "  <tbody>\n",
       "    <tr>\n",
       "      <th>0</th>\n",
       "      <td>1897.030769</td>\n",
       "      <td>2292.657692</td>\n",
       "      <td>2064.600000</td>\n",
       "      <td>28877.845207</td>\n",
       "      <td>20426.744364</td>\n",
       "      <td>15684.470769</td>\n",
       "      <td>2356.0</td>\n",
       "      <td>2552.0</td>\n",
       "      <td>2739.0</td>\n",
       "      <td>1455.0</td>\n",
       "      <td>1697.0</td>\n",
       "      <td>1644.0</td>\n",
       "      <td>133.930000</td>\n",
       "      <td>110.050991</td>\n",
       "      <td>92.264615</td>\n",
       "      <td>1</td>\n",
       "    </tr>\n",
       "    <tr>\n",
       "      <th>1</th>\n",
       "      <td>1959.719231</td>\n",
       "      <td>2376.551923</td>\n",
       "      <td>2110.215385</td>\n",
       "      <td>605.075015</td>\n",
       "      <td>535.420381</td>\n",
       "      <td>1579.407456</td>\n",
       "      <td>2111.0</td>\n",
       "      <td>2552.0</td>\n",
       "      <td>2281.0</td>\n",
       "      <td>1808.0</td>\n",
       "      <td>2197.0</td>\n",
       "      <td>1958.0</td>\n",
       "      <td>13.338743</td>\n",
       "      <td>11.370754</td>\n",
       "      <td>27.438462</td>\n",
       "      <td>1</td>\n",
       "    </tr>\n",
       "    <tr>\n",
       "      <th>2</th>\n",
       "      <td>1957.184615</td>\n",
       "      <td>2379.226923</td>\n",
       "      <td>2108.601923</td>\n",
       "      <td>122.254379</td>\n",
       "      <td>61.713891</td>\n",
       "      <td>267.093458</td>\n",
       "      <td>1999.0</td>\n",
       "      <td>2409.0</td>\n",
       "      <td>2168.0</td>\n",
       "      <td>1919.0</td>\n",
       "      <td>2340.0</td>\n",
       "      <td>2062.0</td>\n",
       "      <td>8.534497</td>\n",
       "      <td>5.782322</td>\n",
       "      <td>12.795126</td>\n",
       "      <td>1</td>\n",
       "    </tr>\n",
       "    <tr>\n",
       "      <th>3</th>\n",
       "      <td>1958.707692</td>\n",
       "      <td>2379.638462</td>\n",
       "      <td>2107.288462</td>\n",
       "      <td>124.968402</td>\n",
       "      <td>52.380828</td>\n",
       "      <td>204.243713</td>\n",
       "      <td>1999.0</td>\n",
       "      <td>2409.0</td>\n",
       "      <td>2168.0</td>\n",
       "      <td>1919.0</td>\n",
       "      <td>2340.0</td>\n",
       "      <td>2062.0</td>\n",
       "      <td>8.577811</td>\n",
       "      <td>4.954763</td>\n",
       "      <td>10.555695</td>\n",
       "      <td>1</td>\n",
       "    </tr>\n",
       "    <tr>\n",
       "      <th>4</th>\n",
       "      <td>1962.921154</td>\n",
       "      <td>2378.396154</td>\n",
       "      <td>2112.584615</td>\n",
       "      <td>35.576476</td>\n",
       "      <td>11.085370</td>\n",
       "      <td>32.750533</td>\n",
       "      <td>1980.0</td>\n",
       "      <td>2390.0</td>\n",
       "      <td>2135.0</td>\n",
       "      <td>1941.0</td>\n",
       "      <td>2369.0</td>\n",
       "      <td>2086.0</td>\n",
       "      <td>4.702019</td>\n",
       "      <td>2.566760</td>\n",
       "      <td>4.372663</td>\n",
       "      <td>1</td>\n",
       "    </tr>\n",
       "  </tbody>\n",
       "</table>\n",
       "</div>"
      ],
      "text/plain": [
       "        x_mean       y_mean       z_mean         x_var         y_var  \\\n",
       "0  1897.030769  2292.657692  2064.600000  28877.845207  20426.744364   \n",
       "1  1959.719231  2376.551923  2110.215385    605.075015    535.420381   \n",
       "2  1957.184615  2379.226923  2108.601923    122.254379     61.713891   \n",
       "3  1958.707692  2379.638462  2107.288462    124.968402     52.380828   \n",
       "4  1962.921154  2378.396154  2112.584615     35.576476     11.085370   \n",
       "\n",
       "          z_var   x_max   y_max   z_max   x_min   y_min   z_min       x_mad  \\\n",
       "0  15684.470769  2356.0  2552.0  2739.0  1455.0  1697.0  1644.0  133.930000   \n",
       "1   1579.407456  2111.0  2552.0  2281.0  1808.0  2197.0  1958.0   13.338743   \n",
       "2    267.093458  1999.0  2409.0  2168.0  1919.0  2340.0  2062.0    8.534497   \n",
       "3    204.243713  1999.0  2409.0  2168.0  1919.0  2340.0  2062.0    8.577811   \n",
       "4     32.750533  1980.0  2390.0  2135.0  1941.0  2369.0  2086.0    4.702019   \n",
       "\n",
       "        y_mad      z_mad  label  \n",
       "0  110.050991  92.264615      1  \n",
       "1   11.370754  27.438462      1  \n",
       "2    5.782322  12.795126      1  \n",
       "3    4.954763  10.555695      1  \n",
       "4    2.566760   4.372663      1  "
      ]
     },
     "execution_count": 19,
     "metadata": {},
     "output_type": "execute_result"
    }
   ],
   "source": [
    "segments_df = pd.DataFrame(segments_array)\n",
    "segments_df.columns =['x_mean', 'y_mean', 'z_mean', \n",
    "                 'x_var', 'y_var', 'z_var', \n",
    "                 'x_max', 'y_max', 'z_max', \n",
    "                 'x_min', 'y_min', 'z_min', \n",
    "                 'x_mad', 'y_mad', 'z_mad', \n",
    "                 'label']\n",
    "\n",
    "segments_df['label'] = segments_df['label'].map(int)\n",
    "segments_df.head()"
   ]
  },
  {
   "cell_type": "code",
   "execution_count": 330,
   "metadata": {},
   "outputs": [
    {
     "data": {
      "text/plain": [
       "(7386, 16)"
      ]
     },
     "execution_count": 330,
     "metadata": {},
     "output_type": "execute_result"
    }
   ],
   "source": [
    "segments_df.shape"
   ]
  },
  {
   "cell_type": "code",
   "execution_count": 68,
   "metadata": {},
   "outputs": [
    {
     "data": {
      "text/plain": [
       "Index(['x_mean', 'y_mean', 'z_mean', 'x_var', 'y_var', 'z_var', 'x_max',\n",
       "       'y_max', 'z_max', 'x_min', 'y_min', 'z_min', 'x_mad', 'y_mad', 'z_mad',\n",
       "       'label'],\n",
       "      dtype='object')"
      ]
     },
     "execution_count": 68,
     "metadata": {},
     "output_type": "execute_result"
    }
   ],
   "source": [
    "segments_df.columns"
   ]
  },
  {
   "cell_type": "code",
   "execution_count": 284,
   "metadata": {},
   "outputs": [
    {
     "data": {
      "image/png": "[encoded data removed]",
      "text/plain": [
       "<Figure size 864x288 with 1 Axes>"
      ]
     },
     "metadata": {},
     "output_type": "display_data"
    }
   ],
   "source": [
    "(segments_df.label.value_counts(sort=True)/segments_df.shape[0]*100).plot(kind='bar',fontsize=24,figsize=(12,4));\n",
    " \n",
    "plt.ylim(0,100) \n",
    "plt.xlabel('Class label',fontsize=24)\n",
    "plt.ylabel('Percentage (%)',fontsize=24)\n",
    "plt.tick_params(which='major',direction='in',length=5,labelsize=20) "
   ]
  },
  {
   "cell_type": "markdown",
   "metadata": {},
   "source": [
    "**Figure: The percentage of each class in the generated data samples.**"
   ]
  },
  {
   "cell_type": "code",
   "execution_count": 280,
   "metadata": {},
   "outputs": [],
   "source": [
    "ratios =[]\n",
    "for i in range(1,8):\n",
    "    ratios.append(np.int(segments_df[segments_df.label == i]['label'].value_counts()/segments_df.label.value_counts().min()))"
   ]
  },
  {
   "cell_type": "code",
   "execution_count": 285,
   "metadata": {},
   "outputs": [
    {
     "data": {
      "text/plain": [
       "[12, 1, 4, 7, 1, 1, 12]"
      ]
     },
     "execution_count": 285,
     "metadata": {},
     "output_type": "execute_result"
    }
   ],
   "source": [
    "ratios"
   ]
  },
  {
   "cell_type": "markdown",
   "metadata": {},
   "source": [
    "- The above figure shows clearly that this dataset is unbalanced as the largest class is about 13 times  than that the smallest class.\n",
    "\n",
    "- To make the model perform similarly for each class, we may need to use similar number of samples for each class."
   ]
  },
  {
   "cell_type": "markdown",
   "metadata": {},
   "source": [
    "** Redefine the window size based on the ratios in order to get similar sample sizes for for all the classes**"
   ]
  },
  {
   "cell_type": "code",
   "execution_count": 303,
   "metadata": {},
   "outputs": [],
   "source": [
    "# set hyperparameters for the window\n",
    "window_size_array    =  np.multiply(ratios, 26)   # times of 1 sencond\n",
    "step_size_array      =  window_size_array         # times of 1 sencond\n",
    "segments_balanced    = []\n",
    "label_balanced       = []"
   ]
  },
  {
   "cell_type": "code",
   "execution_count": 311,
   "metadata": {},
   "outputs": [
    {
     "name": "stdout",
     "output_type": "stream",
     "text": [
      "class: 1, window_size: 312, step_size: 312, sample_size: 1950\n",
      "class: 2, window_size: 26, step_size: 26, sample_size: 1841\n",
      "class: 3, window_size: 104, step_size: 104, sample_size: 2084\n",
      "class: 4, window_size: 182, step_size: 182, sample_size: 1961\n",
      "class: 5, window_size: 26, step_size: 26, sample_size: 1980\n",
      "class: 6, window_size: 26, step_size: 26, sample_size: 1837\n",
      "class: 7, window_size: 312, step_size: 312, sample_size: 1902\n"
     ]
    }
   ],
   "source": [
    "segments_array_balanced = np.array(get_features_balanced(dfs, window_size_array, step_size_array))"
   ]
  },
  {
   "cell_type": "code",
   "execution_count": 312,
   "metadata": {},
   "outputs": [
    {
     "data": {
      "text/html": [
       "<div>\n",
       "<style scoped>\n",
       "    .dataframe tbody tr th:only-of-type {\n",
       "        vertical-align: middle;\n",
       "    }\n",
       "\n",
       "    .dataframe tbody tr th {\n",
       "        vertical-align: top;\n",
       "    }\n",
       "\n",
       "    .dataframe thead th {\n",
       "        text-align: right;\n",
       "    }\n",
       "</style>\n",
       "<table border=\"1\" class=\"dataframe\">\n",
       "  <thead>\n",
       "    <tr style=\"text-align: right;\">\n",
       "      <th></th>\n",
       "      <th>x_mean</th>\n",
       "      <th>y_mean</th>\n",
       "      <th>z_mean</th>\n",
       "      <th>x_var</th>\n",
       "      <th>y_var</th>\n",
       "      <th>z_var</th>\n",
       "      <th>x_max</th>\n",
       "      <th>y_max</th>\n",
       "      <th>z_max</th>\n",
       "      <th>x_min</th>\n",
       "      <th>y_min</th>\n",
       "      <th>z_min</th>\n",
       "      <th>x_mad</th>\n",
       "      <th>y_mad</th>\n",
       "      <th>z_mad</th>\n",
       "      <th>label</th>\n",
       "    </tr>\n",
       "  </thead>\n",
       "  <tbody>\n",
       "    <tr>\n",
       "      <th>0</th>\n",
       "      <td>1857.576923</td>\n",
       "      <td>2234.730769</td>\n",
       "      <td>2038.778846</td>\n",
       "      <td>43962.660750</td>\n",
       "      <td>25405.151874</td>\n",
       "      <td>23328.390194</td>\n",
       "      <td>2356.0</td>\n",
       "      <td>2552.0</td>\n",
       "      <td>2739.0</td>\n",
       "      <td>1455.0</td>\n",
       "      <td>1697.0</td>\n",
       "      <td>1644.0</td>\n",
       "      <td>186.642258</td>\n",
       "      <td>133.347633</td>\n",
       "      <td>117.927022</td>\n",
       "      <td>1</td>\n",
       "    </tr>\n",
       "    <tr>\n",
       "      <th>1</th>\n",
       "      <td>1958.730769</td>\n",
       "      <td>2378.487179</td>\n",
       "      <td>2108.839744</td>\n",
       "      <td>301.472387</td>\n",
       "      <td>263.461374</td>\n",
       "      <td>1241.474318</td>\n",
       "      <td>2034.0</td>\n",
       "      <td>2474.0</td>\n",
       "      <td>2171.0</td>\n",
       "      <td>1859.0</td>\n",
       "      <td>2302.0</td>\n",
       "      <td>2018.0</td>\n",
       "      <td>11.504684</td>\n",
       "      <td>9.913215</td>\n",
       "      <td>27.817020</td>\n",
       "      <td>1</td>\n",
       "    </tr>\n",
       "    <tr>\n",
       "      <th>2</th>\n",
       "      <td>1954.923077</td>\n",
       "      <td>2379.605769</td>\n",
       "      <td>2106.346154</td>\n",
       "      <td>154.378698</td>\n",
       "      <td>79.136249</td>\n",
       "      <td>322.412229</td>\n",
       "      <td>1999.0</td>\n",
       "      <td>2409.0</td>\n",
       "      <td>2168.0</td>\n",
       "      <td>1919.0</td>\n",
       "      <td>2340.0</td>\n",
       "      <td>2062.0</td>\n",
       "      <td>9.739645</td>\n",
       "      <td>6.423755</td>\n",
       "      <td>13.706361</td>\n",
       "      <td>1</td>\n",
       "    </tr>\n",
       "    <tr>\n",
       "      <th>3</th>\n",
       "      <td>1962.445513</td>\n",
       "      <td>2379.278846</td>\n",
       "      <td>2110.224359</td>\n",
       "      <td>55.304723</td>\n",
       "      <td>20.335706</td>\n",
       "      <td>81.020176</td>\n",
       "      <td>1980.0</td>\n",
       "      <td>2394.0</td>\n",
       "      <td>2138.0</td>\n",
       "      <td>1938.0</td>\n",
       "      <td>2368.0</td>\n",
       "      <td>2086.0</td>\n",
       "      <td>5.934788</td>\n",
       "      <td>3.532236</td>\n",
       "      <td>7.067390</td>\n",
       "      <td>1</td>\n",
       "    </tr>\n",
       "    <tr>\n",
       "      <th>4</th>\n",
       "      <td>1961.551282</td>\n",
       "      <td>2378.365385</td>\n",
       "      <td>2112.121795</td>\n",
       "      <td>28.689678</td>\n",
       "      <td>8.783161</td>\n",
       "      <td>25.183884</td>\n",
       "      <td>1978.0</td>\n",
       "      <td>2388.0</td>\n",
       "      <td>2127.0</td>\n",
       "      <td>1948.0</td>\n",
       "      <td>2369.0</td>\n",
       "      <td>2099.0</td>\n",
       "      <td>4.222387</td>\n",
       "      <td>2.310651</td>\n",
       "      <td>3.985454</td>\n",
       "      <td>1</td>\n",
       "    </tr>\n",
       "  </tbody>\n",
       "</table>\n",
       "</div>"
      ],
      "text/plain": [
       "        x_mean       y_mean       z_mean         x_var         y_var  \\\n",
       "0  1857.576923  2234.730769  2038.778846  43962.660750  25405.151874   \n",
       "1  1958.730769  2378.487179  2108.839744    301.472387    263.461374   \n",
       "2  1954.923077  2379.605769  2106.346154    154.378698     79.136249   \n",
       "3  1962.445513  2379.278846  2110.224359     55.304723     20.335706   \n",
       "4  1961.551282  2378.365385  2112.121795     28.689678      8.783161   \n",
       "\n",
       "          z_var   x_max   y_max   z_max   x_min   y_min   z_min       x_mad  \\\n",
       "0  23328.390194  2356.0  2552.0  2739.0  1455.0  1697.0  1644.0  186.642258   \n",
       "1   1241.474318  2034.0  2474.0  2171.0  1859.0  2302.0  2018.0   11.504684   \n",
       "2    322.412229  1999.0  2409.0  2168.0  1919.0  2340.0  2062.0    9.739645   \n",
       "3     81.020176  1980.0  2394.0  2138.0  1938.0  2368.0  2086.0    5.934788   \n",
       "4     25.183884  1978.0  2388.0  2127.0  1948.0  2369.0  2099.0    4.222387   \n",
       "\n",
       "        y_mad       z_mad  label  \n",
       "0  133.347633  117.927022      1  \n",
       "1    9.913215   27.817020      1  \n",
       "2    6.423755   13.706361      1  \n",
       "3    3.532236    7.067390      1  \n",
       "4    2.310651    3.985454      1  "
      ]
     },
     "execution_count": 312,
     "metadata": {},
     "output_type": "execute_result"
    }
   ],
   "source": [
    "segments_balanced_df = pd.DataFrame(segments_array_balanced)\n",
    "segments_balanced_df.columns =['x_mean', 'y_mean', 'z_mean', \n",
    "                 'x_var', 'y_var', 'z_var', \n",
    "                 'x_max', 'y_max', 'z_max', \n",
    "                 'x_min', 'y_min', 'z_min', \n",
    "                 'x_mad', 'y_mad', 'z_mad', \n",
    "                 'label']\n",
    "\n",
    "segments_balanced_df['label'] = segments_balanced_df['label'].map(int)\n",
    "segments_balanced_df.head()"
   ]
  },
  {
   "cell_type": "code",
   "execution_count": 313,
   "metadata": {},
   "outputs": [
    {
     "data": {
      "text/plain": [
       "(13555, 16)"
      ]
     },
     "execution_count": 313,
     "metadata": {},
     "output_type": "execute_result"
    }
   ],
   "source": [
    "segments_balanced_df.shape"
   ]
  },
  {
   "cell_type": "code",
   "execution_count": 314,
   "metadata": {},
   "outputs": [
    {
     "data": {
      "image/png": "[encoded data removed]",
      "text/plain": [
       "<Figure size 864x288 with 1 Axes>"
      ]
     },
     "metadata": {},
     "output_type": "display_data"
    }
   ],
   "source": [
    "(segments_balanced_df.label.value_counts(sort=True)/segments_balanced_df.shape[0]*100).plot(kind='bar',fontsize=24,figsize=(12,4));\n",
    " \n",
    "plt.ylim(0,100) \n",
    "plt.xlabel('Class label',fontsize=24)\n",
    "plt.ylabel('Percentage (%)',fontsize=24)\n",
    "plt.tick_params(which='major',direction='in',length=5,labelsize=20) "
   ]
  },
  {
   "cell_type": "markdown",
   "metadata": {},
   "source": [
    "# Prepare data"
   ]
  },
  {
   "cell_type": "code",
   "execution_count": 20,
   "metadata": {},
   "outputs": [],
   "source": [
    "X = segments_df.iloc[:,:-1].values\n",
    "y = segments_df['label'].iloc[:].values"
   ]
  },
  {
   "cell_type": "code",
   "execution_count": 21,
   "metadata": {},
   "outputs": [],
   "source": [
    "scaler_pipeline = Pipeline([\n",
    "                    ('robust_scaler',RobustScaler())  # Scale features using statistics that are robust to outliers.\n",
    "                    ])\n",
    "segments_scaled = [] \n",
    "segments_scaled.append(scaler_pipeline.fit_transform(X))\n",
    "X_scaled = np.array(segments_scaled).squeeze() "
   ]
  },
  {
   "cell_type": "code",
   "execution_count": 22,
   "metadata": {},
   "outputs": [],
   "source": [
    "X_train, X_test, y_train, y_test = train_test_split(X_scaled, y, test_size = 0.2, random_state = 42)"
   ]
  },
  {
   "cell_type": "code",
   "execution_count": 23,
   "metadata": {},
   "outputs": [
    {
     "name": "stdout",
     "output_type": "stream",
     "text": [
      "number of training segments/samples = 5908\n",
      "number of test segments/samples = 1478\n",
      "X_train shape: (5908, 15)\n",
      "Y_train shape: (5908,)\n",
      "X_test shape: (1478, 15)\n",
      "Y_test shape: (1478,)\n"
     ]
    }
   ],
   "source": [
    "print (\"number of training segments/samples = \" + str(X_train.shape[0]))\n",
    "print (\"number of test segments/samples = \" + str(X_test.shape[0]))\n",
    "print (\"X_train shape: \" + str(X_train.shape))\n",
    "print (\"Y_train shape: \" + str(y_train.shape))\n",
    "print (\"X_test shape: \" + str(X_test.shape))\n",
    "print (\"Y_test shape: \" + str(y_test.shape))"
   ]
  },
  {
   "cell_type": "markdown",
   "metadata": {},
   "source": [
    "## Logistic regression"
   ]
  },
  {
   "cell_type": "code",
   "execution_count": 379,
   "metadata": {},
   "outputs": [
    {
     "name": "stdout",
     "output_type": "stream",
     "text": [
      "Test set Accuracy:  0.5953991880920162\n",
      "[[377   1   0   4   0   0 114]\n",
      " [ 14   1   1   3   0   0  15]\n",
      " [ 72   0   2  35   1   0  46]\n",
      " [ 13   0   1 243   0   0   6]\n",
      " [  9   0   0  15   0   0   6]\n",
      " [  9   0   0   7   0   0  19]\n",
      " [191   0   2  12   1   1 257]]\n"
     ]
    }
   ],
   "source": [
    "from sklearn.linear_model import LogisticRegression\n",
    "\n",
    "LR = Pipeline([\n",
    "    #('scaler',RobustScaler()),\n",
    "    ('logistic',LogisticRegression())\n",
    "              ])\n",
    "\n",
    "LR.fit(X_train, y_train)\n",
    "\n",
    "y_pred = LR.predict(X_test)       \n",
    "print(\"Test set Accuracy: \", metrics.accuracy_score(y_test, y_pred))     \n",
    "\n",
    "cm = metrics.confusion_matrix(y_test,y_pred)\n",
    "print(cm)"
   ]
  },
  {
   "cell_type": "code",
   "execution_count": 380,
   "metadata": {},
   "outputs": [
    {
     "name": "stdout",
     "output_type": "stream",
     "text": [
      "accuracy: 0.595\n",
      "precision:  0.386\n",
      "recall:  0.326\n",
      "F1 score (macro):  0.353\n",
      "F1 score (weighted): 0.541\n"
     ]
    }
   ],
   "source": [
    "print_scores(cm,y_test,y_pred)"
   ]
  },
  {
   "cell_type": "code",
   "execution_count": 381,
   "metadata": {},
   "outputs": [],
   "source": [
    "from sklearn.linear_model import LogisticRegressionCV"
   ]
  },
  {
   "cell_type": "code",
   "execution_count": 382,
   "metadata": {},
   "outputs": [
    {
     "name": "stdout",
     "output_type": "stream",
     "text": [
      "Test set Accuracy:  0.6048714479025711\n",
      "[[373   3   0   3   0   0 117]\n",
      " [ 15   3   2   1   0   0  13]\n",
      " [ 69   0   5  32   1   0  49]\n",
      " [ 13   0   4 239   0   0   7]\n",
      " [  9   0   0  13   0   0   8]\n",
      " [  9   0   0   7   0   0  19]\n",
      " [175   0   4   9   1   1 274]]\n"
     ]
    }
   ],
   "source": [
    "LR_CV = Pipeline([\n",
    "    ('logistic',LogisticRegressionCV(Cs=10,random_state=0,multi_class='multinomial'))\n",
    "              ])\n",
    "\n",
    "LR_CV.fit(X_train, y_train)\n",
    "\n",
    "y_pred = LR_CV.predict(X_test)       \n",
    "print(\"Test set Accuracy: \", metrics.accuracy_score(y_test, y_pred))     \n",
    "\n",
    "cm = metrics.confusion_matrix(y_test,y_pred)\n",
    "print(cm)"
   ]
  },
  {
   "cell_type": "code",
   "execution_count": 383,
   "metadata": {},
   "outputs": [
    {
     "name": "stdout",
     "output_type": "stream",
     "text": [
      "accuracy: 0.605\n",
      "precision:  0.392\n",
      "recall:  0.339\n",
      "F1 score (macro):  0.364\n",
      "F1 score (weighted): 0.557\n"
     ]
    }
   ],
   "source": [
    "print_scores(cm,y_test,y_pred)"
   ]
  },
  {
   "cell_type": "code",
   "execution_count": 384,
   "metadata": {},
   "outputs": [
    {
     "name": "stdout",
     "output_type": "stream",
     "text": [
      "Reject H0: The performance of the two models is different at the confidence level of 95.0%\n",
      "stats=8.041331551026893, p value=8.88674478390122e-16\n"
     ]
    }
   ],
   "source": [
    "stats, p_value = statistic_compare_two_models(0.2579,0.3967,len(X_test),len(X_test),0.05,2)\n",
    "print(\"stats={}, p value={}\".format(stats,p_value))"
   ]
  },
  {
   "cell_type": "markdown",
   "metadata": {},
   "source": [
    "**Finding: Logistic Regression with Cross Validation does slightly better job than simple  Logistic Regression.**"
   ]
  },
  {
   "cell_type": "markdown",
   "metadata": {},
   "source": [
    "**Fine Tuning the parameters: GridSearch**"
   ]
  },
  {
   "cell_type": "code",
   "execution_count": 385,
   "metadata": {},
   "outputs": [],
   "source": [
    "from sklearn.model_selection import GridSearchCV"
   ]
  },
  {
   "cell_type": "code",
   "execution_count": 223,
   "metadata": {},
   "outputs": [
    {
     "name": "stdout",
     "output_type": "stream",
     "text": [
      "Test set Accuracy:  0.5947225981055481\n",
      "[[374   3   0   4   0   0 115]\n",
      " [ 15   1   1   3   0   0  14]\n",
      " [ 71   0   2  35   1   0  47]\n",
      " [ 13   0   1 243   0   0   6]\n",
      " [  9   0   0  13   0   0   8]\n",
      " [  9   0   0   7   0   0  19]\n",
      " [189   0   2  12   1   1 259]]\n"
     ]
    }
   ],
   "source": [
    "# regularization: smaller C specify stronger regularization\n",
    "\n",
    "param_grid = {'C': [0.001, 0.01, 0.1, 1, 10, 100, 1000], 'penalty': ['l2'] }\n",
    "\n",
    "LR_GS_clf = GridSearchCV(LogisticRegression(),param_grid, cv=5) #GridSearchCV(svc, parameters, cv=5)\n",
    "LR_GS_clf.fit(X_train, y_train)\n",
    "\n",
    "LR_clf_best = LR_GS_clf.best_estimator_\n",
    "\n",
    "y_pred =LR_clf_best.predict(X_test)  \n",
    "\n",
    "print(\"Test set Accuracy: \", metrics.accuracy_score(y_test, y_pred))     \n",
    "\n",
    "cm = metrics.confusion_matrix(y_test,y_pred)\n",
    "print(cm)"
   ]
  },
  {
   "cell_type": "code",
   "execution_count": 224,
   "metadata": {},
   "outputs": [
    {
     "name": "stdout",
     "output_type": "stream",
     "text": [
      "accuracy: 0.595\n",
      "precision:  0.350\n",
      "recall:  0.325\n",
      "F1 score (macro):  0.338\n",
      "F1 score (weighted): 0.541\n"
     ]
    }
   ],
   "source": [
    "print_scores(cm,y_test,y_pred)"
   ]
  },
  {
   "cell_type": "markdown",
   "metadata": {},
   "source": [
    "**GridSearch** does not improve significantly the performance of the Logistic Regression model."
   ]
  },
  {
   "cell_type": "markdown",
   "metadata": {},
   "source": [
    "## Decision trees"
   ]
  },
  {
   "cell_type": "markdown",
   "metadata": {},
   "source": [
    "**Here we noticed that the use of make_pipeline can increase the accuracy fronm about 0.6 to about 0.8**"
   ]
  },
  {
   "cell_type": "code",
   "execution_count": 24,
   "metadata": {},
   "outputs": [],
   "source": [
    "from sklearn.tree import DecisionTreeClassifier"
   ]
  },
  {
   "cell_type": "code",
   "execution_count": 25,
   "metadata": {},
   "outputs": [
    {
     "name": "stdout",
     "output_type": "stream",
     "text": [
      "DecisionTrees's Accuracy:  0.8085250338294994\n",
      "[[448  14   8   2   1   3  20]\n",
      " [ 16  11   2   1   0   0   4]\n",
      " [  7   4  97  15   2   6  25]\n",
      " [  2   2  17 224   9   6   3]\n",
      " [  1   1   5   4  17   0   2]\n",
      " [  1   0   6   4   0  13  11]\n",
      " [ 27   5  33   4   2   8 385]]\n"
     ]
    }
   ],
   "source": [
    "tree = make_pipeline(RobustScaler(),\n",
    "                   DecisionTreeClassifier()).fit(X=X_train, y=y_train)\n",
    "\n",
    "y_pred = tree.predict(X_test)\n",
    "print(\"DecisionTrees's Accuracy: \", metrics.accuracy_score(y_test, y_pred))\n",
    "\n",
    "cm = metrics.confusion_matrix(y_test,y_pred)\n",
    "print(cm)"
   ]
  },
  {
   "cell_type": "code",
   "execution_count": 26,
   "metadata": {},
   "outputs": [
    {
     "name": "stdout",
     "output_type": "stream",
     "text": [
      "accuracy: 0.809\n",
      "precision:  0.631\n",
      "recall:  0.638\n",
      "F1 score (macro):  0.634\n",
      "F1 score (weighted): 0.810\n"
     ]
    }
   ],
   "source": [
    "print_scores(cm,y_test,y_pred)"
   ]
  },
  {
   "cell_type": "markdown",
   "metadata": {},
   "source": [
    "** Grid Search the hyper parameters in Decision Tree algorithm**"
   ]
  },
  {
   "cell_type": "code",
   "execution_count": 27,
   "metadata": {},
   "outputs": [],
   "source": [
    "\n",
    "criterions = [\"gini\", \"entropy\"]\n",
    "max_depths = range(2,20)\n",
    "min_samples_leaves = range(2,20)  # The minimum number of samples required to be at a leaf node. \n"
   ]
  },
  {
   "cell_type": "code",
   "execution_count": 37,
   "metadata": {},
   "outputs": [
    {
     "name": "stdout",
     "output_type": "stream",
     "text": [
      "criterion: gini, max_depth: 2, min_samples_leaf: 2, F1_temp: 0.5383821608408265, accuracy_tmp: 0.5940460081190798\n",
      "criterion: gini, max_depth: 3, min_samples_leaf: 2, F1_temp: 0.5782600496720682, accuracy_tmp: 0.631935047361299\n",
      "criterion: gini, max_depth: 4, min_samples_leaf: 2, F1_temp: 0.5834920347418916, accuracy_tmp: 0.6339648173207036\n",
      "criterion: gini, max_depth: 5, min_samples_leaf: 2, F1_temp: 0.6472915638693388, accuracy_tmp: 0.696211096075778\n",
      "criterion: gini, max_depth: 6, min_samples_leaf: 2, F1_temp: 0.7097189375250735, accuracy_tmp: 0.7354533152909337\n",
      "criterion: gini, max_depth: 7, min_samples_leaf: 2, F1_temp: 0.740097146903794, accuracy_tmp: 0.7543978349120433\n",
      "criterion: gini, max_depth: 8, min_samples_leaf: 2, F1_temp: 0.7575567790110658, accuracy_tmp: 0.7746955345060893\n",
      "criterion: gini, max_depth: 8, min_samples_leaf: 3, F1_temp: 0.7594112678224395, accuracy_tmp: 0.7753721244925575\n",
      "criterion: gini, max_depth: 9, min_samples_leaf: 2, F1_temp: 0.7767743203538594, accuracy_tmp: 0.786874154262517\n",
      "criterion: gini, max_depth: 10, min_samples_leaf: 2, F1_temp: 0.7970837696234759, accuracy_tmp: 0.7997293640054127\n",
      "criterion: gini, max_depth: 11, min_samples_leaf: 2, F1_temp: 0.811767033941149, accuracy_tmp: 0.8173207036535859\n",
      "criterion: gini, max_depth: 12, min_samples_leaf: 2, F1_temp: 0.8165553347147559, accuracy_tmp: 0.8186738836265224\n",
      "criterion: entropy, max_depth: 12, min_samples_leaf: 2, F1_temp: 0.8200898880523211, accuracy_tmp: 0.8254397834912043\n",
      "criterion: entropy, max_depth: 12, min_samples_leaf: 4, F1_temp: 0.8209861577712656, accuracy_tmp: 0.8274695534506089\n",
      "criterion: entropy, max_depth: 13, min_samples_leaf: 2, F1_temp: 0.8275686439370336, accuracy_tmp: 0.8274695534506089\n",
      "criterion: entropy, max_depth: 14, min_samples_leaf: 2, F1_temp: 0.8290180550558887, accuracy_tmp: 0.8288227334235453\n",
      "criterion: entropy, max_depth: 15, min_samples_leaf: 2, F1_temp: 0.8343044594109726, accuracy_tmp: 0.8328822733423545\n"
     ]
    }
   ],
   "source": [
    "results,tree_clf_best,cm_best,best_parameter = decision_trees_gridsearch(X_train,y_train,X_test,y_test, \\\n",
    "                                                                         criterions,max_depths,     \\\n",
    "                                                                         min_samples_leaves)\n",
    "results_df = pd.DataFrame(np.array(results).reshape(len(results),5), \\\n",
    "                          columns=['criterion', 'max_depth', 'min_samples_leaf', 'F1', 'accuracy'])"
   ]
  },
  {
   "cell_type": "code",
   "execution_count": 40,
   "metadata": {},
   "outputs": [
    {
     "name": "stdout",
     "output_type": "stream",
     "text": [
      "accuracy: 0.833\n",
      "precision:  0.640\n",
      "recall:  0.649\n",
      "F1 score (macro):  0.645\n",
      "F1 score (weighted): 0.834\n"
     ]
    }
   ],
   "source": [
    "print_scores(cm_best,y_test,y_pred)"
   ]
  },
  {
   "cell_type": "code",
   "execution_count": 41,
   "metadata": {},
   "outputs": [
    {
     "name": "stdout",
     "output_type": "stream",
     "text": [
      "Test set Accuracy (best case):  0.8328822733423545\n",
      "[[465   7   8   1   1   0  14]\n",
      " [ 11  13   3   2   0   1   4]\n",
      " [  3   6  99  16   8   3  21]\n",
      " [  5   2  20 221   8   3   4]\n",
      " [  0   1   7   3  16   0   3]\n",
      " [  2   2   7   4   0  12   8]\n",
      " [ 13   4  24   2   2  14 405]]\n",
      "['entropy', 15, 2]\n"
     ]
    }
   ],
   "source": [
    "y_pred = tree_clf_best.predict(X_test)  \n",
    "\n",
    "print(\"Test set Accuracy (best case): \", metrics.accuracy_score(y_test, y_pred))     \n",
    "print(cm_best)\n",
    "print(best_parameter)"
   ]
  },
  {
   "cell_type": "code",
   "execution_count": 42,
   "metadata": {},
   "outputs": [],
   "source": [
    "features = ['max_depth', 'min_samples_leaf', 'F1', 'accuracy']\n",
    "\n",
    "results_df[features] = results_df[features].astype(float)\n",
    "gini_results_df      = results_df[results_df['criterion'] == 'gini']\n",
    "entropy_results_df   = results_df[results_df['criterion'] == 'entropy']"
   ]
  },
  {
   "cell_type": "code",
   "execution_count": 43,
   "metadata": {},
   "outputs": [
    {
     "data": {
      "text/plain": [
       "Text(0.5,1,'criterion (entropy)')"
      ]
     },
     "execution_count": 43,
     "metadata": {},
     "output_type": "execute_result"
    },
    {
     "data": {
      "image/png": "[encoded data removed]",
      "text/plain": [
       "<Figure size 576x432 with 2 Axes>"
      ]
     },
     "metadata": {},
     "output_type": "display_data"
    }
   ],
   "source": [
    "plot_contour(entropy_results_df['max_depth'],entropy_results_df['min_samples_leaf'],entropy_results_df['F1'], \\\n",
    "             [2,19],[2,19],[0,1],'max_depth','min_samples_leaf','F1 (weighted)','YlOrBr')\n",
    "plt.title('criterion (entropy)')"
   ]
  },
  {
   "cell_type": "code",
   "execution_count": 44,
   "metadata": {},
   "outputs": [
    {
     "data": {
      "text/plain": [
       "Text(0.5,1,'criterion (gini)')"
      ]
     },
     "execution_count": 44,
     "metadata": {},
     "output_type": "execute_result"
    },
    {
     "data": {
      "image/png": "[encoded data removed]",
      "text/plain": [
       "<Figure size 576x432 with 2 Axes>"
      ]
     },
     "metadata": {},
     "output_type": "display_data"
    }
   ],
   "source": [
    "\n",
    "plot_contour(gini_results_df['max_depth'],gini_results_df['min_samples_leaf'],gini_results_df['F1'], \\\n",
    "             [2,19],[2,19],[0,1],'max_depth','min_samples_leaf','F1 (weighted)','YlOrBr')\n",
    "plt.title('criterion (gini)')"
   ]
  },
  {
   "cell_type": "markdown",
   "metadata": {},
   "source": [
    "### Visualzation using PCA for compression\n",
    "\n"
   ]
  },
  {
   "cell_type": "code",
   "execution_count": 45,
   "metadata": {},
   "outputs": [],
   "source": [
    "from sklearn.decomposition import PCA"
   ]
  },
  {
   "cell_type": "code",
   "execution_count": 46,
   "metadata": {},
   "outputs": [],
   "source": [
    "# pca = PCA(n_components=2)\n",
    "# X2D = pca.fit_transform(X_train)\n",
    "\n",
    "pca = PCA()\n",
    "pca.fit(X_train)\n",
    "cumsum = np.cumsum(pca.explained_variance_ratio_)\n",
    "d = np.argmax(cumsum >=0.95)\n",
    "X_reduced = pca.fit_transform(X_train)"
   ]
  },
  {
   "cell_type": "code",
   "execution_count": 63,
   "metadata": {},
   "outputs": [
    {
     "data": {
      "text/plain": [
       "([<matplotlib.axis.XTick at 0x1537a1908>,\n",
       "  <matplotlib.axis.XTick at 0x15378a630>,\n",
       "  <matplotlib.axis.XTick at 0x14a3a07b8>,\n",
       "  <matplotlib.axis.XTick at 0x15380a390>,\n",
       "  <matplotlib.axis.XTick at 0x153777748>,\n",
       "  <matplotlib.axis.XTick at 0x1485fc7b8>,\n",
       "  <matplotlib.axis.XTick at 0x1485fc7f0>],\n",
       " <a list of 7 Text xticklabel objects>)"
      ]
     },
     "execution_count": 63,
     "metadata": {},
     "output_type": "execute_result"
    },
    {
     "data": {
      "image/png": "[encoded data removed]",
      "text/plain": [
       "<Figure size 432x288 with 1 Axes>"
      ]
     },
     "metadata": {},
     "output_type": "display_data"
    }
   ],
   "source": [
    "plt.plot(cumsum)\n",
    "set_figstyle(0,12,0.5,1,'Dimensions','Explained Variance',True)\n",
    "plt.xticks([0,2,4,6,8,10,12])"
   ]
  },
  {
   "cell_type": "code",
   "execution_count": 141,
   "metadata": {},
   "outputs": [
    {
     "name": "stdout",
     "output_type": "stream",
     "text": [
      "Explained variation per principal component: [0.62115048 0.16062995 0.06802156]\n"
     ]
    }
   ],
   "source": [
    "df4pca = CompressedData_PCA(X_train, y_train)"
   ]
  },
  {
   "cell_type": "code",
   "execution_count": 142,
   "metadata": {},
   "outputs": [
    {
     "data": {
      "image/png": "[encoded data removed]",
      "text/plain": [
       "<Figure size 792x576 with 1 Axes>"
      ]
     },
     "metadata": {},
     "output_type": "display_data"
    },
    {
     "data": {
      "text/plain": [
       "<ggplot: (345346196)>"
      ]
     },
     "execution_count": 142,
     "metadata": {},
     "output_type": "execute_result"
    }
   ],
   "source": [
    "chart = plot_ggplot4classification(df4pca,'pca-one','pca-two','label')\n",
    "chart"
   ]
  },
  {
   "cell_type": "code",
   "execution_count": 143,
   "metadata": {},
   "outputs": [
    {
     "data": {
      "image/png": "[encoded data removed]",
      "text/plain": [
       "<Figure size 792x576 with 1 Axes>"
      ]
     },
     "metadata": {},
     "output_type": "display_data"
    },
    {
     "data": {
      "text/plain": [
       "<ggplot: (342644975)>"
      ]
     },
     "execution_count": 143,
     "metadata": {},
     "output_type": "execute_result"
    }
   ],
   "source": [
    "chart = plot_ggplot4classification(df4pca,'pca-two','pca-three','label') \n",
    "chart"
   ]
  },
  {
   "cell_type": "markdown",
   "metadata": {},
   "source": [
    "The above figures demonstrate the difficulty in distinguishing the classes."
   ]
  },
  {
   "cell_type": "markdown",
   "metadata": {},
   "source": [
    "## KNeighborsClassifier (KNN) \n",
    "\n",
    "\n",
    "In this section, I will try to use   a non parametric and instance-based learning algorithm: the KNN classifier \n",
    "\n",
    "- Non-parametric:  no explicit assumptions about the functional form, avoiding the dangers of mismodeling the underlying distribution of the data. \n",
    "- Instance-based learning:  algorithm doesn’t explicitly learn a model. It memorizes the training instances which are subsequently used as “knowledge” for the prediction phase. "
   ]
  },
  {
   "cell_type": "code",
   "execution_count": 144,
   "metadata": {},
   "outputs": [
    {
     "name": "stdout",
     "output_type": "stream",
     "text": [
      "Test set Accuracy:  0.8504736129905277\n",
      "accuracy: 0.850\n",
      "precision:  0.711\n",
      "recall:  0.639\n",
      "F1 score (macro):  0.673\n",
      "F1 score (weighted): 0.844\n"
     ]
    }
   ],
   "source": [
    "from sklearn.neighbors import KNeighborsClassifier\n",
    "\n",
    "knn = make_pipeline(RobustScaler(),\n",
    "                   KNeighborsClassifier()).fit(X=X_train, y=y_train)\n",
    "\n",
    "y_pred = knn.predict(X_test)                                                                            \n",
    "print(\"Test set Accuracy: \", metrics.accuracy_score(y_test, y_pred))     \n",
    "\n",
    "cm = metrics.confusion_matrix(y_test,y_pred)\n",
    "print_scores(cm,y_test,y_pred)"
   ]
  },
  {
   "cell_type": "markdown",
   "metadata": {},
   "source": [
    "**GridSearch for the KNN**"
   ]
  },
  {
   "cell_type": "code",
   "execution_count": 188,
   "metadata": {},
   "outputs": [
    {
     "name": "stdout",
     "output_type": "stream",
     "text": [
      "k: 1, F1_score: 0.873957819056536, accuracy: 0.8755074424898511\n"
     ]
    }
   ],
   "source": [
    "n_neighbors_range = range(1,20,3)\n",
    "results,knn_clf_best,cm_best,best_parameter = knn_gridsearch(X_train,y_train,X_test,y_test,n_neighbors_range)"
   ]
  },
  {
   "cell_type": "code",
   "execution_count": 184,
   "metadata": {},
   "outputs": [
    {
     "name": "stdout",
     "output_type": "stream",
     "text": [
      "accuracy: 0.876\n",
      "precision:  0.752\n",
      "recall:  0.726\n",
      "F1 score (macro):  0.739\n",
      "F1 score (weighted): 0.844\n"
     ]
    }
   ],
   "source": [
    "print_scores(cm_best,y_test,y_pred)"
   ]
  },
  {
   "cell_type": "code",
   "execution_count": 185,
   "metadata": {},
   "outputs": [
    {
     "name": "stdout",
     "output_type": "stream",
     "text": [
      "[[468   6   4   0   1   1  16]\n",
      " [ 11  14   3   3   0   0   3]\n",
      " [  2   2 115  14   4   3  16]\n",
      " [  2   1  11 240   3   3   3]\n",
      " [  0   0   6   2  19   0   3]\n",
      " [  0   1   1   6   1  19   7]\n",
      " [ 13   3  18   6   2   3 419]]\n"
     ]
    }
   ],
   "source": [
    "print(cm_best)"
   ]
  },
  {
   "cell_type": "code",
   "execution_count": 191,
   "metadata": {},
   "outputs": [
    {
     "data": {
      "text/html": [
       "<div>\n",
       "<style scoped>\n",
       "    .dataframe tbody tr th:only-of-type {\n",
       "        vertical-align: middle;\n",
       "    }\n",
       "\n",
       "    .dataframe tbody tr th {\n",
       "        vertical-align: top;\n",
       "    }\n",
       "\n",
       "    .dataframe thead th {\n",
       "        text-align: right;\n",
       "    }\n",
       "</style>\n",
       "<table border=\"1\" class=\"dataframe\">\n",
       "  <thead>\n",
       "    <tr style=\"text-align: right;\">\n",
       "      <th></th>\n",
       "      <th>k</th>\n",
       "      <th>F1</th>\n",
       "      <th>accuracy</th>\n",
       "    </tr>\n",
       "  </thead>\n",
       "  <tbody>\n",
       "    <tr>\n",
       "      <th>0</th>\n",
       "      <td>1.0</td>\n",
       "      <td>0.873958</td>\n",
       "      <td>0.875507</td>\n",
       "    </tr>\n",
       "    <tr>\n",
       "      <th>1</th>\n",
       "      <td>4.0</td>\n",
       "      <td>0.850710</td>\n",
       "      <td>0.857240</td>\n",
       "    </tr>\n",
       "    <tr>\n",
       "      <th>2</th>\n",
       "      <td>7.0</td>\n",
       "      <td>0.839755</td>\n",
       "      <td>0.847767</td>\n",
       "    </tr>\n",
       "    <tr>\n",
       "      <th>3</th>\n",
       "      <td>10.0</td>\n",
       "      <td>0.824028</td>\n",
       "      <td>0.834235</td>\n",
       "    </tr>\n",
       "    <tr>\n",
       "      <th>4</th>\n",
       "      <td>13.0</td>\n",
       "      <td>0.810581</td>\n",
       "      <td>0.824763</td>\n",
       "    </tr>\n",
       "    <tr>\n",
       "      <th>5</th>\n",
       "      <td>16.0</td>\n",
       "      <td>0.798989</td>\n",
       "      <td>0.820027</td>\n",
       "    </tr>\n",
       "    <tr>\n",
       "      <th>6</th>\n",
       "      <td>19.0</td>\n",
       "      <td>0.793730</td>\n",
       "      <td>0.815968</td>\n",
       "    </tr>\n",
       "  </tbody>\n",
       "</table>\n",
       "</div>"
      ],
      "text/plain": [
       "      k        F1  accuracy\n",
       "0   1.0  0.873958  0.875507\n",
       "1   4.0  0.850710  0.857240\n",
       "2   7.0  0.839755  0.847767\n",
       "3  10.0  0.824028  0.834235\n",
       "4  13.0  0.810581  0.824763\n",
       "5  16.0  0.798989  0.820027\n",
       "6  19.0  0.793730  0.815968"
      ]
     },
     "execution_count": 191,
     "metadata": {},
     "output_type": "execute_result"
    }
   ],
   "source": [
    "features = ['k', 'F1', 'accuracy']\n",
    "results_df = pd.DataFrame(np.array(results).reshape(len(results),3),columns=features) \n",
    "results_df"
   ]
  },
  {
   "cell_type": "code",
   "execution_count": 195,
   "metadata": {},
   "outputs": [
    {
     "data": {
      "text/plain": [
       "Text(0.5,1,'Performance of KNN on Test Data')"
      ]
     },
     "execution_count": 195,
     "metadata": {},
     "output_type": "execute_result"
    },
    {
     "data": {
      "image/png": "[encoded data removed]",
      "text/plain": [
       "<Figure size 432x288 with 1 Axes>"
      ]
     },
     "metadata": {},
     "output_type": "display_data"
    }
   ],
   "source": [
    "plt.plot(results_df['k'], results_df['F1'],'-o',c='r',label='F1 score')\n",
    "plt.plot(results_df['k'], results_df['accuracy'],'-s',c='b',label='accuracy')\n",
    "set_figstyle(0,20,0.5,1.0,'k','Metrics', True)\n",
    "plt.legend(fontsize=16)\n",
    "plt.title('Performance of KNN on Test Data')\n"
   ]
  },
  {
   "cell_type": "markdown",
   "metadata": {},
   "source": [
    "**Note: Use the PCA to reduce the dimension prior to appplying KNN which may help make the distance metric more meaningful. **"
   ]
  },
  {
   "cell_type": "markdown",
   "metadata": {},
   "source": [
    "## Random Forest\n",
    "\n",
    "\n",
    "Hyperparameters:\n",
    "\n",
    "- n_estimators = number of trees in the foreset\n",
    "- max_features = max number of features considered for splitting a node\n",
    "- max_depth = max number of levels in each decision tree\n",
    "- min_samples_split = min number of data points placed in a node before the node is split\n",
    "- min_samples_leaf = min number of data points allowed in a leaf node\n",
    "- bootstrap = method for sampling data points (with or without replacement)"
   ]
  },
  {
   "cell_type": "code",
   "execution_count": 207,
   "metadata": {},
   "outputs": [
    {
     "name": "stdout",
     "output_type": "stream",
     "text": [
      "Test set Accuracy:  0.8667117726657646\n",
      "[[473   3   6   0   0   0  14]\n",
      " [ 17   9   3   1   0   0   4]\n",
      " [  6   0 102  17   4   3  24]\n",
      " [  2   0  16 240   1   1   3]\n",
      " [  0   0   8   2  15   0   5]\n",
      " [  2   1   3   7   0  14   8]\n",
      " [ 18   2  11   4   0   1 428]]\n"
     ]
    }
   ],
   "source": [
    "from sklearn.ensemble import RandomForestClassifier\n",
    "\n",
    "rnd = make_pipeline(RobustScaler(),\n",
    "                    RandomForestClassifier()).fit(X=X_train, y=y_train)\n",
    "\n",
    "predRND = rnd.predict(X_test)       \n",
    "\n",
    "print(\"Test set Accuracy: \", metrics.accuracy_score(y_test, predRND))     \n",
    "\n",
    "cmRND = metrics.confusion_matrix(y_test,predRND)\n",
    "print(cmRND)"
   ]
  },
  {
   "cell_type": "code",
   "execution_count": 215,
   "metadata": {},
   "outputs": [],
   "source": [
    "from sklearn.model_selection import GridSearchCV\n",
    "# Create the parameter grid based on the results of random search \n",
    "param_grid = {\n",
    "    'bootstrap': [True],\n",
    "    'max_depth': [80, 90, 100, 110],\n",
    "    'max_features': [2, 3],\n",
    "    'min_samples_leaf': [3, 4, 5],\n",
    "    'min_samples_split': [8, 10, 12],\n",
    "    'n_estimators': [100, 200, 300, 1000]\n",
    "}\n",
    "\n",
    "# Create a based model\n",
    "rf = RandomForestClassifier()\n",
    "# Instantiate the grid search model\n",
    "grid_search = GridSearchCV(estimator = rf, param_grid = param_grid,  cv = 3, n_jobs = -1, verbose = 2)"
   ]
  },
  {
   "cell_type": "code",
   "execution_count": 219,
   "metadata": {},
   "outputs": [
    {
     "name": "stdout",
     "output_type": "stream",
     "text": [
      "Fitting 3 folds for each of 288 candidates, totalling 864 fits\n"
     ]
    },
    {
     "name": "stderr",
     "output_type": "stream",
     "text": [
      "[Parallel(n_jobs=-1)]: Using backend LokyBackend with 8 concurrent workers.\n",
      "[Parallel(n_jobs=-1)]: Done  25 tasks      | elapsed:   10.0s\n",
      "[Parallel(n_jobs=-1)]: Done 146 tasks      | elapsed:  1.2min\n",
      "[Parallel(n_jobs=-1)]: Done 349 tasks      | elapsed:  3.1min\n",
      "[Parallel(n_jobs=-1)]: Done 632 tasks      | elapsed:  5.8min\n",
      "[Parallel(n_jobs=-1)]: Done 864 out of 864 | elapsed:  8.1min finished\n"
     ]
    },
    {
     "data": {
      "text/plain": [
       "GridSearchCV(cv=3, error_score='raise-deprecating',\n",
       "       estimator=RandomForestClassifier(bootstrap=True, class_weight=None, criterion='gini',\n",
       "            max_depth=None, max_features='auto', max_leaf_nodes=None,\n",
       "            min_impurity_decrease=0.0, min_impurity_split=None,\n",
       "            min_samples_leaf=1, min_samples_split=2,\n",
       "            min_weight_fraction_leaf=0.0, n_estimators='warn', n_jobs=None,\n",
       "            oob_score=False, random_state=None, verbose=0,\n",
       "            warm_start=False),\n",
       "       fit_params=None, iid='warn', n_jobs=-1,\n",
       "       param_grid={'bootstrap': [True], 'max_depth': [80, 90, 100, 110], 'max_features': [2, 3], 'min_samples_leaf': [3, 4, 5], 'min_samples_split': [8, 10, 12], 'n_estimators': [100, 200, 300, 1000]},\n",
       "       pre_dispatch='2*n_jobs', refit=True, return_train_score='warn',\n",
       "       scoring=None, verbose=2)"
      ]
     },
     "execution_count": 219,
     "metadata": {},
     "output_type": "execute_result"
    }
   ],
   "source": [
    "# Fit the grid search to the data\n",
    "grid_search.fit(X_train, y_train) "
   ]
  },
  {
   "cell_type": "code",
   "execution_count": 220,
   "metadata": {},
   "outputs": [
    {
     "name": "stdout",
     "output_type": "stream",
     "text": [
      "[[477   0   3   1   0   0  15]\n",
      " [ 17   5   4   2   0   0   6]\n",
      " [  3   0  98  20   0   1  34]\n",
      " [  1   0  13 246   0   0   3]\n",
      " [  1   0   8   7  10   0   4]\n",
      " [  0   0   5   7   0   8  15]\n",
      " [ 13   0  11   4   1   0 435]]\n"
     ]
    }
   ],
   "source": [
    "# the parameters for the best case\n",
    "rf_best = grid_search.best_estimator_\n",
    "\n",
    "# prediction\n",
    "y_pred = rf_best.predict(X_test) \n",
    "cm     = metrics.confusion_matrix(y_test,y_pred)\n",
    "print(cm)"
   ]
  },
  {
   "cell_type": "code",
   "execution_count": 221,
   "metadata": {},
   "outputs": [
    {
     "name": "stdout",
     "output_type": "stream",
     "text": [
      "accuracy: 0.865\n",
      "precision:  0.875\n",
      "recall:  0.596\n",
      "F1 score (macro):  0.709\n",
      "F1 score (weighted): 0.850\n"
     ]
    }
   ],
   "source": [
    " print_scores(cm,y_test,y_pred)"
   ]
  },
  {
   "cell_type": "markdown",
   "metadata": {},
   "source": [
    "## Ensemble Learning"
   ]
  },
  {
   "cell_type": "markdown",
   "metadata": {},
   "source": [
    "### Voting"
   ]
  },
  {
   "cell_type": "code",
   "execution_count": 225,
   "metadata": {},
   "outputs": [
    {
     "name": "stdout",
     "output_type": "stream",
     "text": [
      "Test set Accuracy:  0.8707713125845737\n",
      "[[479   2   4   0   0   0  11]\n",
      " [ 14  11   1   2   0   0   6]\n",
      " [  4   1 106  17   0   1  27]\n",
      " [  3   0  12 245   1   0   2]\n",
      " [  0   0   7   9  10   0   4]\n",
      " [  1   1   1   7   0  13  12]\n",
      " [ 24   1   8   6   1   1 423]]\n"
     ]
    }
   ],
   "source": [
    "from sklearn.ensemble import VotingClassifier\n",
    "\n",
    "# Take all the best cases for several different algorithms\n",
    "log_clf   = LR_clf_best\n",
    "tree_clf  = tree_clf_best\n",
    "neigh_clf = knn_clf_best  \n",
    "rnd_clf   = rf_best\n",
    "\n",
    "voting_clf = make_pipeline(RobustScaler(), \n",
    "            VotingClassifier(estimators=[('lr',log_clf),\n",
    "                                         ('tree',tree_clf),\n",
    "                                         ('rf',rnd_clf),\n",
    "                                         ('neigh',neigh_clf)],\n",
    "                             voting='hard')).fit(X_train,y_train)\n",
    "\n",
    "predVot = voting_clf.predict(X_test)       \n",
    "print(\"Test set Accuracy: \", metrics.accuracy_score(y_test, predVot))     \n",
    "\n",
    "cmVot = metrics.confusion_matrix(y_test,predVot)\n",
    "print(cmVot)"
   ]
  },
  {
   "cell_type": "code",
   "execution_count": 226,
   "metadata": {},
   "outputs": [
    {
     "name": "stdout",
     "output_type": "stream",
     "text": [
      "accuracy: 0.871\n",
      "precision:  0.827\n",
      "recall:  0.645\n",
      "F1 score (macro):  0.725\n",
      "F1 score (weighted): 0.862\n"
     ]
    }
   ],
   "source": [
    "print_scores(cmVot,y_test,predVot)"
   ]
  },
  {
   "cell_type": "markdown",
   "metadata": {},
   "source": [
    "### Gradient Boosting"
   ]
  },
  {
   "cell_type": "markdown",
   "metadata": {},
   "source": [
    "# Deep Learning: Convolutional Neural Network\n",
    "\n",
    "\n",
    "## Feature generation\n",
    "\n",
    "\n",
    "Here we use so-called ***Full-None-Overlaping-Window***"
   ]
  },
  {
   "cell_type": "code",
   "execution_count": 12,
   "metadata": {},
   "outputs": [],
   "source": [
    "# set hyperparameters for the window\n",
    "num_feature = 3\n",
    "window_size = 520   # 10 senconds\n",
    "step_size   = 520   # 10 seconds\n",
    "segments    = []\n",
    "label       = []"
   ]
  },
  {
   "cell_type": "code",
   "execution_count": 13,
   "metadata": {},
   "outputs": [
    {
     "name": "stdout",
     "output_type": "stream",
     "text": [
      "Processing the data of class: 1\n",
      "\n"
     ]
    },
    {
     "data": {
      "application/vnd.jupyter.widget-view+json": {
       "model_id": "bdfab949e76a4dd7a585d8a7f41e2523",
       "version_major": 2,
       "version_minor": 0
      },
      "text/plain": [
       "IntProgress(value=0, max=608652)"
      ]
     },
     "metadata": {},
     "output_type": "display_data"
    },
    {
     "name": "stdout",
     "output_type": "stream",
     "text": [
      "Processing the data of class: 2\n",
      "\n"
     ]
    },
    {
     "data": {
      "application/vnd.jupyter.widget-view+json": {
       "model_id": "9a0586c6c06945a6badab9f57cae6f92",
       "version_major": 2,
       "version_minor": 0
      },
      "text/plain": [
       "IntProgress(value=0, max=47878)"
      ]
     },
     "metadata": {},
     "output_type": "display_data"
    },
    {
     "name": "stdout",
     "output_type": "stream",
     "text": [
      "Processing the data of class: 3\n",
      "\n"
     ]
    },
    {
     "data": {
      "application/vnd.jupyter.widget-view+json": {
       "model_id": "328d9287641d467084ecfb4fa8156604",
       "version_major": 2,
       "version_minor": 0
      },
      "text/plain": [
       "IntProgress(value=0, max=216737)"
      ]
     },
     "metadata": {},
     "output_type": "display_data"
    },
    {
     "name": "stdout",
     "output_type": "stream",
     "text": [
      "Processing the data of class: 4\n",
      "\n"
     ]
    },
    {
     "data": {
      "application/vnd.jupyter.widget-view+json": {
       "model_id": "ed9fde4c3497490386128b40cb918465",
       "version_major": 2,
       "version_minor": 0
      },
      "text/plain": [
       "IntProgress(value=0, max=357064)"
      ]
     },
     "metadata": {},
     "output_type": "display_data"
    },
    {
     "name": "stdout",
     "output_type": "stream",
     "text": [
      "Processing the data of class: 5\n",
      "\n"
     ]
    },
    {
     "data": {
      "application/vnd.jupyter.widget-view+json": {
       "model_id": "d13ada643e544a5dbae1a401f3009532",
       "version_major": 2,
       "version_minor": 0
      },
      "text/plain": [
       "IntProgress(value=0, max=51498)"
      ]
     },
     "metadata": {},
     "output_type": "display_data"
    },
    {
     "name": "stdout",
     "output_type": "stream",
     "text": [
      "Processing the data of class: 6\n",
      "\n"
     ]
    },
    {
     "data": {
      "application/vnd.jupyter.widget-view+json": {
       "model_id": "7a76dd4221684220a232b705c1b13e6a",
       "version_major": 2,
       "version_minor": 0
      },
      "text/plain": [
       "IntProgress(value=0, max=47770)"
      ]
     },
     "metadata": {},
     "output_type": "display_data"
    },
    {
     "name": "stdout",
     "output_type": "stream",
     "text": [
      "Processing the data of class: 7\n",
      "\n"
     ]
    },
    {
     "data": {
      "application/vnd.jupyter.widget-view+json": {
       "model_id": "1d259e5023fb458eb70b200e85892f9d",
       "version_major": 2,
       "version_minor": 0
      },
      "text/plain": [
       "IntProgress(value=0, max=593563)"
      ]
     },
     "metadata": {},
     "output_type": "display_data"
    }
   ],
   "source": [
    "labels, segments4all_array = preprocess_data(dfs, window_size, step_size, num_feature)"
   ]
  },
  {
   "cell_type": "code",
   "execution_count": 14,
   "metadata": {},
   "outputs": [
    {
     "name": "stdout",
     "output_type": "stream",
     "text": [
      "number of segments: 3695\n",
      "segements shape: (3695, 3, 520)\n",
      "labels for segments:[1, 2, 3, 4, 5, 6, 7]\n"
     ]
    }
   ],
   "source": [
    "print (\"number of segments: \" + str(len(labels))) \n",
    "print (\"segements shape: \" + str(segments4all_array.shape)) \n",
    "print (\"labels for segments:\" + str(list(set(labels)))) "
   ]
  },
  {
   "cell_type": "markdown",
   "metadata": {},
   "source": [
    "- There are **3695** segments/samples. Each segement contains **520** sequential numbers. At each sequential number, there are **3** features (x_acceration, y_acceration, z_acceration).\n",
    "\n",
    "- Each segement has one label with the value ranging from 1 to 7."
   ]
  },
  {
   "cell_type": "markdown",
   "metadata": {},
   "source": [
    "** Transform the class label into one-hot code **"
   ]
  },
  {
   "cell_type": "code",
   "execution_count": 15,
   "metadata": {},
   "outputs": [
    {
     "name": "stdout",
     "output_type": "stream",
     "text": [
      "labels shape: (3695, 7)\n"
     ]
    }
   ],
   "source": [
    "labels_OneHot = pd.get_dummies(labels)\n",
    "print (\"labels shape: \" + str(labels_OneHot.shape))"
   ]
  },
  {
   "cell_type": "markdown",
   "metadata": {},
   "source": [
    "** Normalization for each segment **\n",
    "\n",
    "No evident difference is found in the accuracy between the choices of StandardScaler() and RobustScaler().\n",
    "However, the RobustScaler() takes much longer time."
   ]
  },
  {
   "cell_type": "code",
   "execution_count": 16,
   "metadata": {},
   "outputs": [
    {
     "name": "stdout",
     "output_type": "stream",
     "text": [
      "segements (scaled) shape: (3695, 3, 520)\n"
     ]
    }
   ],
   "source": [
    "scaler_pipeline = Pipeline([\n",
    "                    ('std_scaler',StandardScaler())    # Standardize features by removing the mean and scaling to unit variance\n",
    "                    #('robust_scaler',RobustScaler())  # Scale features using statistics that are robust to outliers.\n",
    "                    ])\n",
    "\n",
    "segments_scaled=[]\n",
    "for m in range(0, segments4all_array.shape[0]):\n",
    "    segments_scaled.append(scaler_pipeline.fit_transform(segments4all_array[m]))\n",
    "    \n",
    "segments_array_scaled = np.array(segments_scaled) \n",
    "print (\"segements (scaled) shape: \" + str(segments_array_scaled.shape))"
   ]
  },
  {
   "cell_type": "markdown",
   "metadata": {},
   "source": [
    "** Split the data into train and test sets**"
   ]
  },
  {
   "cell_type": "code",
   "execution_count": 18,
   "metadata": {},
   "outputs": [],
   "source": [
    "X_train, X_test, y_train, y_test = train_test_split(segments_array_scaled,\n",
    "                                                    labels_OneHot, \n",
    "                                                    test_size=0.2, \n",
    "                                                    random_state=None)\n"
   ]
  },
  {
   "cell_type": "code",
   "execution_count": 19,
   "metadata": {},
   "outputs": [],
   "source": [
    "X_train = np.expand_dims(X_train, axis=3)\n",
    "X_test  = np.expand_dims(X_test, axis=3)  "
   ]
  },
  {
   "cell_type": "code",
   "execution_count": 20,
   "metadata": {},
   "outputs": [
    {
     "name": "stdout",
     "output_type": "stream",
     "text": [
      "number of training segments = 2956\n",
      "number of test segments = 739\n",
      "X_train shape: (2956, 3, 520, 1)\n",
      "Y_train shape: (2956, 7)\n",
      "X_test shape: (739, 3, 520, 1)\n",
      "Y_test shape: (739, 7)\n"
     ]
    }
   ],
   "source": [
    "print (\"number of training segments = \" + str(X_train.shape[0]))\n",
    "print (\"number of test segments = \" + str(X_test.shape[0]))\n",
    "print (\"X_train shape: \" + str(X_train.shape))\n",
    "print (\"Y_train shape: \" + str(y_train.shape))\n",
    "print (\"X_test shape: \" + str(X_test.shape))\n",
    "print (\"Y_test shape: \" + str(y_test.shape))"
   ]
  },
  {
   "cell_type": "markdown",
   "metadata": {},
   "source": [
    "## Building the CNN model\n",
    "\n",
    "\n",
    "Here, we adopt convolution neural network (CNN) to train the data.\n",
    "\n",
    "- The pros of using the CNN here is this model has achived a great success in the computer vision. In this project, we divide the whole time-series data into lots of segments. Each segement has dimension (3, window_size), which can be regarded as an image. Therefore, it is natural to think of this model.\n",
    "\n",
    "- The cons of this model is that this model belongs to ***black box*** models, which is not easy to interpret. \n",
    "\n",
    "- Both accuracy and f1 measure are adopted as metrics"
   ]
  },
  {
   "cell_type": "markdown",
   "metadata": {},
   "source": [
    "** Apply the model settings proposed by Chen and Xue**\n",
    "\n",
    "Y. Chen, Y. Xue, \"A Deep Learning Approach to Human Activity Recognition Based on Single Accelerometer\", in IEEE International Conference on Systems, Man, and Cybernetics, 2015, pp. 1488\n",
    "\n",
    "Note: the dataset here might be different from that used in the above paper."
   ]
  },
  {
   "cell_type": "code",
   "execution_count": 127,
   "metadata": {},
   "outputs": [],
   "source": [
    "cnn_model_CX = model_CX(num_feature, window_size)\n",
    "# both accuracy and f1 measure are adopted as metrics\n",
    "cnn_model_CX.compile(optimizer='adam', loss='categorical_crossentropy', metrics=['accuracy',f1])"
   ]
  },
  {
   "cell_type": "code",
   "execution_count": 46,
   "metadata": {},
   "outputs": [
    {
     "name": "stdout",
     "output_type": "stream",
     "text": [
      "Train on 2956 samples, validate on 739 samples\n",
      "Epoch 1/10\n",
      "2956/2956 [==============================] - 3s 1ms/step - loss: 1.8092 - acc: 0.2865 - f1: 0.0000e+00 - val_loss: 1.6333 - val_acc: 0.3342 - val_f1: 0.0000e+00\n",
      "Epoch 2/10\n",
      "2956/2956 [==============================] - 3s 944us/step - loss: 1.5810 - acc: 0.3738 - f1: 0.0000e+00 - val_loss: 1.5526 - val_acc: 0.3992 - val_f1: 0.0000e+00\n",
      "Epoch 3/10\n",
      "2956/2956 [==============================] - 3s 929us/step - loss: 1.5290 - acc: 0.3708 - f1: 0.0000e+00 - val_loss: 1.5196 - val_acc: 0.3424 - val_f1: 0.0081\n",
      "Epoch 4/10\n",
      "2956/2956 [==============================] - 3s 927us/step - loss: 1.4660 - acc: 0.3840 - f1: 0.0556 - val_loss: 1.4537 - val_acc: 0.4506 - val_f1: 0.1432\n",
      "Epoch 5/10\n",
      "2956/2956 [==============================] - 3s 937us/step - loss: 1.4044 - acc: 0.4371 - f1: 0.2115 - val_loss: 1.3929 - val_acc: 0.4736 - val_f1: 0.2378\n",
      "Epoch 6/10\n",
      "2956/2956 [==============================] - 3s 972us/step - loss: 1.3205 - acc: 0.5010 - f1: 0.2482 - val_loss: 1.3307 - val_acc: 0.5034 - val_f1: 0.2766\n",
      "Epoch 7/10\n",
      "2956/2956 [==============================] - 3s 984us/step - loss: 1.2600 - acc: 0.5169 - f1: 0.3486 - val_loss: 1.3038 - val_acc: 0.5359 - val_f1: 0.4045\n",
      "Epoch 8/10\n",
      "2956/2956 [==============================] - 3s 983us/step - loss: 1.2167 - acc: 0.5426 - f1: 0.3691 - val_loss: 1.2793 - val_acc: 0.5535 - val_f1: 0.3295\n",
      "Epoch 9/10\n",
      "2956/2956 [==============================] - 3s 976us/step - loss: 1.1848 - acc: 0.5653 - f1: 0.4080 - val_loss: 1.2651 - val_acc: 0.5575 - val_f1: 0.4000\n",
      "Epoch 10/10\n",
      "2956/2956 [==============================] - 3s 994us/step - loss: 1.1610 - acc: 0.5802 - f1: 0.3932 - val_loss: 1.2501 - val_acc: 0.5562 - val_f1: 0.4341\n"
     ]
    },
    {
     "data": {
      "text/plain": [
       "<keras.callbacks.History at 0x13f47edd8>"
      ]
     },
     "execution_count": 46,
     "metadata": {},
     "output_type": "execute_result"
    }
   ],
   "source": [
    "#train the model\n",
    "cnn_model_CX.fit(X_train, y_train, batch_size=500, validation_data=(X_test, y_test), epochs=10)"
   ]
  },
  {
   "cell_type": "code",
   "execution_count": 51,
   "metadata": {},
   "outputs": [
    {
     "name": "stdout",
     "output_type": "stream",
     "text": [
      "739/739 [==============================] - 0s 410us/step\n",
      "Loss = 1.2501320830862641\n",
      "Test Accuracy = 0.5561569689171886\n",
      "F1 score = 0.4296363300173789\n"
     ]
    }
   ],
   "source": [
    "preds = cnn_model_CX.evaluate(X_test, y_test)\n",
    "print (\"Loss = \" + str(preds[0]))  \n",
    "print (\"Test Accuracy = \" + str(preds[1]))\n",
    "print (\"F1 score = \" + str(preds[2]))"
   ]
  },
  {
   "cell_type": "code",
   "execution_count": 61,
   "metadata": {},
   "outputs": [
    {
     "name": "stdout",
     "output_type": "stream",
     "text": [
      "[[107   0   0   4   0   0 114]\n",
      " [  5   0   0   3   0   0  11]\n",
      " [ 22   0   0  26   0   0  43]\n",
      " [  8   0   2 126   0   0  12]\n",
      " [  8   0   1  10   0   0   5]\n",
      " [  1   0   0   3   0   0  10]\n",
      " [ 25   0   1  14   0   0 178]]\n"
     ]
    }
   ],
   "source": [
    "y_pred = cnn_model_CX.predict(X_test)\n",
    "y_pred_classes = np.argmax(y_pred, axis=1) \n",
    "y_test_classes = np.argmax(np.array(y_test).reshape(y_test.shape[0],7), axis=1) \n",
    "cm = confusion_matrix(y_test_classes,y_pred_classes)\n",
    "print(cm)"
   ]
  },
  {
   "cell_type": "code",
   "execution_count": 63,
   "metadata": {},
   "outputs": [
    {
     "name": "stdout",
     "output_type": "stream",
     "text": [
      "_________________________________________________________________\n",
      "Layer (type)                 Output Shape              Param #   \n",
      "=================================================================\n",
      "conv2d_11 (Conv2D)           (None, 3, 520, 18)        450       \n",
      "_________________________________________________________________\n",
      "max_pooling2d_1 (MaxPooling2 (None, 3, 260, 18)        0         \n",
      "_________________________________________________________________\n",
      "leaky_re_lu_3 (LeakyReLU)    (None, 3, 260, 18)        0         \n",
      "_________________________________________________________________\n",
      "conv2d_12 (Conv2D)           (None, 2, 130, 36)        7812      \n",
      "_________________________________________________________________\n",
      "max_pooling2d_2 (MaxPooling2 (None, 2, 65, 36)         0         \n",
      "_________________________________________________________________\n",
      "leaky_re_lu_4 (LeakyReLU)    (None, 2, 65, 36)         0         \n",
      "_________________________________________________________________\n",
      "conv2d_13 (Conv2D)           (None, 2, 65, 24)         10392     \n",
      "_________________________________________________________________\n",
      "max_pooling2d_3 (MaxPooling2 (None, 2, 32, 24)         0         \n",
      "_________________________________________________________________\n",
      "flatten_5 (Flatten)          (None, 1536)              0         \n",
      "_________________________________________________________________\n",
      "dense_5 (Dense)              (None, 7)                 10759     \n",
      "=================================================================\n",
      "Total params: 29,413\n",
      "Trainable params: 29,413\n",
      "Non-trainable params: 0\n",
      "_________________________________________________________________\n"
     ]
    }
   ],
   "source": [
    "cnn_model_CX.summary()"
   ]
  },
  {
   "cell_type": "markdown",
   "metadata": {},
   "source": [
    "As a comparison, let's try a simple **two-layer CNN model**, followed by a full-connected layer with an activation function, ***softmax*** for multi-class classification. No pooling layer.\n",
    "\n",
    "Of course, one can make the model more complicate by changing the hyperparametrs: filter size, number of filters, number of hidden layers and introduce batch normalization. "
   ]
  },
  {
   "cell_type": "code",
   "execution_count": 49,
   "metadata": {},
   "outputs": [],
   "source": [
    "cnn_model_simple = model_simple(num_feature, window_size)\n",
    "cnn_model_simple.compile(optimizer='adam', loss='categorical_crossentropy', metrics=['accuracy',f1])"
   ]
  },
  {
   "cell_type": "code",
   "execution_count": 50,
   "metadata": {},
   "outputs": [
    {
     "name": "stdout",
     "output_type": "stream",
     "text": [
      "Train on 2956 samples, validate on 739 samples\n",
      "Epoch 1/10\n",
      "2956/2956 [==============================] - 7s 2ms/step - loss: 2.4697 - acc: 0.2818 - f1: 0.2089 - val_loss: 1.7345 - val_acc: 0.3667 - val_f1: 0.3090\n",
      "Epoch 2/10\n",
      "2956/2956 [==============================] - 6s 2ms/step - loss: 1.5719 - acc: 0.3901 - f1: 0.2646 - val_loss: 1.6070 - val_acc: 0.3654 - val_f1: 0.1350\n",
      "Epoch 3/10\n",
      "2956/2956 [==============================] - 6s 2ms/step - loss: 1.4508 - acc: 0.4283 - f1: 0.2275 - val_loss: 1.4744 - val_acc: 0.4168 - val_f1: 0.2049\n",
      "Epoch 4/10\n",
      "2956/2956 [==============================] - 7s 2ms/step - loss: 1.3043 - acc: 0.5041 - f1: 0.2951 - val_loss: 1.3244 - val_acc: 0.5183 - val_f1: 0.2939\n",
      "Epoch 5/10\n",
      "2956/2956 [==============================] - 7s 2ms/step - loss: 1.1762 - acc: 0.5518 - f1: 0.3797 - val_loss: 1.2679 - val_acc: 0.5372 - val_f1: 0.3395\n",
      "Epoch 6/10\n",
      "2956/2956 [==============================] - 8s 3ms/step - loss: 1.0980 - acc: 0.5707 - f1: 0.4331 - val_loss: 1.2512 - val_acc: 0.5237 - val_f1: 0.3253\n",
      "Epoch 7/10\n",
      "2956/2956 [==============================] - 7s 2ms/step - loss: 1.0448 - acc: 0.5880 - f1: 0.4124 - val_loss: 1.2861 - val_acc: 0.4696 - val_f1: 0.3324\n",
      "Epoch 8/10\n",
      "2956/2956 [==============================] - 6s 2ms/step - loss: 1.0041 - acc: 0.5995 - f1: 0.4591 - val_loss: 1.2782 - val_acc: 0.5183 - val_f1: 0.4231\n",
      "Epoch 9/10\n",
      "2956/2956 [==============================] - 7s 2ms/step - loss: 0.9618 - acc: 0.6012 - f1: 0.4931 - val_loss: 1.3129 - val_acc: 0.4899 - val_f1: 0.3568\n",
      "Epoch 10/10\n",
      "2956/2956 [==============================] - 7s 2ms/step - loss: 0.9372 - acc: 0.6289 - f1: 0.4817 - val_loss: 1.3016 - val_acc: 0.5223 - val_f1: 0.3872\n"
     ]
    },
    {
     "data": {
      "text/plain": [
       "<keras.callbacks.History at 0x13dcc6be0>"
      ]
     },
     "execution_count": 50,
     "metadata": {},
     "output_type": "execute_result"
    }
   ],
   "source": [
    "#train the model\n",
    "cnn_model_simple.fit(X_train, y_train, batch_size=500, validation_data=(X_test, y_test), epochs=10)"
   ]
  },
  {
   "cell_type": "code",
   "execution_count": 53,
   "metadata": {},
   "outputs": [
    {
     "name": "stdout",
     "output_type": "stream",
     "text": [
      "739/739 [==============================] - 0s 433us/step\n",
      "Loss = 1.3015789310567596\n",
      "Test Accuracy = 0.5223274695534507\n",
      "F1 score = 0.38492080032906123\n"
     ]
    }
   ],
   "source": [
    "preds = cnn_model_simple.evaluate(X_test, y_test)\n",
    "print (\"Loss = \" + str(preds[0]))  \n",
    "print (\"Test Accuracy = \" + str(preds[1]))\n",
    "print (\"F1 score = \" + str(preds[2]))"
   ]
  },
  {
   "cell_type": "code",
   "execution_count": 60,
   "metadata": {},
   "outputs": [
    {
     "name": "stdout",
     "output_type": "stream",
     "text": [
      "[[140   0   0   2   1   0  82]\n",
      " [  8   0   0   1   0   0  10]\n",
      " [ 15   0   0  18   1   0  57]\n",
      " [  8   0   3  99   1   0  37]\n",
      " [  2   0   2   4   2   0  14]\n",
      " [  1   0   0   1   0   0  12]\n",
      " [ 67   0   1   5   0   0 145]]\n"
     ]
    }
   ],
   "source": [
    "y_pred = cnn_model_simple.predict(X_test)\n",
    "y_pred_classes = np.argmax(y_pred, axis=1) \n",
    "y_test_classes = np.argmax(np.array(y_test).reshape(y_test.shape[0],7), axis=1) \n",
    "cm = confusion_matrix(y_test_classes,y_pred_classes)\n",
    "print(cm)"
   ]
  },
  {
   "cell_type": "code",
   "execution_count": 64,
   "metadata": {},
   "outputs": [
    {
     "name": "stdout",
     "output_type": "stream",
     "text": [
      "_________________________________________________________________\n",
      "Layer (type)                 Output Shape              Param #   \n",
      "=================================================================\n",
      "conv2d_16 (Conv2D)           (None, 2, 519, 64)        320       \n",
      "_________________________________________________________________\n",
      "batch_normalization_8 (Batch (None, 2, 519, 64)        256       \n",
      "_________________________________________________________________\n",
      "conv2d_17 (Conv2D)           (None, 1, 518, 36)        9252      \n",
      "_________________________________________________________________\n",
      "flatten_7 (Flatten)          (None, 18648)             0         \n",
      "_________________________________________________________________\n",
      "dense_7 (Dense)              (None, 7)                 130543    \n",
      "=================================================================\n",
      "Total params: 140,371\n",
      "Trainable params: 140,243\n",
      "Non-trainable params: 128\n",
      "_________________________________________________________________\n"
     ]
    }
   ],
   "source": [
    "cnn_model_simple.summary()"
   ]
  },
  {
   "cell_type": "markdown",
   "metadata": {},
   "source": [
    "- The above two convolutional neural networks provide similar accuracy and f1 score for the training, validation and test data.\n",
    "\n",
    "- In the cnn_model_CX, the use of max pooling reduces the number of parameters significantly, reducing the possibility of overfitting to some extent."
   ]
  },
  {
   "cell_type": "markdown",
   "metadata": {},
   "source": [
    "# Window size effect"
   ]
  },
  {
   "cell_type": "code",
   "execution_count": 110,
   "metadata": {},
   "outputs": [],
   "source": [
    "# set hyperparameters for the segmentation \n",
    "num_feature = 3 \n",
    "step_size   = 260        # frequency is 52 Hz.  \n",
    "segments    = []\n",
    "label       = []"
   ]
  },
  {
   "cell_type": "code",
   "execution_count": 128,
   "metadata": {},
   "outputs": [],
   "source": [
    "scaler_pipeline = Pipeline([\n",
    "                    ('std_scaler',StandardScaler())\n",
    "                    ])\n",
    "    \n",
    "def HAR_API(dfs,window_size):\n",
    "    \n",
    "    # Sample generation process\n",
    "    labels, segments4all_array = preprocess_data(dfs, window_size, step_size, num_feature)\n",
    "    \n",
    "    # encoding the label into one-hot\n",
    "    labels_OneHot = pd.get_dummies(labels)\n",
    "    \n",
    "\n",
    "    # scaling the data\n",
    "    segments_scaled = []\n",
    "    for m in range(0, segments4all_array.shape[0]):\n",
    "        segments_scaled.append(scaler_pipeline.fit_transform(segments4all_array[m]))\n",
    "\n",
    "    segments_array_scaled = np.array(segments_scaled) \n",
    "    \n",
    "    X_train, X_test, y_train, y_test = train_test_split(segments_array_scaled,labels_OneHot, \n",
    "                                                        test_size=0.2, random_state=None)\n",
    "    \n",
    "    X_train = np.expand_dims(X_train, axis=3)\n",
    "    X_test  = np.expand_dims(X_test, axis=3) \n",
    "    \n",
    "    \n",
    "    cnn_model_CX = model_CX(num_feature, window_size) # input parameters determine input X dimension\n",
    "    cnn_model_CX.compile(optimizer='adam', loss='categorical_crossentropy', metrics=['accuracy',f1])\n",
    "    #train the model\n",
    "    cnn_model_CX.fit(X_train, y_train, batch_size=500, validation_data=(X_test, y_test), epochs=10)\n",
    "    \n",
    "    y_pred = cnn_model_CX.predict(X_test)\n",
    "    \n",
    "    preds = cnn_model_CX.evaluate(X_test, y_test)\n",
    "    print (\"Loss = \" + str(preds[0]))  \n",
    "    print (\"Test Accuracy = \" + str(preds[1]))\n",
    "    print (\"F1 score = \" + str(preds[2]))\n",
    "    return preds"
   ]
  },
  {
   "cell_type": "code",
   "execution_count": 129,
   "metadata": {},
   "outputs": [
    {
     "name": "stdout",
     "output_type": "stream",
     "text": [
      " Window Size: 260\n",
      "\n",
      "Processing the data of class: 1\n",
      "\n"
     ]
    },
    {
     "data": {
      "application/vnd.jupyter.widget-view+json": {
       "model_id": "d2a01a53cd9c413eb5e7356dec58f4c6",
       "version_major": 2,
       "version_minor": 0
      },
      "text/plain": [
       "IntProgress(value=0, max=608652)"
      ]
     },
     "metadata": {},
     "output_type": "display_data"
    },
    {
     "name": "stdout",
     "output_type": "stream",
     "text": [
      "Processing the data of class: 2\n",
      "\n"
     ]
    },
    {
     "data": {
      "application/vnd.jupyter.widget-view+json": {
       "model_id": "52fd3583600344d2877656e7abef54e5",
       "version_major": 2,
       "version_minor": 0
      },
      "text/plain": [
       "IntProgress(value=0, max=47878)"
      ]
     },
     "metadata": {},
     "output_type": "display_data"
    },
    {
     "name": "stdout",
     "output_type": "stream",
     "text": [
      "Processing the data of class: 3\n",
      "\n"
     ]
    },
    {
     "data": {
      "application/vnd.jupyter.widget-view+json": {
       "model_id": "79f7acb7152c45c09e40a97779352f7f",
       "version_major": 2,
       "version_minor": 0
      },
      "text/plain": [
       "IntProgress(value=0, max=216737)"
      ]
     },
     "metadata": {},
     "output_type": "display_data"
    },
    {
     "name": "stdout",
     "output_type": "stream",
     "text": [
      "Processing the data of class: 4\n",
      "\n"
     ]
    },
    {
     "data": {
      "application/vnd.jupyter.widget-view+json": {
       "model_id": "bddb874ebd5f4dd08107d2fd3338becc",
       "version_major": 2,
       "version_minor": 0
      },
      "text/plain": [
       "IntProgress(value=0, max=357064)"
      ]
     },
     "metadata": {},
     "output_type": "display_data"
    },
    {
     "name": "stdout",
     "output_type": "stream",
     "text": [
      "Processing the data of class: 5\n",
      "\n"
     ]
    },
    {
     "data": {
      "application/vnd.jupyter.widget-view+json": {
       "model_id": "3a4414870f554a0f9f2c76abdb663851",
       "version_major": 2,
       "version_minor": 0
      },
      "text/plain": [
       "IntProgress(value=0, max=51498)"
      ]
     },
     "metadata": {},
     "output_type": "display_data"
    },
    {
     "name": "stdout",
     "output_type": "stream",
     "text": [
      "Processing the data of class: 6\n",
      "\n"
     ]
    },
    {
     "data": {
      "application/vnd.jupyter.widget-view+json": {
       "model_id": "7dbb34d7b3b34c70b2c15644607bae6c",
       "version_major": 2,
       "version_minor": 0
      },
      "text/plain": [
       "IntProgress(value=0, max=47770)"
      ]
     },
     "metadata": {},
     "output_type": "display_data"
    },
    {
     "name": "stdout",
     "output_type": "stream",
     "text": [
      "Processing the data of class: 7\n",
      "\n"
     ]
    },
    {
     "data": {
      "application/vnd.jupyter.widget-view+json": {
       "model_id": "ec888263c9cf48f5b5623c2b582e9504",
       "version_major": 2,
       "version_minor": 0
      },
      "text/plain": [
       "IntProgress(value=0, max=593563)"
      ]
     },
     "metadata": {},
     "output_type": "display_data"
    },
    {
     "name": "stdout",
     "output_type": "stream",
     "text": [
      "Train on 5914 samples, validate on 1479 samples\n",
      "Epoch 1/10\n",
      "5914/5914 [==============================] - 3s 549us/step - loss: 1.7137 - acc: 0.2883 - f1: 0.0000e+00 - val_loss: 1.5471 - val_acc: 0.3489 - val_f1: 0.0000e+00\n",
      "Epoch 2/10\n",
      "5914/5914 [==============================] - 3s 487us/step - loss: 1.5574 - acc: 0.3478 - f1: 6.7311e-04 - val_loss: 1.5094 - val_acc: 0.3732 - val_f1: 0.0027\n",
      "Epoch 3/10\n",
      "5914/5914 [==============================] - 3s 469us/step - loss: 1.5102 - acc: 0.3823 - f1: 0.0342 - val_loss: 1.4576 - val_acc: 0.4057 - val_f1: 0.0496\n",
      "Epoch 4/10\n",
      "5914/5914 [==============================] - 3s 479us/step - loss: 1.4465 - acc: 0.4344 - f1: 0.1132 - val_loss: 1.4067 - val_acc: 0.4111 - val_f1: 0.1757\n",
      "Epoch 5/10\n",
      "5914/5914 [==============================] - 3s 480us/step - loss: 1.3648 - acc: 0.4682 - f1: 0.2181 - val_loss: 1.2984 - val_acc: 0.5037 - val_f1: 0.2865\n",
      "Epoch 6/10\n",
      "5914/5914 [==============================] - 3s 481us/step - loss: 1.2836 - acc: 0.5074 - f1: 0.3160 - val_loss: 1.2523 - val_acc: 0.4990 - val_f1: 0.4027\n",
      "Epoch 7/10\n",
      "5914/5914 [==============================] - 3s 476us/step - loss: 1.2522 - acc: 0.5181 - f1: 0.3660 - val_loss: 1.2309 - val_acc: 0.5335 - val_f1: 0.4191\n",
      "Epoch 8/10\n",
      "5914/5914 [==============================] - 3s 477us/step - loss: 1.2273 - acc: 0.5216 - f1: 0.3901 - val_loss: 1.2128 - val_acc: 0.5172 - val_f1: 0.3873\n",
      "Epoch 9/10\n",
      "5914/5914 [==============================] - 3s 522us/step - loss: 1.2233 - acc: 0.5252 - f1: 0.3582 - val_loss: 1.2159 - val_acc: 0.5172 - val_f1: 0.3283\n",
      "Epoch 10/10\n",
      "5914/5914 [==============================] - 4s 655us/step - loss: 1.2014 - acc: 0.5247 - f1: 0.3642 - val_loss: 1.1990 - val_acc: 0.5402 - val_f1: 0.3475\n",
      "1479/1479 [==============================] - 0s 193us/step\n",
      "Loss = 1.1989877716442312\n",
      "Test Accuracy = 0.5402298851783732\n",
      "F1 score = 0.34487851151467336\n",
      " Window Size: 520\n",
      "\n",
      "Processing the data of class: 1\n",
      "\n"
     ]
    },
    {
     "data": {
      "application/vnd.jupyter.widget-view+json": {
       "model_id": "525abd33320a4b12b7bc4ab4016211db",
       "version_major": 2,
       "version_minor": 0
      },
      "text/plain": [
       "IntProgress(value=0, max=608652)"
      ]
     },
     "metadata": {},
     "output_type": "display_data"
    },
    {
     "name": "stdout",
     "output_type": "stream",
     "text": [
      "Processing the data of class: 2\n",
      "\n"
     ]
    },
    {
     "data": {
      "application/vnd.jupyter.widget-view+json": {
       "model_id": "cb9914e1e2de4ad8803c510291a81f3e",
       "version_major": 2,
       "version_minor": 0
      },
      "text/plain": [
       "IntProgress(value=0, max=47878)"
      ]
     },
     "metadata": {},
     "output_type": "display_data"
    },
    {
     "name": "stdout",
     "output_type": "stream",
     "text": [
      "Processing the data of class: 3\n",
      "\n"
     ]
    },
    {
     "data": {
      "application/vnd.jupyter.widget-view+json": {
       "model_id": "dd512c49c84f4580bcdad3cc8ead03f1",
       "version_major": 2,
       "version_minor": 0
      },
      "text/plain": [
       "IntProgress(value=0, max=216737)"
      ]
     },
     "metadata": {},
     "output_type": "display_data"
    },
    {
     "name": "stdout",
     "output_type": "stream",
     "text": [
      "Processing the data of class: 4\n",
      "\n"
     ]
    },
    {
     "data": {
      "application/vnd.jupyter.widget-view+json": {
       "model_id": "19a3441632344e63ae950924ee38adec",
       "version_major": 2,
       "version_minor": 0
      },
      "text/plain": [
       "IntProgress(value=0, max=357064)"
      ]
     },
     "metadata": {},
     "output_type": "display_data"
    },
    {
     "name": "stdout",
     "output_type": "stream",
     "text": [
      "Processing the data of class: 5\n",
      "\n"
     ]
    },
    {
     "data": {
      "application/vnd.jupyter.widget-view+json": {
       "model_id": "483d14b1c150475292e6cb87ea0929b9",
       "version_major": 2,
       "version_minor": 0
      },
      "text/plain": [
       "IntProgress(value=0, max=51498)"
      ]
     },
     "metadata": {},
     "output_type": "display_data"
    },
    {
     "name": "stdout",
     "output_type": "stream",
     "text": [
      "Processing the data of class: 6\n",
      "\n"
     ]
    },
    {
     "data": {
      "application/vnd.jupyter.widget-view+json": {
       "model_id": "6c8c6ad2a30b4e2dbaaf7dc5862dd6e6",
       "version_major": 2,
       "version_minor": 0
      },
      "text/plain": [
       "IntProgress(value=0, max=47770)"
      ]
     },
     "metadata": {},
     "output_type": "display_data"
    },
    {
     "name": "stdout",
     "output_type": "stream",
     "text": [
      "Processing the data of class: 7\n",
      "\n"
     ]
    },
    {
     "data": {
      "application/vnd.jupyter.widget-view+json": {
       "model_id": "bb91513983da4de6900e662019f35604",
       "version_major": 2,
       "version_minor": 0
      },
      "text/plain": [
       "IntProgress(value=0, max=593563)"
      ]
     },
     "metadata": {},
     "output_type": "display_data"
    },
    {
     "name": "stdout",
     "output_type": "stream",
     "text": [
      "Train on 5908 samples, validate on 1478 samples\n",
      "Epoch 1/10\n",
      "5908/5908 [==============================] - 6s 1ms/step - loss: 1.6760 - acc: 0.3016 - f1: 0.0000e+00 - val_loss: 1.5975 - val_acc: 0.3214 - val_f1: 0.0000e+00\n",
      "Epoch 2/10\n",
      "5908/5908 [==============================] - 6s 972us/step - loss: 1.5366 - acc: 0.3685 - f1: 0.0110 - val_loss: 1.5356 - val_acc: 0.3586 - val_f1: 0.0474\n",
      "Epoch 3/10\n",
      "5908/5908 [==============================] - 6s 954us/step - loss: 1.4669 - acc: 0.3966 - f1: 0.1066 - val_loss: 1.4541 - val_acc: 0.3775 - val_f1: 0.0711\n",
      "Epoch 4/10\n",
      "5908/5908 [==============================] - 6s 948us/step - loss: 1.3583 - acc: 0.4687 - f1: 0.2092 - val_loss: 1.3034 - val_acc: 0.5257 - val_f1: 0.2359\n",
      "Epoch 5/10\n",
      "5908/5908 [==============================] - 6s 961us/step - loss: 1.2572 - acc: 0.5174 - f1: 0.3461 - val_loss: 1.2523 - val_acc: 0.5217 - val_f1: 0.3094\n",
      "Epoch 6/10\n",
      "5908/5908 [==============================] - 6s 962us/step - loss: 1.2037 - acc: 0.5383 - f1: 0.3933 - val_loss: 1.2025 - val_acc: 0.5196 - val_f1: 0.3304\n",
      "Epoch 7/10\n",
      "5908/5908 [==============================] - 6s 934us/step - loss: 1.1712 - acc: 0.5399 - f1: 0.4105 - val_loss: 1.1916 - val_acc: 0.5149 - val_f1: 0.4345\n",
      "Epoch 8/10\n",
      "5908/5908 [==============================] - 6s 950us/step - loss: 1.1638 - acc: 0.5432 - f1: 0.4171 - val_loss: 1.2057 - val_acc: 0.5183 - val_f1: 0.3929\n",
      "Epoch 9/10\n",
      "5908/5908 [==============================] - 6s 958us/step - loss: 1.1575 - acc: 0.5538 - f1: 0.4254 - val_loss: 1.1682 - val_acc: 0.5724 - val_f1: 0.3623\n",
      "Epoch 10/10\n",
      "5908/5908 [==============================] - 6s 982us/step - loss: 1.1408 - acc: 0.5579 - f1: 0.4183 - val_loss: 1.1435 - val_acc: 0.5426 - val_f1: 0.4072\n",
      "1478/1478 [==============================] - 0s 308us/step\n",
      "Loss = 1.1435353367189915\n",
      "Test Accuracy = 0.5426251691676606\n",
      "F1 score = 0.40372104025338756\n",
      " Window Size: 780\n",
      "\n",
      "Processing the data of class: 1\n",
      "\n"
     ]
    },
    {
     "data": {
      "application/vnd.jupyter.widget-view+json": {
       "model_id": "e75a0763992b4a9d9062a710f84d3999",
       "version_major": 2,
       "version_minor": 0
      },
      "text/plain": [
       "IntProgress(value=0, max=608652)"
      ]
     },
     "metadata": {},
     "output_type": "display_data"
    },
    {
     "name": "stdout",
     "output_type": "stream",
     "text": [
      "Processing the data of class: 2\n",
      "\n"
     ]
    },
    {
     "data": {
      "application/vnd.jupyter.widget-view+json": {
       "model_id": "1a58f5d5456c4729b11e27ddd00e0b34",
       "version_major": 2,
       "version_minor": 0
      },
      "text/plain": [
       "IntProgress(value=0, max=47878)"
      ]
     },
     "metadata": {},
     "output_type": "display_data"
    },
    {
     "name": "stdout",
     "output_type": "stream",
     "text": [
      "Processing the data of class: 3\n",
      "\n"
     ]
    },
    {
     "data": {
      "application/vnd.jupyter.widget-view+json": {
       "model_id": "36c7095d165340e985c37942fc0c7a16",
       "version_major": 2,
       "version_minor": 0
      },
      "text/plain": [
       "IntProgress(value=0, max=216737)"
      ]
     },
     "metadata": {},
     "output_type": "display_data"
    },
    {
     "name": "stdout",
     "output_type": "stream",
     "text": [
      "Processing the data of class: 4\n",
      "\n"
     ]
    },
    {
     "data": {
      "application/vnd.jupyter.widget-view+json": {
       "model_id": "5eadf28365c24d3a99a4d4d3bea11d12",
       "version_major": 2,
       "version_minor": 0
      },
      "text/plain": [
       "IntProgress(value=0, max=357064)"
      ]
     },
     "metadata": {},
     "output_type": "display_data"
    },
    {
     "name": "stdout",
     "output_type": "stream",
     "text": [
      "Processing the data of class: 5\n",
      "\n"
     ]
    },
    {
     "data": {
      "application/vnd.jupyter.widget-view+json": {
       "model_id": "beee9b18e5754c6fae10a86de187087f",
       "version_major": 2,
       "version_minor": 0
      },
      "text/plain": [
       "IntProgress(value=0, max=51498)"
      ]
     },
     "metadata": {},
     "output_type": "display_data"
    },
    {
     "name": "stdout",
     "output_type": "stream",
     "text": [
      "Processing the data of class: 6\n",
      "\n"
     ]
    },
    {
     "data": {
      "application/vnd.jupyter.widget-view+json": {
       "model_id": "47841a79c8d8442ab48ebfc0f2c0f99f",
       "version_major": 2,
       "version_minor": 0
      },
      "text/plain": [
       "IntProgress(value=0, max=47770)"
      ]
     },
     "metadata": {},
     "output_type": "display_data"
    },
    {
     "name": "stdout",
     "output_type": "stream",
     "text": [
      "Processing the data of class: 7\n",
      "\n"
     ]
    },
    {
     "data": {
      "application/vnd.jupyter.widget-view+json": {
       "model_id": "803819727091497c865e3bf4bd764c4b",
       "version_major": 2,
       "version_minor": 0
      },
      "text/plain": [
       "IntProgress(value=0, max=593563)"
      ]
     },
     "metadata": {},
     "output_type": "display_data"
    },
    {
     "name": "stdout",
     "output_type": "stream",
     "text": [
      "Train on 5903 samples, validate on 1476 samples\n",
      "Epoch 1/10\n",
      "5903/5903 [==============================] - 9s 2ms/step - loss: 1.6600 - acc: 0.3227 - f1: 0.0000e+00 - val_loss: 1.5758 - val_acc: 0.3747 - val_f1: 0.0161\n",
      "Epoch 2/10\n",
      "5903/5903 [==============================] - 9s 1ms/step - loss: 1.5152 - acc: 0.3798 - f1: 0.0446 - val_loss: 1.4788 - val_acc: 0.3943 - val_f1: 0.0486\n",
      "Epoch 3/10\n",
      "5903/5903 [==============================] - 9s 1ms/step - loss: 1.3878 - acc: 0.4650 - f1: 0.1353 - val_loss: 1.3239 - val_acc: 0.5163 - val_f1: 0.2236\n",
      "Epoch 4/10\n",
      "5903/5903 [==============================] - 8s 1ms/step - loss: 1.2365 - acc: 0.5360 - f1: 0.3221 - val_loss: 1.2357 - val_acc: 0.5054 - val_f1: 0.3954\n",
      "Epoch 5/10\n",
      "5903/5903 [==============================] - 8s 1ms/step - loss: 1.1997 - acc: 0.5329 - f1: 0.3930 - val_loss: 1.2043 - val_acc: 0.5264 - val_f1: 0.4113\n",
      "Epoch 6/10\n",
      "5903/5903 [==============================] - 8s 1ms/step - loss: 1.1840 - acc: 0.5372 - f1: 0.3924 - val_loss: 1.1751 - val_acc: 0.5508 - val_f1: 0.4095\n",
      "Epoch 7/10\n",
      "5903/5903 [==============================] - 8s 1ms/step - loss: 1.1681 - acc: 0.5431 - f1: 0.4181 - val_loss: 1.1657 - val_acc: 0.5454 - val_f1: 0.4010\n",
      "Epoch 8/10\n",
      "5903/5903 [==============================] - 8s 1ms/step - loss: 1.1566 - acc: 0.5429 - f1: 0.4076 - val_loss: 1.1632 - val_acc: 0.5271 - val_f1: 0.4675\n",
      "Epoch 9/10\n",
      "5903/5903 [==============================] - 8s 1ms/step - loss: 1.1437 - acc: 0.5497 - f1: 0.4302 - val_loss: 1.1443 - val_acc: 0.5373 - val_f1: 0.3528\n",
      "Epoch 10/10\n",
      "5903/5903 [==============================] - 8s 1ms/step - loss: 1.1531 - acc: 0.5531 - f1: 0.4449 - val_loss: 1.1593 - val_acc: 0.5407 - val_f1: 0.3700\n",
      "1476/1476 [==============================] - 1s 433us/step\n",
      "Loss = 1.1592581776099475\n",
      "Test Accuracy = 0.540650406504065\n",
      "F1 score = 0.3667979712085672\n",
      " Window Size: 1040\n",
      "\n",
      "Processing the data of class: 1\n",
      "\n"
     ]
    },
    {
     "data": {
      "application/vnd.jupyter.widget-view+json": {
       "model_id": "2d1b11a4a1c947c6b79fd25d7f44ca17",
       "version_major": 2,
       "version_minor": 0
      },
      "text/plain": [
       "IntProgress(value=0, max=608652)"
      ]
     },
     "metadata": {},
     "output_type": "display_data"
    },
    {
     "name": "stdout",
     "output_type": "stream",
     "text": [
      "Processing the data of class: 2\n",
      "\n"
     ]
    },
    {
     "data": {
      "application/vnd.jupyter.widget-view+json": {
       "model_id": "f707c7b2371c44ffa66b2bee6769aa45",
       "version_major": 2,
       "version_minor": 0
      },
      "text/plain": [
       "IntProgress(value=0, max=47878)"
      ]
     },
     "metadata": {},
     "output_type": "display_data"
    },
    {
     "name": "stdout",
     "output_type": "stream",
     "text": [
      "Processing the data of class: 3\n",
      "\n"
     ]
    },
    {
     "data": {
      "application/vnd.jupyter.widget-view+json": {
       "model_id": "f89ed64d135f40299cb3f46e545f0f46",
       "version_major": 2,
       "version_minor": 0
      },
      "text/plain": [
       "IntProgress(value=0, max=216737)"
      ]
     },
     "metadata": {},
     "output_type": "display_data"
    },
    {
     "name": "stdout",
     "output_type": "stream",
     "text": [
      "Processing the data of class: 4\n",
      "\n"
     ]
    },
    {
     "data": {
      "application/vnd.jupyter.widget-view+json": {
       "model_id": "0f4149f1daec4fabb7dc8d35951f09fa",
       "version_major": 2,
       "version_minor": 0
      },
      "text/plain": [
       "IntProgress(value=0, max=357064)"
      ]
     },
     "metadata": {},
     "output_type": "display_data"
    },
    {
     "name": "stdout",
     "output_type": "stream",
     "text": [
      "Processing the data of class: 5\n",
      "\n"
     ]
    },
    {
     "data": {
      "application/vnd.jupyter.widget-view+json": {
       "model_id": "fa029f62bdcc416a9dd4cf34c03f0437",
       "version_major": 2,
       "version_minor": 0
      },
      "text/plain": [
       "IntProgress(value=0, max=51498)"
      ]
     },
     "metadata": {},
     "output_type": "display_data"
    },
    {
     "name": "stdout",
     "output_type": "stream",
     "text": [
      "Processing the data of class: 6\n",
      "\n"
     ]
    },
    {
     "data": {
      "application/vnd.jupyter.widget-view+json": {
       "model_id": "46143589108e46849ddf8be95166cb43",
       "version_major": 2,
       "version_minor": 0
      },
      "text/plain": [
       "IntProgress(value=0, max=47770)"
      ]
     },
     "metadata": {},
     "output_type": "display_data"
    },
    {
     "name": "stdout",
     "output_type": "stream",
     "text": [
      "Processing the data of class: 7\n",
      "\n"
     ]
    },
    {
     "data": {
      "application/vnd.jupyter.widget-view+json": {
       "model_id": "66abd8c4d97c4b05bfb313d0c8ec2aec",
       "version_major": 2,
       "version_minor": 0
      },
      "text/plain": [
       "IntProgress(value=0, max=593563)"
      ]
     },
     "metadata": {},
     "output_type": "display_data"
    },
    {
     "name": "stdout",
     "output_type": "stream",
     "text": [
      "Train on 5897 samples, validate on 1475 samples\n",
      "Epoch 1/10\n",
      "5897/5897 [==============================] - 12s 2ms/step - loss: 1.6634 - acc: 0.3198 - f1: 0.0000e+00 - val_loss: 1.5548 - val_acc: 0.3729 - val_f1: 0.0000e+00\n",
      "Epoch 2/10\n",
      "5897/5897 [==============================] - 12s 2ms/step - loss: 1.4948 - acc: 0.3871 - f1: 0.0641 - val_loss: 1.4632 - val_acc: 0.3844 - val_f1: 0.1593\n",
      "Epoch 3/10\n",
      "5897/5897 [==============================] - 11s 2ms/step - loss: 1.3732 - acc: 0.4621 - f1: 0.1946 - val_loss: 1.2658 - val_acc: 0.5397 - val_f1: 0.3173\n",
      "Epoch 4/10\n",
      "5897/5897 [==============================] - 11s 2ms/step - loss: 1.2414 - acc: 0.5174 - f1: 0.3429 - val_loss: 1.1810 - val_acc: 0.5831 - val_f1: 0.4525\n",
      "Epoch 5/10\n",
      "5897/5897 [==============================] - 11s 2ms/step - loss: 1.1853 - acc: 0.5282 - f1: 0.4178 - val_loss: 1.1514 - val_acc: 0.5519 - val_f1: 0.4084\n",
      "Epoch 6/10\n",
      "5897/5897 [==============================] - 11s 2ms/step - loss: 1.1872 - acc: 0.5284 - f1: 0.4148 - val_loss: 1.1364 - val_acc: 0.5661 - val_f1: 0.4244\n",
      "Epoch 7/10\n",
      "5897/5897 [==============================] - 11s 2ms/step - loss: 1.1542 - acc: 0.5362 - f1: 0.4271 - val_loss: 1.1275 - val_acc: 0.5831 - val_f1: 0.4332\n",
      "Epoch 8/10\n",
      "5897/5897 [==============================] - 11s 2ms/step - loss: 1.1291 - acc: 0.5403 - f1: 0.4300 - val_loss: 1.1001 - val_acc: 0.5559 - val_f1: 0.4668\n",
      "Epoch 9/10\n",
      "5897/5897 [==============================] - 11s 2ms/step - loss: 1.1126 - acc: 0.5465 - f1: 0.4430 - val_loss: 1.0864 - val_acc: 0.6136 - val_f1: 0.4746\n",
      "Epoch 10/10\n",
      "5897/5897 [==============================] - 11s 2ms/step - loss: 1.0888 - acc: 0.5644 - f1: 0.4307 - val_loss: 1.0669 - val_acc: 0.6027 - val_f1: 0.5458\n",
      "1475/1475 [==============================] - 1s 586us/step\n",
      "Loss = 1.0668649571426845\n",
      "Test Accuracy = 0.6027118644067797\n",
      "F1 score = 0.5436670594296213\n",
      " Window Size: 1300\n",
      "\n",
      "Processing the data of class: 1\n",
      "\n"
     ]
    },
    {
     "data": {
      "application/vnd.jupyter.widget-view+json": {
       "model_id": "2da9145d90cf4dad98b281c259c9471d",
       "version_major": 2,
       "version_minor": 0
      },
      "text/plain": [
       "IntProgress(value=0, max=608652)"
      ]
     },
     "metadata": {},
     "output_type": "display_data"
    },
    {
     "name": "stdout",
     "output_type": "stream",
     "text": [
      "Processing the data of class: 2\n",
      "\n"
     ]
    },
    {
     "data": {
      "application/vnd.jupyter.widget-view+json": {
       "model_id": "d42e9f46efdb4d0489567cc1e07316ac",
       "version_major": 2,
       "version_minor": 0
      },
      "text/plain": [
       "IntProgress(value=0, max=47878)"
      ]
     },
     "metadata": {},
     "output_type": "display_data"
    },
    {
     "name": "stdout",
     "output_type": "stream",
     "text": [
      "Processing the data of class: 3\n",
      "\n"
     ]
    },
    {
     "data": {
      "application/vnd.jupyter.widget-view+json": {
       "model_id": "d91f196467434593b61b67f3a9a3bb7d",
       "version_major": 2,
       "version_minor": 0
      },
      "text/plain": [
       "IntProgress(value=0, max=216737)"
      ]
     },
     "metadata": {},
     "output_type": "display_data"
    },
    {
     "name": "stdout",
     "output_type": "stream",
     "text": [
      "Processing the data of class: 4\n",
      "\n"
     ]
    },
    {
     "data": {
      "application/vnd.jupyter.widget-view+json": {
       "model_id": "49e8f41204c14f279cfb8871827a405b",
       "version_major": 2,
       "version_minor": 0
      },
      "text/plain": [
       "IntProgress(value=0, max=357064)"
      ]
     },
     "metadata": {},
     "output_type": "display_data"
    },
    {
     "name": "stdout",
     "output_type": "stream",
     "text": [
      "Processing the data of class: 5\n",
      "\n"
     ]
    },
    {
     "data": {
      "application/vnd.jupyter.widget-view+json": {
       "model_id": "c5db60f8edd14acabc30a3295960e8fd",
       "version_major": 2,
       "version_minor": 0
      },
      "text/plain": [
       "IntProgress(value=0, max=51498)"
      ]
     },
     "metadata": {},
     "output_type": "display_data"
    },
    {
     "name": "stdout",
     "output_type": "stream",
     "text": [
      "Processing the data of class: 6\n",
      "\n"
     ]
    },
    {
     "data": {
      "application/vnd.jupyter.widget-view+json": {
       "model_id": "b5eb8f3863cd49009a2257ad12c22abf",
       "version_major": 2,
       "version_minor": 0
      },
      "text/plain": [
       "IntProgress(value=0, max=47770)"
      ]
     },
     "metadata": {},
     "output_type": "display_data"
    },
    {
     "name": "stdout",
     "output_type": "stream",
     "text": [
      "Processing the data of class: 7\n",
      "\n"
     ]
    },
    {
     "data": {
      "application/vnd.jupyter.widget-view+json": {
       "model_id": "6939b955fd09435d8c34f96909d7bdc7",
       "version_major": 2,
       "version_minor": 0
      },
      "text/plain": [
       "IntProgress(value=0, max=593563)"
      ]
     },
     "metadata": {},
     "output_type": "display_data"
    },
    {
     "name": "stdout",
     "output_type": "stream",
     "text": [
      "Train on 5892 samples, validate on 1473 samples\n",
      "Epoch 1/10\n",
      "5892/5892 [==============================] - 807s 137ms/step - loss: 1.6206 - acc: 0.3364 - f1: 0.0000e+00 - val_loss: 1.5097 - val_acc: 0.3734 - val_f1: 0.0000e+00\n",
      "Epoch 2/10\n",
      "5892/5892 [==============================] - 32s 5ms/step - loss: 1.4187 - acc: 0.4728 - f1: 0.0932 - val_loss: 1.2761 - val_acc: 0.4983 - val_f1: 0.3488\n",
      "Epoch 3/10\n",
      "5892/5892 [==============================] - 166s 28ms/step - loss: 1.2313 - acc: 0.5226 - f1: 0.3829 - val_loss: 1.1939 - val_acc: 0.5492 - val_f1: 0.3760\n",
      "Epoch 4/10\n",
      "5892/5892 [==============================] - 37s 6ms/step - loss: 1.1823 - acc: 0.5266 - f1: 0.4006 - val_loss: 1.1447 - val_acc: 0.5438 - val_f1: 0.3723\n",
      "Epoch 5/10\n",
      "5892/5892 [==============================] - 35s 6ms/step - loss: 1.1565 - acc: 0.5317 - f1: 0.4037 - val_loss: 1.1077 - val_acc: 0.5411 - val_f1: 0.4139\n",
      "Epoch 6/10\n",
      "5892/5892 [==============================] - 29s 5ms/step - loss: 1.1261 - acc: 0.5485 - f1: 0.4359 - val_loss: 1.1031 - val_acc: 0.5472 - val_f1: 0.4048\n",
      "Epoch 7/10\n",
      "5892/5892 [==============================] - 30s 5ms/step - loss: 1.1074 - acc: 0.5604 - f1: 0.4467 - val_loss: 1.0872 - val_acc: 0.5777 - val_f1: 0.3990\n",
      "Epoch 8/10\n",
      "5892/5892 [==============================] - 31s 5ms/step - loss: 1.1003 - acc: 0.5684 - f1: 0.4426 - val_loss: 1.0924 - val_acc: 0.5777 - val_f1: 0.4087\n",
      "Epoch 9/10\n",
      "5892/5892 [==============================] - 29s 5ms/step - loss: 1.0937 - acc: 0.5636 - f1: 0.4608 - val_loss: 1.0590 - val_acc: 0.5689 - val_f1: 0.4931\n",
      "Epoch 10/10\n",
      "5892/5892 [==============================] - 30s 5ms/step - loss: 1.0632 - acc: 0.5730 - f1: 0.4720 - val_loss: 1.0596 - val_acc: 0.5703 - val_f1: 0.4636\n",
      "1473/1473 [==============================] - 2s 2ms/step\n",
      "Loss = 1.0595670661712615\n",
      "Test Accuracy = 0.570264765784114\n",
      "F1 score = 0.4609481765555429\n",
      " Window Size: 1560\n",
      "\n",
      "Processing the data of class: 1\n",
      "\n"
     ]
    },
    {
     "data": {
      "application/vnd.jupyter.widget-view+json": {
       "model_id": "496372347bf44eb5bc66a143e764f900",
       "version_major": 2,
       "version_minor": 0
      },
      "text/plain": [
       "IntProgress(value=0, max=608652)"
      ]
     },
     "metadata": {},
     "output_type": "display_data"
    },
    {
     "name": "stdout",
     "output_type": "stream",
     "text": [
      "Processing the data of class: 2\n",
      "\n"
     ]
    },
    {
     "data": {
      "application/vnd.jupyter.widget-view+json": {
       "model_id": "7415103d357b44b5bdd9cbb0c744d224",
       "version_major": 2,
       "version_minor": 0
      },
      "text/plain": [
       "IntProgress(value=0, max=47878)"
      ]
     },
     "metadata": {},
     "output_type": "display_data"
    },
    {
     "name": "stdout",
     "output_type": "stream",
     "text": [
      "Processing the data of class: 3\n",
      "\n"
     ]
    },
    {
     "data": {
      "application/vnd.jupyter.widget-view+json": {
       "model_id": "ad675d8b0d1b41d1b2e062c4144cc1cf",
       "version_major": 2,
       "version_minor": 0
      },
      "text/plain": [
       "IntProgress(value=0, max=216737)"
      ]
     },
     "metadata": {},
     "output_type": "display_data"
    },
    {
     "name": "stdout",
     "output_type": "stream",
     "text": [
      "Processing the data of class: 4\n",
      "\n"
     ]
    },
    {
     "data": {
      "application/vnd.jupyter.widget-view+json": {
       "model_id": "7048f64640ed497683afc0d6de552972",
       "version_major": 2,
       "version_minor": 0
      },
      "text/plain": [
       "IntProgress(value=0, max=357064)"
      ]
     },
     "metadata": {},
     "output_type": "display_data"
    },
    {
     "name": "stdout",
     "output_type": "stream",
     "text": [
      "Processing the data of class: 5\n",
      "\n"
     ]
    },
    {
     "data": {
      "application/vnd.jupyter.widget-view+json": {
       "model_id": "94b792e8e6904b5ca0c0241d3133e590",
       "version_major": 2,
       "version_minor": 0
      },
      "text/plain": [
       "IntProgress(value=0, max=51498)"
      ]
     },
     "metadata": {},
     "output_type": "display_data"
    },
    {
     "name": "stdout",
     "output_type": "stream",
     "text": [
      "Processing the data of class: 6\n",
      "\n"
     ]
    },
    {
     "data": {
      "application/vnd.jupyter.widget-view+json": {
       "model_id": "ea7ac5976fef4e4690fd86ed9856b5b1",
       "version_major": 2,
       "version_minor": 0
      },
      "text/plain": [
       "IntProgress(value=0, max=47770)"
      ]
     },
     "metadata": {},
     "output_type": "display_data"
    },
    {
     "name": "stdout",
     "output_type": "stream",
     "text": [
      "Processing the data of class: 7\n",
      "\n"
     ]
    },
    {
     "data": {
      "application/vnd.jupyter.widget-view+json": {
       "model_id": "fa685b46d1ce4fe18459ae8c9e6a1f9c",
       "version_major": 2,
       "version_minor": 0
      },
      "text/plain": [
       "IntProgress(value=0, max=593563)"
      ]
     },
     "metadata": {},
     "output_type": "display_data"
    },
    {
     "name": "stdout",
     "output_type": "stream",
     "text": [
      "Train on 5886 samples, validate on 1472 samples\n",
      "Epoch 1/10\n",
      "5886/5886 [==============================] - 34s 6ms/step - loss: 1.6233 - acc: 0.3136 - f1: 0.0000e+00 - val_loss: 1.4613 - val_acc: 0.3899 - val_f1: 0.0000e+00\n",
      "Epoch 2/10\n",
      "5886/5886 [==============================] - 36s 6ms/step - loss: 1.4398 - acc: 0.4648 - f1: 0.0657 - val_loss: 1.2535 - val_acc: 0.5577 - val_f1: 0.3253\n",
      "Epoch 3/10\n",
      "5886/5886 [==============================] - 37s 6ms/step - loss: 1.2479 - acc: 0.5194 - f1: 0.3709 - val_loss: 1.1306 - val_acc: 0.5251 - val_f1: 0.4328\n",
      "Epoch 4/10\n",
      "5886/5886 [==============================] - 36s 6ms/step - loss: 1.1805 - acc: 0.5282 - f1: 0.4246 - val_loss: 1.1061 - val_acc: 0.5571 - val_f1: 0.4654\n",
      "Epoch 5/10\n",
      "5886/5886 [==============================] - 37s 6ms/step - loss: 1.1366 - acc: 0.5408 - f1: 0.4496 - val_loss: 1.0734 - val_acc: 0.5380 - val_f1: 0.4730\n",
      "Epoch 6/10\n",
      "5886/5886 [==============================] - 37s 6ms/step - loss: 1.1125 - acc: 0.5481 - f1: 0.4591 - val_loss: 1.0613 - val_acc: 0.5842 - val_f1: 0.4612\n",
      "Epoch 7/10\n",
      "5886/5886 [==============================] - 37s 6ms/step - loss: 1.0995 - acc: 0.5608 - f1: 0.4439 - val_loss: 1.0655 - val_acc: 0.5469 - val_f1: 0.4862\n",
      "Epoch 8/10\n",
      "5886/5886 [==============================] - 37s 6ms/step - loss: 1.0769 - acc: 0.5651 - f1: 0.4809 - val_loss: 1.0475 - val_acc: 0.5720 - val_f1: 0.4907\n",
      "Epoch 9/10\n",
      "5886/5886 [==============================] - 37s 6ms/step - loss: 1.0691 - acc: 0.5790 - f1: 0.4863 - val_loss: 1.0369 - val_acc: 0.5897 - val_f1: 0.4839\n",
      "Epoch 10/10\n",
      "5886/5886 [==============================] - 37s 6ms/step - loss: 1.0532 - acc: 0.5804 - f1: 0.4994 - val_loss: 1.0252 - val_acc: 0.5924 - val_f1: 0.4835\n",
      "1472/1472 [==============================] - 3s 2ms/step\n",
      "Loss = 1.0252240118773088\n",
      "Test Accuracy = 0.592391304347826\n",
      "F1 score = 0.48035246522530267\n",
      " Window Size: 1820\n",
      "\n",
      "Processing the data of class: 1\n",
      "\n"
     ]
    },
    {
     "data": {
      "application/vnd.jupyter.widget-view+json": {
       "model_id": "30b3fac0d7384a8aaa7443ea7388391e",
       "version_major": 2,
       "version_minor": 0
      },
      "text/plain": [
       "IntProgress(value=0, max=608652)"
      ]
     },
     "metadata": {},
     "output_type": "display_data"
    },
    {
     "name": "stdout",
     "output_type": "stream",
     "text": [
      "Processing the data of class: 2\n",
      "\n"
     ]
    },
    {
     "data": {
      "application/vnd.jupyter.widget-view+json": {
       "model_id": "e35125307aa346bfb03bb741a44fd6c1",
       "version_major": 2,
       "version_minor": 0
      },
      "text/plain": [
       "IntProgress(value=0, max=47878)"
      ]
     },
     "metadata": {},
     "output_type": "display_data"
    },
    {
     "name": "stdout",
     "output_type": "stream",
     "text": [
      "Processing the data of class: 3\n",
      "\n"
     ]
    },
    {
     "data": {
      "application/vnd.jupyter.widget-view+json": {
       "model_id": "bb5cc6b497a444218d198f138bb93e94",
       "version_major": 2,
       "version_minor": 0
      },
      "text/plain": [
       "IntProgress(value=0, max=216737)"
      ]
     },
     "metadata": {},
     "output_type": "display_data"
    },
    {
     "name": "stdout",
     "output_type": "stream",
     "text": [
      "Processing the data of class: 4\n",
      "\n"
     ]
    },
    {
     "data": {
      "application/vnd.jupyter.widget-view+json": {
       "model_id": "e25ee21da6654699ab553c4063b5af9f",
       "version_major": 2,
       "version_minor": 0
      },
      "text/plain": [
       "IntProgress(value=0, max=357064)"
      ]
     },
     "metadata": {},
     "output_type": "display_data"
    },
    {
     "name": "stdout",
     "output_type": "stream",
     "text": [
      "Processing the data of class: 5\n",
      "\n"
     ]
    },
    {
     "data": {
      "application/vnd.jupyter.widget-view+json": {
       "model_id": "c6158808561544fc9a0d580c93c61ddd",
       "version_major": 2,
       "version_minor": 0
      },
      "text/plain": [
       "IntProgress(value=0, max=51498)"
      ]
     },
     "metadata": {},
     "output_type": "display_data"
    },
    {
     "name": "stdout",
     "output_type": "stream",
     "text": [
      "Processing the data of class: 6\n",
      "\n"
     ]
    },
    {
     "data": {
      "application/vnd.jupyter.widget-view+json": {
       "model_id": "1d32557ad25c4ea197ab44519dcefb94",
       "version_major": 2,
       "version_minor": 0
      },
      "text/plain": [
       "IntProgress(value=0, max=47770)"
      ]
     },
     "metadata": {},
     "output_type": "display_data"
    },
    {
     "name": "stdout",
     "output_type": "stream",
     "text": [
      "Processing the data of class: 7\n",
      "\n"
     ]
    },
    {
     "data": {
      "application/vnd.jupyter.widget-view+json": {
       "model_id": "12dc177750f149f18f0af5d6a4fdaef0",
       "version_major": 2,
       "version_minor": 0
      },
      "text/plain": [
       "IntProgress(value=0, max=593563)"
      ]
     },
     "metadata": {},
     "output_type": "display_data"
    },
    {
     "name": "stdout",
     "output_type": "stream",
     "text": [
      "Train on 5880 samples, validate on 1471 samples\n",
      "Epoch 1/10\n",
      "5880/5880 [==============================] - 40s 7ms/step - loss: 1.6231 - acc: 0.3143 - f1: 0.0044 - val_loss: 1.5209 - val_acc: 0.3249 - val_f1: 0.0425\n",
      "Epoch 2/10\n",
      "5880/5880 [==============================] - 43s 7ms/step - loss: 1.4271 - acc: 0.4670 - f1: 0.0813 - val_loss: 1.3287 - val_acc: 0.5044 - val_f1: 0.1371\n",
      "Epoch 3/10\n",
      "5880/5880 [==============================] - 43s 7ms/step - loss: 1.2378 - acc: 0.5298 - f1: 0.3281 - val_loss: 1.1860 - val_acc: 0.5167 - val_f1: 0.4091\n",
      "Epoch 4/10\n",
      "5880/5880 [==============================] - 43s 7ms/step - loss: 1.1537 - acc: 0.5293 - f1: 0.4356 - val_loss: 1.1518 - val_acc: 0.5330 - val_f1: 0.4586\n",
      "Epoch 5/10\n",
      "5880/5880 [==============================] - 43s 7ms/step - loss: 1.1104 - acc: 0.5381 - f1: 0.4663 - val_loss: 1.1125 - val_acc: 0.5248 - val_f1: 0.5034\n",
      "Epoch 6/10\n",
      "5880/5880 [==============================] - 43s 7ms/step - loss: 1.0878 - acc: 0.5570 - f1: 0.4676 - val_loss: 1.0865 - val_acc: 0.5846 - val_f1: 0.4803\n",
      "Epoch 7/10\n",
      "5880/5880 [==============================] - 43s 7ms/step - loss: 1.0710 - acc: 0.5694 - f1: 0.4747 - val_loss: 1.0997 - val_acc: 0.5615 - val_f1: 0.4708\n",
      "Epoch 8/10\n",
      "5880/5880 [==============================] - 43s 7ms/step - loss: 1.0653 - acc: 0.5645 - f1: 0.4847 - val_loss: 1.0723 - val_acc: 0.5738 - val_f1: 0.4605\n",
      "Epoch 9/10\n",
      "5880/5880 [==============================] - 42s 7ms/step - loss: 1.0685 - acc: 0.5577 - f1: 0.4768 - val_loss: 1.0921 - val_acc: 0.5568 - val_f1: 0.4866\n",
      "Epoch 10/10\n",
      "5880/5880 [==============================] - 43s 7ms/step - loss: 1.0543 - acc: 0.5631 - f1: 0.4866 - val_loss: 1.0516 - val_acc: 0.5622 - val_f1: 0.5243\n",
      "1471/1471 [==============================] - 3s 2ms/step\n",
      "Loss = 1.0516272151170338\n",
      "Test Accuracy = 0.5622025835603213\n",
      "F1 score = 0.5215131883147944\n",
      " Window Size: 2080\n",
      "\n",
      "Processing the data of class: 1\n",
      "\n"
     ]
    },
    {
     "data": {
      "application/vnd.jupyter.widget-view+json": {
       "model_id": "0fd34fa2543c42de947f883f1003edfb",
       "version_major": 2,
       "version_minor": 0
      },
      "text/plain": [
       "IntProgress(value=0, max=608652)"
      ]
     },
     "metadata": {},
     "output_type": "display_data"
    },
    {
     "name": "stdout",
     "output_type": "stream",
     "text": [
      "Processing the data of class: 2\n",
      "\n"
     ]
    },
    {
     "data": {
      "application/vnd.jupyter.widget-view+json": {
       "model_id": "5f2012f549e1404e97904d1e564deb28",
       "version_major": 2,
       "version_minor": 0
      },
      "text/plain": [
       "IntProgress(value=0, max=47878)"
      ]
     },
     "metadata": {},
     "output_type": "display_data"
    },
    {
     "name": "stdout",
     "output_type": "stream",
     "text": [
      "Processing the data of class: 3\n",
      "\n"
     ]
    },
    {
     "data": {
      "application/vnd.jupyter.widget-view+json": {
       "model_id": "d8b9f3c203884a72837032f827c25295",
       "version_major": 2,
       "version_minor": 0
      },
      "text/plain": [
       "IntProgress(value=0, max=216737)"
      ]
     },
     "metadata": {},
     "output_type": "display_data"
    },
    {
     "name": "stdout",
     "output_type": "stream",
     "text": [
      "Processing the data of class: 4\n",
      "\n"
     ]
    },
    {
     "data": {
      "application/vnd.jupyter.widget-view+json": {
       "model_id": "365e173900044ecc99cc0a035cdf18bf",
       "version_major": 2,
       "version_minor": 0
      },
      "text/plain": [
       "IntProgress(value=0, max=357064)"
      ]
     },
     "metadata": {},
     "output_type": "display_data"
    },
    {
     "name": "stdout",
     "output_type": "stream",
     "text": [
      "Processing the data of class: 5\n",
      "\n"
     ]
    },
    {
     "data": {
      "application/vnd.jupyter.widget-view+json": {
       "model_id": "b508571fe9fc45f8bfb706daf3539723",
       "version_major": 2,
       "version_minor": 0
      },
      "text/plain": [
       "IntProgress(value=0, max=51498)"
      ]
     },
     "metadata": {},
     "output_type": "display_data"
    },
    {
     "name": "stdout",
     "output_type": "stream",
     "text": [
      "Processing the data of class: 6\n",
      "\n"
     ]
    },
    {
     "data": {
      "application/vnd.jupyter.widget-view+json": {
       "model_id": "3ad0facb94e249ae8e9a5628c542a233",
       "version_major": 2,
       "version_minor": 0
      },
      "text/plain": [
       "IntProgress(value=0, max=47770)"
      ]
     },
     "metadata": {},
     "output_type": "display_data"
    },
    {
     "name": "stdout",
     "output_type": "stream",
     "text": [
      "Processing the data of class: 7\n",
      "\n"
     ]
    },
    {
     "data": {
      "application/vnd.jupyter.widget-view+json": {
       "model_id": "f8de2abe084b4a68ab7479b9ef568e2c",
       "version_major": 2,
       "version_minor": 0
      },
      "text/plain": [
       "IntProgress(value=0, max=593563)"
      ]
     },
     "metadata": {},
     "output_type": "display_data"
    },
    {
     "name": "stdout",
     "output_type": "stream",
     "text": [
      "Train on 5875 samples, validate on 1469 samples\n",
      "Epoch 1/10\n",
      "5875/5875 [==============================] - 47s 8ms/step - loss: 1.6040 - acc: 0.3100 - f1: 0.0034 - val_loss: 1.5155 - val_acc: 0.4411 - val_f1: 0.0281\n",
      "Epoch 2/10\n",
      "5875/5875 [==============================] - 50s 8ms/step - loss: 1.3482 - acc: 0.4911 - f1: 0.1612 - val_loss: 1.2550 - val_acc: 0.5378 - val_f1: 0.3436\n",
      "Epoch 3/10\n",
      "5875/5875 [==============================] - 49s 8ms/step - loss: 1.1698 - acc: 0.5266 - f1: 0.4234 - val_loss: 1.1394 - val_acc: 0.5439 - val_f1: 0.4891\n",
      "Epoch 4/10\n",
      "5875/5875 [==============================] - 50s 8ms/step - loss: 1.1136 - acc: 0.5431 - f1: 0.4449 - val_loss: 1.0904 - val_acc: 0.5589 - val_f1: 0.4076\n",
      "Epoch 5/10\n",
      "5875/5875 [==============================] - 49s 8ms/step - loss: 1.0771 - acc: 0.5501 - f1: 0.4419 - val_loss: 1.0550 - val_acc: 0.5705 - val_f1: 0.4890\n",
      "Epoch 6/10\n",
      "5875/5875 [==============================] - 50s 9ms/step - loss: 1.0563 - acc: 0.5571 - f1: 0.4687 - val_loss: 1.0588 - val_acc: 0.5500 - val_f1: 0.4869\n",
      "Epoch 7/10\n",
      "5875/5875 [==============================] - 50s 8ms/step - loss: 1.0526 - acc: 0.5734 - f1: 0.4737 - val_loss: 1.0644 - val_acc: 0.5521 - val_f1: 0.5202\n",
      "Epoch 8/10\n",
      "5875/5875 [==============================] - 41s 7ms/step - loss: 1.0695 - acc: 0.5493 - f1: 0.5191 - val_loss: 1.0351 - val_acc: 0.5943 - val_f1: 0.4857\n",
      "Epoch 9/10\n",
      "5875/5875 [==============================] - 26s 4ms/step - loss: 1.0402 - acc: 0.5695 - f1: 0.4706 - val_loss: 1.0476 - val_acc: 0.5739 - val_f1: 0.4881\n",
      "Epoch 10/10\n",
      "5875/5875 [==============================] - 24s 4ms/step - loss: 1.0271 - acc: 0.5734 - f1: 0.4869 - val_loss: 1.0331 - val_acc: 0.5848 - val_f1: 0.4972\n",
      "1469/1469 [==============================] - 2s 1ms/step\n",
      "Loss = 1.0330848533170738\n",
      "Test Accuracy = 0.5847515311672867\n",
      "F1 score = 0.4948432994099845\n",
      " Window Size: 2340\n",
      "\n",
      "Processing the data of class: 1\n",
      "\n"
     ]
    },
    {
     "data": {
      "application/vnd.jupyter.widget-view+json": {
       "model_id": "0742f793fd784385b2c34f09e732b51e",
       "version_major": 2,
       "version_minor": 0
      },
      "text/plain": [
       "IntProgress(value=0, max=608652)"
      ]
     },
     "metadata": {},
     "output_type": "display_data"
    },
    {
     "name": "stdout",
     "output_type": "stream",
     "text": [
      "Processing the data of class: 2\n",
      "\n"
     ]
    },
    {
     "data": {
      "application/vnd.jupyter.widget-view+json": {
       "model_id": "15be10e8ffc340428f690afbad8d2378",
       "version_major": 2,
       "version_minor": 0
      },
      "text/plain": [
       "IntProgress(value=0, max=47878)"
      ]
     },
     "metadata": {},
     "output_type": "display_data"
    },
    {
     "name": "stdout",
     "output_type": "stream",
     "text": [
      "Processing the data of class: 3\n",
      "\n"
     ]
    },
    {
     "data": {
      "application/vnd.jupyter.widget-view+json": {
       "model_id": "7b18499b3eda437ab6e2ac8681ab2800",
       "version_major": 2,
       "version_minor": 0
      },
      "text/plain": [
       "IntProgress(value=0, max=216737)"
      ]
     },
     "metadata": {},
     "output_type": "display_data"
    },
    {
     "name": "stdout",
     "output_type": "stream",
     "text": [
      "Processing the data of class: 4\n",
      "\n"
     ]
    },
    {
     "data": {
      "application/vnd.jupyter.widget-view+json": {
       "model_id": "398523a96f374d36bbede2c0c0640c0a",
       "version_major": 2,
       "version_minor": 0
      },
      "text/plain": [
       "IntProgress(value=0, max=357064)"
      ]
     },
     "metadata": {},
     "output_type": "display_data"
    },
    {
     "name": "stdout",
     "output_type": "stream",
     "text": [
      "Processing the data of class: 5\n",
      "\n"
     ]
    },
    {
     "data": {
      "application/vnd.jupyter.widget-view+json": {
       "model_id": "a2aee56fbf6b4c1ab8362fee2806c3e5",
       "version_major": 2,
       "version_minor": 0
      },
      "text/plain": [
       "IntProgress(value=0, max=51498)"
      ]
     },
     "metadata": {},
     "output_type": "display_data"
    },
    {
     "name": "stdout",
     "output_type": "stream",
     "text": [
      "Processing the data of class: 6\n",
      "\n"
     ]
    },
    {
     "data": {
      "application/vnd.jupyter.widget-view+json": {
       "model_id": "4a456484db864a6b8005c6fb1fa650b7",
       "version_major": 2,
       "version_minor": 0
      },
      "text/plain": [
       "IntProgress(value=0, max=47770)"
      ]
     },
     "metadata": {},
     "output_type": "display_data"
    },
    {
     "name": "stdout",
     "output_type": "stream",
     "text": [
      "Processing the data of class: 7\n",
      "\n"
     ]
    },
    {
     "data": {
      "application/vnd.jupyter.widget-view+json": {
       "model_id": "d2fe644053444c60be82c917d5e28c44",
       "version_major": 2,
       "version_minor": 0
      },
      "text/plain": [
       "IntProgress(value=0, max=593563)"
      ]
     },
     "metadata": {},
     "output_type": "display_data"
    },
    {
     "name": "stdout",
     "output_type": "stream",
     "text": [
      "Train on 5869 samples, validate on 1468 samples\n",
      "Epoch 1/10\n",
      "5869/5869 [==============================] - 26s 4ms/step - loss: 1.6211 - acc: 0.3377 - f1: 0.0060 - val_loss: 1.4978 - val_acc: 0.3801 - val_f1: 0.0401\n",
      "Epoch 2/10\n",
      "5869/5869 [==============================] - 26s 4ms/step - loss: 1.4515 - acc: 0.4280 - f1: 0.0773 - val_loss: 1.3224 - val_acc: 0.4789 - val_f1: 0.2045\n",
      "Epoch 3/10\n",
      "5869/5869 [==============================] - 28s 5ms/step - loss: 1.3002 - acc: 0.4962 - f1: 0.3144 - val_loss: 1.2186 - val_acc: 0.5470 - val_f1: 0.3184\n",
      "Epoch 4/10\n",
      "5869/5869 [==============================] - 25s 4ms/step - loss: 1.1757 - acc: 0.5384 - f1: 0.4003 - val_loss: 1.1354 - val_acc: 0.5375 - val_f1: 0.4124\n",
      "Epoch 5/10\n",
      "5869/5869 [==============================] - 25s 4ms/step - loss: 1.1120 - acc: 0.5411 - f1: 0.4559 - val_loss: 1.0745 - val_acc: 0.5695 - val_f1: 0.4207\n",
      "Epoch 6/10\n",
      "5869/5869 [==============================] - 25s 4ms/step - loss: 1.0790 - acc: 0.5635 - f1: 0.4891 - val_loss: 1.0666 - val_acc: 0.5409 - val_f1: 0.5225\n",
      "Epoch 7/10\n",
      "5869/5869 [==============================] - 25s 4ms/step - loss: 1.0489 - acc: 0.5732 - f1: 0.4930 - val_loss: 1.0195 - val_acc: 0.5892 - val_f1: 0.5212\n",
      "Epoch 8/10\n",
      "5869/5869 [==============================] - 26s 4ms/step - loss: 1.0242 - acc: 0.5778 - f1: 0.5147 - val_loss: 1.0044 - val_acc: 0.5743 - val_f1: 0.5236\n",
      "Epoch 9/10\n",
      "5869/5869 [==============================] - 28s 5ms/step - loss: 1.0134 - acc: 0.5820 - f1: 0.5283 - val_loss: 1.0378 - val_acc: 0.5817 - val_f1: 0.4558\n",
      "Epoch 10/10\n",
      "5869/5869 [==============================] - 24s 4ms/step - loss: 1.0112 - acc: 0.5754 - f1: 0.5233 - val_loss: 0.9998 - val_acc: 0.5708 - val_f1: 0.5378\n",
      "1468/1468 [==============================] - 2s 1ms/step\n",
      "Loss = 0.9997759735876598\n",
      "Test Accuracy = 0.5708446866485014\n",
      "F1 score = 0.5363006612910237\n"
     ]
    }
   ],
   "source": [
    "\n",
    "scores =[] \n",
    "\n",
    "for window_size in range(260,2600,260):  # 2s - 20 s\n",
    "    \n",
    "    print(\" Window Size: {}\\n\".format(window_size))\n",
    "    \n",
    "    scores.append([window_size, HAR_API(dfs,window_size)]) \n",
    "    \n"
   ]
  },
  {
   "cell_type": "code",
   "execution_count": 130,
   "metadata": {},
   "outputs": [
    {
     "data": {
      "text/plain": [
       "[[260, [1.1989877716442312, 0.5402298851783732, 0.34487851151467336]],\n",
       " [520, [1.1435353367189915, 0.5426251691676606, 0.40372104025338756]],\n",
       " [780, [1.1592581776099475, 0.540650406504065, 0.3667979712085672]],\n",
       " [1040, [1.0668649571426845, 0.6027118644067797, 0.5436670594296213]],\n",
       " [1300, [1.0595670661712615, 0.570264765784114, 0.4609481765555429]],\n",
       " [1560, [1.0252240118773088, 0.592391304347826, 0.48035246522530267]],\n",
       " [1820, [1.0516272151170338, 0.5622025835603213, 0.5215131883147944]],\n",
       " [2080, [1.0330848533170738, 0.5847515311672867, 0.4948432994099845]],\n",
       " [2340, [0.9997759735876598, 0.5708446866485014, 0.5363006612910237]]]"
      ]
     },
     "execution_count": 130,
     "metadata": {},
     "output_type": "execute_result"
    }
   ],
   "source": [
    "scores"
   ]
  },
  {
   "cell_type": "code",
   "execution_count": 158,
   "metadata": {},
   "outputs": [
    {
     "data": {
      "text/plain": [
       "[1.1989877716442312, 0.5402298851783732, 0.34487851151467336]"
      ]
     },
     "execution_count": 158,
     "metadata": {},
     "output_type": "execute_result"
    }
   ],
   "source": [
    "scores[0][1]"
   ]
  },
  {
   "cell_type": "code",
   "execution_count": 165,
   "metadata": {},
   "outputs": [],
   "source": [
    "scores_array = []\n",
    "window_szie_array = []\n",
    "for i in range(0,9):\n",
    "    scores_array.append(scores[i][1])\n",
    "    window_szie_array.append(scores[i][0])"
   ]
  },
  {
   "cell_type": "code",
   "execution_count": 166,
   "metadata": {},
   "outputs": [
    {
     "data": {
      "text/plain": [
       "[260, 520, 780, 1040, 1300, 1560, 1820, 2080, 2340]"
      ]
     },
     "execution_count": 166,
     "metadata": {},
     "output_type": "execute_result"
    }
   ],
   "source": [
    "window_szie_array"
   ]
  },
  {
   "cell_type": "code",
   "execution_count": 169,
   "metadata": {},
   "outputs": [
    {
     "data": {
      "text/plain": [
       "[[1.1989877716442312, 0.5402298851783732, 0.34487851151467336],\n",
       " [1.1435353367189915, 0.5426251691676606, 0.40372104025338756],\n",
       " [1.1592581776099475, 0.540650406504065, 0.3667979712085672],\n",
       " [1.0668649571426845, 0.6027118644067797, 0.5436670594296213],\n",
       " [1.0595670661712615, 0.570264765784114, 0.4609481765555429],\n",
       " [1.0252240118773088, 0.592391304347826, 0.48035246522530267],\n",
       " [1.0516272151170338, 0.5622025835603213, 0.5215131883147944],\n",
       " [1.0330848533170738, 0.5847515311672867, 0.4948432994099845],\n",
       " [0.9997759735876598, 0.5708446866485014, 0.5363006612910237]]"
      ]
     },
     "execution_count": 169,
     "metadata": {},
     "output_type": "execute_result"
    }
   ],
   "source": [
    "scores_array"
   ]
  },
  {
   "cell_type": "code",
   "execution_count": 179,
   "metadata": {},
   "outputs": [],
   "source": [
    "scores_array = np.array(scores_array)"
   ]
  },
  {
   "cell_type": "code",
   "execution_count": 186,
   "metadata": {},
   "outputs": [
    {
     "data": {
      "text/plain": [
       "<matplotlib.legend.Legend at 0x14b2faa58>"
      ]
     },
     "execution_count": 186,
     "metadata": {},
     "output_type": "execute_result"
    },
    {
     "data": {
      "image/png": "[encoded data removed]",
      "text/plain": [
       "<Figure size 432x288 with 1 Axes>"
      ]
     },
     "metadata": {},
     "output_type": "display_data"
    }
   ],
   "source": [
    "plt.plot(window_szie_array, scores_array[:,1], '-o', c='r',label='accuracy')\n",
    "plt.plot(window_szie_array, scores_array[:,2], '-s', c='b',label='f1 score')\n",
    "set_figstyle(200,2600,0,1,'Window Size','Metrics',True) \n",
    "plt.title('Performance on Test Data', fontsize=16)\n",
    "plt.legend(fontsize=16)"
   ]
  },
  {
   "cell_type": "markdown",
   "metadata": {},
   "source": [
    "# Conclusion\n",
    "\n",
    "\n",
    "** Overfitting problem**\n",
    "\n",
    "- With the increase of epoch, the accuracy is smoothly increasing, while that of the validation data is almost constant (around 0.5).\n",
    "\n",
    "- The accuracy of the test data is similar to that of the validation dataset. It implies that there is  **overfitting** in the CNN model.\n",
    "\n",
    "- The number of total parameters is 124,839 which is more than one order of magnitude larger than the sample size (number of segments). The obvervation of overfitting is within expectation.\n",
    "\n",
    "- To reduce the overfitting, one may need more segments/samples. \n",
    "\n"
   ]
  },
  {
   "cell_type": "code",
   "execution_count": null,
   "metadata": {},
   "outputs": [],
   "source": []
  }
 ],
 "metadata": {
  "kernelspec": {
   "display_name": "Python 3",
   "language": "python",
   "name": "python3"
  },
  "language_info": {
   "codemirror_mode": {
    "name": "ipython",
    "version": 3
   },
   "file_extension": ".py",
   "mimetype": "text/x-python",
   "name": "python",
   "nbconvert_exporter": "python",
   "pygments_lexer": "ipython3",
   "version": "3.6.5"
  },
  "toc": {
   "base_numbering": 1,
   "nav_menu": {},
   "number_sections": true,
   "sideBar": true,
   "skip_h1_title": false,
   "title_cell": "Table of Contents",
   "title_sidebar": "Contents",
   "toc_cell": false,
   "toc_position": {},
   "toc_section_display": true,
   "toc_window_display": true
  },
  "varInspector": {
   "cols": {
    "lenName": 16,
    "lenType": 16,
    "lenVar": 40
   },
   "kernels_config": {
    "python": {
     "delete_cmd_postfix": "",
     "delete_cmd_prefix": "del ",
     "library": "var_list.py",
     "varRefreshCmd": "print(var_dic_list())"
    },
    "r": {
     "delete_cmd_postfix": ") ",
     "delete_cmd_prefix": "rm(",
     "library": "var_list.r",
     "varRefreshCmd": "cat(var_dic_list()) "
    }
   },
   "types_to_exclude": [
    "module",
    "function",
    "builtin_function_or_method",
    "instance",
    "_Feature"
   ],
   "window_display": false
  }
 },
 "nbformat": 4,
 "nbformat_minor": 2
}
