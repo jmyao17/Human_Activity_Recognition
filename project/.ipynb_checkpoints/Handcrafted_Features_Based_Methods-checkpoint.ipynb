{
 "cells": [
  {
   "cell_type": "code",
   "execution_count": 1,
   "metadata": {},
   "outputs": [],
   "source": [
    "import pandas as pd\n",
    "import numpy as np\n",
    "\n",
    "import matplotlib.pyplot as plt"
   ]
  },
  {
   "cell_type": "code",
   "execution_count": 2,
   "metadata": {},
   "outputs": [],
   "source": [
    "def load_data(features):\n",
    "    dfs = [] \n",
    "    for i in range(1,16):\n",
    "    \n",
    "        filename = 'Activity Recognition from Single Chest-Mounted Accelerometer/'+str(i)+'.csv'\n",
    "    \n",
    "        df_temp = pd.read_csv(filename)\n",
    "        df_temp.columns = [features]\n",
    "        dfs.append(df_temp)\n",
    "\n",
    "        print(\"Time Duration for the {}-th participant is {} seconds\".format(i,np.ceil(df_temp.shape[0]/52)))\n",
    "    return dfs"
   ]
  },
  {
   "cell_type": "code",
   "execution_count": 3,
   "metadata": {},
   "outputs": [
    {
     "name": "stdout",
     "output_type": "stream",
     "text": [
      "Time Duration for the 1-th participant is 3125.0 seconds\n",
      "Time Duration for the 2-th participant is 2654.0 seconds\n",
      "Time Duration for the 3-th participant is 1969.0 seconds\n",
      "Time Duration for the 4-th participant is 2350.0 seconds\n",
      "Time Duration for the 5-th participant is 3077.0 seconds\n",
      "Time Duration for the 6-th participant is 2710.0 seconds\n",
      "Time Duration for the 7-th participant is 3135.0 seconds\n",
      "Time Duration for the 8-th participant is 2654.0 seconds\n",
      "Time Duration for the 9-th participant is 3207.0 seconds\n",
      "Time Duration for the 10-th participant is 2439.0 seconds\n",
      "Time Duration for the 11-th participant is 2009.0 seconds\n",
      "Time Duration for the 12-th participant is 2206.0 seconds\n",
      "Time Duration for the 13-th participant is 1301.0 seconds\n",
      "Time Duration for the 14-th participant is 2233.0 seconds\n",
      "Time Duration for the 15-th participant is 1991.0 seconds\n"
     ]
    }
   ],
   "source": [
    "features = ['Sequential_number', 'x_acceleration', 'y_acceleration', 'z_acceleration', 'label']\n",
    "dfs = load_data(features)"
   ]
  },
  {
   "cell_type": "code",
   "execution_count": 4,
   "metadata": {},
   "outputs": [
    {
     "data": {
      "text/html": [
       "<div>\n",
       "<style scoped>\n",
       "    .dataframe tbody tr th:only-of-type {\n",
       "        vertical-align: middle;\n",
       "    }\n",
       "\n",
       "    .dataframe tbody tr th {\n",
       "        vertical-align: top;\n",
       "    }\n",
       "\n",
       "    .dataframe thead tr th {\n",
       "        text-align: left;\n",
       "    }\n",
       "</style>\n",
       "<table border=\"1\" class=\"dataframe\">\n",
       "  <thead>\n",
       "    <tr>\n",
       "      <th></th>\n",
       "      <th>Sequential_number</th>\n",
       "      <th>x_acceleration</th>\n",
       "      <th>y_acceleration</th>\n",
       "      <th>z_acceleration</th>\n",
       "      <th>label</th>\n",
       "    </tr>\n",
       "  </thead>\n",
       "  <tbody>\n",
       "    <tr>\n",
       "      <th>0</th>\n",
       "      <td>1.0</td>\n",
       "      <td>1667</td>\n",
       "      <td>2072</td>\n",
       "      <td>2047</td>\n",
       "      <td>1</td>\n",
       "    </tr>\n",
       "    <tr>\n",
       "      <th>1</th>\n",
       "      <td>2.0</td>\n",
       "      <td>1611</td>\n",
       "      <td>1957</td>\n",
       "      <td>1906</td>\n",
       "      <td>1</td>\n",
       "    </tr>\n",
       "  </tbody>\n",
       "</table>\n",
       "</div>"
      ],
      "text/plain": [
       "  Sequential_number x_acceleration y_acceleration z_acceleration label\n",
       "0               1.0           1667           2072           2047     1\n",
       "1               2.0           1611           1957           1906     1"
      ]
     },
     "execution_count": 4,
     "metadata": {},
     "output_type": "execute_result"
    }
   ],
   "source": [
    "dfs[0].head(2)"
   ]
  },
  {
   "cell_type": "code",
   "execution_count": 5,
   "metadata": {},
   "outputs": [
    {
     "data": {
      "text/plain": [
       "(1926881, 5)"
      ]
     },
     "execution_count": 5,
     "metadata": {},
     "output_type": "execute_result"
    }
   ],
   "source": [
    "df = pd.concat(dfs[i] for i in range(0,15))\n",
    "df.shape"
   ]
  },
  {
   "cell_type": "code",
   "execution_count": 6,
   "metadata": {},
   "outputs": [],
   "source": [
    "window_size = 520\n",
    "step_size   = 52*5"
   ]
  },
  {
   "cell_type": "code",
   "execution_count": 7,
   "metadata": {},
   "outputs": [],
   "source": [
    "\n",
    "def get_features(df):\n",
    "    \n",
    "    segments = []\n",
    "    \n",
    "    for class_label in range(1,8): \n",
    "\n",
    "        df_class = df[df['label'].values == class_label]\n",
    "        \n",
    "        assert len(df_class) > window_size\n",
    "\n",
    "        for i in range(0, len(df_class) - window_size, step_size):\n",
    "\n",
    "            start = i\n",
    "            end   = i + window_size\n",
    "\n",
    "            x_seg = df_class['x_acceleration'].values[start: end]\n",
    "            y_seg = df_class['y_acceleration'].values[start: end]        \n",
    "            z_seg = df_class['z_acceleration'].values[start: end]\n",
    "\n",
    "            segments.append([x_seg.mean(), y_seg.mean(), z_seg.mean(), \n",
    "                             x_seg.var(), y_seg.var(), z_seg.var(),\n",
    "                             x_seg.max(), y_seg.max(), z_seg.max(),\n",
    "                             x_seg.min(), y_seg.min(), z_seg.min(),\n",
    "                             pd.DataFrame(x_seg).mad(), pd.DataFrame(y_seg).mad(), \n",
    "                             pd.DataFrame(z_seg).mad(),\n",
    "                             class_label]) \n",
    "            \n",
    "    return segments\n",
    "        "
   ]
  },
  {
   "cell_type": "code",
   "execution_count": 8,
   "metadata": {},
   "outputs": [],
   "source": [
    "segments = get_features(df)"
   ]
  },
  {
   "cell_type": "code",
   "execution_count": 9,
   "metadata": {},
   "outputs": [],
   "source": [
    "segments_array = np.array(segments)"
   ]
  },
  {
   "cell_type": "code",
   "execution_count": 10,
   "metadata": {},
   "outputs": [
    {
     "data": {
      "text/plain": [
       "(7386, 16)"
      ]
     },
     "execution_count": 10,
     "metadata": {},
     "output_type": "execute_result"
    }
   ],
   "source": [
    "segments_array.shape"
   ]
  },
  {
   "cell_type": "code",
   "execution_count": 11,
   "metadata": {},
   "outputs": [],
   "source": [
    "seg_df = pd.DataFrame(segments_array)"
   ]
  },
  {
   "cell_type": "code",
   "execution_count": 12,
   "metadata": {},
   "outputs": [
    {
     "data": {
      "text/html": [
       "<div>\n",
       "<style scoped>\n",
       "    .dataframe tbody tr th:only-of-type {\n",
       "        vertical-align: middle;\n",
       "    }\n",
       "\n",
       "    .dataframe tbody tr th {\n",
       "        vertical-align: top;\n",
       "    }\n",
       "\n",
       "    .dataframe thead th {\n",
       "        text-align: right;\n",
       "    }\n",
       "</style>\n",
       "<table border=\"1\" class=\"dataframe\">\n",
       "  <thead>\n",
       "    <tr style=\"text-align: right;\">\n",
       "      <th></th>\n",
       "      <th>x_mean</th>\n",
       "      <th>y_mean</th>\n",
       "      <th>z_mean</th>\n",
       "      <th>x_var</th>\n",
       "      <th>y_var</th>\n",
       "      <th>z_var</th>\n",
       "      <th>x_max</th>\n",
       "      <th>y_max</th>\n",
       "      <th>z_max</th>\n",
       "      <th>x_min</th>\n",
       "      <th>y_min</th>\n",
       "      <th>z_min</th>\n",
       "      <th>x_mad</th>\n",
       "      <th>y_mad</th>\n",
       "      <th>z_mad</th>\n",
       "      <th>label</th>\n",
       "    </tr>\n",
       "  </thead>\n",
       "  <tbody>\n",
       "    <tr>\n",
       "      <th>0</th>\n",
       "      <td>1897.030769</td>\n",
       "      <td>2292.657692</td>\n",
       "      <td>2064.600000</td>\n",
       "      <td>28877.845207</td>\n",
       "      <td>20426.744364</td>\n",
       "      <td>15684.470769</td>\n",
       "      <td>2356.0</td>\n",
       "      <td>2552.0</td>\n",
       "      <td>2739.0</td>\n",
       "      <td>1455.0</td>\n",
       "      <td>1697.0</td>\n",
       "      <td>1644.0</td>\n",
       "      <td>133.930000</td>\n",
       "      <td>110.050991</td>\n",
       "      <td>92.264615</td>\n",
       "      <td>1.0</td>\n",
       "    </tr>\n",
       "    <tr>\n",
       "      <th>1</th>\n",
       "      <td>1959.719231</td>\n",
       "      <td>2376.551923</td>\n",
       "      <td>2110.215385</td>\n",
       "      <td>605.075015</td>\n",
       "      <td>535.420381</td>\n",
       "      <td>1579.407456</td>\n",
       "      <td>2111.0</td>\n",
       "      <td>2552.0</td>\n",
       "      <td>2281.0</td>\n",
       "      <td>1808.0</td>\n",
       "      <td>2197.0</td>\n",
       "      <td>1958.0</td>\n",
       "      <td>13.338743</td>\n",
       "      <td>11.370754</td>\n",
       "      <td>27.438462</td>\n",
       "      <td>1.0</td>\n",
       "    </tr>\n",
       "    <tr>\n",
       "      <th>2</th>\n",
       "      <td>1957.184615</td>\n",
       "      <td>2379.226923</td>\n",
       "      <td>2108.601923</td>\n",
       "      <td>122.254379</td>\n",
       "      <td>61.713891</td>\n",
       "      <td>267.093458</td>\n",
       "      <td>1999.0</td>\n",
       "      <td>2409.0</td>\n",
       "      <td>2168.0</td>\n",
       "      <td>1919.0</td>\n",
       "      <td>2340.0</td>\n",
       "      <td>2062.0</td>\n",
       "      <td>8.534497</td>\n",
       "      <td>5.782322</td>\n",
       "      <td>12.795126</td>\n",
       "      <td>1.0</td>\n",
       "    </tr>\n",
       "    <tr>\n",
       "      <th>3</th>\n",
       "      <td>1958.707692</td>\n",
       "      <td>2379.638462</td>\n",
       "      <td>2107.288462</td>\n",
       "      <td>124.968402</td>\n",
       "      <td>52.380828</td>\n",
       "      <td>204.243713</td>\n",
       "      <td>1999.0</td>\n",
       "      <td>2409.0</td>\n",
       "      <td>2168.0</td>\n",
       "      <td>1919.0</td>\n",
       "      <td>2340.0</td>\n",
       "      <td>2062.0</td>\n",
       "      <td>8.577811</td>\n",
       "      <td>4.954763</td>\n",
       "      <td>10.555695</td>\n",
       "      <td>1.0</td>\n",
       "    </tr>\n",
       "    <tr>\n",
       "      <th>4</th>\n",
       "      <td>1962.921154</td>\n",
       "      <td>2378.396154</td>\n",
       "      <td>2112.584615</td>\n",
       "      <td>35.576476</td>\n",
       "      <td>11.085370</td>\n",
       "      <td>32.750533</td>\n",
       "      <td>1980.0</td>\n",
       "      <td>2390.0</td>\n",
       "      <td>2135.0</td>\n",
       "      <td>1941.0</td>\n",
       "      <td>2369.0</td>\n",
       "      <td>2086.0</td>\n",
       "      <td>4.702019</td>\n",
       "      <td>2.566760</td>\n",
       "      <td>4.372663</td>\n",
       "      <td>1.0</td>\n",
       "    </tr>\n",
       "  </tbody>\n",
       "</table>\n",
       "</div>"
      ],
      "text/plain": [
       "        x_mean       y_mean       z_mean         x_var         y_var  \\\n",
       "0  1897.030769  2292.657692  2064.600000  28877.845207  20426.744364   \n",
       "1  1959.719231  2376.551923  2110.215385    605.075015    535.420381   \n",
       "2  1957.184615  2379.226923  2108.601923    122.254379     61.713891   \n",
       "3  1958.707692  2379.638462  2107.288462    124.968402     52.380828   \n",
       "4  1962.921154  2378.396154  2112.584615     35.576476     11.085370   \n",
       "\n",
       "          z_var   x_max   y_max   z_max   x_min   y_min   z_min       x_mad  \\\n",
       "0  15684.470769  2356.0  2552.0  2739.0  1455.0  1697.0  1644.0  133.930000   \n",
       "1   1579.407456  2111.0  2552.0  2281.0  1808.0  2197.0  1958.0   13.338743   \n",
       "2    267.093458  1999.0  2409.0  2168.0  1919.0  2340.0  2062.0    8.534497   \n",
       "3    204.243713  1999.0  2409.0  2168.0  1919.0  2340.0  2062.0    8.577811   \n",
       "4     32.750533  1980.0  2390.0  2135.0  1941.0  2369.0  2086.0    4.702019   \n",
       "\n",
       "        y_mad      z_mad  label  \n",
       "0  110.050991  92.264615    1.0  \n",
       "1   11.370754  27.438462    1.0  \n",
       "2    5.782322  12.795126    1.0  \n",
       "3    4.954763  10.555695    1.0  \n",
       "4    2.566760   4.372663    1.0  "
      ]
     },
     "execution_count": 12,
     "metadata": {},
     "output_type": "execute_result"
    }
   ],
   "source": [
    "seg_df.columns =['x_mean', 'y_mean', 'z_mean', \n",
    "                 'x_var', 'y_var', 'z_var', \n",
    "                 'x_max', 'y_max', 'z_max', \n",
    "                 'x_min', 'y_min', 'z_min', \n",
    "                 'x_mad', 'y_mad', 'z_mad', \n",
    "                 'label']\n",
    "seg_df.head()"
   ]
  },
  {
   "cell_type": "code",
   "execution_count": 13,
   "metadata": {},
   "outputs": [],
   "source": [
    "seg_df['label'] = seg_df['label'].map(int)"
   ]
  },
  {
   "cell_type": "code",
   "execution_count": 14,
   "metadata": {},
   "outputs": [
    {
     "data": {
      "text/plain": [
       "(7386, 16)"
      ]
     },
     "execution_count": 14,
     "metadata": {},
     "output_type": "execute_result"
    }
   ],
   "source": [
    "seg_df.shape"
   ]
  },
  {
   "cell_type": "markdown",
   "metadata": {},
   "source": [
    "## <font color='red'> Model trainning"
   ]
  },
  {
   "cell_type": "code",
   "execution_count": 15,
   "metadata": {},
   "outputs": [],
   "source": [
    "X = seg_df.iloc[:,:-1].values\n",
    "y = seg_df['label'].iloc[:].values"
   ]
  },
  {
   "cell_type": "code",
   "execution_count": 16,
   "metadata": {},
   "outputs": [],
   "source": [
    "from sklearn.model_selection import train_test_split\n",
    "X_train, X_test, y_train, y_test = train_test_split(X, y, test_size = 0.2, random_state = 42)"
   ]
  },
  {
   "cell_type": "code",
   "execution_count": 17,
   "metadata": {},
   "outputs": [
    {
     "name": "stdout",
     "output_type": "stream",
     "text": [
      "(5908, 15)\n",
      "(5908,)\n",
      "(1478, 15)\n",
      "(1478,)\n"
     ]
    }
   ],
   "source": [
    "print(X_train.shape)\n",
    "print(y_train.shape)\n",
    "print(X_test.shape)\n",
    "print(y_test.shape)"
   ]
  },
  {
   "cell_type": "code",
   "execution_count": 18,
   "metadata": {},
   "outputs": [],
   "source": [
    "from sklearn.pipeline import make_pipeline\n",
    "from sklearn.preprocessing import RobustScaler\n",
    "from sklearn import metrics"
   ]
  },
  {
   "cell_type": "markdown",
   "metadata": {},
   "source": [
    "### LogisticRegression"
   ]
  },
  {
   "cell_type": "code",
   "execution_count": 19,
   "metadata": {},
   "outputs": [
    {
     "name": "stdout",
     "output_type": "stream",
     "text": [
      "Test set Accuracy:  0.5960757780784844\n",
      "[[377   1   0   4   0   0 114]\n",
      " [ 13   1   2   3   0   0  15]\n",
      " [ 72   0   2  36   1   0  45]\n",
      " [ 13   0   1 243   0   0   6]\n",
      " [  9   0   0  15   0   0   6]\n",
      " [  9   0   0   7   0   0  19]\n",
      " [190   0   2  12   1   1 258]]\n"
     ]
    }
   ],
   "source": [
    "from sklearn.linear_model import LogisticRegression\n",
    "\n",
    "LR = make_pipeline(RobustScaler(),\n",
    "                   LogisticRegression()).fit(X=X_train, y=y_train)\n",
    "\n",
    "predLR = LR.predict(X_test)       \n",
    "print(\"Test set Accuracy: \", metrics.accuracy_score(y_test, predLR))     \n",
    "\n",
    "cmLR = metrics.confusion_matrix(y_test,predLR)\n",
    "print(cmLR)"
   ]
  },
  {
   "cell_type": "markdown",
   "metadata": {},
   "source": [
    "### SGDClassifier"
   ]
  },
  {
   "cell_type": "code",
   "execution_count": 20,
   "metadata": {},
   "outputs": [
    {
     "name": "stdout",
     "output_type": "stream",
     "text": [
      "Test set Accuracy:  0.5087956698240866\n",
      "[[254   1 103   7   0   2 129]\n",
      " [  7   0   8   3   0   1  15]\n",
      " [ 53   0  23  32   0   6  42]\n",
      " [  8   0   9 237   0   5   4]\n",
      " [  9   0   6  12   0   0   3]\n",
      " [  4   0   4   7   0   2  18]\n",
      " [115   0  81   8   1  23 236]]\n"
     ]
    },
    {
     "name": "stderr",
     "output_type": "stream",
     "text": [
      "/anaconda3/lib/python3.6/site-packages/sklearn/linear_model/stochastic_gradient.py:128: FutureWarning: max_iter and tol parameters have been added in <class 'sklearn.linear_model.stochastic_gradient.SGDClassifier'> in 0.19. If both are left unset, they default to max_iter=5 and tol=None. If tol is not None, max_iter defaults to max_iter=1000. From 0.21, default max_iter will be 1000, and default tol will be 1e-3.\n",
      "  \"and default tol will be 1e-3.\" % type(self), FutureWarning)\n"
     ]
    }
   ],
   "source": [
    "from sklearn.linear_model import SGDClassifier\n",
    "\n",
    "SGD = make_pipeline(RobustScaler(),\n",
    "                    SGDClassifier()).fit(X=X_train, y=y_train)\n",
    "\n",
    "predSGD = SGD.predict(X_test)       \n",
    "print(\"Test set Accuracy: \", metrics.accuracy_score(y_test, predSGD))     \n",
    "\n",
    "cmSGD = metrics.confusion_matrix(y_test,predSGD)\n",
    "print(cmSGD)"
   ]
  },
  {
   "cell_type": "markdown",
   "metadata": {},
   "source": [
    "### DecisionTree"
   ]
  },
  {
   "cell_type": "code",
   "execution_count": 19,
   "metadata": {},
   "outputs": [
    {
     "name": "stdout",
     "output_type": "stream",
     "text": [
      "DecisionTrees's Accuracy:  0.8139377537212449\n",
      "[[449  15   9   1   2   1  19]\n",
      " [ 16  13   2   0   0   0   3]\n",
      " [  9   3  97  14   4   5  24]\n",
      " [  2   1  17 232   6   3   2]\n",
      " [  1   3   1   4  19   0   2]\n",
      " [  1   0   6   4   0  12  12]\n",
      " [ 28   5  37   2   2   9 381]]\n"
     ]
    }
   ],
   "source": [
    "from sklearn.tree import DecisionTreeClassifier\n",
    "\n",
    "tree = make_pipeline(RobustScaler(),\n",
    "                   DecisionTreeClassifier()).fit(X=X_train, y=y_train)\n",
    "\n",
    "predTree = tree.predict(X_test)\n",
    "print(\"DecisionTrees's Accuracy: \", metrics.accuracy_score(y_test, predTree))\n",
    "\n",
    "cmDTree = metrics.confusion_matrix(y_test,predTree)\n",
    "print(cmDTree)"
   ]
  },
  {
   "cell_type": "code",
   "execution_count": 30,
   "metadata": {},
   "outputs": [
    {
     "name": "stdout",
     "output_type": "stream",
     "text": [
      "Accuracy score in Training set is:0.790\n",
      "F1 score is:0.815\n",
      "Jaccard score is:0.814\n"
     ]
    }
   ],
   "source": [
    "from sklearn.model_selection import cross_val_score, cross_val_predict\n",
    "from sklearn.metrics import f1_score\n",
    "from sklearn.metrics import jaccard_similarity_score\n",
    "\n",
    "print('Accuracy score in Training set is:{:.3f}'.format(cross_val_score(tree, X_train, y_train, cv=5).mean()))\n",
    "print('F1 score is:{:.3f}'.format(f1_score(y_test,tree.predict(X_test),average='weighted')))\n",
    "print('Jaccard score is:{:.3f}'.format(jaccard_similarity_score(y_test,tree.predict(X_test))))"
   ]
  },
  {
   "cell_type": "code",
   "execution_count": 34,
   "metadata": {},
   "outputs": [
    {
     "name": "stdout",
     "output_type": "stream",
     "text": [
      "DecisionTrees's Accuracy:  0.7043301759133965\n"
     ]
    }
   ],
   "source": [
    "predTree2 = cross_val_predict(tree, X_test, y_test, cv=5)\n",
    "print(\"DecisionTrees's Accuracy: \", metrics.accuracy_score(y_test, predTree2))"
   ]
  },
  {
   "cell_type": "markdown",
   "metadata": {},
   "source": [
    "### KNN"
   ]
  },
  {
   "cell_type": "code",
   "execution_count": 22,
   "metadata": {},
   "outputs": [
    {
     "name": "stdout",
     "output_type": "stream",
     "text": [
      "Test set Accuracy:  0.8504736129905277\n",
      "[[460   5   5   3   2   1  20]\n",
      " [ 12   7   6   3   0   0   6]\n",
      " [  5   1  93  25   4   4  24]\n",
      " [  3   1  13 244   0   1   1]\n",
      " [  1   1   6   4  15   0   3]\n",
      " [  0   2   2   7   1  14   9]\n",
      " [ 11   2  18   7   0   2 424]]\n"
     ]
    }
   ],
   "source": [
    "from sklearn.neighbors import KNeighborsClassifier\n",
    "\n",
    "neigh = make_pipeline(RobustScaler(),\n",
    "                   KNeighborsClassifier()).fit(X=X_train, y=y_train)\n",
    "predNeigh = neigh.predict(X_test)                                                                            \n",
    "print(\"Test set Accuracy: \", metrics.accuracy_score(y_test, predNeigh))     \n",
    "\n",
    "cmKNN = metrics.confusion_matrix(y_test,predNeigh)\n",
    "print(cmKNN)"
   ]
  },
  {
   "cell_type": "markdown",
   "metadata": {},
   "source": [
    "### SVC"
   ]
  },
  {
   "cell_type": "code",
   "execution_count": 23,
   "metadata": {},
   "outputs": [
    {
     "name": "stdout",
     "output_type": "stream",
     "text": [
      "Test set Accuracy:  0.7537212449255751\n",
      "[[417   4   3   1   0   0  71]\n",
      " [ 19   2   4   1   0   0   8]\n",
      " [ 20   0  67  26   0   0  43]\n",
      " [  2   0  15 239   0   0   7]\n",
      " [  3   0   8  12   2   0   5]\n",
      " [  1   1  11   7   0   0  15]\n",
      " [ 48   3  19   7   0   0 387]]\n"
     ]
    }
   ],
   "source": [
    "from sklearn.svm import SVC\n",
    "\n",
    "svc = make_pipeline(RobustScaler(),\n",
    "                    SVC()).fit(X=X_train, y=y_train)\n",
    "\n",
    "predSVC = svc.predict(X_test)       \n",
    "print(\"Test set Accuracy: \", metrics.accuracy_score(y_test, predSVC))     \n",
    "\n",
    "cmSVC = metrics.confusion_matrix(y_test,predSVC)\n",
    "print(cmSVC)"
   ]
  },
  {
   "cell_type": "markdown",
   "metadata": {},
   "source": [
    "### RandomForest"
   ]
  },
  {
   "cell_type": "code",
   "execution_count": 24,
   "metadata": {},
   "outputs": [
    {
     "name": "stdout",
     "output_type": "stream",
     "text": [
      "Test set Accuracy:  0.8673883626522327\n",
      "[[479   1   5   2   0   0   9]\n",
      " [ 15   6   3   3   0   0   7]\n",
      " [  5   1 103  17   3   3  24]\n",
      " [  2   2  15 242   0   0   2]\n",
      " [  0   1   8   5  12   0   4]\n",
      " [  0   1   3   6   0  16   9]\n",
      " [ 19   3  10   4   0   4 424]]\n"
     ]
    }
   ],
   "source": [
    "from sklearn.ensemble import RandomForestClassifier\n",
    "\n",
    "rnd = make_pipeline(RobustScaler(),\n",
    "                    RandomForestClassifier()).fit(X=X_train, y=y_train)\n",
    "\n",
    "predRND = rnd.predict(X_test)       \n",
    "\n",
    "print(\"Test set Accuracy: \", metrics.accuracy_score(y_test, predRND))     \n",
    "\n",
    "cmRND = metrics.confusion_matrix(y_test,predRND)\n",
    "print(cmRND)"
   ]
  },
  {
   "cell_type": "markdown",
   "metadata": {},
   "source": [
    "### <font color='blue'> Ensemble model"
   ]
  },
  {
   "cell_type": "code",
   "execution_count": 25,
   "metadata": {},
   "outputs": [
    {
     "name": "stdout",
     "output_type": "stream",
     "text": [
      "Test set Accuracy:  0.8687415426251691\n",
      "[[479   4   2   1   0   0  10]\n",
      " [ 15   9   4   2   0   0   4]\n",
      " [ 10   0 104  16   1   3  22]\n",
      " [  2   2  13 245   0   0   1]\n",
      " [  0   3   6   2  16   0   3]\n",
      " [  0   1   3   7   0  13  11]\n",
      " [ 17   2  21   4   0   2 418]]\n"
     ]
    },
    {
     "name": "stderr",
     "output_type": "stream",
     "text": [
      "/anaconda3/lib/python3.6/site-packages/sklearn/preprocessing/label.py:151: DeprecationWarning: The truth value of an empty array is ambiguous. Returning False, but in future this will result in an error. Use `array.size > 0` to check that an array is not empty.\n",
      "  if diff:\n"
     ]
    }
   ],
   "source": [
    "from sklearn.ensemble import VotingClassifier\n",
    "tree_clf = DecisionTreeClassifier()\n",
    "neigh_clf = KNeighborsClassifier()\n",
    "rnd_clf = RandomForestClassifier()\n",
    "\n",
    "voting_clf = make_pipeline(RobustScaler(), \n",
    "            VotingClassifier(estimators=[('tree',tree_clf),('rf',rnd_clf),('neigh',neigh_clf)],\n",
    "                             voting='hard')).fit(X_train,y_train)\n",
    "\n",
    "predVot = voting_clf.predict(X_test)       \n",
    "print(\"Test set Accuracy: \", metrics.accuracy_score(y_test, predVot))     \n",
    "\n",
    "cmVot = metrics.confusion_matrix(y_test,predVot)\n",
    "print(cmVot)"
   ]
  },
  {
   "cell_type": "markdown",
   "metadata": {},
   "source": [
    "```Python\n",
    "tree_params = {\"criterion\": [\"gini\", \"entropy\"], \"max_depth\": list(range(2,4,1)), \n",
    "              \"min_samples_leaf\": list(range(5,7,1))}\n",
    "\n",
    "\n",
    "knears_params = {\"n_neighbors\": list(range(2,5,1)), 'algorithm': ['auto', 'ball_tree', 'kd_tree', 'brute']}\n",
    "\n",
    "\n",
    "```"
   ]
  },
  {
   "cell_type": "code",
   "execution_count": null,
   "metadata": {},
   "outputs": [],
   "source": []
  }
 ],
 "metadata": {
  "kernelspec": {
   "display_name": "Python 3",
   "language": "python",
   "name": "python3"
  },
  "language_info": {
   "codemirror_mode": {
    "name": "ipython",
    "version": 3
   },
   "file_extension": ".py",
   "mimetype": "text/x-python",
   "name": "python",
   "nbconvert_exporter": "python",
   "pygments_lexer": "ipython3",
   "version": "3.6.5"
  },
  "latex_envs": {
   "LaTeX_envs_menu_present": true,
   "autoclose": false,
   "autocomplete": true,
   "bibliofile": "biblio.bib",
   "cite_by": "apalike",
   "current_citInitial": 1,
   "eqLabelWithNumbers": true,
   "eqNumInitial": 1,
   "hotkeys": {
    "equation": "Ctrl-E",
    "itemize": "Ctrl-I"
   },
   "labels_anchors": false,
   "latex_user_defs": false,
   "report_style_numbering": false,
   "user_envs_cfg": false
  },
  "toc": {
   "base_numbering": 1,
   "nav_menu": {},
   "number_sections": true,
   "sideBar": true,
   "skip_h1_title": false,
   "title_cell": "Table of Contents",
   "title_sidebar": "Contents",
   "toc_cell": false,
   "toc_position": {},
   "toc_section_display": true,
   "toc_window_display": false
  },
  "varInspector": {
   "cols": {
    "lenName": 16,
    "lenType": 16,
    "lenVar": 40
   },
   "kernels_config": {
    "python": {
     "delete_cmd_postfix": "",
     "delete_cmd_prefix": "del ",
     "library": "var_list.py",
     "varRefreshCmd": "print(var_dic_list())"
    },
    "r": {
     "delete_cmd_postfix": ") ",
     "delete_cmd_prefix": "rm(",
     "library": "var_list.r",
     "varRefreshCmd": "cat(var_dic_list()) "
    }
   },
   "types_to_exclude": [
    "module",
    "function",
    "builtin_function_or_method",
    "instance",
    "_Feature"
   ],
   "window_display": false
  }
 },
 "nbformat": 4,
 "nbformat_minor": 2
}
